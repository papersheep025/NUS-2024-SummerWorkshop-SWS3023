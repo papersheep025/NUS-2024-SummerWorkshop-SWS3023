{
 "cells": [
  {
   "cell_type": "code",
   "execution_count": 34,
   "outputs": [],
   "source": [
    "import pandas as pd\n",
    "\n",
    "\n",
    "df = pd.read_csv('csv/4600.csv', encoding='ISO-8859-1')\n",
    "\n",
    "def aggregate_dishes(row):\n",
    "    dishes = []\n",
    "    for col in ['Dish 1 Name', 'Dish 2 Name', 'Dish 3 Name', 'Dish 4 Name', 'Dish 5 Name']:\n",
    "        if pd.notna(row[col]):\n",
    "            dishes.append(row[col])\n",
    "    return ', '.join(dishes)\n",
    "\n",
    "columns_to_keep = ['Restaurant Name', 'Review Rating', 'Dish 1 Name', 'Dish 2 Name', 'Dish 3 Name', 'Dish 4 Name', 'Dish 5 Name']\n",
    "df_filtered = df[columns_to_keep]\n",
    "\n",
    "df_filtered = df_filtered[df_filtered['Review Rating'] > 3]\n",
    "\n",
    "df_filtered['Recommended Dishes'] = df_filtered.apply(aggregate_dishes, axis=1)\n",
    "\n",
    "df_final = df_filtered[['Restaurant Name','Review Rating' ,'Recommended Dishes']]\n",
    "\n",
    "df_final_grouped = df_final.groupby('Restaurant Name').agg({\n",
    "    'Review Rating': 'mean',\n",
    "    'Recommended Dishes': lambda x: ', '.join(set(', '.join(x).split(', ')))\n",
    "}).reset_index()\n",
    "\n",
    "df_final_grouped.to_csv('csv/recommended_dishes.csv', index=False)"
   ],
   "metadata": {
    "collapsed": false
   }
  },
  {
   "cell_type": "code",
   "execution_count": 24,
   "metadata": {
    "collapsed": true
   },
   "outputs": [
    {
     "data": {
      "text/plain": "          Restaurant Name  Review Rating       Dish 1 Name       Dish 2 Name  \\\n0        Usman Restaurant              4    Daal Keema fry       Pala Paneer   \n1        Usman Restaurant              5  chicken tandoori             Price   \n2        Usman Restaurant              4    butter chicken       garlic naan   \n3        Usman Restaurant              4       garlic naan  chicken tandoori   \n4        Usman Restaurant              5  tandoori chicken              naan   \n...                   ...            ...               ...               ...   \n5823  Trattoria Lafiandra              5               NaN               NaN   \n5826  Trattoria Lafiandra              5               NaN               NaN   \n5828  Trattoria Lafiandra              5               NaN               NaN   \n5830      Katong Keah Kee              4               NaN               NaN   \n5831      Katong Keah Kee              5               NaN               NaN   \n\n              Dish 3 Name   Dish 4 Name    Dish 5 Name  \n0     Mix tandoor sizzler  Briyani rice  Kashmiri naan  \n1                     NaN           NaN            NaN  \n2        tandoori chicken  biryani rice            NaN  \n3              pulled tea           NaN            NaN  \n4           tikka chicken   cheese naan            NaN  \n...                   ...           ...            ...  \n5823                  NaN           NaN            NaN  \n5826                  NaN           NaN            NaN  \n5828                  NaN           NaN            NaN  \n5830                  NaN           NaN            NaN  \n5831                  NaN           NaN            NaN  \n\n[4788 rows x 7 columns]",
      "text/html": "<div>\n<style scoped>\n    .dataframe tbody tr th:only-of-type {\n        vertical-align: middle;\n    }\n\n    .dataframe tbody tr th {\n        vertical-align: top;\n    }\n\n    .dataframe thead th {\n        text-align: right;\n    }\n</style>\n<table border=\"1\" class=\"dataframe\">\n  <thead>\n    <tr style=\"text-align: right;\">\n      <th></th>\n      <th>Restaurant Name</th>\n      <th>Review Rating</th>\n      <th>Dish 1 Name</th>\n      <th>Dish 2 Name</th>\n      <th>Dish 3 Name</th>\n      <th>Dish 4 Name</th>\n      <th>Dish 5 Name</th>\n    </tr>\n  </thead>\n  <tbody>\n    <tr>\n      <th>0</th>\n      <td>Usman Restaurant</td>\n      <td>4</td>\n      <td>Daal Keema fry</td>\n      <td>Pala Paneer</td>\n      <td>Mix tandoor sizzler</td>\n      <td>Briyani rice</td>\n      <td>Kashmiri naan</td>\n    </tr>\n    <tr>\n      <th>1</th>\n      <td>Usman Restaurant</td>\n      <td>5</td>\n      <td>chicken tandoori</td>\n      <td>Price</td>\n      <td>NaN</td>\n      <td>NaN</td>\n      <td>NaN</td>\n    </tr>\n    <tr>\n      <th>2</th>\n      <td>Usman Restaurant</td>\n      <td>4</td>\n      <td>butter chicken</td>\n      <td>garlic naan</td>\n      <td>tandoori chicken</td>\n      <td>biryani rice</td>\n      <td>NaN</td>\n    </tr>\n    <tr>\n      <th>3</th>\n      <td>Usman Restaurant</td>\n      <td>4</td>\n      <td>garlic naan</td>\n      <td>chicken tandoori</td>\n      <td>pulled tea</td>\n      <td>NaN</td>\n      <td>NaN</td>\n    </tr>\n    <tr>\n      <th>4</th>\n      <td>Usman Restaurant</td>\n      <td>5</td>\n      <td>tandoori chicken</td>\n      <td>naan</td>\n      <td>tikka chicken</td>\n      <td>cheese naan</td>\n      <td>NaN</td>\n    </tr>\n    <tr>\n      <th>...</th>\n      <td>...</td>\n      <td>...</td>\n      <td>...</td>\n      <td>...</td>\n      <td>...</td>\n      <td>...</td>\n      <td>...</td>\n    </tr>\n    <tr>\n      <th>5823</th>\n      <td>Trattoria Lafiandra</td>\n      <td>5</td>\n      <td>NaN</td>\n      <td>NaN</td>\n      <td>NaN</td>\n      <td>NaN</td>\n      <td>NaN</td>\n    </tr>\n    <tr>\n      <th>5826</th>\n      <td>Trattoria Lafiandra</td>\n      <td>5</td>\n      <td>NaN</td>\n      <td>NaN</td>\n      <td>NaN</td>\n      <td>NaN</td>\n      <td>NaN</td>\n    </tr>\n    <tr>\n      <th>5828</th>\n      <td>Trattoria Lafiandra</td>\n      <td>5</td>\n      <td>NaN</td>\n      <td>NaN</td>\n      <td>NaN</td>\n      <td>NaN</td>\n      <td>NaN</td>\n    </tr>\n    <tr>\n      <th>5830</th>\n      <td>Katong Keah Kee</td>\n      <td>4</td>\n      <td>NaN</td>\n      <td>NaN</td>\n      <td>NaN</td>\n      <td>NaN</td>\n      <td>NaN</td>\n    </tr>\n    <tr>\n      <th>5831</th>\n      <td>Katong Keah Kee</td>\n      <td>5</td>\n      <td>NaN</td>\n      <td>NaN</td>\n      <td>NaN</td>\n      <td>NaN</td>\n      <td>NaN</td>\n    </tr>\n  </tbody>\n</table>\n<p>4788 rows × 7 columns</p>\n</div>"
     },
     "execution_count": 24,
     "metadata": {},
     "output_type": "execute_result"
    }
   ],
   "source": [
    "df_filtered"
   ]
  },
  {
   "cell_type": "code",
   "execution_count": 25,
   "outputs": [],
   "source": [
    "def aggregate_dishes(row):\n",
    "    dishes = []\n",
    "    for col in ['Dish 1 Name', 'Dish 2 Name', 'Dish 3 Name', 'Dish 4 Name', 'Dish 5 Name']:\n",
    "        if pd.notna(row[col]):\n",
    "            dishes.append(row[col])\n",
    "    return ', '.join(dishes)\n"
   ],
   "metadata": {
    "collapsed": false
   }
  },
  {
   "cell_type": "code",
   "execution_count": 26,
   "outputs": [
    {
     "data": {
      "text/plain": "          Restaurant Name  Review Rating       Dish 1 Name       Dish 2 Name  \\\n0        Usman Restaurant              4    Daal Keema fry       Pala Paneer   \n1        Usman Restaurant              5  chicken tandoori             Price   \n2        Usman Restaurant              4    butter chicken       garlic naan   \n3        Usman Restaurant              4       garlic naan  chicken tandoori   \n4        Usman Restaurant              5  tandoori chicken              naan   \n...                   ...            ...               ...               ...   \n5823  Trattoria Lafiandra              5               NaN               NaN   \n5826  Trattoria Lafiandra              5               NaN               NaN   \n5828  Trattoria Lafiandra              5               NaN               NaN   \n5830      Katong Keah Kee              4               NaN               NaN   \n5831      Katong Keah Kee              5               NaN               NaN   \n\n              Dish 3 Name   Dish 4 Name    Dish 5 Name  \\\n0     Mix tandoor sizzler  Briyani rice  Kashmiri naan   \n1                     NaN           NaN            NaN   \n2        tandoori chicken  biryani rice            NaN   \n3              pulled tea           NaN            NaN   \n4           tikka chicken   cheese naan            NaN   \n...                   ...           ...            ...   \n5823                  NaN           NaN            NaN   \n5826                  NaN           NaN            NaN   \n5828                  NaN           NaN            NaN   \n5830                  NaN           NaN            NaN   \n5831                  NaN           NaN            NaN   \n\n                                     Recommended Dishes  \n0     Daal Keema fry, Pala Paneer, Mix tandoor sizzl...  \n1                               chicken tandoori, Price  \n2     butter chicken, garlic naan, tandoori chicken,...  \n3             garlic naan, chicken tandoori, pulled tea  \n4     tandoori chicken, naan, tikka chicken, cheese ...  \n...                                                 ...  \n5823                                                     \n5826                                                     \n5828                                                     \n5830                                                     \n5831                                                     \n\n[4788 rows x 8 columns]",
      "text/html": "<div>\n<style scoped>\n    .dataframe tbody tr th:only-of-type {\n        vertical-align: middle;\n    }\n\n    .dataframe tbody tr th {\n        vertical-align: top;\n    }\n\n    .dataframe thead th {\n        text-align: right;\n    }\n</style>\n<table border=\"1\" class=\"dataframe\">\n  <thead>\n    <tr style=\"text-align: right;\">\n      <th></th>\n      <th>Restaurant Name</th>\n      <th>Review Rating</th>\n      <th>Dish 1 Name</th>\n      <th>Dish 2 Name</th>\n      <th>Dish 3 Name</th>\n      <th>Dish 4 Name</th>\n      <th>Dish 5 Name</th>\n      <th>Recommended Dishes</th>\n    </tr>\n  </thead>\n  <tbody>\n    <tr>\n      <th>0</th>\n      <td>Usman Restaurant</td>\n      <td>4</td>\n      <td>Daal Keema fry</td>\n      <td>Pala Paneer</td>\n      <td>Mix tandoor sizzler</td>\n      <td>Briyani rice</td>\n      <td>Kashmiri naan</td>\n      <td>Daal Keema fry, Pala Paneer, Mix tandoor sizzl...</td>\n    </tr>\n    <tr>\n      <th>1</th>\n      <td>Usman Restaurant</td>\n      <td>5</td>\n      <td>chicken tandoori</td>\n      <td>Price</td>\n      <td>NaN</td>\n      <td>NaN</td>\n      <td>NaN</td>\n      <td>chicken tandoori, Price</td>\n    </tr>\n    <tr>\n      <th>2</th>\n      <td>Usman Restaurant</td>\n      <td>4</td>\n      <td>butter chicken</td>\n      <td>garlic naan</td>\n      <td>tandoori chicken</td>\n      <td>biryani rice</td>\n      <td>NaN</td>\n      <td>butter chicken, garlic naan, tandoori chicken,...</td>\n    </tr>\n    <tr>\n      <th>3</th>\n      <td>Usman Restaurant</td>\n      <td>4</td>\n      <td>garlic naan</td>\n      <td>chicken tandoori</td>\n      <td>pulled tea</td>\n      <td>NaN</td>\n      <td>NaN</td>\n      <td>garlic naan, chicken tandoori, pulled tea</td>\n    </tr>\n    <tr>\n      <th>4</th>\n      <td>Usman Restaurant</td>\n      <td>5</td>\n      <td>tandoori chicken</td>\n      <td>naan</td>\n      <td>tikka chicken</td>\n      <td>cheese naan</td>\n      <td>NaN</td>\n      <td>tandoori chicken, naan, tikka chicken, cheese ...</td>\n    </tr>\n    <tr>\n      <th>...</th>\n      <td>...</td>\n      <td>...</td>\n      <td>...</td>\n      <td>...</td>\n      <td>...</td>\n      <td>...</td>\n      <td>...</td>\n      <td>...</td>\n    </tr>\n    <tr>\n      <th>5823</th>\n      <td>Trattoria Lafiandra</td>\n      <td>5</td>\n      <td>NaN</td>\n      <td>NaN</td>\n      <td>NaN</td>\n      <td>NaN</td>\n      <td>NaN</td>\n      <td></td>\n    </tr>\n    <tr>\n      <th>5826</th>\n      <td>Trattoria Lafiandra</td>\n      <td>5</td>\n      <td>NaN</td>\n      <td>NaN</td>\n      <td>NaN</td>\n      <td>NaN</td>\n      <td>NaN</td>\n      <td></td>\n    </tr>\n    <tr>\n      <th>5828</th>\n      <td>Trattoria Lafiandra</td>\n      <td>5</td>\n      <td>NaN</td>\n      <td>NaN</td>\n      <td>NaN</td>\n      <td>NaN</td>\n      <td>NaN</td>\n      <td></td>\n    </tr>\n    <tr>\n      <th>5830</th>\n      <td>Katong Keah Kee</td>\n      <td>4</td>\n      <td>NaN</td>\n      <td>NaN</td>\n      <td>NaN</td>\n      <td>NaN</td>\n      <td>NaN</td>\n      <td></td>\n    </tr>\n    <tr>\n      <th>5831</th>\n      <td>Katong Keah Kee</td>\n      <td>5</td>\n      <td>NaN</td>\n      <td>NaN</td>\n      <td>NaN</td>\n      <td>NaN</td>\n      <td>NaN</td>\n      <td></td>\n    </tr>\n  </tbody>\n</table>\n<p>4788 rows × 8 columns</p>\n</div>"
     },
     "execution_count": 26,
     "metadata": {},
     "output_type": "execute_result"
    }
   ],
   "source": [
    "df_filtered['Recommended Dishes'] = df_filtered.apply(aggregate_dishes, axis=1)\n",
    "\n",
    "df_filtered"
   ],
   "metadata": {
    "collapsed": false
   }
  },
  {
   "cell_type": "code",
   "execution_count": 29,
   "outputs": [
    {
     "data": {
      "text/plain": "          Restaurant Name  Review Rating  \\\n0        Usman Restaurant              4   \n1        Usman Restaurant              5   \n2        Usman Restaurant              4   \n3        Usman Restaurant              4   \n4        Usman Restaurant              5   \n...                   ...            ...   \n5823  Trattoria Lafiandra              5   \n5826  Trattoria Lafiandra              5   \n5828  Trattoria Lafiandra              5   \n5830      Katong Keah Kee              4   \n5831      Katong Keah Kee              5   \n\n                                     Recommended Dishes  \n0     Daal Keema fry, Pala Paneer, Mix tandoor sizzl...  \n1                               chicken tandoori, Price  \n2     butter chicken, garlic naan, tandoori chicken,...  \n3             garlic naan, chicken tandoori, pulled tea  \n4     tandoori chicken, naan, tikka chicken, cheese ...  \n...                                                 ...  \n5823                                                     \n5826                                                     \n5828                                                     \n5830                                                     \n5831                                                     \n\n[4788 rows x 3 columns]",
      "text/html": "<div>\n<style scoped>\n    .dataframe tbody tr th:only-of-type {\n        vertical-align: middle;\n    }\n\n    .dataframe tbody tr th {\n        vertical-align: top;\n    }\n\n    .dataframe thead th {\n        text-align: right;\n    }\n</style>\n<table border=\"1\" class=\"dataframe\">\n  <thead>\n    <tr style=\"text-align: right;\">\n      <th></th>\n      <th>Restaurant Name</th>\n      <th>Review Rating</th>\n      <th>Recommended Dishes</th>\n    </tr>\n  </thead>\n  <tbody>\n    <tr>\n      <th>0</th>\n      <td>Usman Restaurant</td>\n      <td>4</td>\n      <td>Daal Keema fry, Pala Paneer, Mix tandoor sizzl...</td>\n    </tr>\n    <tr>\n      <th>1</th>\n      <td>Usman Restaurant</td>\n      <td>5</td>\n      <td>chicken tandoori, Price</td>\n    </tr>\n    <tr>\n      <th>2</th>\n      <td>Usman Restaurant</td>\n      <td>4</td>\n      <td>butter chicken, garlic naan, tandoori chicken,...</td>\n    </tr>\n    <tr>\n      <th>3</th>\n      <td>Usman Restaurant</td>\n      <td>4</td>\n      <td>garlic naan, chicken tandoori, pulled tea</td>\n    </tr>\n    <tr>\n      <th>4</th>\n      <td>Usman Restaurant</td>\n      <td>5</td>\n      <td>tandoori chicken, naan, tikka chicken, cheese ...</td>\n    </tr>\n    <tr>\n      <th>...</th>\n      <td>...</td>\n      <td>...</td>\n      <td>...</td>\n    </tr>\n    <tr>\n      <th>5823</th>\n      <td>Trattoria Lafiandra</td>\n      <td>5</td>\n      <td></td>\n    </tr>\n    <tr>\n      <th>5826</th>\n      <td>Trattoria Lafiandra</td>\n      <td>5</td>\n      <td></td>\n    </tr>\n    <tr>\n      <th>5828</th>\n      <td>Trattoria Lafiandra</td>\n      <td>5</td>\n      <td></td>\n    </tr>\n    <tr>\n      <th>5830</th>\n      <td>Katong Keah Kee</td>\n      <td>4</td>\n      <td></td>\n    </tr>\n    <tr>\n      <th>5831</th>\n      <td>Katong Keah Kee</td>\n      <td>5</td>\n      <td></td>\n    </tr>\n  </tbody>\n</table>\n<p>4788 rows × 3 columns</p>\n</div>"
     },
     "execution_count": 29,
     "metadata": {},
     "output_type": "execute_result"
    }
   ],
   "source": [
    "df_final = df_filtered[['Restaurant Name','Review Rating' ,'Recommended Dishes']]\n",
    "df_final"
   ],
   "metadata": {
    "collapsed": false
   }
  },
  {
   "cell_type": "code",
   "execution_count": 30,
   "outputs": [
    {
     "data": {
      "text/plain": "                     Restaurant Name  Review Rating  \\\n0              83 Seafood Restaurant       5.000000   \n1                     A Noodle Story       4.615385   \n2                        Ah Loy Thai       4.714286   \n3      Ah Tai Hainanese Chicken Rice       4.671875   \n4                      Almost Famous       5.000000   \n..                               ...            ...   \n226                       Zazz Pizza       4.833333   \n227  Zhong Guo La Mian Xiao Long Bao       4.636364   \n228              Zhong Hua Steamboat       5.000000   \n229               iO Italian Osteria       4.647059   \n230         Íú½ÇücÐÄ Mongkok Dim Sum       4.571429   \n\n                                    Recommended Dishes  \n0                                                       \n1    Coffee, Tonkotsu Ramen, Pain au Chocolat, Omel...  \n2                                                       \n3                                                       \n4                                                       \n..                                                 ...  \n226                                                     \n227                                                     \n228          Lobster Tail, Truffle Fries, Filet Mignon  \n229  Pain au Chocolat, Cappuccino, BBQ Ribs, Garlic...  \n230                                                     \n\n[231 rows x 3 columns]",
      "text/html": "<div>\n<style scoped>\n    .dataframe tbody tr th:only-of-type {\n        vertical-align: middle;\n    }\n\n    .dataframe tbody tr th {\n        vertical-align: top;\n    }\n\n    .dataframe thead th {\n        text-align: right;\n    }\n</style>\n<table border=\"1\" class=\"dataframe\">\n  <thead>\n    <tr style=\"text-align: right;\">\n      <th></th>\n      <th>Restaurant Name</th>\n      <th>Review Rating</th>\n      <th>Recommended Dishes</th>\n    </tr>\n  </thead>\n  <tbody>\n    <tr>\n      <th>0</th>\n      <td>83 Seafood Restaurant</td>\n      <td>5.000000</td>\n      <td></td>\n    </tr>\n    <tr>\n      <th>1</th>\n      <td>A Noodle Story</td>\n      <td>4.615385</td>\n      <td>Coffee, Tonkotsu Ramen, Pain au Chocolat, Omel...</td>\n    </tr>\n    <tr>\n      <th>2</th>\n      <td>Ah Loy Thai</td>\n      <td>4.714286</td>\n      <td></td>\n    </tr>\n    <tr>\n      <th>3</th>\n      <td>Ah Tai Hainanese Chicken Rice</td>\n      <td>4.671875</td>\n      <td></td>\n    </tr>\n    <tr>\n      <th>4</th>\n      <td>Almost Famous</td>\n      <td>5.000000</td>\n      <td></td>\n    </tr>\n    <tr>\n      <th>...</th>\n      <td>...</td>\n      <td>...</td>\n      <td>...</td>\n    </tr>\n    <tr>\n      <th>226</th>\n      <td>Zazz Pizza</td>\n      <td>4.833333</td>\n      <td></td>\n    </tr>\n    <tr>\n      <th>227</th>\n      <td>Zhong Guo La Mian Xiao Long Bao</td>\n      <td>4.636364</td>\n      <td></td>\n    </tr>\n    <tr>\n      <th>228</th>\n      <td>Zhong Hua Steamboat</td>\n      <td>5.000000</td>\n      <td>Lobster Tail, Truffle Fries, Filet Mignon</td>\n    </tr>\n    <tr>\n      <th>229</th>\n      <td>iO Italian Osteria</td>\n      <td>4.647059</td>\n      <td>Pain au Chocolat, Cappuccino, BBQ Ribs, Garlic...</td>\n    </tr>\n    <tr>\n      <th>230</th>\n      <td>Íú½ÇücÐÄ Mongkok Dim Sum</td>\n      <td>4.571429</td>\n      <td></td>\n    </tr>\n  </tbody>\n</table>\n<p>231 rows × 3 columns</p>\n</div>"
     },
     "execution_count": 30,
     "metadata": {},
     "output_type": "execute_result"
    }
   ],
   "source": [
    "df_final_grouped = df_final.groupby('Restaurant Name').agg({\n",
    "    'Review Rating': 'mean',\n",
    "    'Recommended Dishes': lambda x: ', '.join(set(', '.join(x).split(', ')))\n",
    "}).reset_index()\n",
    "df_final_grouped"
   ],
   "metadata": {
    "collapsed": false
   }
  }
 ],
 "metadata": {
  "kernelspec": {
   "display_name": "Python 3",
   "language": "python",
   "name": "python3"
  },
  "language_info": {
   "codemirror_mode": {
    "name": "ipython",
    "version": 2
   },
   "file_extension": ".py",
   "mimetype": "text/x-python",
   "name": "python",
   "nbconvert_exporter": "python",
   "pygments_lexer": "ipython2",
   "version": "2.7.6"
  }
 },
 "nbformat": 4,
 "nbformat_minor": 0
}
