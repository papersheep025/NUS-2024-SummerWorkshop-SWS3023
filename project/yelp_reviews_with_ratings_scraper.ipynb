{
 "cells": [
  {
   "cell_type": "markdown",
   "source": [
    "Scrape reviews together with rating"
   ],
   "metadata": {
    "collapsed": false
   }
  },
  {
   "cell_type": "code",
   "execution_count": 418,
   "metadata": {
    "collapsed": true
   },
   "outputs": [
    {
     "name": "stderr",
     "output_type": "stream",
     "text": [
      "The chromedriver version (128.0.6582.0) detected in PATH at C:\\Users\\22507\\anaconda3\\lib\\site-packages\\chromedriver_binary\\chromedriver.exe might not be compatible with the detected chrome version (126.0.6478.127); currently, chromedriver 126.0.6478.126 is recommended for chrome 126.*, so it is advised to delete the driver in PATH and retry\n"
     ]
    }
   ],
   "source": [
    "#load necessary libraries\n",
    "from selenium import webdriver\n",
    "import time\n",
    "import chromedriver_binary\n",
    "from selenium.webdriver.chrome.service import Service\n",
    "from selenium.webdriver.common.keys import Keys\n",
    "from selenium.webdriver.support.ui import WebDriverWait\n",
    "from selenium.webdriver.common.by import By\n",
    "from selenium.webdriver.support import expected_conditions as EC\n",
    "from selenium.webdriver.chrome.options import Options\n",
    "from selenium.common.exceptions import TimeoutException\n",
    "import pandas as pd\n",
    "import re\n",
    "\n",
    "\n",
    "#disable build check to if latest version of Chrome is not supported\n",
    "service = Service(service_args=['--disable-build-check'])\n",
    "\n",
    "#open the window size to simulate mobile view\n",
    "options = webdriver.ChromeOptions()\n",
    "options.add_argument(\"window-size=600,800\")\n",
    "driver = webdriver.Chrome(service=service, options=options)\n"
   ]
  },
  {
   "cell_type": "code",
   "execution_count": 390,
   "outputs": [],
   "source": [
    "# restaurant_names = []\n",
    "#\n",
    "# try:\n",
    "#     names = driver.find_elements(By.CSS_SELECTOR, \"h1\")\n",
    "#     for name in names:\n",
    "#         restaurant_names.append(name.text)\n",
    "# except:\n",
    "#     pass\n",
    "#\n",
    "# restaurant_names"
   ],
   "metadata": {
    "collapsed": false
   }
  },
  {
   "cell_type": "code",
   "execution_count": 391,
   "outputs": [],
   "source": [
    "# stars = []\n",
    "# try:\n",
    "#     numbers = driver.find_elements(By.CSS_SELECTOR, 'div.arrange-unit__09f24__rqHTg.y-css-1iy1dwt .y-css-9tnml4[role=\"img\"][aria-label*=\"star rating\"]')\n",
    "#     for number in numbers:\n",
    "#         aria_label = number.get_attribute(\"aria-label\")\n",
    "#         star = aria_label.split()[0]\n",
    "#         stars.append(star)\n",
    "# except:\n",
    "#     pass\n",
    "#\n",
    "# stars"
   ],
   "metadata": {
    "collapsed": false
   }
  },
  {
   "cell_type": "code",
   "execution_count": 392,
   "outputs": [],
   "source": [
    "# review_contents = []\n",
    "#\n",
    "# try:\n",
    "#     reviews = driver.find_elements(By.CSS_SELECTOR, 'p.comment__09f24__D0cxf.y-css-h9c2fl')\n",
    "#     for review in reviews:\n",
    "#         clean_text = review.text.replace('\\n', ' ')\n",
    "#         review_contents.append(clean_text)\n",
    "# except:\n",
    "#     pass\n",
    "#\n",
    "# review_contents"
   ],
   "metadata": {
    "collapsed": false
   }
  },
  {
   "cell_type": "code",
   "execution_count": 393,
   "outputs": [],
   "source": [
    "# review_dates = []\n",
    "#\n",
    "# try:\n",
    "#     review_elements = driver.find_elements(By.CSS_SELECTOR, 'span.y-css-wfbtsu')\n",
    "#\n",
    "#     # 定义一个日期的正则表达式模式，如Apr 27, 2024\n",
    "#     date_pattern = re.compile(r'\\b[A-Za-z]{3} \\d{1,2}, \\d{4}\\b')\n",
    "#\n",
    "#     for review_element in review_elements:\n",
    "#         text = review_element.text\n",
    "#         if date_pattern.match(text):\n",
    "#             review_dates.append(text)\n",
    "# except:\n",
    "#     pass\n",
    "#\n",
    "# review_dates"
   ],
   "metadata": {
    "collapsed": false
   }
  },
  {
   "cell_type": "code",
   "execution_count": 394,
   "outputs": [],
   "source": [
    "# length = len(stars)\n",
    "# try:\n",
    "#     name = driver.find_element(By.CSS_SELECTOR, \"h1\")\n",
    "#     restaurant_name = name.text\n",
    "#     restaurant_names = [restaurant_name] * length\n",
    "# except:\n",
    "#     pass\n",
    "#\n",
    "# restaurant_names"
   ],
   "metadata": {
    "collapsed": false
   }
  },
  {
   "cell_type": "code",
   "execution_count": 419,
   "outputs": [],
   "source": [
    "def get_all_reviews(url):\n",
    "\n",
    "    driver.get(url)\n",
    "\n",
    "    page_number = 1\n",
    "\n",
    "    restaurant_name = \"\"\n",
    "    restaurant_names = []\n",
    "    review_contents = []\n",
    "    stars = []\n",
    "    review_dates = []\n",
    "\n",
    "    # scrape each page\n",
    "    def scrape_page():\n",
    "\n",
    "        # Review Date\n",
    "        try:\n",
    "            review_elements = driver.find_elements(By.CSS_SELECTOR, 'span.y-css-wfbtsu')\n",
    "            date_pattern = re.compile(r'\\b[A-Za-z]{3} \\d{1,2}, \\d{4}\\b')\n",
    "            for review_element in review_elements:\n",
    "                text = review_element.text\n",
    "                if date_pattern.match(text):\n",
    "                    review_dates.append(text)\n",
    "        except:\n",
    "            pass\n",
    "\n",
    "        # Review's Rating\n",
    "        try:\n",
    "            numbers = driver.find_elements(By.CSS_SELECTOR,\n",
    "                                           'div.arrange-unit__09f24__rqHTg.y-css-1iy1dwt .y-css-9tnml4[role=\"img\"][aria-label*=\"star rating\"]')\n",
    "            for number in numbers:\n",
    "                aria_label = number.get_attribute(\"aria-label\")\n",
    "                star = aria_label.split()[0]\n",
    "                stars.append(star)\n",
    "        except:\n",
    "            pass\n",
    "\n",
    "        # Review Contents\n",
    "        try:\n",
    "            reviews = driver.find_elements(By.CSS_SELECTOR, 'p.comment__09f24__D0cxf.y-css-h9c2fl')\n",
    "            for review in reviews:\n",
    "                clean_text = review.text.replace('\\n', ' ')\n",
    "                review_contents.append(clean_text)\n",
    "        except:\n",
    "            pass\n",
    "\n",
    "\n",
    "    # scrape first page\n",
    "    time.sleep(5)\n",
    "    try:\n",
    "        print('Page 1 ...')\n",
    "        scrape_page()\n",
    "    except TimeoutException:\n",
    "        print(\"Timeout while waiting for the first page elements to load.\")\n",
    "\n",
    "    # scrape other pages\n",
    "    while True:\n",
    "        try:\n",
    "            # click next page button\n",
    "            load_next_page_button = WebDriverWait(driver, 10).until(\n",
    "                EC.element_to_be_clickable((By.XPATH,\n",
    "                                            '//a[@class=\"next-link navigation-button__09f24__m9qRz y-css-7ln3jw\" and @aria-label=\"Next\"]'))\n",
    "            )\n",
    "\n",
    "            # able to click\n",
    "            if load_next_page_button.is_enabled():\n",
    "                load_next_page_button.click()\n",
    "                print(\"Clicked 'Next' button...Loading...\")\n",
    "                page_number += 1\n",
    "                print(f\"Page {page_number} ...\")\n",
    "\n",
    "                time.sleep(3)\n",
    "\n",
    "                WebDriverWait(driver, 10).until(\n",
    "                    EC.presence_of_element_located((By.CSS_SELECTOR, 'span.y-css-wfbtsu'))\n",
    "                )\n",
    "                scrape_page()\n",
    "            else:\n",
    "                print(\"Next button is either not displayed or not enabled\")\n",
    "                break\n",
    "\n",
    "        except TimeoutException:\n",
    "            print(f\"No more 'Next' button found. Stopping at page {page_number}.\")\n",
    "            break\n",
    "\n",
    "    # Restaurant Names\n",
    "    length = len(stars)\n",
    "    try:\n",
    "        name = driver.find_element(By.CSS_SELECTOR, \"h1\")\n",
    "        restaurant_name = name.text\n",
    "        restaurant_names = [restaurant_name] * length\n",
    "    except:\n",
    "        pass\n",
    "\n",
    "    review_list = zip(restaurant_names, stars, review_dates, review_contents)\n",
    "\n",
    "    return review_list"
   ],
   "metadata": {
    "collapsed": false
   }
  },
  {
   "cell_type": "code",
   "execution_count": 420,
   "outputs": [
    {
     "name": "stdout",
     "output_type": "stream",
     "text": [
      "Page 1 ...\n",
      "Clicked 'Next' button...Loading...\n",
      "Page 2 ...\n",
      "Clicked 'Next' button...Loading...\n",
      "Page 3 ...\n",
      "No more 'Next' button found. Stopping at page 3.\n"
     ]
    },
    {
     "data": {
      "text/plain": "<zip at 0x1c452111080>"
     },
     "execution_count": 420,
     "metadata": {},
     "output_type": "execute_result"
    }
   ],
   "source": [
    "holy_crab_reviews = get_all_reviews('https://www.yelp.com/biz/holycrab-singapore?osq=Restaurants')\n",
    "holy_crab_reviews"
   ],
   "metadata": {
    "collapsed": false
   }
  },
  {
   "cell_type": "code",
   "execution_count": 421,
   "outputs": [
    {
     "data": {
      "text/plain": "   Restaurant Name Review Rating   Review Date  \\\n0         Holycrab             4  Apr 27, 2024   \n1         Holycrab             5  Jan 21, 2024   \n2         Holycrab             5  Apr 13, 2023   \n3         Holycrab             1   Feb 5, 2024   \n4         Holycrab             5   Dec 6, 2023   \n5         Holycrab             5  Oct 17, 2022   \n6         Holycrab             3  Dec 26, 2022   \n7         Holycrab             3  Dec 16, 2023   \n8         Holycrab             5   Sep 3, 2022   \n9         Holycrab             5   Nov 4, 2019   \n10        Holycrab             3  Oct 21, 2019   \n11        Holycrab             5   Apr 4, 2022   \n12        Holycrab             5   Jan 7, 2020   \n13        Holycrab             5  Feb 27, 2023   \n14        Holycrab             4  Oct 27, 2019   \n15        Holycrab             5  Jan 28, 2019   \n16        Holycrab             3  Apr 17, 2019   \n17        Holycrab             4  Oct 19, 2019   \n18        Holycrab             5  Dec 14, 2019   \n19        Holycrab             5   Nov 4, 2019   \n20        Holycrab             5   Jan 2, 2020   \n21        Holycrab             5  Nov 20, 2019   \n22        Holycrab             5  Jul 16, 2019   \n23        Holycrab             5  Jun 18, 2018   \n24        Holycrab             5   Oct 8, 2019   \n25        Holycrab             5  Jun 19, 2019   \n26        Holycrab             5   Apr 4, 2019   \n27        Holycrab             4  Dec 11, 2018   \n28        Holycrab             4  May 27, 2019   \n29        Holycrab             5  Apr 21, 2019   \n\n                                       Review Content  \n0   You must try chili crab in Singapore if you're...  \n1   I had to get Chili Crab while I was in Singapo...  \n2   My gf found this place on yelp and saw the ama...  \n3   We went there on February the 5th, at about 1p...  \n4   One of the best places to try chili crab. They...  \n5   I just had the best crab in my life at Holy Cr...  \n6   Not quite my cup of tea as seafood was never m...  \n7   Food is average, chili crab is so-so. Service ...  \n8   I suggest making reservations. I called last m...  \n9   If your desire for Singapore's supposed classi...  \n10  For a place that has crab in the namesake, I d...  \n11  Friendly and great owner , prompt service staf...  \n12  Damn it's good. Damn it's pricey. Make a reser...  \n13  The food was super delicious and the service q...  \n14  This place was good. A bit basic.  Crab fried ...  \n15  A Must -- Fantastic Chili Crab!  Best chili-cr...  \n16  I read alot of rave reviews of the green mamba...  \n17  A fantastic find near to Bugis Junction  We we...  \n18  I was introduced to this place by a friend tha...  \n19  The crab and seafood fried rice is delicious, ...  \n20  Food was amazing, I highly recommend this plac...  \n21  We didn't make reservation since we didn't kno...  \n22  Update: I strongly recommended Holycrab to my ...  \n23  Simply amazing crab (and service)! I would dub...  \n24  We had dreams of chili crab ever since we book...  \n25  The chili crab is delicious! I would highly re...  \n26  Our latest great find!  Our group went for the...  \n27  Amazing crab dishes. Big and fat crabs for cra...  \n28  Green Mamba crab is full of flavor, very stron...  \n29  Recommended by a friend and was not disappoint...  ",
      "text/html": "<div>\n<style scoped>\n    .dataframe tbody tr th:only-of-type {\n        vertical-align: middle;\n    }\n\n    .dataframe tbody tr th {\n        vertical-align: top;\n    }\n\n    .dataframe thead th {\n        text-align: right;\n    }\n</style>\n<table border=\"1\" class=\"dataframe\">\n  <thead>\n    <tr style=\"text-align: right;\">\n      <th></th>\n      <th>Restaurant Name</th>\n      <th>Review Rating</th>\n      <th>Review Date</th>\n      <th>Review Content</th>\n    </tr>\n  </thead>\n  <tbody>\n    <tr>\n      <th>0</th>\n      <td>Holycrab</td>\n      <td>4</td>\n      <td>Apr 27, 2024</td>\n      <td>You must try chili crab in Singapore if you're...</td>\n    </tr>\n    <tr>\n      <th>1</th>\n      <td>Holycrab</td>\n      <td>5</td>\n      <td>Jan 21, 2024</td>\n      <td>I had to get Chili Crab while I was in Singapo...</td>\n    </tr>\n    <tr>\n      <th>2</th>\n      <td>Holycrab</td>\n      <td>5</td>\n      <td>Apr 13, 2023</td>\n      <td>My gf found this place on yelp and saw the ama...</td>\n    </tr>\n    <tr>\n      <th>3</th>\n      <td>Holycrab</td>\n      <td>1</td>\n      <td>Feb 5, 2024</td>\n      <td>We went there on February the 5th, at about 1p...</td>\n    </tr>\n    <tr>\n      <th>4</th>\n      <td>Holycrab</td>\n      <td>5</td>\n      <td>Dec 6, 2023</td>\n      <td>One of the best places to try chili crab. They...</td>\n    </tr>\n    <tr>\n      <th>5</th>\n      <td>Holycrab</td>\n      <td>5</td>\n      <td>Oct 17, 2022</td>\n      <td>I just had the best crab in my life at Holy Cr...</td>\n    </tr>\n    <tr>\n      <th>6</th>\n      <td>Holycrab</td>\n      <td>3</td>\n      <td>Dec 26, 2022</td>\n      <td>Not quite my cup of tea as seafood was never m...</td>\n    </tr>\n    <tr>\n      <th>7</th>\n      <td>Holycrab</td>\n      <td>3</td>\n      <td>Dec 16, 2023</td>\n      <td>Food is average, chili crab is so-so. Service ...</td>\n    </tr>\n    <tr>\n      <th>8</th>\n      <td>Holycrab</td>\n      <td>5</td>\n      <td>Sep 3, 2022</td>\n      <td>I suggest making reservations. I called last m...</td>\n    </tr>\n    <tr>\n      <th>9</th>\n      <td>Holycrab</td>\n      <td>5</td>\n      <td>Nov 4, 2019</td>\n      <td>If your desire for Singapore's supposed classi...</td>\n    </tr>\n    <tr>\n      <th>10</th>\n      <td>Holycrab</td>\n      <td>3</td>\n      <td>Oct 21, 2019</td>\n      <td>For a place that has crab in the namesake, I d...</td>\n    </tr>\n    <tr>\n      <th>11</th>\n      <td>Holycrab</td>\n      <td>5</td>\n      <td>Apr 4, 2022</td>\n      <td>Friendly and great owner , prompt service staf...</td>\n    </tr>\n    <tr>\n      <th>12</th>\n      <td>Holycrab</td>\n      <td>5</td>\n      <td>Jan 7, 2020</td>\n      <td>Damn it's good. Damn it's pricey. Make a reser...</td>\n    </tr>\n    <tr>\n      <th>13</th>\n      <td>Holycrab</td>\n      <td>5</td>\n      <td>Feb 27, 2023</td>\n      <td>The food was super delicious and the service q...</td>\n    </tr>\n    <tr>\n      <th>14</th>\n      <td>Holycrab</td>\n      <td>4</td>\n      <td>Oct 27, 2019</td>\n      <td>This place was good. A bit basic.  Crab fried ...</td>\n    </tr>\n    <tr>\n      <th>15</th>\n      <td>Holycrab</td>\n      <td>5</td>\n      <td>Jan 28, 2019</td>\n      <td>A Must -- Fantastic Chili Crab!  Best chili-cr...</td>\n    </tr>\n    <tr>\n      <th>16</th>\n      <td>Holycrab</td>\n      <td>3</td>\n      <td>Apr 17, 2019</td>\n      <td>I read alot of rave reviews of the green mamba...</td>\n    </tr>\n    <tr>\n      <th>17</th>\n      <td>Holycrab</td>\n      <td>4</td>\n      <td>Oct 19, 2019</td>\n      <td>A fantastic find near to Bugis Junction  We we...</td>\n    </tr>\n    <tr>\n      <th>18</th>\n      <td>Holycrab</td>\n      <td>5</td>\n      <td>Dec 14, 2019</td>\n      <td>I was introduced to this place by a friend tha...</td>\n    </tr>\n    <tr>\n      <th>19</th>\n      <td>Holycrab</td>\n      <td>5</td>\n      <td>Nov 4, 2019</td>\n      <td>The crab and seafood fried rice is delicious, ...</td>\n    </tr>\n    <tr>\n      <th>20</th>\n      <td>Holycrab</td>\n      <td>5</td>\n      <td>Jan 2, 2020</td>\n      <td>Food was amazing, I highly recommend this plac...</td>\n    </tr>\n    <tr>\n      <th>21</th>\n      <td>Holycrab</td>\n      <td>5</td>\n      <td>Nov 20, 2019</td>\n      <td>We didn't make reservation since we didn't kno...</td>\n    </tr>\n    <tr>\n      <th>22</th>\n      <td>Holycrab</td>\n      <td>5</td>\n      <td>Jul 16, 2019</td>\n      <td>Update: I strongly recommended Holycrab to my ...</td>\n    </tr>\n    <tr>\n      <th>23</th>\n      <td>Holycrab</td>\n      <td>5</td>\n      <td>Jun 18, 2018</td>\n      <td>Simply amazing crab (and service)! I would dub...</td>\n    </tr>\n    <tr>\n      <th>24</th>\n      <td>Holycrab</td>\n      <td>5</td>\n      <td>Oct 8, 2019</td>\n      <td>We had dreams of chili crab ever since we book...</td>\n    </tr>\n    <tr>\n      <th>25</th>\n      <td>Holycrab</td>\n      <td>5</td>\n      <td>Jun 19, 2019</td>\n      <td>The chili crab is delicious! I would highly re...</td>\n    </tr>\n    <tr>\n      <th>26</th>\n      <td>Holycrab</td>\n      <td>5</td>\n      <td>Apr 4, 2019</td>\n      <td>Our latest great find!  Our group went for the...</td>\n    </tr>\n    <tr>\n      <th>27</th>\n      <td>Holycrab</td>\n      <td>4</td>\n      <td>Dec 11, 2018</td>\n      <td>Amazing crab dishes. Big and fat crabs for cra...</td>\n    </tr>\n    <tr>\n      <th>28</th>\n      <td>Holycrab</td>\n      <td>4</td>\n      <td>May 27, 2019</td>\n      <td>Green Mamba crab is full of flavor, very stron...</td>\n    </tr>\n    <tr>\n      <th>29</th>\n      <td>Holycrab</td>\n      <td>5</td>\n      <td>Apr 21, 2019</td>\n      <td>Recommended by a friend and was not disappoint...</td>\n    </tr>\n  </tbody>\n</table>\n</div>"
     },
     "execution_count": 421,
     "metadata": {},
     "output_type": "execute_result"
    }
   ],
   "source": [
    "df = pd.DataFrame(holy_crab_reviews, columns=['Restaurant Name', 'Review Rating', 'Review Date', 'Review Content'])\n",
    "df"
   ],
   "metadata": {
    "collapsed": false
   }
  },
  {
   "cell_type": "code",
   "execution_count": 399,
   "outputs": [],
   "source": [
    "driver.quit()"
   ],
   "metadata": {
    "collapsed": false
   }
  }
 ],
 "metadata": {
  "kernelspec": {
   "display_name": "Python 3",
   "language": "python",
   "name": "python3"
  },
  "language_info": {
   "codemirror_mode": {
    "name": "ipython",
    "version": 2
   },
   "file_extension": ".py",
   "mimetype": "text/x-python",
   "name": "python",
   "nbconvert_exporter": "python",
   "pygments_lexer": "ipython2",
   "version": "2.7.6"
  }
 },
 "nbformat": 4,
 "nbformat_minor": 0
}
