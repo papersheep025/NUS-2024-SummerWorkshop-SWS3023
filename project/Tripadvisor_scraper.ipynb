{
 "cells": [
  {
   "cell_type": "code",
   "execution_count": 1,
   "id": "74865588-71e0-41dd-9b46-28a4a15e3884",
   "metadata": {},
   "outputs": [],
   "source": [
    "from DrissionPage import ChromiumPage\n",
    "import pandas as pd\n",
    "import re\n",
    "import urllib.parse\n",
    "from concurrent.futures import ThreadPoolExecutor"
   ]
  },
  {
   "cell_type": "code",
   "execution_count": 2,
   "id": "6c760983-b968-462d-9a48-4a92126a95be",
   "metadata": {},
   "outputs": [],
   "source": [
    "def get_shop_urls(driver):\n",
    "    \"\"\" 从当前页面抓取所有店铺的URL \"\"\"\n",
    "    shop_elements = driver.eles(\"css:.vIjFZ.Gi.o.VOEhq\")\n",
    "    shop_urls = [element.ele(\"css:a.BMQDV._F.Gv.wSSLS.SwZTJ.FGwzt.ukgoS\").attr(\"href\") for element in shop_elements]\n",
    "    return shop_urls"
   ]
  },
  {
   "cell_type": "code",
   "execution_count": 3,
   "id": "65313804-0b58-45cb-993e-11dcc9fb9053",
   "metadata": {},
   "outputs": [],
   "source": [
    "# url_list = get_shop_urls(dp)\n",
    "# url_list"
   ]
  },
  {
   "cell_type": "code",
   "execution_count": 4,
   "id": "799d2986-93a0-4d96-9cbb-d2a409da412f",
   "metadata": {},
   "outputs": [],
   "source": [
    "# 以下是测试从店铺页面中获取详情信息"
   ]
  },
  {
   "cell_type": "code",
   "execution_count": 5,
   "id": "040e5af5-2a23-4a62-8af5-7fa8d1a63c7b",
   "metadata": {},
   "outputs": [],
   "source": [
    "# tab = dp.new_tab()\n",
    "# tab.get(\"https://cn.tripadvisor.com/Restaurant_Review-g294265-d3641009-Reviews-Carnivore_Brazilian_Churrascaria-Singapore.html\")\n"
   ]
  },
  {
   "cell_type": "code",
   "execution_count": 6,
   "id": "f589bc12-1d4a-40e6-8b8d-3513daa10a08",
   "metadata": {},
   "outputs": [],
   "source": [
    "# rank_text = tab.ele(\"css:span.biGQs._P.pZUbB.hmDzD\").text\n",
    "# pattern = r'第(\\d{1,3}(?:,\\d{3})*|\\d+)'\n",
    "# match = re.search(pattern, rank_text)\n",
    "# ranking = match.group(1).replace(',', '')\n",
    "# rank = int(ranking)\n",
    "# rank\n"
   ]
  },
  {
   "cell_type": "code",
   "execution_count": 7,
   "id": "9b05129e-11b0-44f1-9e62-ba441c8fb9bd",
   "metadata": {},
   "outputs": [],
   "source": [
    "# text = '在新加坡的 8,683 家餐厅中排名第126'\n",
    "\n",
    "# # 正则表达式匹配模式\n",
    "# pattern = r'第(\\d{1,3}(?:,\\d{3})*|\\d+)'\n",
    "\n",
    "# # 查找匹配项\n",
    "# match = re.search(pattern, text)\n",
    "\n",
    "# # 提取排名数字，去掉逗号\n",
    "# ranking = match.group(1).replace(',', '')\n",
    "# # 转换为整数\n",
    "# int_ranking = int(ranking)\n",
    "# print(int_ranking)"
   ]
  },
  {
   "cell_type": "code",
   "execution_count": 8,
   "id": "6a710688-d4c2-448a-a9f8-4d9804d0ac7c",
   "metadata": {},
   "outputs": [],
   "source": [
    "# food_type_list = [\"亚洲料理\", \"中餐\", \"新加坡菜\", \"咖啡馆\", \"日式料理\", \"酒吧餐\", \"海鲜\",\n",
    "# \"印度菜\", \"美式烹饪\", \"酒馆\", \"快餐\", \"欧洲\",\"意餐\",\"多国料理\",\"快餐\",\"各国料理\", \"泰国菜\",\n",
    "# \"披萨\", \"寿司\", \"韩式料理\", \"健康餐饮\", \"马来西亚菜\", \"法餐\", \"烧烤\",\n",
    "# \"烤肉\", \"汤\", \"现代创意料理\", \"粤菜\", \"地中海\", \"牛排馆\", \"红酒吧\",\n",
    "# \"印尼菜\", \"越南菜\", \"日式复合菜式\", \"餐吧\", \"晚餐\", \"台湾菜\", \"香港\",\n",
    "# \"街边小吃\", \"中东风味\", \"啤酒餐厅\", \"墨西哥菜\", \"熟食店\", \"西班牙菜\",\n",
    "# \"美国西南风味\", \"澳洲菜\", \"美食酒吧\", \"英国菜\", \"土耳其菜\", \"南美风味\",\n",
    "# \"中亚风味\", \"黎巴嫩菜\", \"娘惹菜\", \"现酿啤酒吧\", \"高加索菜\", \"阿拉伯风味\",\n",
    "# \"川菜\", \"德国菜\", \"中欧风味\", \"希腊菜\", \"拉丁风味\", \"上海菜\", \"菲律宾菜\",\n",
    "# \"巴基斯坦菜\", \"日式甜品沙龙\", \"中美风味\", \"夏威夷菜\", \"瑞士菜\", \"葡萄牙菜\",\n",
    "# \"怀石料理\", \"巴西菜\", \"东欧\", \"水果沙龙\", \"新西兰菜\", \"尼泊尔菜\", \"北欧风味\",\n",
    "# \"阿富汗菜\", \"割烹料理\", \"北京菜\", \"北海道料理\", \"爱尔兰菜\", \"秘鲁菜\",\n",
    "# \"摩洛哥菜\", \"斯里兰卡菜\", \"意大利南部\", \"比利时菜\", \"美国新奥尔良风味\",\n",
    "# \"波斯风味\", \"孟加拉菜\", \"那不勒斯\", \"奥地利菜\", \"加勒比海\", \"云南\",\n",
    "# \"闽菜\", \"宫廷菜\", \"瑞典菜\", \"以色列列菜\", \"西北菜\", \"意大利北部\", \"九州料理\",\n",
    "# \"非洲菜\"]\n",
    "# food_type = []\n",
    "# food_types = tab.eles(\"css:span.bTeln span.biGQs._P.pZUbB.hmDzD\")\n",
    "# for i in food_types:\n",
    "#     if i.text in food_type_list:\n",
    "#         food_type.append(i.text)\n",
    "# if not food_type: food_type = [\"None\"]\n",
    "# food_type"
   ]
  },
  {
   "cell_type": "code",
   "execution_count": null,
   "id": "03c65f84-397e-4809-85ce-c89fb723fad5",
   "metadata": {},
   "outputs": [],
   "source": []
  },
  {
   "cell_type": "code",
   "execution_count": 9,
   "id": "d52e43c5-0274-4b3f-8e92-d04d1e42e846",
   "metadata": {},
   "outputs": [],
   "source": [
    "# rank = tab.ele(\"css:span.biGQs._P.pZUbB.hmDzD\").text\n",
    "# match = re.search(r'排名第(\\d+)', rank)\n",
    "# rank = int(match.group(1))\n",
    "# rank"
   ]
  },
  {
   "cell_type": "code",
   "execution_count": 10,
   "id": "53e6c300-a558-4237-b449-8b11802baab7",
   "metadata": {},
   "outputs": [],
   "source": [
    "# price_type = tab.ele(\"css:span.HUMGB.cPbcf span.biGQs._P.pZUbB.hmDzD\").text\n",
    "# price_type"
   ]
  },
  {
   "cell_type": "code",
   "execution_count": 11,
   "id": "03ab7819-3ecb-4c7a-99ed-aa25d49af62f",
   "metadata": {},
   "outputs": [],
   "source": [
    "# name = tab.ele(\"css:h1.biGQs._P.egaXP.rRtyp\").text.strip()\n",
    "# name"
   ]
  },
  {
   "cell_type": "code",
   "execution_count": 12,
   "id": "e6b0a0db-dc59-4e1b-9a8f-266fa752fc77",
   "metadata": {},
   "outputs": [],
   "source": [
    "# x = tab.eles(\"css:div.khxWm.f.e.Q3 div.YwaWb.u.f\")\n",
    "# for i in x:\n",
    "#     label = i.ele(\"css:span.biGQs._P.pZUbB.biKBZ.hmDzD\").text\n",
    "#     if label == \"食物\":\n",
    "#         food_score = i.ele(\"css:title\").text.strip()\n",
    "#         matches = re.findall(r'\\d+\\.\\d+', food_score)\n",
    "#         food_score = float(matches[0])\n",
    "#     elif label == \"服务\":\n",
    "#         service_score = i.ele(\"css:title\").text.strip()\n",
    "#         matches = re.findall(r'\\d+\\.\\d+', service_score)\n",
    "#         service_score = float(matches[0])\n",
    "#     elif label == \"实惠\":\n",
    "#         affordable_score = i.ele(\"css:title\").text.strip()\n",
    "#         matches = re.findall(r'\\d+\\.\\d+', affordable_score)\n",
    "#         affordable_score = float(matches[0])\n",
    "#     elif label == \"氛围\":\n",
    "#         atmosphere_score = i.ele(\"css:title\").text.strip()\n",
    "#         matches = re.findall(r'\\d+\\.\\d+', atmosphere_score)\n",
    "#         atmosphere_score = float(matches[0])\n",
    "# scores = [food_score,service_score,affordable_score,atmosphere_score]\n",
    "# scores\n",
    "\n",
    "\n",
    "# total_score\n",
    "# service_score\n",
    "# food_score\n",
    "# affordable_score\n",
    "# atmosphere_score"
   ]
  },
  {
   "cell_type": "code",
   "execution_count": 13,
   "id": "9ea67f3a-67c4-4d7e-9e74-5f2a8bdf99db",
   "metadata": {},
   "outputs": [],
   "source": [
    "# place_list = ['中区/城区', '市中心/新加坡市中心', '中央商务区', '欧南', '乌节路', '乌节', '梧槽', '中国城', '加冷', '红山 (Bukit Merah)', '新加坡河', '芽笼', '勿洛', 'Boulevard', '滨海湾', '淡滨尼', '女皇镇', '樟宜', '滨海广场', '码头区', '武吉知马', 'Novena', '马林百列', '政府大厦', 'Somerset', '如切区', '殖民区/市政区', '裕廊东', '大巴窑', 'Serangoon', '劳明达', '宏茂桥', '裕廊西', 'Hougang', '小印度区', '武吉士', '义顺', '勿洛北', '甘榜格南', '阿拉伯街', '金文泰', '芽笼东', '阿裕尼', '罗伯逊码头', 'Bishan', 'Maritime Square', 'Moulmein', '淡滨尼东', '中国广场', '东陵', '博物馆', '裕廊区域中心', '克拉码头', '盛港', 'Harbourfront', '莱佛士城', '驳船码头', '实龙岗中央', '兀兰', '纬壹', '加东', '维多利亚', '武吉巴督', 'Crawford', '多美歌', '榜鹅', '巴西立', 'Balestier', '裕廊西中央', '丹戎巴葛', 'Frankel', 'Upper Thomson', 'Duxton Hill', '安南武吉', '义顺中央', '锡林', '金文泰中央', 'Cecil', 'Lorong Ah Soo', '淡滨尼西', '三巴旺', 'Bencoolen', '中峇鲁', '武吉班让','中区', '花拉公园', 'Leedon Park', '亚历山德拉山', '实龙岗花园', '荷兰村', '海湾舫', '宏茂桥镇中心', '樟宜商业园', '蔡厝港', '碧山东', 'Ridout', '大巴窑中央', '圣淘沙', '纽顿', 'Maxwell']\n",
    "# places = tab.eles(\"css:span.biGQs._P.pZUbB.hmDzD\")\n",
    "# place = \"\"\n",
    "# for i in places:\n",
    "#     if i.text in place_list:\n",
    "#         place = i.text\n",
    "#         break\n",
    "# if not place: food_type = \"None\"\n",
    "# place"
   ]
  },
  {
   "cell_type": "code",
   "execution_count": 14,
   "id": "a05777c9-4c9d-44b5-b999-b8f5fee7e665",
   "metadata": {},
   "outputs": [],
   "source": [
    "# 获得：comment_5star comment_4star comment_3star comment_2star comment_1star comment_num\n",
    "\n",
    "# y = tab.eles(\"css:div.tRIJU.w.u div.RZjkd\")\n",
    "# for i in y:\n",
    "#     label = i.ele(\"css:div.yFXuQ.o.W.q\").text\n",
    "#     if label == \"很棒\":\n",
    "#         comment_5star = i.ele(\"css:div.biGQs._P.fiohW.biKBZ.osNWb\").text.strip()\n",
    "#         comment_5star = comment_5star.replace(\",\", \"\")\n",
    "#         comment_5star = int(comment_5star)\n",
    "#     elif label == \"较好\":\n",
    "#         comment_4star = i.ele(\"css:div.biGQs._P.fiohW.biKBZ.osNWb\").text.strip()\n",
    "#         comment_4star = comment_4star.replace(\",\", \"\")\n",
    "#         comment_4star = int(comment_4star)\n",
    "#     elif label == \"一般\":\n",
    "#         comment_3star = i.ele(\"css:div.biGQs._P.fiohW.biKBZ.osNWb\").text.strip()\n",
    "#         comment_3star = comment_3star.replace(\",\", \"\")\n",
    "#         comment_3star = int(comment_3star)\n",
    "#     elif label == \"较差\":\n",
    "#         comment_2star = i.ele(\"css:div.biGQs._P.fiohW.biKBZ.osNWb\").text.strip()\n",
    "#         comment_2star = comment_2star.replace(\",\", \"\")\n",
    "#         comment_2star = int(comment_2star)\n",
    "#     elif label == \"很差\":\n",
    "#         comment_1star = i.ele(\"css:div.biGQs._P.fiohW.biKBZ.osNWb\").text.strip()\n",
    "#         comment_1star = comment_1star.replace(\",\", \"\")\n",
    "#         comment_1star = int(comment_1star)\n",
    "# comment_num = comment_5star + comment_4star + comment_3star + comment_2star + comment_1star\n",
    "# comment_num_info = [comment_num, comment_5star, comment_4star,comment_3star,comment_2star,comment_1star]\n",
    "# comment_num_info\n",
    "\n",
    "\n",
    "# comment_num\n",
    "# comment_5star\n",
    "# comment_4star\n",
    "# comment_3star\n",
    "# comment_2star\n",
    "# comment_1star"
   ]
  },
  {
   "cell_type": "code",
   "execution_count": 15,
   "id": "c64aa160-7157-4eb8-a4ba-1e50b62cb924",
   "metadata": {},
   "outputs": [],
   "source": [
    "food_type_list = [\"亚洲料理\", \"中餐\", \"新加坡菜\", \"咖啡馆\", \"日式料理\", \"酒吧餐\", \"海鲜\",\n",
    "\"印度菜\", \"美式烹饪\", \"酒馆\", \"快餐\", \"欧洲\",\"意餐\",\"多国料理\",\"快餐\",\"各国料理\", \"泰国菜\",\n",
    "\"披萨\", \"寿司\", \"韩式料理\", \"健康餐饮\", \"马来西亚菜\", \"法餐\", \"烧烤\",\n",
    "\"烤肉\", \"汤\", \"现代创意料理\", \"粤菜\", \"地中海\", \"牛排馆\", \"红酒吧\",\n",
    "\"印尼菜\", \"越南菜\", \"日式复合菜式\", \"餐吧\", \"晚餐\", \"台湾菜\", \"香港\",\n",
    "\"街边小吃\", \"中东风味\", \"啤酒餐厅\", \"墨西哥菜\", \"熟食店\", \"西班牙菜\",\n",
    "\"美国西南风味\", \"澳洲菜\", \"美食酒吧\", \"英国菜\", \"土耳其菜\", \"南美风味\",\n",
    "\"中亚风味\", \"黎巴嫩菜\", \"娘惹菜\", \"现酿啤酒吧\", \"高加索菜\", \"阿拉伯风味\",\n",
    "\"川菜\", \"德国菜\", \"中欧风味\", \"希腊菜\", \"拉丁风味\", \"上海菜\", \"菲律宾菜\",\n",
    "\"巴基斯坦菜\", \"日式甜品沙龙\", \"中美风味\", \"夏威夷菜\", \"瑞士菜\", \"葡萄牙菜\",\n",
    "\"怀石料理\", \"巴西菜\", \"东欧\", \"水果沙龙\", \"新西兰菜\", \"尼泊尔菜\", \"北欧风味\",\n",
    "\"阿富汗菜\", \"割烹料理\", \"北京菜\", \"北海道料理\", \"爱尔兰菜\", \"秘鲁菜\",\n",
    "\"摩洛哥菜\", \"斯里兰卡菜\", \"意大利南部\", \"比利时菜\", \"美国新奥尔良风味\",\n",
    "\"波斯风味\", \"孟加拉菜\", \"那不勒斯\", \"奥地利菜\", \"加勒比海\", \"云南\",\n",
    "\"闽菜\", \"宫廷菜\", \"瑞典菜\", \"以色列列菜\", \"西北菜\", \"意大利北部\", \"九州料理\",\n",
    "\"非洲菜\"]\n",
    "place_list = ['中区/城区', '市中心/新加坡市中心', '中央商务区', '欧南', '乌节路', '乌节', '梧槽', '中国城', '加冷', '红山 (Bukit Merah)', '新加坡河', '芽笼', '勿洛', 'Boulevard', '滨海湾', '淡滨尼', '女皇镇', '樟宜', '滨海广场', '码头区', '武吉知马', 'Novena', '马林百列', '政府大厦', 'Somerset', '如切区', '殖民区/市政区', '裕廊东', '大巴窑', 'Serangoon', '劳明达', '宏茂桥', '裕廊西', 'Hougang', '小印度区', '武吉士', '义顺', '勿洛北', '甘榜格南', '阿拉伯街', '金文泰', '芽笼东', '阿裕尼', '罗伯逊码头', 'Bishan', 'Maritime Square', 'Moulmein', '淡滨尼东', '中国广场', '东陵', '博物馆', '裕廊区域中心', '克拉码头', '盛港', 'Harbourfront', '莱佛士城', '驳船码头', '实龙岗中央', '兀兰', '纬壹', '加东', '维多利亚', '武吉巴督', 'Crawford', '多美歌', '榜鹅', '巴西立', 'Balestier', '裕廊西中央', '丹戎巴葛', 'Frankel', 'Upper Thomson', 'Duxton Hill', '安南武吉', '义顺中央', '锡林', '金文泰中央', 'Cecil', 'Lorong Ah Soo', '淡滨尼西', '三巴旺', 'Bencoolen', '中峇鲁', '武吉班让','中区', '花拉公园', 'Leedon Park', '亚历山德拉山', '实龙岗花园', '荷兰村', '海湾舫', '宏茂桥镇中心', '樟宜商业园', '蔡厝港', '碧山东', 'Ridout', '大巴窑中央', '圣淘沙', '纽顿', 'Maxwell']\n",
    "price_list = ['¥¥ - ¥¥¥', '¥', '¥¥¥¥']"
   ]
  },
  {
   "cell_type": "code",
   "execution_count": 16,
   "id": "e54b38e5-33d4-4f6e-a679-5df12977343e",
   "metadata": {},
   "outputs": [],
   "source": [
    "# 获取详细信息：封装成函数\n",
    "def get_name(url):\n",
    "    name = url.ele(\"css:h1.biGQs._P.egaXP.rRtyp\").text.strip()\n",
    "    return name\n",
    "def get_rank(url):\n",
    "    rank_text = url.ele(\"css:span.biGQs._P.pZUbB.hmDzD\").text\n",
    "    pattern = r'第(\\d{1,3}(?:,\\d{3})*|\\d+)'\n",
    "    match = re.search(pattern, rank_text)\n",
    "    ranking = match.group(1).replace(',', '')\n",
    "    rank = int(ranking)\n",
    "    return rank\n",
    "def get_rate(url):\n",
    "    rate = url.ele('css:span.biGQs._P.fiohW.uuBRH').text.strip()\n",
    "    rate = float(rate)\n",
    "    return rate\n",
    "def get_food_type(url):\n",
    "    food_type = []\n",
    "    food_types = url.eles(\"css:span.bTeln span.biGQs._P.pZUbB.hmDzD\")\n",
    "    for i in food_types:\n",
    "        if i.text in food_type_list:\n",
    "            food_type.append(i.text)\n",
    "    if not food_type: food_type = [\"None\"]\n",
    "    food_type_str = ', '.join(food_type)\n",
    "    return food_type_str\n",
    "def get_place(url):\n",
    "    places = url.eles(\"css:span.biGQs._P.pZUbB.hmDzD\")\n",
    "    place = \"\"\n",
    "    for i in places:\n",
    "        if i.text in place_list:\n",
    "            place = i.text\n",
    "            break\n",
    "    if not place: place = \"None\"\n",
    "    return place\n",
    "def get_price(url):\n",
    "    price_type = url.eles(\"css:span.HUMGB.cPbcf span.biGQs._P.pZUbB.hmDzD\")\n",
    "    price = \"\"\n",
    "    for i in price_type:\n",
    "        if i.text in price_list:\n",
    "            price = i.text\n",
    "            break\n",
    "    if not price: price = \"None\"\n",
    "    return price\n",
    "def get_comment_num_info(url):\n",
    "    y = url.eles(\"css:div.tRIJU.w.u div.RZjkd\")\n",
    "    for i in y:\n",
    "        label = i.ele(\"css:div.yFXuQ.o.W.q\").text\n",
    "        if label == \"很棒\":\n",
    "            comment_5star = i.ele(\"css:div.biGQs._P.fiohW.biKBZ.osNWb\").text.strip()\n",
    "            comment_5star = comment_5star.replace(\",\", \"\")\n",
    "            comment_5star = int(comment_5star)\n",
    "        elif label == \"较好\":\n",
    "            comment_4star = i.ele(\"css:div.biGQs._P.fiohW.biKBZ.osNWb\").text.strip()\n",
    "            comment_4star = comment_4star.replace(\",\", \"\")\n",
    "            comment_4star = int(comment_4star)\n",
    "        elif label == \"一般\":\n",
    "            comment_3star = i.ele(\"css:div.biGQs._P.fiohW.biKBZ.osNWb\").text.strip()\n",
    "            comment_3star = comment_3star.replace(\",\", \"\")\n",
    "            comment_3star = int(comment_3star)\n",
    "        elif label == \"较差\":\n",
    "            comment_2star = i.ele(\"css:div.biGQs._P.fiohW.biKBZ.osNWb\").text.strip()\n",
    "            comment_2star = comment_2star.replace(\",\", \"\")\n",
    "            comment_2star = int(comment_2star)\n",
    "        elif label == \"很差\":\n",
    "            comment_1star = i.ele(\"css:div.biGQs._P.fiohW.biKBZ.osNWb\").text.strip()\n",
    "            comment_1star = comment_1star.replace(\",\", \"\")\n",
    "            comment_1star = int(comment_1star)\n",
    "    comment_num = comment_5star + comment_4star + comment_3star + comment_2star + comment_1star\n",
    "    comment_num_info = [comment_num, comment_5star, comment_4star,comment_3star,comment_2star,comment_1star]\n",
    "    return comment_num_info\n",
    "def get_scores(url):\n",
    "    x = url.eles(\"css:div.khxWm.f.e.Q3 div.YwaWb.u.f\")\n",
    "    for i in x:\n",
    "        label = i.ele(\"css:span.biGQs._P.pZUbB.biKBZ.hmDzD\").text\n",
    "        if label == \"食物\":\n",
    "            food_score = i.ele(\"css:title\").text.strip()\n",
    "            matches = re.findall(r'\\d+\\.\\d+', food_score)\n",
    "            food_score = float(matches[0])\n",
    "        elif label == \"服务\":\n",
    "            service_score = i.ele(\"css:title\").text.strip()\n",
    "            matches = re.findall(r'\\d+\\.\\d+', service_score)\n",
    "            service_score = float(matches[0])\n",
    "        elif label == \"实惠\":\n",
    "            affordable_score = i.ele(\"css:title\").text.strip()\n",
    "            matches = re.findall(r'\\d+\\.\\d+', affordable_score)\n",
    "            affordable_score = float(matches[0])\n",
    "        elif label == \"氛围\":\n",
    "            atmosphere_score = i.ele(\"css:title\").text.strip()\n",
    "            matches = re.findall(r'\\d+\\.\\d+', atmosphere_score)\n",
    "            atmosphere_score = float(matches[0])\n",
    "    scores = [food_score,service_score,affordable_score,atmosphere_score]\n",
    "    return scores"
   ]
  },
  {
   "cell_type": "code",
   "execution_count": 17,
   "id": "b226bba6-1f02-4397-a08d-e0e0fcfc4f5d",
   "metadata": {},
   "outputs": [],
   "source": [
    "# 输入店铺url，获取店铺详情的数组\n",
    "# 输出：[name, url, rank, food_type,place,price_type,\n",
    "# comment_num, comment_5star, comment_4star,comment_3star,comment_2star,comment_1star, \n",
    "# food_score,service_score,affordable_score,atmosphere_score]\n",
    "columns = ['name', 'url', 'rate', 'rank', 'food_type','place','price_type',\n",
    "'comment_num', 'comment_5star', 'comment_4star','comment_3star','comment_2star','comment_1star', \n",
    "'food_score','service_score','affordable_score','atmosphere_score']\n",
    "data = []\n",
    "def extract_shop_details(url):\n",
    "    \"\"\" 抓取店铺详情信息的函数 \"\"\"\n",
    "    details = []\n",
    "    tab = dp.new_tab()\n",
    "    tab.get(url)\n",
    "    tab.wait(2)\n",
    "    # 使用函数来定位和抓取详情信息\n",
    "    try:\n",
    "        name = get_name(tab)\n",
    "        url = url\n",
    "        rate = get_rate(tab)\n",
    "        rank = get_rank(tab)\n",
    "        try:\n",
    "            food_type = get_food_type(tab)\n",
    "        except Exception as e:\n",
    "            food_type = 'None'\n",
    "        try:\n",
    "            place = get_place(tab)\n",
    "        except Exception as e:\n",
    "            place = 'None'\n",
    "        try:\n",
    "            price_type = get_price(tab)\n",
    "        except Exception as e:\n",
    "            price_type = 'None'\n",
    "        try:    \n",
    "            comment_num_info = get_comment_num_info(tab)\n",
    "        except Exception as e:\n",
    "            comment_num_info = ['None', 'None', 'None', 'None', 'None', 'None']\n",
    "        try:\n",
    "            tab.wait(1)\n",
    "            scores = get_scores(tab)\n",
    "        except Exception as e:\n",
    "            scores = ['None', 'None', 'None', 'None']\n",
    "        details = [name,url,rate,rank,food_type,place,price_type] + comment_num_info + scores\n",
    "        data.append(details)\n",
    "    # except Exception as e:\n",
    "    #     pass\n",
    "    finally:\n",
    "        tab.close()\n",
    "# EXAMPLE:    \n",
    "# extract_shop_details(\"https://cn.tripadvisor.com/Restaurant_Review-g294265-d23783496-Reviews-Yole_Vivocity-Singapore.html\")\n",
    "# data"
   ]
  },
  {
   "cell_type": "code",
   "execution_count": 18,
   "id": "a4757eeb-b1b7-4d2d-9b3c-d51127ccf702",
   "metadata": {},
   "outputs": [],
   "source": [
    "# # def click_next_page(driver):\n",
    "# \"\"\" 查找并点击翻页按钮的函数 \"\"\"\n",
    "\n",
    "\n",
    "# next_button = driver.ele('css:#next-page-button')\n",
    "# next_button.click()\n",
    "# # 等待新页面加载\n",
    "# driver.wait_until(lambda d: d.ele('css:#content-loaded').is_displayed())"
   ]
  },
  {
   "cell_type": "code",
   "execution_count": 19,
   "id": "d709bae0-7d8c-4ac8-9f79-7b3a116c7583",
   "metadata": {},
   "outputs": [],
   "source": [
    "# tab = dp.new_tab()\n",
    "# tab.get(\"https://cn.tripadvisor.com/FindRestaurants?geo=294265&broadened=false\")\n",
    "# next_button = tab.ele('@class=BrOJk u j z _F wSSLS tIqAi unMkR')\n",
    "# next_button.click()"
   ]
  },
  {
   "cell_type": "code",
   "execution_count": 20,
   "id": "daaf87bf-84b3-4d1a-a734-972c82adb344",
   "metadata": {},
   "outputs": [
    {
     "data": {
      "text/plain": [
       "['https://cn.tripadvisor.com/FindRestaurants?geo=294265&geo=294265&offset=0&establishmentTypes=16556&broadened=false',\n",
       " 'https://cn.tripadvisor.com/FindRestaurants?geo=294265&geo=294265&offset=30&establishmentTypes=16556&broadened=false',\n",
       " 'https://cn.tripadvisor.com/FindRestaurants?geo=294265&geo=294265&offset=60&establishmentTypes=16556&broadened=false',\n",
       " 'https://cn.tripadvisor.com/FindRestaurants?geo=294265&geo=294265&offset=90&establishmentTypes=16556&broadened=false',\n",
       " 'https://cn.tripadvisor.com/FindRestaurants?geo=294265&geo=294265&offset=120&establishmentTypes=16556&broadened=false',\n",
       " 'https://cn.tripadvisor.com/FindRestaurants?geo=294265&geo=294265&offset=150&establishmentTypes=16556&broadened=false',\n",
       " 'https://cn.tripadvisor.com/FindRestaurants?geo=294265&geo=294265&offset=180&establishmentTypes=16556&broadened=false',\n",
       " 'https://cn.tripadvisor.com/FindRestaurants?geo=294265&geo=294265&offset=210&establishmentTypes=16556&broadened=false',\n",
       " 'https://cn.tripadvisor.com/FindRestaurants?geo=294265&geo=294265&offset=240&establishmentTypes=16556&broadened=false',\n",
       " 'https://cn.tripadvisor.com/FindRestaurants?geo=294265&geo=294265&offset=270&establishmentTypes=16556&broadened=false',\n",
       " 'https://cn.tripadvisor.com/FindRestaurants?geo=294265&geo=294265&offset=300&establishmentTypes=16556&broadened=false',\n",
       " 'https://cn.tripadvisor.com/FindRestaurants?geo=294265&geo=294265&offset=330&establishmentTypes=16556&broadened=false',\n",
       " 'https://cn.tripadvisor.com/FindRestaurants?geo=294265&geo=294265&offset=360&establishmentTypes=16556&broadened=false',\n",
       " 'https://cn.tripadvisor.com/FindRestaurants?geo=294265&geo=294265&offset=390&establishmentTypes=16556&broadened=false',\n",
       " 'https://cn.tripadvisor.com/FindRestaurants?geo=294265&geo=294265&offset=420&establishmentTypes=16556&broadened=false',\n",
       " 'https://cn.tripadvisor.com/FindRestaurants?geo=294265&geo=294265&offset=450&establishmentTypes=16556&broadened=false',\n",
       " 'https://cn.tripadvisor.com/FindRestaurants?geo=294265&geo=294265&offset=480&establishmentTypes=16556&broadened=false',\n",
       " 'https://cn.tripadvisor.com/FindRestaurants?geo=294265&geo=294265&offset=510&establishmentTypes=16556&broadened=false']"
      ]
     },
     "execution_count": 20,
     "metadata": {},
     "output_type": "execute_result"
    }
   ],
   "source": [
    "#直接获得url列表\n",
    "base_url = \"https://cn.tripadvisor.com/FindRestaurants?geo=294265&\"\n",
    "max_offset = 530  # 最大的offset值\n",
    "offset_step = 30  # 每次增加的步长\n",
    "\n",
    "urls = []\n",
    "\n",
    "for offset in range(0, max_offset + 1, offset_step):\n",
    "    params = {\n",
    "        'geo': '294265',\n",
    "        'offset': str(offset),\n",
    "        'establishmentTypes': '16556',\n",
    "        'broadened': 'false'\n",
    "    }\n",
    "    url = base_url + urllib.parse.urlencode(params)\n",
    "    urls.append(url)\n",
    "urls"
   ]
  },
  {
   "cell_type": "code",
   "execution_count": null,
   "id": "f6cd4971-49b0-46da-9ea2-178cc0fafe41",
   "metadata": {},
   "outputs": [
    {
     "name": "stdout",
     "output_type": "stream",
     "text": [
      "success: 1\n"
     ]
    }
   ],
   "source": [
    "# main\n",
    "dp = ChromiumPage()\n",
    "counter = 1\n",
    "# dp.get(\"https://cn.tripadvisor.com/FindRestaurants?geo=294265&broadened=false\")\n",
    "for i in urls:\n",
    "    dp.get(i)\n",
    "    url_list = get_shop_urls(dp)\n",
    "    with ThreadPoolExecutor(max_workers=10) as tp:\n",
    "        tp.map(extract_shop_details,url_list)\n",
    "        dp.wait(1)\n",
    "    print(f\"success: {counter}\")\n",
    "    counter += 1\n",
    "print(\"finish\")"
   ]
  },
  {
   "cell_type": "code",
   "execution_count": null,
   "id": "7e9ad77f-0ae1-443c-8804-866976b3fcc7",
   "metadata": {},
   "outputs": [],
   "source": [
    "data"
   ]
  },
  {
   "cell_type": "code",
   "execution_count": null,
   "id": "1df5daa8-dece-4a4f-98dd-2cd9b58c7243",
   "metadata": {},
   "outputs": [],
   "source": [
    "df = pd.DataFrame(data, columns=columns)\n",
    "df"
   ]
  },
  {
   "cell_type": "code",
   "execution_count": null,
   "id": "29e0dfb9-0198-4018-9292-9eabfddc3976",
   "metadata": {},
   "outputs": [],
   "source": [
    "df.to_csv('Tripadvisor_fastfood&snacks.csv', index=False, encoding='utf-8-sig')\n"
   ]
  },
  {
   "cell_type": "code",
   "execution_count": null,
   "id": "53e84064-d472-4261-911c-757b4c009ca9",
   "metadata": {},
   "outputs": [],
   "source": []
  }
 ],
 "metadata": {
  "kernelspec": {
   "display_name": "Python 3 (ipykernel)",
   "language": "python",
   "name": "python3"
  },
  "language_info": {
   "codemirror_mode": {
    "name": "ipython",
    "version": 3
   },
   "file_extension": ".py",
   "mimetype": "text/x-python",
   "name": "python",
   "nbconvert_exporter": "python",
   "pygments_lexer": "ipython3",
   "version": "3.11.7"
  }
 },
 "nbformat": 4,
 "nbformat_minor": 5
}
