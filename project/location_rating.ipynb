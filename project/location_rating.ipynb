{
 "cells": [
  {
   "cell_type": "code",
   "execution_count": 71,
   "metadata": {
    "collapsed": true
   },
   "outputs": [],
   "source": [
    "import pandas as pd\n",
    "import numpy as np\n",
    "\n",
    "df = pd.read_csv('csv/Tripadvisor_restaurant.csv', encoding='utf-8')\n",
    "\n",
    "missing_values = ['None', 'null', 'N/A', '']\n",
    "df = df.replace(missing_values, np.nan)\n",
    "df = df.dropna()\n",
    "\n",
    "columns_to_keep = ['place','rate']\n",
    "df_filtered = df[columns_to_keep]\n",
    "df_filtered['rate'].astype(str)\n",
    "\n",
    "\n",
    "\n",
    "df_final_grouped = df_filtered.groupby('place').agg({'rate': 'mean'}).reset_index()\n",
    "df_final_grouped\n",
    "\n",
    "df_final_grouped.to_csv('csv/location_rating.csv', index=False)"
   ]
  }
 ],
 "metadata": {
  "kernelspec": {
   "display_name": "Python 3",
   "language": "python",
   "name": "python3"
  },
  "language_info": {
   "codemirror_mode": {
    "name": "ipython",
    "version": 2
   },
   "file_extension": ".py",
   "mimetype": "text/x-python",
   "name": "python",
   "nbconvert_exporter": "python",
   "pygments_lexer": "ipython2",
   "version": "2.7.6"
  }
 },
 "nbformat": 4,
 "nbformat_minor": 0
}
