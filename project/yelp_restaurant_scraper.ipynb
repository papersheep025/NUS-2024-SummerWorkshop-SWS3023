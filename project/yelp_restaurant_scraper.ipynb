{
 "cells": [
  {
   "cell_type": "markdown",
   "source": [
    "Yelp scraper using Selenium"
   ],
   "metadata": {
    "collapsed": false
   }
  },
  {
   "cell_type": "code",
   "execution_count": 1,
   "metadata": {
    "collapsed": true
   },
   "outputs": [],
   "source": [
    "#load necessary libraries\n",
    "from selenium import webdriver\n",
    "import time\n",
    "import chromedriver_binary\n",
    "from selenium.webdriver.chrome.service import Service\n",
    "from selenium.webdriver.common.keys import Keys\n",
    "from selenium.webdriver.support.ui import WebDriverWait\n",
    "from selenium.webdriver.common.by import By\n",
    "from selenium.webdriver.support import expected_conditions as EC\n",
    "from selenium.webdriver.chrome.options import Options\n",
    "from selenium.common.exceptions import TimeoutException\n",
    "import pandas as pd\n",
    "import re"
   ]
  },
  {
   "cell_type": "code",
   "execution_count": 2,
   "outputs": [
    {
     "name": "stderr",
     "output_type": "stream",
     "text": [
      "The chromedriver version (128.0.6582.0) detected in PATH at C:\\Users\\22507\\anaconda3\\lib\\site-packages\\chromedriver_binary\\chromedriver.exe might not be compatible with the detected chrome version (126.0.6478.127); currently, chromedriver 126.0.6478.126 is recommended for chrome 126.*, so it is advised to delete the driver in PATH and retry\n"
     ]
    }
   ],
   "source": [
    "#disable build check to if latest version of Chrome is not supported\n",
    "service = Service(service_args=['--disable-build-check'])\n",
    "\n",
    "#open the window size to simulate mobile view\n",
    "options = webdriver.ChromeOptions()\n",
    "options.add_argument(\"window-size=600,800\")\n",
    "driver = webdriver.Chrome(service=service, options=options)\n"
   ],
   "metadata": {
    "collapsed": false
   }
  },
  {
   "cell_type": "markdown",
   "source": [
    "Click next page button to get more restaurant urls"
   ],
   "metadata": {
    "collapsed": false
   }
  },
  {
   "cell_type": "code",
   "execution_count": 3,
   "outputs": [],
   "source": [
    "def get_all_restaurants(url,num_pages):\n",
    "\n",
    "    driver.get(url)\n",
    "\n",
    "    restaurant_urls = []\n",
    "\n",
    "    try:\n",
    "        for i in range(num_pages):\n",
    "            WebDriverWait(driver, 10).until(\n",
    "                EC.presence_of_all_elements_located((By.CSS_SELECTOR, 'a.y-css-12ly5yx'))\n",
    "            )\n",
    "\n",
    "            restaurants = driver.find_elements(By.CSS_SELECTOR, 'a.y-css-12ly5yx')\n",
    "            urls = [restaurant.get_attribute('href') for restaurant in restaurants]\n",
    "            restaurant_urls.extend(urls)\n",
    "            restaurant_urls = list(set(restaurant_urls))\n",
    "\n",
    "            # find and click next page button\n",
    "            try:\n",
    "                load_next_page_button = WebDriverWait(driver, 10).until(\n",
    "                    EC.element_to_be_clickable((By.CSS_SELECTOR, 'button.pagination-button__09f24__kbFYf.y-css-1ewzev[data-button=\"true\"]'))\n",
    "                )\n",
    "\n",
    "                load_next_page_button.click()\n",
    "\n",
    "\n",
    "                print(f\"Page {i + 1}...\")\n",
    "                print(\"Clicked 'Next Page' button...Loading...\")\n",
    "\n",
    "                WebDriverWait(driver, 10).until(\n",
    "                    EC.invisibility_of_element_located((By.CSS_SELECTOR, 'button.pagination-button__09f24__kbFYf.y-css-1ewzev[data-button=\"false\"]'))\n",
    "                )\n",
    "                time.sleep(3)\n",
    "\n",
    "            except Exception as e:\n",
    "                print(f\"Next page button not found or an error occurred: {e}\")\n",
    "                break\n",
    "\n",
    "    except Exception as e:\n",
    "        print(f\"An error occurred: {e}\")\n",
    "\n",
    "    return restaurant_urls\n"
   ],
   "metadata": {
    "collapsed": false
   }
  },
  {
   "cell_type": "markdown",
   "source": [
    "Get detailed information"
   ],
   "metadata": {
    "collapsed": false
   }
  },
  {
   "cell_type": "code",
   "execution_count": 4,
   "outputs": [],
   "source": [
    "def get_restaurant_details(url):\n",
    "\n",
    "    driver.get(url)\n",
    "\n",
    "    #Restaurant Name\n",
    "    restaurant_name = \"\"\n",
    "\n",
    "    try:\n",
    "        restaurant_name = driver.find_element(By.CSS_SELECTOR, \"h1\")\n",
    "        restaurant_name = restaurant_name.text\n",
    "    except:\n",
    "        pass\n",
    "\n",
    "    #Overall Rating\n",
    "    overall_rating = \"\"\n",
    "    try:\n",
    "        overall_rating = driver.find_element(By.CSS_SELECTOR, \"span.y-css-kw85nd\")\n",
    "        overall_rating = overall_rating.text\n",
    "    except:\n",
    "        pass\n",
    "\n",
    "    #Review Number\n",
    "    review_number = \"\"\n",
    "    try:\n",
    "        reviews = driver.find_element(By.CSS_SELECTOR, \"span.y-css-loq5qn\")\n",
    "        reviews = reviews.text\n",
    "        match = re.search(r'\\d+', reviews)\n",
    "        review_number = match.group()\n",
    "    except:\n",
    "        pass\n",
    "\n",
    "    #Food Type\n",
    "    food_type = \"\"\n",
    "    try:\n",
    "        food_type = driver.find_element(By.CSS_SELECTOR, \"span.y-css-1w2z0ld\")\n",
    "        food_type = food_type.text\n",
    "    except:\n",
    "        pass\n",
    "\n",
    "    return (url, restaurant_name, overall_rating, review_number, food_type)\n"
   ],
   "metadata": {
    "collapsed": false
   }
  },
  {
   "cell_type": "markdown",
   "source": [
    "For example"
   ],
   "metadata": {
    "collapsed": false
   }
  },
  {
   "cell_type": "code",
   "execution_count": 5,
   "outputs": [],
   "source": [
    "# holy_crab_detail = get_restaurant_details(\"https://www.yelp.com/biz/holycrab-singapore?osq=Restaurants\")\n",
    "# holy_crab_detail"
   ],
   "metadata": {
    "collapsed": false
   }
  },
  {
   "cell_type": "markdown",
   "source": [
    "Combine restaurant urls and restaurant details into a list"
   ],
   "metadata": {
    "collapsed": false
   }
  },
  {
   "cell_type": "code",
   "execution_count": 6,
   "outputs": [
    {
     "name": "stdout",
     "output_type": "stream",
     "text": [
      "Page 1...\n",
      "Clicked 'Next Page' button...Loading...\n",
      "Page 2...\n",
      "Clicked 'Next Page' button...Loading...\n",
      "Page 3...\n",
      "Clicked 'Next Page' button...Loading...\n",
      "Page 4...\n",
      "Clicked 'Next Page' button...Loading...\n",
      "Page 5...\n",
      "Clicked 'Next Page' button...Loading...\n",
      "Page 6...\n",
      "Clicked 'Next Page' button...Loading...\n",
      "Page 7...\n",
      "Clicked 'Next Page' button...Loading...\n",
      "Page 8...\n",
      "Clicked 'Next Page' button...Loading...\n",
      "Page 9...\n",
      "Clicked 'Next Page' button...Loading...\n",
      "Page 10...\n",
      "Clicked 'Next Page' button...Loading...\n",
      "Page 11...\n",
      "Clicked 'Next Page' button...Loading...\n",
      "Page 12...\n",
      "Clicked 'Next Page' button...Loading...\n",
      "Page 13...\n",
      "Clicked 'Next Page' button...Loading...\n",
      "Page 14...\n",
      "Clicked 'Next Page' button...Loading...\n",
      "Page 15...\n",
      "Clicked 'Next Page' button...Loading...\n",
      "Page 16...\n",
      "Clicked 'Next Page' button...Loading...\n",
      "Page 17...\n",
      "Clicked 'Next Page' button...Loading...\n",
      "Page 18...\n",
      "Clicked 'Next Page' button...Loading...\n",
      "Page 19...\n",
      "Clicked 'Next Page' button...Loading...\n",
      "Page 20...\n",
      "Clicked 'Next Page' button...Loading...\n",
      "Page 21...\n",
      "Clicked 'Next Page' button...Loading...\n",
      "Page 22...\n",
      "Clicked 'Next Page' button...Loading...\n",
      "Page 23...\n",
      "Clicked 'Next Page' button...Loading...\n",
      "Next page button not found or an error occurred: Message: \n",
      "\n"
     ]
    }
   ],
   "source": [
    "#from page 1 to ...(max 24)\n",
    "restaurant_urls = get_all_restaurants(\"https://www.yelp.com/search?find_desc=Restaurants&find_loc=Singapore\",24)"
   ],
   "metadata": {
    "collapsed": false
   }
  },
  {
   "cell_type": "code",
   "execution_count": 7,
   "outputs": [],
   "source": [
    "restaurants = []\n",
    "\n",
    "for restaurant_url in restaurant_urls:\n",
    "    restaurant_detail = get_restaurant_details(restaurant_url)\n",
    "    restaurants.append(restaurant_detail)\n",
    "\n",
    "    time.sleep(0.5)"
   ],
   "metadata": {
    "collapsed": false
   }
  },
  {
   "cell_type": "code",
   "execution_count": 8,
   "outputs": [
    {
     "data": {
      "text/plain": "                                                   URL        Restaurant Name  \\\n0    https://www.yelp.com/biz/the-royals-steakhouse...  The Royals Steakhouse   \n1    https://www.yelp.com/biz/violet-oon-singapore?...             Violet Oon   \n2    https://www.yelp.com/biz/taste-of-morroco-sing...       Taste Of Morroco   \n3    https://www.yelp.com/biz/beach-road-kitchen-si...     Beach Road Kitchen   \n4    https://www.yelp.com/biz/treasures-yi-dian-xin...  Treasures Yi Dian Xin   \n..                                                 ...                    ...   \n235  https://www.yelp.com/biz/brunches-cafe-singapo...          Brunches Cafe   \n236  https://www.yelp.com/biz/ki-sho-singapore?osq=...                 Ki-sho   \n237  https://www.yelp.com/biz/happy-crab-singapore?...             Happy Crab   \n238  https://www.yelp.com/biz/jb-ah-meng-singapore?...             JB Ah Meng   \n239  https://www.yelp.com/biz/skirt-no-title?osq=Re...                  SKIRT   \n\n    Overall Rating Number of Reviews  \\\n0              4.5                 2   \n1              4.3                13   \n2              5.0                 1   \n3              4.6                17   \n4              4.7                 3   \n..             ...               ...   \n235            4.3                29   \n236            4.8                12   \n237            4.2                12   \n238            4.6                25   \n239            3.9                 9   \n\n                                      Food Type  \n0                            Halal, Steakhouses  \n1                  British, Hainan, Singaporean  \n2                                      Moroccan  \n3          Breakfast & Brunch, Chinese, Buffets  \n4                      Congee, Dim Sum, Noodles  \n..                                          ...  \n235  Coffee & Tea, Bakeries, Breakfast & Brunch  \n236                        Japanese, Sushi Bars  \n237                        Seafood, Singaporean  \n238                            Chinese, Seafood  \n239                        Seafood, Steakhouses  \n\n[240 rows x 5 columns]",
      "text/html": "<div>\n<style scoped>\n    .dataframe tbody tr th:only-of-type {\n        vertical-align: middle;\n    }\n\n    .dataframe tbody tr th {\n        vertical-align: top;\n    }\n\n    .dataframe thead th {\n        text-align: right;\n    }\n</style>\n<table border=\"1\" class=\"dataframe\">\n  <thead>\n    <tr style=\"text-align: right;\">\n      <th></th>\n      <th>URL</th>\n      <th>Restaurant Name</th>\n      <th>Overall Rating</th>\n      <th>Number of Reviews</th>\n      <th>Food Type</th>\n    </tr>\n  </thead>\n  <tbody>\n    <tr>\n      <th>0</th>\n      <td>https://www.yelp.com/biz/the-royals-steakhouse...</td>\n      <td>The Royals Steakhouse</td>\n      <td>4.5</td>\n      <td>2</td>\n      <td>Halal, Steakhouses</td>\n    </tr>\n    <tr>\n      <th>1</th>\n      <td>https://www.yelp.com/biz/violet-oon-singapore?...</td>\n      <td>Violet Oon</td>\n      <td>4.3</td>\n      <td>13</td>\n      <td>British, Hainan, Singaporean</td>\n    </tr>\n    <tr>\n      <th>2</th>\n      <td>https://www.yelp.com/biz/taste-of-morroco-sing...</td>\n      <td>Taste Of Morroco</td>\n      <td>5.0</td>\n      <td>1</td>\n      <td>Moroccan</td>\n    </tr>\n    <tr>\n      <th>3</th>\n      <td>https://www.yelp.com/biz/beach-road-kitchen-si...</td>\n      <td>Beach Road Kitchen</td>\n      <td>4.6</td>\n      <td>17</td>\n      <td>Breakfast &amp; Brunch, Chinese, Buffets</td>\n    </tr>\n    <tr>\n      <th>4</th>\n      <td>https://www.yelp.com/biz/treasures-yi-dian-xin...</td>\n      <td>Treasures Yi Dian Xin</td>\n      <td>4.7</td>\n      <td>3</td>\n      <td>Congee, Dim Sum, Noodles</td>\n    </tr>\n    <tr>\n      <th>...</th>\n      <td>...</td>\n      <td>...</td>\n      <td>...</td>\n      <td>...</td>\n      <td>...</td>\n    </tr>\n    <tr>\n      <th>235</th>\n      <td>https://www.yelp.com/biz/brunches-cafe-singapo...</td>\n      <td>Brunches Cafe</td>\n      <td>4.3</td>\n      <td>29</td>\n      <td>Coffee &amp; Tea, Bakeries, Breakfast &amp; Brunch</td>\n    </tr>\n    <tr>\n      <th>236</th>\n      <td>https://www.yelp.com/biz/ki-sho-singapore?osq=...</td>\n      <td>Ki-sho</td>\n      <td>4.8</td>\n      <td>12</td>\n      <td>Japanese, Sushi Bars</td>\n    </tr>\n    <tr>\n      <th>237</th>\n      <td>https://www.yelp.com/biz/happy-crab-singapore?...</td>\n      <td>Happy Crab</td>\n      <td>4.2</td>\n      <td>12</td>\n      <td>Seafood, Singaporean</td>\n    </tr>\n    <tr>\n      <th>238</th>\n      <td>https://www.yelp.com/biz/jb-ah-meng-singapore?...</td>\n      <td>JB Ah Meng</td>\n      <td>4.6</td>\n      <td>25</td>\n      <td>Chinese, Seafood</td>\n    </tr>\n    <tr>\n      <th>239</th>\n      <td>https://www.yelp.com/biz/skirt-no-title?osq=Re...</td>\n      <td>SKIRT</td>\n      <td>3.9</td>\n      <td>9</td>\n      <td>Seafood, Steakhouses</td>\n    </tr>\n  </tbody>\n</table>\n<p>240 rows × 5 columns</p>\n</div>"
     },
     "execution_count": 8,
     "metadata": {},
     "output_type": "execute_result"
    }
   ],
   "source": [
    "restaurants = pd.DataFrame(restaurants, columns=[\"URL\", \"Restaurant Name\", \"Overall Rating\", \"Number of Reviews\", \"Food Type\"])\n",
    "restaurants"
   ],
   "metadata": {
    "collapsed": false
   }
  },
  {
   "cell_type": "code",
   "execution_count": 9,
   "outputs": [
    {
     "name": "stdout",
     "output_type": "stream",
     "text": [
      "CSV file saved at: C:/Users/22507/Desktop/NUS/project/restaurants.csv\n"
     ]
    }
   ],
   "source": [
    "csv_file_path = 'C:/Users/22507/Desktop/NUS/project/restaurants.csv'\n",
    "restaurants.to_csv(csv_file_path, index=False, encoding='utf-8')\n",
    "\n",
    "print(f\"CSV file saved at: {csv_file_path}\")"
   ],
   "metadata": {
    "collapsed": false
   }
  },
  {
   "cell_type": "code",
   "execution_count": 10,
   "outputs": [],
   "source": [
    "driver.quit()"
   ],
   "metadata": {
    "collapsed": false
   }
  }
 ],
 "metadata": {
  "kernelspec": {
   "display_name": "Python 3",
   "language": "python",
   "name": "python3"
  },
  "language_info": {
   "codemirror_mode": {
    "name": "ipython",
    "version": 2
   },
   "file_extension": ".py",
   "mimetype": "text/x-python",
   "name": "python",
   "nbconvert_exporter": "python",
   "pygments_lexer": "ipython2",
   "version": "2.7.6"
  }
 },
 "nbformat": 4,
 "nbformat_minor": 0
}
