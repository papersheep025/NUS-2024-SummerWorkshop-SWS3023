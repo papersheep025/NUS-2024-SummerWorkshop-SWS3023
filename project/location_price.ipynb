{
 "cells": [
  {
   "cell_type": "code",
   "execution_count": 1,
   "metadata": {
    "collapsed": true
   },
   "outputs": [
    {
     "name": "stderr",
     "output_type": "stream",
     "text": [
      "C:\\Users\\22507\\AppData\\Local\\Temp\\ipykernel_16304\\1717056774.py:24: SettingWithCopyWarning: \n",
      "A value is trying to be set on a copy of a slice from a DataFrame.\n",
      "Try using .loc[row_indexer,col_indexer] = value instead\n",
      "\n",
      "See the caveats in the documentation: https://pandas.pydata.org/pandas-docs/stable/user_guide/indexing.html#returning-a-view-versus-a-copy\n",
      "  df_filtered['price_type'] = df_filtered['price_type'].apply(replace_price)\n"
     ]
    }
   ],
   "source": [
    "import pandas as pd\n",
    "import numpy as np\n",
    "\n",
    "df = pd.read_csv('csv/Tripadvisor_restaurant.csv', encoding='utf-8')\n",
    "\n",
    "missing_values = ['None', 'null', 'N/A', '']\n",
    "df = df.replace(missing_values, np.nan)\n",
    "df = df.dropna()\n",
    "\n",
    "columns_to_keep = ['place','price_type']\n",
    "df_filtered = df[columns_to_keep]\n",
    "df_filtered['price_type'].astype(str)\n",
    "\n",
    "def replace_price(price):\n",
    "    # 确保 price 是字符串类型\n",
    "    if isinstance(price, str):\n",
    "        if '¥¥ - ¥¥¥' in price:\n",
    "            return 2\n",
    "        elif '¥¥¥¥' in price:\n",
    "            return 3\n",
    "        elif '¥' in price:\n",
    "            return 1\n",
    "    return price\n",
    "df_filtered['price_type'] = df_filtered['price_type'].apply(replace_price)\n",
    "\n",
    "df_final_grouped = df_filtered.groupby('place').agg({'price_type': 'mean'}).reset_index()\n",
    "df_final_grouped\n",
    "\n",
    "df_final_grouped.to_csv('csv/location_price.csv', index=False)"
   ]
  },
  {
   "cell_type": "code",
   "execution_count": 68,
   "outputs": [
    {
     "data": {
      "text/plain": "               place  price_type\n0             Bishan    1.750000\n1           Crawford    1.769231\n2            Frankel    2.000000\n3            Hougang    2.000000\n4    Maritime Square    2.093750\n5            Maxwell    1.666667\n6             Novena    1.807692\n7          Serangoon    1.916667\n8                三巴旺    2.000000\n9                 东陵    2.142857\n10             中区/城区    2.144262\n11              丹戎巴葛    2.200000\n12            亚历山德拉山    1.800000\n13                加冷    2.000000\n14               劳明达    2.000000\n15                勿洛    2.000000\n16               勿洛北    2.000000\n17               圣淘沙    2.285714\n18               大巴窑    2.000000\n19               宏茂桥    2.000000\n20            宏茂桥镇中心    2.000000\n21              政府大厦    2.166667\n22              新加坡河    2.117647\n23                榜鹅    2.000000\n24                樟宜    1.933333\n25                欧南    1.000000\n26              武吉巴督    2.000000\n27              武吉班让    2.000000\n28              武吉知马    1.930233\n29              淡滨尼东    1.800000\n30              淡滨尼西    2.000000\n31              滨海广场    2.290323\n32                盛港    2.000000\n33  红山 (Bukit Merah)    2.035714\n34                芽笼    1.900000\n35            裕廊区域中心    2.100000\n36               裕廊西    1.000000\n37             裕廊西中央    1.800000\n38             金文泰中央    2.000000\n39              阿拉伯街    1.948718\n40              马林百列    1.939394",
      "text/html": "<div>\n<style scoped>\n    .dataframe tbody tr th:only-of-type {\n        vertical-align: middle;\n    }\n\n    .dataframe tbody tr th {\n        vertical-align: top;\n    }\n\n    .dataframe thead th {\n        text-align: right;\n    }\n</style>\n<table border=\"1\" class=\"dataframe\">\n  <thead>\n    <tr style=\"text-align: right;\">\n      <th></th>\n      <th>place</th>\n      <th>price_type</th>\n    </tr>\n  </thead>\n  <tbody>\n    <tr>\n      <th>0</th>\n      <td>Bishan</td>\n      <td>1.750000</td>\n    </tr>\n    <tr>\n      <th>1</th>\n      <td>Crawford</td>\n      <td>1.769231</td>\n    </tr>\n    <tr>\n      <th>2</th>\n      <td>Frankel</td>\n      <td>2.000000</td>\n    </tr>\n    <tr>\n      <th>3</th>\n      <td>Hougang</td>\n      <td>2.000000</td>\n    </tr>\n    <tr>\n      <th>4</th>\n      <td>Maritime Square</td>\n      <td>2.093750</td>\n    </tr>\n    <tr>\n      <th>5</th>\n      <td>Maxwell</td>\n      <td>1.666667</td>\n    </tr>\n    <tr>\n      <th>6</th>\n      <td>Novena</td>\n      <td>1.807692</td>\n    </tr>\n    <tr>\n      <th>7</th>\n      <td>Serangoon</td>\n      <td>1.916667</td>\n    </tr>\n    <tr>\n      <th>8</th>\n      <td>三巴旺</td>\n      <td>2.000000</td>\n    </tr>\n    <tr>\n      <th>9</th>\n      <td>东陵</td>\n      <td>2.142857</td>\n    </tr>\n    <tr>\n      <th>10</th>\n      <td>中区/城区</td>\n      <td>2.144262</td>\n    </tr>\n    <tr>\n      <th>11</th>\n      <td>丹戎巴葛</td>\n      <td>2.200000</td>\n    </tr>\n    <tr>\n      <th>12</th>\n      <td>亚历山德拉山</td>\n      <td>1.800000</td>\n    </tr>\n    <tr>\n      <th>13</th>\n      <td>加冷</td>\n      <td>2.000000</td>\n    </tr>\n    <tr>\n      <th>14</th>\n      <td>劳明达</td>\n      <td>2.000000</td>\n    </tr>\n    <tr>\n      <th>15</th>\n      <td>勿洛</td>\n      <td>2.000000</td>\n    </tr>\n    <tr>\n      <th>16</th>\n      <td>勿洛北</td>\n      <td>2.000000</td>\n    </tr>\n    <tr>\n      <th>17</th>\n      <td>圣淘沙</td>\n      <td>2.285714</td>\n    </tr>\n    <tr>\n      <th>18</th>\n      <td>大巴窑</td>\n      <td>2.000000</td>\n    </tr>\n    <tr>\n      <th>19</th>\n      <td>宏茂桥</td>\n      <td>2.000000</td>\n    </tr>\n    <tr>\n      <th>20</th>\n      <td>宏茂桥镇中心</td>\n      <td>2.000000</td>\n    </tr>\n    <tr>\n      <th>21</th>\n      <td>政府大厦</td>\n      <td>2.166667</td>\n    </tr>\n    <tr>\n      <th>22</th>\n      <td>新加坡河</td>\n      <td>2.117647</td>\n    </tr>\n    <tr>\n      <th>23</th>\n      <td>榜鹅</td>\n      <td>2.000000</td>\n    </tr>\n    <tr>\n      <th>24</th>\n      <td>樟宜</td>\n      <td>1.933333</td>\n    </tr>\n    <tr>\n      <th>25</th>\n      <td>欧南</td>\n      <td>1.000000</td>\n    </tr>\n    <tr>\n      <th>26</th>\n      <td>武吉巴督</td>\n      <td>2.000000</td>\n    </tr>\n    <tr>\n      <th>27</th>\n      <td>武吉班让</td>\n      <td>2.000000</td>\n    </tr>\n    <tr>\n      <th>28</th>\n      <td>武吉知马</td>\n      <td>1.930233</td>\n    </tr>\n    <tr>\n      <th>29</th>\n      <td>淡滨尼东</td>\n      <td>1.800000</td>\n    </tr>\n    <tr>\n      <th>30</th>\n      <td>淡滨尼西</td>\n      <td>2.000000</td>\n    </tr>\n    <tr>\n      <th>31</th>\n      <td>滨海广场</td>\n      <td>2.290323</td>\n    </tr>\n    <tr>\n      <th>32</th>\n      <td>盛港</td>\n      <td>2.000000</td>\n    </tr>\n    <tr>\n      <th>33</th>\n      <td>红山 (Bukit Merah)</td>\n      <td>2.035714</td>\n    </tr>\n    <tr>\n      <th>34</th>\n      <td>芽笼</td>\n      <td>1.900000</td>\n    </tr>\n    <tr>\n      <th>35</th>\n      <td>裕廊区域中心</td>\n      <td>2.100000</td>\n    </tr>\n    <tr>\n      <th>36</th>\n      <td>裕廊西</td>\n      <td>1.000000</td>\n    </tr>\n    <tr>\n      <th>37</th>\n      <td>裕廊西中央</td>\n      <td>1.800000</td>\n    </tr>\n    <tr>\n      <th>38</th>\n      <td>金文泰中央</td>\n      <td>2.000000</td>\n    </tr>\n    <tr>\n      <th>39</th>\n      <td>阿拉伯街</td>\n      <td>1.948718</td>\n    </tr>\n    <tr>\n      <th>40</th>\n      <td>马林百列</td>\n      <td>1.939394</td>\n    </tr>\n  </tbody>\n</table>\n</div>"
     },
     "execution_count": 68,
     "metadata": {},
     "output_type": "execute_result"
    }
   ],
   "source": [
    "df_final_grouped"
   ],
   "metadata": {
    "collapsed": false
   }
  },
  {
   "cell_type": "code",
   "execution_count": 54,
   "outputs": [
    {
     "data": {
      "text/plain": "                place price_type\n0               中区/城区   ¥¥ - ¥¥¥\n2               中区/城区       ¥¥¥¥\n3            Crawford   ¥¥ - ¥¥¥\n5    红山 (Bukit Merah)          ¥\n6    红山 (Bukit Merah)   ¥¥ - ¥¥¥\n..                ...        ...\n359             中区/城区   ¥¥ - ¥¥¥\n394              马林百列          ¥\n441                芽笼          ¥\n479               勿洛北          ¥\n484                樟宜          ¥\n\n[83 rows x 2 columns]",
      "text/html": "<div>\n<style scoped>\n    .dataframe tbody tr th:only-of-type {\n        vertical-align: middle;\n    }\n\n    .dataframe tbody tr th {\n        vertical-align: top;\n    }\n\n    .dataframe thead th {\n        text-align: right;\n    }\n</style>\n<table border=\"1\" class=\"dataframe\">\n  <thead>\n    <tr style=\"text-align: right;\">\n      <th></th>\n      <th>place</th>\n      <th>price_type</th>\n    </tr>\n  </thead>\n  <tbody>\n    <tr>\n      <th>0</th>\n      <td>中区/城区</td>\n      <td>¥¥ - ¥¥¥</td>\n    </tr>\n    <tr>\n      <th>2</th>\n      <td>中区/城区</td>\n      <td>¥¥¥¥</td>\n    </tr>\n    <tr>\n      <th>3</th>\n      <td>Crawford</td>\n      <td>¥¥ - ¥¥¥</td>\n    </tr>\n    <tr>\n      <th>5</th>\n      <td>红山 (Bukit Merah)</td>\n      <td>¥</td>\n    </tr>\n    <tr>\n      <th>6</th>\n      <td>红山 (Bukit Merah)</td>\n      <td>¥¥ - ¥¥¥</td>\n    </tr>\n    <tr>\n      <th>...</th>\n      <td>...</td>\n      <td>...</td>\n    </tr>\n    <tr>\n      <th>359</th>\n      <td>中区/城区</td>\n      <td>¥¥ - ¥¥¥</td>\n    </tr>\n    <tr>\n      <th>394</th>\n      <td>马林百列</td>\n      <td>¥</td>\n    </tr>\n    <tr>\n      <th>441</th>\n      <td>芽笼</td>\n      <td>¥</td>\n    </tr>\n    <tr>\n      <th>479</th>\n      <td>勿洛北</td>\n      <td>¥</td>\n    </tr>\n    <tr>\n      <th>484</th>\n      <td>樟宜</td>\n      <td>¥</td>\n    </tr>\n  </tbody>\n</table>\n<p>83 rows × 2 columns</p>\n</div>"
     },
     "execution_count": 54,
     "metadata": {},
     "output_type": "execute_result"
    }
   ],
   "source": [
    "columns_to_keep = ['place','price_type']\n",
    "df_filtered = df[columns_to_keep]\n",
    "df_filtered['price_type'].astype(str)\n",
    "\n",
    "df_filtered"
   ],
   "metadata": {
    "collapsed": false
   }
  },
  {
   "cell_type": "code",
   "execution_count": 55,
   "outputs": [
    {
     "name": "stderr",
     "output_type": "stream",
     "text": [
      "C:\\Users\\22507\\AppData\\Local\\Temp\\ipykernel_35704\\2688295598.py:13: SettingWithCopyWarning: \n",
      "A value is trying to be set on a copy of a slice from a DataFrame.\n",
      "Try using .loc[row_indexer,col_indexer] = value instead\n",
      "\n",
      "See the caveats in the documentation: https://pandas.pydata.org/pandas-docs/stable/user_guide/indexing.html#returning-a-view-versus-a-copy\n",
      "  df_filtered['price_type'] = df_filtered['price_type'].apply(replace_price)\n"
     ]
    },
    {
     "data": {
      "text/plain": "                place  price_type\n0               中区/城区           3\n2               中区/城区           4\n3            Crawford           3\n5    红山 (Bukit Merah)           1\n6    红山 (Bukit Merah)           3\n..                ...         ...\n359             中区/城区           3\n394              马林百列           1\n441                芽笼           1\n479               勿洛北           1\n484                樟宜           1\n\n[83 rows x 2 columns]",
      "text/html": "<div>\n<style scoped>\n    .dataframe tbody tr th:only-of-type {\n        vertical-align: middle;\n    }\n\n    .dataframe tbody tr th {\n        vertical-align: top;\n    }\n\n    .dataframe thead th {\n        text-align: right;\n    }\n</style>\n<table border=\"1\" class=\"dataframe\">\n  <thead>\n    <tr style=\"text-align: right;\">\n      <th></th>\n      <th>place</th>\n      <th>price_type</th>\n    </tr>\n  </thead>\n  <tbody>\n    <tr>\n      <th>0</th>\n      <td>中区/城区</td>\n      <td>3</td>\n    </tr>\n    <tr>\n      <th>2</th>\n      <td>中区/城区</td>\n      <td>4</td>\n    </tr>\n    <tr>\n      <th>3</th>\n      <td>Crawford</td>\n      <td>3</td>\n    </tr>\n    <tr>\n      <th>5</th>\n      <td>红山 (Bukit Merah)</td>\n      <td>1</td>\n    </tr>\n    <tr>\n      <th>6</th>\n      <td>红山 (Bukit Merah)</td>\n      <td>3</td>\n    </tr>\n    <tr>\n      <th>...</th>\n      <td>...</td>\n      <td>...</td>\n    </tr>\n    <tr>\n      <th>359</th>\n      <td>中区/城区</td>\n      <td>3</td>\n    </tr>\n    <tr>\n      <th>394</th>\n      <td>马林百列</td>\n      <td>1</td>\n    </tr>\n    <tr>\n      <th>441</th>\n      <td>芽笼</td>\n      <td>1</td>\n    </tr>\n    <tr>\n      <th>479</th>\n      <td>勿洛北</td>\n      <td>1</td>\n    </tr>\n    <tr>\n      <th>484</th>\n      <td>樟宜</td>\n      <td>1</td>\n    </tr>\n  </tbody>\n</table>\n<p>83 rows × 2 columns</p>\n</div>"
     },
     "execution_count": 55,
     "metadata": {},
     "output_type": "execute_result"
    }
   ],
   "source": [
    "def replace_price(price):\n",
    "    # 确保 price 是字符串类型\n",
    "    if isinstance(price, str):\n",
    "        if '¥¥ - ¥¥¥' in price:\n",
    "            return 3\n",
    "        elif '¥¥¥¥' in price:\n",
    "            return 4\n",
    "        elif '¥' in price:\n",
    "            return 1\n",
    "    return price\n",
    "\n",
    "df_filtered['price_type'] = df_filtered['price_type'].apply(replace_price)\n",
    "\n",
    "df_filtered"
   ],
   "metadata": {
    "collapsed": false
   }
  },
  {
   "cell_type": "code",
   "execution_count": 56,
   "outputs": [
    {
     "data": {
      "text/plain": "               place  price_type\n0           Crawford    3.000000\n1            Frankel    2.000000\n2    Maritime Square    1.000000\n3            Maxwell    1.000000\n4             Novena    1.000000\n5          Serangoon    1.000000\n6              中区/城区    1.948718\n7                劳明达    3.000000\n8                勿洛北    1.000000\n9                圣淘沙    3.000000\n10               大巴窑    1.000000\n11              政府大厦    3.000000\n12              新加坡河    2.000000\n13                樟宜    2.428571\n14              武吉知马    3.000000\n15              滨海广场    1.000000\n16  红山 (Bukit Merah)    2.333333\n17                芽笼    1.000000\n18              阿拉伯街    1.000000\n19              马林百列    1.000000",
      "text/html": "<div>\n<style scoped>\n    .dataframe tbody tr th:only-of-type {\n        vertical-align: middle;\n    }\n\n    .dataframe tbody tr th {\n        vertical-align: top;\n    }\n\n    .dataframe thead th {\n        text-align: right;\n    }\n</style>\n<table border=\"1\" class=\"dataframe\">\n  <thead>\n    <tr style=\"text-align: right;\">\n      <th></th>\n      <th>place</th>\n      <th>price_type</th>\n    </tr>\n  </thead>\n  <tbody>\n    <tr>\n      <th>0</th>\n      <td>Crawford</td>\n      <td>3.000000</td>\n    </tr>\n    <tr>\n      <th>1</th>\n      <td>Frankel</td>\n      <td>2.000000</td>\n    </tr>\n    <tr>\n      <th>2</th>\n      <td>Maritime Square</td>\n      <td>1.000000</td>\n    </tr>\n    <tr>\n      <th>3</th>\n      <td>Maxwell</td>\n      <td>1.000000</td>\n    </tr>\n    <tr>\n      <th>4</th>\n      <td>Novena</td>\n      <td>1.000000</td>\n    </tr>\n    <tr>\n      <th>5</th>\n      <td>Serangoon</td>\n      <td>1.000000</td>\n    </tr>\n    <tr>\n      <th>6</th>\n      <td>中区/城区</td>\n      <td>1.948718</td>\n    </tr>\n    <tr>\n      <th>7</th>\n      <td>劳明达</td>\n      <td>3.000000</td>\n    </tr>\n    <tr>\n      <th>8</th>\n      <td>勿洛北</td>\n      <td>1.000000</td>\n    </tr>\n    <tr>\n      <th>9</th>\n      <td>圣淘沙</td>\n      <td>3.000000</td>\n    </tr>\n    <tr>\n      <th>10</th>\n      <td>大巴窑</td>\n      <td>1.000000</td>\n    </tr>\n    <tr>\n      <th>11</th>\n      <td>政府大厦</td>\n      <td>3.000000</td>\n    </tr>\n    <tr>\n      <th>12</th>\n      <td>新加坡河</td>\n      <td>2.000000</td>\n    </tr>\n    <tr>\n      <th>13</th>\n      <td>樟宜</td>\n      <td>2.428571</td>\n    </tr>\n    <tr>\n      <th>14</th>\n      <td>武吉知马</td>\n      <td>3.000000</td>\n    </tr>\n    <tr>\n      <th>15</th>\n      <td>滨海广场</td>\n      <td>1.000000</td>\n    </tr>\n    <tr>\n      <th>16</th>\n      <td>红山 (Bukit Merah)</td>\n      <td>2.333333</td>\n    </tr>\n    <tr>\n      <th>17</th>\n      <td>芽笼</td>\n      <td>1.000000</td>\n    </tr>\n    <tr>\n      <th>18</th>\n      <td>阿拉伯街</td>\n      <td>1.000000</td>\n    </tr>\n    <tr>\n      <th>19</th>\n      <td>马林百列</td>\n      <td>1.000000</td>\n    </tr>\n  </tbody>\n</table>\n</div>"
     },
     "execution_count": 56,
     "metadata": {},
     "output_type": "execute_result"
    }
   ],
   "source": [
    "df_final_grouped = df_filtered.groupby('place').agg({\n",
    "    'price_type': 'mean'\n",
    "}).reset_index()\n",
    "df_final_grouped"
   ],
   "metadata": {
    "collapsed": false
   }
  }
 ],
 "metadata": {
  "kernelspec": {
   "display_name": "Python 3",
   "language": "python",
   "name": "python3"
  },
  "language_info": {
   "codemirror_mode": {
    "name": "ipython",
    "version": 2
   },
   "file_extension": ".py",
   "mimetype": "text/x-python",
   "name": "python",
   "nbconvert_exporter": "python",
   "pygments_lexer": "ipython2",
   "version": "2.7.6"
  }
 },
 "nbformat": 4,
 "nbformat_minor": 0
}
