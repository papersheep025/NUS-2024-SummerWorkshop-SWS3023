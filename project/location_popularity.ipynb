{
 "cells": [
  {
   "cell_type": "code",
   "execution_count": 1,
   "metadata": {
    "collapsed": true
   },
   "outputs": [
    {
     "data": {
      "text/plain": "        place  comment_num\n0     Frankel        548.0\n1       中区/城区       1839.0\n2       中区/城区        712.0\n4       中区/城区        120.0\n5       中区/城区        804.0\n...       ...          ...\n8500     新加坡河        118.0\n8517    中区/城区         74.0\n8524     阿拉伯街         23.0\n8548    中区/城区        526.0\n8549     新加坡河        143.0\n\n[1235 rows x 2 columns]",
      "text/html": "<div>\n<style scoped>\n    .dataframe tbody tr th:only-of-type {\n        vertical-align: middle;\n    }\n\n    .dataframe tbody tr th {\n        vertical-align: top;\n    }\n\n    .dataframe thead th {\n        text-align: right;\n    }\n</style>\n<table border=\"1\" class=\"dataframe\">\n  <thead>\n    <tr style=\"text-align: right;\">\n      <th></th>\n      <th>place</th>\n      <th>comment_num</th>\n    </tr>\n  </thead>\n  <tbody>\n    <tr>\n      <th>0</th>\n      <td>Frankel</td>\n      <td>548.0</td>\n    </tr>\n    <tr>\n      <th>1</th>\n      <td>中区/城区</td>\n      <td>1839.0</td>\n    </tr>\n    <tr>\n      <th>2</th>\n      <td>中区/城区</td>\n      <td>712.0</td>\n    </tr>\n    <tr>\n      <th>4</th>\n      <td>中区/城区</td>\n      <td>120.0</td>\n    </tr>\n    <tr>\n      <th>5</th>\n      <td>中区/城区</td>\n      <td>804.0</td>\n    </tr>\n    <tr>\n      <th>...</th>\n      <td>...</td>\n      <td>...</td>\n    </tr>\n    <tr>\n      <th>8500</th>\n      <td>新加坡河</td>\n      <td>118.0</td>\n    </tr>\n    <tr>\n      <th>8517</th>\n      <td>中区/城区</td>\n      <td>74.0</td>\n    </tr>\n    <tr>\n      <th>8524</th>\n      <td>阿拉伯街</td>\n      <td>23.0</td>\n    </tr>\n    <tr>\n      <th>8548</th>\n      <td>中区/城区</td>\n      <td>526.0</td>\n    </tr>\n    <tr>\n      <th>8549</th>\n      <td>新加坡河</td>\n      <td>143.0</td>\n    </tr>\n  </tbody>\n</table>\n<p>1235 rows × 2 columns</p>\n</div>"
     },
     "execution_count": 1,
     "metadata": {},
     "output_type": "execute_result"
    }
   ],
   "source": [
    "import pandas as pd\n",
    "import numpy as np\n",
    "\n",
    "df = pd.read_csv('csv/Tripadvisor_restaurant.csv', encoding='utf-8')\n",
    "\n",
    "missing_values = ['None', 'null', 'N/A', '']\n",
    "df = df.replace(missing_values, np.nan)\n",
    "df = df.dropna()\n",
    "\n",
    "columns_to_keep = ['place','comment_num']\n",
    "df_filtered = df[columns_to_keep]\n",
    "df_filtered['comment_num'].astype(str)\n",
    "df_filtered\n"
   ]
  },
  {
   "cell_type": "code",
   "execution_count": 3,
   "outputs": [],
   "source": [
    "df_final_grouped = df_filtered.groupby('place').agg({'comment_num': 'mean'}).reset_index()\n",
    "df_final_grouped\n",
    "df_final_grouped.to_csv('csv/location_popularity.csv', index=False)"
   ],
   "metadata": {
    "collapsed": false
   }
  },
  {
   "cell_type": "code",
   "execution_count": null,
   "outputs": [],
   "source": [
    "def replace_price(price):\n",
    "    # 确保 price 是字符串类型\n",
    "    if isinstance(price, str):\n",
    "        if '¥¥ - ¥¥¥' in price:\n",
    "            return 2\n",
    "        elif '¥¥¥¥' in price:\n",
    "            return 3\n",
    "        elif '¥' in price:\n",
    "            return 1\n",
    "    return price\n",
    "df_filtered['price_type'] = df_filtered['price_type'].apply(replace_price)\n",
    "\n",
    "df_final_grouped = df_filtered.groupby('place').agg({'price_type': 'mean'}).reset_index()\n",
    "df_final_grouped\n",
    "\n",
    "df_final_grouped.to_csv('csv/location_price.csv', index=False)"
   ],
   "metadata": {
    "collapsed": false
   }
  }
 ],
 "metadata": {
  "kernelspec": {
   "display_name": "Python 3",
   "language": "python",
   "name": "python3"
  },
  "language_info": {
   "codemirror_mode": {
    "name": "ipython",
    "version": 2
   },
   "file_extension": ".py",
   "mimetype": "text/x-python",
   "name": "python",
   "nbconvert_exporter": "python",
   "pygments_lexer": "ipython2",
   "version": "2.7.6"
  }
 },
 "nbformat": 4,
 "nbformat_minor": 0
}
