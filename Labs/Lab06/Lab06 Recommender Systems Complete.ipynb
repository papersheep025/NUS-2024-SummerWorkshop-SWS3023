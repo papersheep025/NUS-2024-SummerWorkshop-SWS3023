{
 "cells": [
  {
   "cell_type": "code",
   "execution_count": 42,
   "metadata": {},
   "outputs": [],
   "source": [
    "import pandas as pd\n"
   ]
  },
  {
   "cell_type": "markdown",
   "metadata": {},
   "source": [
    "## Simple recommendations based on counts"
   ]
  },
  {
   "cell_type": "code",
   "execution_count": 43,
   "metadata": {},
   "outputs": [
    {
     "data": {
      "text/plain": "     placeID   latitude   longitude  \\\n0     134999  18.915421  -99.184871   \n1     132825  22.147392 -100.983092   \n2     135106  22.149709 -100.976093   \n3     132667  23.752697  -99.163359   \n4     132613  23.752903  -99.165076   \n..       ...        ...         ...   \n125   132866  22.141220 -100.931311   \n126   135072  22.149192 -101.002936   \n127   135109  18.921785  -99.235350   \n128   135019  18.875011  -99.159422   \n129   132877  22.135364 -100.934948   \n\n                                        the_geom_meter  \\\n0    0101000020957F000088568DE356715AC138C0A525FC46...   \n1    0101000020957F00001AD016568C4858C1243261274BA5...   \n2    0101000020957F0000649D6F21634858C119AE9BF528A3...   \n3    0101000020957F00005D67BCDDED8157C1222A2DC8D84D...   \n4    0101000020957F00008EBA2D06DC8157C194E03B7B504E...   \n..                                                 ...   \n125  0101000020957F000013871838EC4A58C1B5DF74F8E396...   \n126  0101000020957F0000E7B79B1DB94758C1D29BC363D8AA...   \n127  0101000020957F0000A6BF695F136F5AC1DADF87B20556...   \n128  0101000020957F0000B49B2E5C6E785AC12F9D58435241...   \n129  0101000020957F000090735015B84B58C1AF0DC0414698...   \n\n                               name  \\\n0                   Kiku Cuernavaca   \n1                   puesto de tacos   \n2        El Rincón de San Francisco   \n3    little pizza Emilio Portes Gil   \n4                     carnitas_mata   \n..                              ...   \n125                         Chaires   \n126                      Sushi Itto   \n127                       Paniroles   \n128     Restaurant Bar Coty y Pablo   \n129                sirloin stockade   \n\n                                             address             city  \\\n0                                         Revolucion       Cuernavaca   \n1             esquina santos degollado y leon guzman           s.l.p.   \n2                                    Universidad 169  San Luis Potosi   \n3                            calle emilio portes gil        victoria    \n4                             lic. Emilio portes gil         victoria   \n..                                               ...              ...   \n125                                 Ricardo B. Anaya  San Luis Potosi   \n126               Venustiano Carranza 1809 C Polanco  San Luis Potosi   \n127                                                ?                ?   \n128  Paseo de Las Fuentes 24 Pedregal de Las Fuentes         Jiutepec   \n129                                                ?                ?   \n\n               state country fax  ...            alcohol   smoking_area  \\\n0            Morelos  Mexico   ?  ...  No_Alcohol_Served           none   \n1             s.l.p.  mexico   ?  ...  No_Alcohol_Served           none   \n2    San Luis Potosi  Mexico   ?  ...          Wine-Beer    only at bar   \n3         tamaulipas       ?   ?  ...  No_Alcohol_Served           none   \n4         Tamaulipas  Mexico   ?  ...  No_Alcohol_Served      permitted   \n..               ...     ...  ..  ...                ...            ...   \n125  San Luis Potosi  Mexico   ?  ...  No_Alcohol_Served  not permitted   \n126              SLP  Mexico   ?  ...  No_Alcohol_Served           none   \n127                ?       ?   ?  ...          Wine-Beer  not permitted   \n128          Morelos  Mexico   ?  ...  No_Alcohol_Served           none   \n129                ?       ?   ?  ...  No_Alcohol_Served           none   \n\n    dress_code     accessibility   price                    url Rambience  \\\n0     informal  no_accessibility  medium  kikucuernavaca.com.mx  familiar   \n1     informal        completely     low                      ?  familiar   \n2     informal         partially  medium                      ?  familiar   \n3     informal        completely     low                      ?  familiar   \n4     informal        completely  medium                      ?  familiar   \n..         ...               ...     ...                    ...       ...   \n125   informal        completely  medium                      ?  familiar   \n126   informal  no_accessibility  medium      sushi-itto.com.mx  familiar   \n127   informal  no_accessibility  medium                      ?     quiet   \n128   informal        completely     low                      ?  familiar   \n129   informal        completely     low                      ?  familiar   \n\n    franchise    area other_services  \n0           f  closed           none  \n1           f    open           none  \n2           f    open           none  \n3           t  closed           none  \n4           t  closed           none  \n..        ...     ...            ...  \n125         f  closed           none  \n126         f  closed           none  \n127         f  closed       Internet  \n128         f  closed           none  \n129         f  closed           none  \n\n[130 rows x 21 columns]",
      "text/html": "<div>\n<style scoped>\n    .dataframe tbody tr th:only-of-type {\n        vertical-align: middle;\n    }\n\n    .dataframe tbody tr th {\n        vertical-align: top;\n    }\n\n    .dataframe thead th {\n        text-align: right;\n    }\n</style>\n<table border=\"1\" class=\"dataframe\">\n  <thead>\n    <tr style=\"text-align: right;\">\n      <th></th>\n      <th>placeID</th>\n      <th>latitude</th>\n      <th>longitude</th>\n      <th>the_geom_meter</th>\n      <th>name</th>\n      <th>address</th>\n      <th>city</th>\n      <th>state</th>\n      <th>country</th>\n      <th>fax</th>\n      <th>...</th>\n      <th>alcohol</th>\n      <th>smoking_area</th>\n      <th>dress_code</th>\n      <th>accessibility</th>\n      <th>price</th>\n      <th>url</th>\n      <th>Rambience</th>\n      <th>franchise</th>\n      <th>area</th>\n      <th>other_services</th>\n    </tr>\n  </thead>\n  <tbody>\n    <tr>\n      <th>0</th>\n      <td>134999</td>\n      <td>18.915421</td>\n      <td>-99.184871</td>\n      <td>0101000020957F000088568DE356715AC138C0A525FC46...</td>\n      <td>Kiku Cuernavaca</td>\n      <td>Revolucion</td>\n      <td>Cuernavaca</td>\n      <td>Morelos</td>\n      <td>Mexico</td>\n      <td>?</td>\n      <td>...</td>\n      <td>No_Alcohol_Served</td>\n      <td>none</td>\n      <td>informal</td>\n      <td>no_accessibility</td>\n      <td>medium</td>\n      <td>kikucuernavaca.com.mx</td>\n      <td>familiar</td>\n      <td>f</td>\n      <td>closed</td>\n      <td>none</td>\n    </tr>\n    <tr>\n      <th>1</th>\n      <td>132825</td>\n      <td>22.147392</td>\n      <td>-100.983092</td>\n      <td>0101000020957F00001AD016568C4858C1243261274BA5...</td>\n      <td>puesto de tacos</td>\n      <td>esquina santos degollado y leon guzman</td>\n      <td>s.l.p.</td>\n      <td>s.l.p.</td>\n      <td>mexico</td>\n      <td>?</td>\n      <td>...</td>\n      <td>No_Alcohol_Served</td>\n      <td>none</td>\n      <td>informal</td>\n      <td>completely</td>\n      <td>low</td>\n      <td>?</td>\n      <td>familiar</td>\n      <td>f</td>\n      <td>open</td>\n      <td>none</td>\n    </tr>\n    <tr>\n      <th>2</th>\n      <td>135106</td>\n      <td>22.149709</td>\n      <td>-100.976093</td>\n      <td>0101000020957F0000649D6F21634858C119AE9BF528A3...</td>\n      <td>El Rincón de San Francisco</td>\n      <td>Universidad 169</td>\n      <td>San Luis Potosi</td>\n      <td>San Luis Potosi</td>\n      <td>Mexico</td>\n      <td>?</td>\n      <td>...</td>\n      <td>Wine-Beer</td>\n      <td>only at bar</td>\n      <td>informal</td>\n      <td>partially</td>\n      <td>medium</td>\n      <td>?</td>\n      <td>familiar</td>\n      <td>f</td>\n      <td>open</td>\n      <td>none</td>\n    </tr>\n    <tr>\n      <th>3</th>\n      <td>132667</td>\n      <td>23.752697</td>\n      <td>-99.163359</td>\n      <td>0101000020957F00005D67BCDDED8157C1222A2DC8D84D...</td>\n      <td>little pizza Emilio Portes Gil</td>\n      <td>calle emilio portes gil</td>\n      <td>victoria</td>\n      <td>tamaulipas</td>\n      <td>?</td>\n      <td>?</td>\n      <td>...</td>\n      <td>No_Alcohol_Served</td>\n      <td>none</td>\n      <td>informal</td>\n      <td>completely</td>\n      <td>low</td>\n      <td>?</td>\n      <td>familiar</td>\n      <td>t</td>\n      <td>closed</td>\n      <td>none</td>\n    </tr>\n    <tr>\n      <th>4</th>\n      <td>132613</td>\n      <td>23.752903</td>\n      <td>-99.165076</td>\n      <td>0101000020957F00008EBA2D06DC8157C194E03B7B504E...</td>\n      <td>carnitas_mata</td>\n      <td>lic. Emilio portes gil</td>\n      <td>victoria</td>\n      <td>Tamaulipas</td>\n      <td>Mexico</td>\n      <td>?</td>\n      <td>...</td>\n      <td>No_Alcohol_Served</td>\n      <td>permitted</td>\n      <td>informal</td>\n      <td>completely</td>\n      <td>medium</td>\n      <td>?</td>\n      <td>familiar</td>\n      <td>t</td>\n      <td>closed</td>\n      <td>none</td>\n    </tr>\n    <tr>\n      <th>...</th>\n      <td>...</td>\n      <td>...</td>\n      <td>...</td>\n      <td>...</td>\n      <td>...</td>\n      <td>...</td>\n      <td>...</td>\n      <td>...</td>\n      <td>...</td>\n      <td>...</td>\n      <td>...</td>\n      <td>...</td>\n      <td>...</td>\n      <td>...</td>\n      <td>...</td>\n      <td>...</td>\n      <td>...</td>\n      <td>...</td>\n      <td>...</td>\n      <td>...</td>\n      <td>...</td>\n    </tr>\n    <tr>\n      <th>125</th>\n      <td>132866</td>\n      <td>22.141220</td>\n      <td>-100.931311</td>\n      <td>0101000020957F000013871838EC4A58C1B5DF74F8E396...</td>\n      <td>Chaires</td>\n      <td>Ricardo B. Anaya</td>\n      <td>San Luis Potosi</td>\n      <td>San Luis Potosi</td>\n      <td>Mexico</td>\n      <td>?</td>\n      <td>...</td>\n      <td>No_Alcohol_Served</td>\n      <td>not permitted</td>\n      <td>informal</td>\n      <td>completely</td>\n      <td>medium</td>\n      <td>?</td>\n      <td>familiar</td>\n      <td>f</td>\n      <td>closed</td>\n      <td>none</td>\n    </tr>\n    <tr>\n      <th>126</th>\n      <td>135072</td>\n      <td>22.149192</td>\n      <td>-101.002936</td>\n      <td>0101000020957F0000E7B79B1DB94758C1D29BC363D8AA...</td>\n      <td>Sushi Itto</td>\n      <td>Venustiano Carranza 1809 C Polanco</td>\n      <td>San Luis Potosi</td>\n      <td>SLP</td>\n      <td>Mexico</td>\n      <td>?</td>\n      <td>...</td>\n      <td>No_Alcohol_Served</td>\n      <td>none</td>\n      <td>informal</td>\n      <td>no_accessibility</td>\n      <td>medium</td>\n      <td>sushi-itto.com.mx</td>\n      <td>familiar</td>\n      <td>f</td>\n      <td>closed</td>\n      <td>none</td>\n    </tr>\n    <tr>\n      <th>127</th>\n      <td>135109</td>\n      <td>18.921785</td>\n      <td>-99.235350</td>\n      <td>0101000020957F0000A6BF695F136F5AC1DADF87B20556...</td>\n      <td>Paniroles</td>\n      <td>?</td>\n      <td>?</td>\n      <td>?</td>\n      <td>?</td>\n      <td>?</td>\n      <td>...</td>\n      <td>Wine-Beer</td>\n      <td>not permitted</td>\n      <td>informal</td>\n      <td>no_accessibility</td>\n      <td>medium</td>\n      <td>?</td>\n      <td>quiet</td>\n      <td>f</td>\n      <td>closed</td>\n      <td>Internet</td>\n    </tr>\n    <tr>\n      <th>128</th>\n      <td>135019</td>\n      <td>18.875011</td>\n      <td>-99.159422</td>\n      <td>0101000020957F0000B49B2E5C6E785AC12F9D58435241...</td>\n      <td>Restaurant Bar Coty y Pablo</td>\n      <td>Paseo de Las Fuentes 24 Pedregal de Las Fuentes</td>\n      <td>Jiutepec</td>\n      <td>Morelos</td>\n      <td>Mexico</td>\n      <td>?</td>\n      <td>...</td>\n      <td>No_Alcohol_Served</td>\n      <td>none</td>\n      <td>informal</td>\n      <td>completely</td>\n      <td>low</td>\n      <td>?</td>\n      <td>familiar</td>\n      <td>f</td>\n      <td>closed</td>\n      <td>none</td>\n    </tr>\n    <tr>\n      <th>129</th>\n      <td>132877</td>\n      <td>22.135364</td>\n      <td>-100.934948</td>\n      <td>0101000020957F000090735015B84B58C1AF0DC0414698...</td>\n      <td>sirloin stockade</td>\n      <td>?</td>\n      <td>?</td>\n      <td>?</td>\n      <td>?</td>\n      <td>?</td>\n      <td>...</td>\n      <td>No_Alcohol_Served</td>\n      <td>none</td>\n      <td>informal</td>\n      <td>completely</td>\n      <td>low</td>\n      <td>?</td>\n      <td>familiar</td>\n      <td>f</td>\n      <td>closed</td>\n      <td>none</td>\n    </tr>\n  </tbody>\n</table>\n<p>130 rows × 21 columns</p>\n</div>"
     },
     "execution_count": 43,
     "metadata": {},
     "output_type": "execute_result"
    }
   ],
   "source": [
    "#load the restaurants\n",
    "restaurants = pd.read_csv(\"RCdata/geoplaces2.csv\", encoding=\"latin-1\")\n",
    "restaurants\n"
   ]
  },
  {
   "cell_type": "code",
   "execution_count": 44,
   "metadata": {},
   "outputs": [
    {
     "data": {
      "text/plain": "   placeID        Rcuisine\n0   135110         Spanish\n1   135109         Italian\n2   135107  Latin_American\n3   135106         Mexican\n4   135105       Fast_Food",
      "text/html": "<div>\n<style scoped>\n    .dataframe tbody tr th:only-of-type {\n        vertical-align: middle;\n    }\n\n    .dataframe tbody tr th {\n        vertical-align: top;\n    }\n\n    .dataframe thead th {\n        text-align: right;\n    }\n</style>\n<table border=\"1\" class=\"dataframe\">\n  <thead>\n    <tr style=\"text-align: right;\">\n      <th></th>\n      <th>placeID</th>\n      <th>Rcuisine</th>\n    </tr>\n  </thead>\n  <tbody>\n    <tr>\n      <th>0</th>\n      <td>135110</td>\n      <td>Spanish</td>\n    </tr>\n    <tr>\n      <th>1</th>\n      <td>135109</td>\n      <td>Italian</td>\n    </tr>\n    <tr>\n      <th>2</th>\n      <td>135107</td>\n      <td>Latin_American</td>\n    </tr>\n    <tr>\n      <th>3</th>\n      <td>135106</td>\n      <td>Mexican</td>\n    </tr>\n    <tr>\n      <th>4</th>\n      <td>135105</td>\n      <td>Fast_Food</td>\n    </tr>\n  </tbody>\n</table>\n</div>"
     },
     "execution_count": 44,
     "metadata": {},
     "output_type": "execute_result"
    }
   ],
   "source": [
    "#load the cuisine\n",
    "cuisine = pd.read_csv('RCdata/chefmozcuisine.csv')\n",
    "cuisine.head()\n"
   ]
  },
  {
   "cell_type": "code",
   "execution_count": 45,
   "metadata": {},
   "outputs": [
    {
     "data": {
      "text/plain": "  userID  placeID  rating  food_rating  service_rating\n0  U1077   135085       2            2               2\n1  U1077   135038       2            2               1\n2  U1077   132825       2            2               2\n3  U1077   135060       1            2               2\n4  U1068   135104       1            1               2",
      "text/html": "<div>\n<style scoped>\n    .dataframe tbody tr th:only-of-type {\n        vertical-align: middle;\n    }\n\n    .dataframe tbody tr th {\n        vertical-align: top;\n    }\n\n    .dataframe thead th {\n        text-align: right;\n    }\n</style>\n<table border=\"1\" class=\"dataframe\">\n  <thead>\n    <tr style=\"text-align: right;\">\n      <th></th>\n      <th>userID</th>\n      <th>placeID</th>\n      <th>rating</th>\n      <th>food_rating</th>\n      <th>service_rating</th>\n    </tr>\n  </thead>\n  <tbody>\n    <tr>\n      <th>0</th>\n      <td>U1077</td>\n      <td>135085</td>\n      <td>2</td>\n      <td>2</td>\n      <td>2</td>\n    </tr>\n    <tr>\n      <th>1</th>\n      <td>U1077</td>\n      <td>135038</td>\n      <td>2</td>\n      <td>2</td>\n      <td>1</td>\n    </tr>\n    <tr>\n      <th>2</th>\n      <td>U1077</td>\n      <td>132825</td>\n      <td>2</td>\n      <td>2</td>\n      <td>2</td>\n    </tr>\n    <tr>\n      <th>3</th>\n      <td>U1077</td>\n      <td>135060</td>\n      <td>1</td>\n      <td>2</td>\n      <td>2</td>\n    </tr>\n    <tr>\n      <th>4</th>\n      <td>U1068</td>\n      <td>135104</td>\n      <td>1</td>\n      <td>1</td>\n      <td>2</td>\n    </tr>\n  </tbody>\n</table>\n</div>"
     },
     "execution_count": 45,
     "metadata": {},
     "output_type": "execute_result"
    }
   ],
   "source": [
    "#load the ratings (0 - worst, 2 - best)\n",
    "ratings = pd.read_csv('RCdata/rating_final.csv')\n",
    "ratings.head()\n"
   ]
  },
  {
   "cell_type": "markdown",
   "metadata": {},
   "source": [
    "#### ❓Q1. Using the `ratings` dataframe, obtain the mean and number of the overall rating (denoted by `rating`) for each place.\n",
    "*Hint: Read up on [`groupby()`](https://pandas.pydata.org/pandas-docs/stable/reference/api/pandas.DataFrame.groupby.html)*"
   ]
  },
  {
   "cell_type": "code",
   "execution_count": 46,
   "metadata": {
    "scrolled": false
   },
   "outputs": [
    {
     "data": {
      "text/plain": "        rating       food_rating       service_rating      \n          mean count        mean count           mean count\nplaceID                                                    \n132560    0.50     4        1.00     4       0.250000     4\n132561    0.75     4        1.00     4       1.000000     4\n132564    1.25     4        1.25     4       1.500000     4\n132572    1.00    15        1.00    15       0.933333    15\n132583    1.00     4        1.00     4       1.250000     4",
      "text/html": "<div>\n<style scoped>\n    .dataframe tbody tr th:only-of-type {\n        vertical-align: middle;\n    }\n\n    .dataframe tbody tr th {\n        vertical-align: top;\n    }\n\n    .dataframe thead tr th {\n        text-align: left;\n    }\n\n    .dataframe thead tr:last-of-type th {\n        text-align: right;\n    }\n</style>\n<table border=\"1\" class=\"dataframe\">\n  <thead>\n    <tr>\n      <th></th>\n      <th colspan=\"2\" halign=\"left\">rating</th>\n      <th colspan=\"2\" halign=\"left\">food_rating</th>\n      <th colspan=\"2\" halign=\"left\">service_rating</th>\n    </tr>\n    <tr>\n      <th></th>\n      <th>mean</th>\n      <th>count</th>\n      <th>mean</th>\n      <th>count</th>\n      <th>mean</th>\n      <th>count</th>\n    </tr>\n    <tr>\n      <th>placeID</th>\n      <th></th>\n      <th></th>\n      <th></th>\n      <th></th>\n      <th></th>\n      <th></th>\n    </tr>\n  </thead>\n  <tbody>\n    <tr>\n      <th>132560</th>\n      <td>0.50</td>\n      <td>4</td>\n      <td>1.00</td>\n      <td>4</td>\n      <td>0.250000</td>\n      <td>4</td>\n    </tr>\n    <tr>\n      <th>132561</th>\n      <td>0.75</td>\n      <td>4</td>\n      <td>1.00</td>\n      <td>4</td>\n      <td>1.000000</td>\n      <td>4</td>\n    </tr>\n    <tr>\n      <th>132564</th>\n      <td>1.25</td>\n      <td>4</td>\n      <td>1.25</td>\n      <td>4</td>\n      <td>1.500000</td>\n      <td>4</td>\n    </tr>\n    <tr>\n      <th>132572</th>\n      <td>1.00</td>\n      <td>15</td>\n      <td>1.00</td>\n      <td>15</td>\n      <td>0.933333</td>\n      <td>15</td>\n    </tr>\n    <tr>\n      <th>132583</th>\n      <td>1.00</td>\n      <td>4</td>\n      <td>1.00</td>\n      <td>4</td>\n      <td>1.250000</td>\n      <td>4</td>\n    </tr>\n  </tbody>\n</table>\n</div>"
     },
     "execution_count": 46,
     "metadata": {},
     "output_type": "execute_result"
    }
   ],
   "source": [
    "#TODO\n",
    "ratings_agg = ratings.iloc[:,1:]\n",
    "ratings_agg = ratings_agg.groupby([\"placeID\"]).agg([\"mean\", \"count\"])\n",
    "ratings_agg.head()\n"
   ]
  },
  {
   "cell_type": "markdown",
   "metadata": {},
   "source": [
    "#### ❓Q2. \n",
    "1. Merge 1) `restaurant`, 2) `cuisine` and 3) (the results from Q1 as 2 new columns: `ratings_mean` and `ratings_count`) into a single dataframe.\n",
    "2. Keep only following columns `placeID`, `ratings_mean`, `ratings_count`, `name`, `cuisine` (which we have to rename from `Rcuisine`)\n",
    "3. Name this dataframe `restaurants_combined`"
   ]
  },
  {
   "cell_type": "code",
   "execution_count": 47,
   "metadata": {},
   "outputs": [],
   "source": [
    "#TODO\n",
    "restaurants_combined = restaurants.merge(cuisine)\n"
   ]
  },
  {
   "cell_type": "code",
   "execution_count": 48,
   "metadata": {},
   "outputs": [
    {
     "data": {
      "text/plain": "     placeID   latitude   longitude  \\\n0     134999  18.915421  -99.184871   \n1     132825  22.147392 -100.983092   \n2     135106  22.149709 -100.976093   \n3     132667  23.752697  -99.163359   \n4     132613  23.752903  -99.165076   \n..       ...        ...         ...   \n107   132866  22.141220 -100.931311   \n108   132866  22.141220 -100.931311   \n109   135072  22.149192 -101.002936   \n110   135109  18.921785  -99.235350   \n111   135019  18.875011  -99.159422   \n\n                                        the_geom_meter  \\\n0    0101000020957F000088568DE356715AC138C0A525FC46...   \n1    0101000020957F00001AD016568C4858C1243261274BA5...   \n2    0101000020957F0000649D6F21634858C119AE9BF528A3...   \n3    0101000020957F00005D67BCDDED8157C1222A2DC8D84D...   \n4    0101000020957F00008EBA2D06DC8157C194E03B7B504E...   \n..                                                 ...   \n107  0101000020957F000013871838EC4A58C1B5DF74F8E396...   \n108  0101000020957F000013871838EC4A58C1B5DF74F8E396...   \n109  0101000020957F0000E7B79B1DB94758C1D29BC363D8AA...   \n110  0101000020957F0000A6BF695F136F5AC1DADF87B20556...   \n111  0101000020957F0000B49B2E5C6E785AC12F9D58435241...   \n\n                               name  \\\n0                   Kiku Cuernavaca   \n1                   puesto de tacos   \n2        El Rincón de San Francisco   \n3    little pizza Emilio Portes Gil   \n4                     carnitas_mata   \n..                              ...   \n107                         Chaires   \n108                         Chaires   \n109                      Sushi Itto   \n110                       Paniroles   \n111     Restaurant Bar Coty y Pablo   \n\n                                             address             city  \\\n0                                         Revolucion       Cuernavaca   \n1             esquina santos degollado y leon guzman           s.l.p.   \n2                                    Universidad 169  San Luis Potosi   \n3                            calle emilio portes gil        victoria    \n4                             lic. Emilio portes gil         victoria   \n..                                               ...              ...   \n107                                 Ricardo B. Anaya  San Luis Potosi   \n108                                 Ricardo B. Anaya  San Luis Potosi   \n109               Venustiano Carranza 1809 C Polanco  San Luis Potosi   \n110                                                ?                ?   \n111  Paseo de Las Fuentes 24 Pedregal de Las Fuentes         Jiutepec   \n\n               state country fax  ...     accessibility   price  \\\n0            Morelos  Mexico   ?  ...  no_accessibility  medium   \n1             s.l.p.  mexico   ?  ...        completely     low   \n2    San Luis Potosi  Mexico   ?  ...         partially  medium   \n3         tamaulipas       ?   ?  ...        completely     low   \n4         Tamaulipas  Mexico   ?  ...        completely  medium   \n..               ...     ...  ..  ...               ...     ...   \n107  San Luis Potosi  Mexico   ?  ...        completely  medium   \n108  San Luis Potosi  Mexico   ?  ...        completely  medium   \n109              SLP  Mexico   ?  ...  no_accessibility  medium   \n110                ?       ?   ?  ...  no_accessibility  medium   \n111          Morelos  Mexico   ?  ...        completely     low   \n\n                       url Rambience franchise    area other_services  \\\n0    kikucuernavaca.com.mx  familiar         f  closed           none   \n1                        ?  familiar         f    open           none   \n2                        ?  familiar         f    open           none   \n3                        ?  familiar         t  closed           none   \n4                        ?  familiar         t  closed           none   \n..                     ...       ...       ...     ...            ...   \n107                      ?  familiar         f  closed           none   \n108                      ?  familiar         f  closed           none   \n109      sushi-itto.com.mx  familiar         f  closed           none   \n110                      ?     quiet         f  closed       Internet   \n111                      ?  familiar         f  closed           none   \n\n      Rcuisine ratings_mean ratings_count  \n0     Japanese     1.600000             5  \n1      Mexican     1.281250            32  \n2      Mexican     1.200000            10  \n3     Armenian     1.250000             4  \n4      Mexican     1.166667             6  \n..         ...          ...           ...  \n107     Bakery     1.400000             5  \n108  Cafeteria     1.400000             5  \n109   Japanese     1.250000             8  \n110    Italian     1.000000             4  \n111        Bar     1.333333             6  \n\n[112 rows x 24 columns]",
      "text/html": "<div>\n<style scoped>\n    .dataframe tbody tr th:only-of-type {\n        vertical-align: middle;\n    }\n\n    .dataframe tbody tr th {\n        vertical-align: top;\n    }\n\n    .dataframe thead th {\n        text-align: right;\n    }\n</style>\n<table border=\"1\" class=\"dataframe\">\n  <thead>\n    <tr style=\"text-align: right;\">\n      <th></th>\n      <th>placeID</th>\n      <th>latitude</th>\n      <th>longitude</th>\n      <th>the_geom_meter</th>\n      <th>name</th>\n      <th>address</th>\n      <th>city</th>\n      <th>state</th>\n      <th>country</th>\n      <th>fax</th>\n      <th>...</th>\n      <th>accessibility</th>\n      <th>price</th>\n      <th>url</th>\n      <th>Rambience</th>\n      <th>franchise</th>\n      <th>area</th>\n      <th>other_services</th>\n      <th>Rcuisine</th>\n      <th>ratings_mean</th>\n      <th>ratings_count</th>\n    </tr>\n  </thead>\n  <tbody>\n    <tr>\n      <th>0</th>\n      <td>134999</td>\n      <td>18.915421</td>\n      <td>-99.184871</td>\n      <td>0101000020957F000088568DE356715AC138C0A525FC46...</td>\n      <td>Kiku Cuernavaca</td>\n      <td>Revolucion</td>\n      <td>Cuernavaca</td>\n      <td>Morelos</td>\n      <td>Mexico</td>\n      <td>?</td>\n      <td>...</td>\n      <td>no_accessibility</td>\n      <td>medium</td>\n      <td>kikucuernavaca.com.mx</td>\n      <td>familiar</td>\n      <td>f</td>\n      <td>closed</td>\n      <td>none</td>\n      <td>Japanese</td>\n      <td>1.600000</td>\n      <td>5</td>\n    </tr>\n    <tr>\n      <th>1</th>\n      <td>132825</td>\n      <td>22.147392</td>\n      <td>-100.983092</td>\n      <td>0101000020957F00001AD016568C4858C1243261274BA5...</td>\n      <td>puesto de tacos</td>\n      <td>esquina santos degollado y leon guzman</td>\n      <td>s.l.p.</td>\n      <td>s.l.p.</td>\n      <td>mexico</td>\n      <td>?</td>\n      <td>...</td>\n      <td>completely</td>\n      <td>low</td>\n      <td>?</td>\n      <td>familiar</td>\n      <td>f</td>\n      <td>open</td>\n      <td>none</td>\n      <td>Mexican</td>\n      <td>1.281250</td>\n      <td>32</td>\n    </tr>\n    <tr>\n      <th>2</th>\n      <td>135106</td>\n      <td>22.149709</td>\n      <td>-100.976093</td>\n      <td>0101000020957F0000649D6F21634858C119AE9BF528A3...</td>\n      <td>El Rincón de San Francisco</td>\n      <td>Universidad 169</td>\n      <td>San Luis Potosi</td>\n      <td>San Luis Potosi</td>\n      <td>Mexico</td>\n      <td>?</td>\n      <td>...</td>\n      <td>partially</td>\n      <td>medium</td>\n      <td>?</td>\n      <td>familiar</td>\n      <td>f</td>\n      <td>open</td>\n      <td>none</td>\n      <td>Mexican</td>\n      <td>1.200000</td>\n      <td>10</td>\n    </tr>\n    <tr>\n      <th>3</th>\n      <td>132667</td>\n      <td>23.752697</td>\n      <td>-99.163359</td>\n      <td>0101000020957F00005D67BCDDED8157C1222A2DC8D84D...</td>\n      <td>little pizza Emilio Portes Gil</td>\n      <td>calle emilio portes gil</td>\n      <td>victoria</td>\n      <td>tamaulipas</td>\n      <td>?</td>\n      <td>?</td>\n      <td>...</td>\n      <td>completely</td>\n      <td>low</td>\n      <td>?</td>\n      <td>familiar</td>\n      <td>t</td>\n      <td>closed</td>\n      <td>none</td>\n      <td>Armenian</td>\n      <td>1.250000</td>\n      <td>4</td>\n    </tr>\n    <tr>\n      <th>4</th>\n      <td>132613</td>\n      <td>23.752903</td>\n      <td>-99.165076</td>\n      <td>0101000020957F00008EBA2D06DC8157C194E03B7B504E...</td>\n      <td>carnitas_mata</td>\n      <td>lic. Emilio portes gil</td>\n      <td>victoria</td>\n      <td>Tamaulipas</td>\n      <td>Mexico</td>\n      <td>?</td>\n      <td>...</td>\n      <td>completely</td>\n      <td>medium</td>\n      <td>?</td>\n      <td>familiar</td>\n      <td>t</td>\n      <td>closed</td>\n      <td>none</td>\n      <td>Mexican</td>\n      <td>1.166667</td>\n      <td>6</td>\n    </tr>\n    <tr>\n      <th>...</th>\n      <td>...</td>\n      <td>...</td>\n      <td>...</td>\n      <td>...</td>\n      <td>...</td>\n      <td>...</td>\n      <td>...</td>\n      <td>...</td>\n      <td>...</td>\n      <td>...</td>\n      <td>...</td>\n      <td>...</td>\n      <td>...</td>\n      <td>...</td>\n      <td>...</td>\n      <td>...</td>\n      <td>...</td>\n      <td>...</td>\n      <td>...</td>\n      <td>...</td>\n      <td>...</td>\n    </tr>\n    <tr>\n      <th>107</th>\n      <td>132866</td>\n      <td>22.141220</td>\n      <td>-100.931311</td>\n      <td>0101000020957F000013871838EC4A58C1B5DF74F8E396...</td>\n      <td>Chaires</td>\n      <td>Ricardo B. Anaya</td>\n      <td>San Luis Potosi</td>\n      <td>San Luis Potosi</td>\n      <td>Mexico</td>\n      <td>?</td>\n      <td>...</td>\n      <td>completely</td>\n      <td>medium</td>\n      <td>?</td>\n      <td>familiar</td>\n      <td>f</td>\n      <td>closed</td>\n      <td>none</td>\n      <td>Bakery</td>\n      <td>1.400000</td>\n      <td>5</td>\n    </tr>\n    <tr>\n      <th>108</th>\n      <td>132866</td>\n      <td>22.141220</td>\n      <td>-100.931311</td>\n      <td>0101000020957F000013871838EC4A58C1B5DF74F8E396...</td>\n      <td>Chaires</td>\n      <td>Ricardo B. Anaya</td>\n      <td>San Luis Potosi</td>\n      <td>San Luis Potosi</td>\n      <td>Mexico</td>\n      <td>?</td>\n      <td>...</td>\n      <td>completely</td>\n      <td>medium</td>\n      <td>?</td>\n      <td>familiar</td>\n      <td>f</td>\n      <td>closed</td>\n      <td>none</td>\n      <td>Cafeteria</td>\n      <td>1.400000</td>\n      <td>5</td>\n    </tr>\n    <tr>\n      <th>109</th>\n      <td>135072</td>\n      <td>22.149192</td>\n      <td>-101.002936</td>\n      <td>0101000020957F0000E7B79B1DB94758C1D29BC363D8AA...</td>\n      <td>Sushi Itto</td>\n      <td>Venustiano Carranza 1809 C Polanco</td>\n      <td>San Luis Potosi</td>\n      <td>SLP</td>\n      <td>Mexico</td>\n      <td>?</td>\n      <td>...</td>\n      <td>no_accessibility</td>\n      <td>medium</td>\n      <td>sushi-itto.com.mx</td>\n      <td>familiar</td>\n      <td>f</td>\n      <td>closed</td>\n      <td>none</td>\n      <td>Japanese</td>\n      <td>1.250000</td>\n      <td>8</td>\n    </tr>\n    <tr>\n      <th>110</th>\n      <td>135109</td>\n      <td>18.921785</td>\n      <td>-99.235350</td>\n      <td>0101000020957F0000A6BF695F136F5AC1DADF87B20556...</td>\n      <td>Paniroles</td>\n      <td>?</td>\n      <td>?</td>\n      <td>?</td>\n      <td>?</td>\n      <td>?</td>\n      <td>...</td>\n      <td>no_accessibility</td>\n      <td>medium</td>\n      <td>?</td>\n      <td>quiet</td>\n      <td>f</td>\n      <td>closed</td>\n      <td>Internet</td>\n      <td>Italian</td>\n      <td>1.000000</td>\n      <td>4</td>\n    </tr>\n    <tr>\n      <th>111</th>\n      <td>135019</td>\n      <td>18.875011</td>\n      <td>-99.159422</td>\n      <td>0101000020957F0000B49B2E5C6E785AC12F9D58435241...</td>\n      <td>Restaurant Bar Coty y Pablo</td>\n      <td>Paseo de Las Fuentes 24 Pedregal de Las Fuentes</td>\n      <td>Jiutepec</td>\n      <td>Morelos</td>\n      <td>Mexico</td>\n      <td>?</td>\n      <td>...</td>\n      <td>completely</td>\n      <td>low</td>\n      <td>?</td>\n      <td>familiar</td>\n      <td>f</td>\n      <td>closed</td>\n      <td>none</td>\n      <td>Bar</td>\n      <td>1.333333</td>\n      <td>6</td>\n    </tr>\n  </tbody>\n</table>\n<p>112 rows × 24 columns</p>\n</div>"
     },
     "execution_count": 48,
     "metadata": {},
     "output_type": "execute_result"
    }
   ],
   "source": [
    "ratings_agg = ratings_agg.iloc[:, 0:2]\n",
    "ratings_agg.columns = [\"ratings_mean\", \"ratings_count\"]\n",
    "ratings_agg = ratings_agg.reset_index()\n",
    "restaurants_combined = restaurants_combined.merge(ratings_agg)\n",
    "restaurants_combined\n"
   ]
  },
  {
   "cell_type": "code",
   "execution_count": 49,
   "metadata": {},
   "outputs": [],
   "source": [
    "restaurants_combined = restaurants_combined[[\"placeID\", \"name\", \"ratings_mean\", \"ratings_count\", \"Rcuisine\"]]\n"
   ]
  },
  {
   "cell_type": "code",
   "execution_count": 50,
   "metadata": {},
   "outputs": [
    {
     "data": {
      "text/plain": "     placeID                            name  ratings_mean  ratings_count  \\\n0     134999                 Kiku Cuernavaca      1.600000              5   \n1     132825                 puesto de tacos      1.281250             32   \n2     135106      El Rincón de San Francisco      1.200000             10   \n3     132667  little pizza Emilio Portes Gil      1.250000              4   \n4     132613                   carnitas_mata      1.166667              6   \n..       ...                             ...           ...            ...   \n107   132866                         Chaires      1.400000              5   \n108   132866                         Chaires      1.400000              5   \n109   135072                      Sushi Itto      1.250000              8   \n110   135109                       Paniroles      1.000000              4   \n111   135019     Restaurant Bar Coty y Pablo      1.333333              6   \n\n       cuisine  \n0     Japanese  \n1      Mexican  \n2      Mexican  \n3     Armenian  \n4      Mexican  \n..         ...  \n107     Bakery  \n108  Cafeteria  \n109   Japanese  \n110    Italian  \n111        Bar  \n\n[112 rows x 5 columns]",
      "text/html": "<div>\n<style scoped>\n    .dataframe tbody tr th:only-of-type {\n        vertical-align: middle;\n    }\n\n    .dataframe tbody tr th {\n        vertical-align: top;\n    }\n\n    .dataframe thead th {\n        text-align: right;\n    }\n</style>\n<table border=\"1\" class=\"dataframe\">\n  <thead>\n    <tr style=\"text-align: right;\">\n      <th></th>\n      <th>placeID</th>\n      <th>name</th>\n      <th>ratings_mean</th>\n      <th>ratings_count</th>\n      <th>cuisine</th>\n    </tr>\n  </thead>\n  <tbody>\n    <tr>\n      <th>0</th>\n      <td>134999</td>\n      <td>Kiku Cuernavaca</td>\n      <td>1.600000</td>\n      <td>5</td>\n      <td>Japanese</td>\n    </tr>\n    <tr>\n      <th>1</th>\n      <td>132825</td>\n      <td>puesto de tacos</td>\n      <td>1.281250</td>\n      <td>32</td>\n      <td>Mexican</td>\n    </tr>\n    <tr>\n      <th>2</th>\n      <td>135106</td>\n      <td>El Rincón de San Francisco</td>\n      <td>1.200000</td>\n      <td>10</td>\n      <td>Mexican</td>\n    </tr>\n    <tr>\n      <th>3</th>\n      <td>132667</td>\n      <td>little pizza Emilio Portes Gil</td>\n      <td>1.250000</td>\n      <td>4</td>\n      <td>Armenian</td>\n    </tr>\n    <tr>\n      <th>4</th>\n      <td>132613</td>\n      <td>carnitas_mata</td>\n      <td>1.166667</td>\n      <td>6</td>\n      <td>Mexican</td>\n    </tr>\n    <tr>\n      <th>...</th>\n      <td>...</td>\n      <td>...</td>\n      <td>...</td>\n      <td>...</td>\n      <td>...</td>\n    </tr>\n    <tr>\n      <th>107</th>\n      <td>132866</td>\n      <td>Chaires</td>\n      <td>1.400000</td>\n      <td>5</td>\n      <td>Bakery</td>\n    </tr>\n    <tr>\n      <th>108</th>\n      <td>132866</td>\n      <td>Chaires</td>\n      <td>1.400000</td>\n      <td>5</td>\n      <td>Cafeteria</td>\n    </tr>\n    <tr>\n      <th>109</th>\n      <td>135072</td>\n      <td>Sushi Itto</td>\n      <td>1.250000</td>\n      <td>8</td>\n      <td>Japanese</td>\n    </tr>\n    <tr>\n      <th>110</th>\n      <td>135109</td>\n      <td>Paniroles</td>\n      <td>1.000000</td>\n      <td>4</td>\n      <td>Italian</td>\n    </tr>\n    <tr>\n      <th>111</th>\n      <td>135019</td>\n      <td>Restaurant Bar Coty y Pablo</td>\n      <td>1.333333</td>\n      <td>6</td>\n      <td>Bar</td>\n    </tr>\n  </tbody>\n</table>\n<p>112 rows × 5 columns</p>\n</div>"
     },
     "execution_count": 50,
     "metadata": {},
     "output_type": "execute_result"
    }
   ],
   "source": [
    "restaurants_combined = restaurants_combined.rename(columns={\"Rcuisine\":\"cuisine\"})\n",
    "restaurants_combined\n"
   ]
  },
  {
   "cell_type": "code",
   "execution_count": 51,
   "metadata": {},
   "outputs": [
    {
     "data": {
      "text/plain": "     placeID                            name  ratings_mean  ratings_count  \\\n0     134999                 Kiku Cuernavaca      1.600000              5   \n1     132825                 puesto de tacos      1.281250             32   \n2     135106      El Rincón de San Francisco      1.200000             10   \n3     132667  little pizza Emilio Portes Gil      1.250000              4   \n4     132613                   carnitas_mata      1.166667              6   \n..       ...                             ...           ...            ...   \n107   132866                         Chaires      1.400000              5   \n108   132866                         Chaires      1.400000              5   \n109   135072                      Sushi Itto      1.250000              8   \n110   135109                       Paniroles      1.000000              4   \n111   135019     Restaurant Bar Coty y Pablo      1.333333              6   \n\n       cuisine  \n0     Japanese  \n1      Mexican  \n2      Mexican  \n3     Armenian  \n4      Mexican  \n..         ...  \n107     Bakery  \n108  Cafeteria  \n109   Japanese  \n110    Italian  \n111        Bar  \n\n[112 rows x 5 columns]",
      "text/html": "<div>\n<style scoped>\n    .dataframe tbody tr th:only-of-type {\n        vertical-align: middle;\n    }\n\n    .dataframe tbody tr th {\n        vertical-align: top;\n    }\n\n    .dataframe thead th {\n        text-align: right;\n    }\n</style>\n<table border=\"1\" class=\"dataframe\">\n  <thead>\n    <tr style=\"text-align: right;\">\n      <th></th>\n      <th>placeID</th>\n      <th>name</th>\n      <th>ratings_mean</th>\n      <th>ratings_count</th>\n      <th>cuisine</th>\n    </tr>\n  </thead>\n  <tbody>\n    <tr>\n      <th>0</th>\n      <td>134999</td>\n      <td>Kiku Cuernavaca</td>\n      <td>1.600000</td>\n      <td>5</td>\n      <td>Japanese</td>\n    </tr>\n    <tr>\n      <th>1</th>\n      <td>132825</td>\n      <td>puesto de tacos</td>\n      <td>1.281250</td>\n      <td>32</td>\n      <td>Mexican</td>\n    </tr>\n    <tr>\n      <th>2</th>\n      <td>135106</td>\n      <td>El Rincón de San Francisco</td>\n      <td>1.200000</td>\n      <td>10</td>\n      <td>Mexican</td>\n    </tr>\n    <tr>\n      <th>3</th>\n      <td>132667</td>\n      <td>little pizza Emilio Portes Gil</td>\n      <td>1.250000</td>\n      <td>4</td>\n      <td>Armenian</td>\n    </tr>\n    <tr>\n      <th>4</th>\n      <td>132613</td>\n      <td>carnitas_mata</td>\n      <td>1.166667</td>\n      <td>6</td>\n      <td>Mexican</td>\n    </tr>\n    <tr>\n      <th>...</th>\n      <td>...</td>\n      <td>...</td>\n      <td>...</td>\n      <td>...</td>\n      <td>...</td>\n    </tr>\n    <tr>\n      <th>107</th>\n      <td>132866</td>\n      <td>Chaires</td>\n      <td>1.400000</td>\n      <td>5</td>\n      <td>Bakery</td>\n    </tr>\n    <tr>\n      <th>108</th>\n      <td>132866</td>\n      <td>Chaires</td>\n      <td>1.400000</td>\n      <td>5</td>\n      <td>Cafeteria</td>\n    </tr>\n    <tr>\n      <th>109</th>\n      <td>135072</td>\n      <td>Sushi Itto</td>\n      <td>1.250000</td>\n      <td>8</td>\n      <td>Japanese</td>\n    </tr>\n    <tr>\n      <th>110</th>\n      <td>135109</td>\n      <td>Paniroles</td>\n      <td>1.000000</td>\n      <td>4</td>\n      <td>Italian</td>\n    </tr>\n    <tr>\n      <th>111</th>\n      <td>135019</td>\n      <td>Restaurant Bar Coty y Pablo</td>\n      <td>1.333333</td>\n      <td>6</td>\n      <td>Bar</td>\n    </tr>\n  </tbody>\n</table>\n<p>112 rows × 5 columns</p>\n</div>"
     },
     "execution_count": 51,
     "metadata": {},
     "output_type": "execute_result"
    }
   ],
   "source": [
    "restaurants_combined\n"
   ]
  },
  {
   "cell_type": "markdown",
   "metadata": {},
   "source": [
    "#### ❓Q3. Get the top 10 restaurant recommendation with the highest mean ratings."
   ]
  },
  {
   "cell_type": "code",
   "execution_count": 52,
   "metadata": {},
   "outputs": [
    {
     "data": {
      "text/plain": "    placeID                                     name  ratings_mean  \\\n39   132955                                emilianos      2.000000   \n94   134986                 Restaurant Las Mananitas      2.000000   \n41   135034               Michiko Restaurant Japones      2.000000   \n76   132922                     cafe punta del cielo      1.833333   \n81   132755                     La Estrella de Dimas      1.800000   \n44   135074        Restaurante la Parroquia Potosina      1.750000   \n90   134976                                  Log Yin      1.750000   \n89   134976                                  Log Yin      1.750000   \n88   134976                                  Log Yin      1.750000   \n43   135055  la Cochinita Pibil Restaurante Yucateco      1.714286   \n\n    ratings_count          cuisine  \n39              5  Bar_Pub_Brewery  \n94              8    International  \n41              5         Japanese  \n76              6        Cafeteria  \n81              5          Mexican  \n44              4     Contemporary  \n90              4          Burgers  \n89              4    Mediterranean  \n88              4          Mexican  \n43              7          Mexican  ",
      "text/html": "<div>\n<style scoped>\n    .dataframe tbody tr th:only-of-type {\n        vertical-align: middle;\n    }\n\n    .dataframe tbody tr th {\n        vertical-align: top;\n    }\n\n    .dataframe thead th {\n        text-align: right;\n    }\n</style>\n<table border=\"1\" class=\"dataframe\">\n  <thead>\n    <tr style=\"text-align: right;\">\n      <th></th>\n      <th>placeID</th>\n      <th>name</th>\n      <th>ratings_mean</th>\n      <th>ratings_count</th>\n      <th>cuisine</th>\n    </tr>\n  </thead>\n  <tbody>\n    <tr>\n      <th>39</th>\n      <td>132955</td>\n      <td>emilianos</td>\n      <td>2.000000</td>\n      <td>5</td>\n      <td>Bar_Pub_Brewery</td>\n    </tr>\n    <tr>\n      <th>94</th>\n      <td>134986</td>\n      <td>Restaurant Las Mananitas</td>\n      <td>2.000000</td>\n      <td>8</td>\n      <td>International</td>\n    </tr>\n    <tr>\n      <th>41</th>\n      <td>135034</td>\n      <td>Michiko Restaurant Japones</td>\n      <td>2.000000</td>\n      <td>5</td>\n      <td>Japanese</td>\n    </tr>\n    <tr>\n      <th>76</th>\n      <td>132922</td>\n      <td>cafe punta del cielo</td>\n      <td>1.833333</td>\n      <td>6</td>\n      <td>Cafeteria</td>\n    </tr>\n    <tr>\n      <th>81</th>\n      <td>132755</td>\n      <td>La Estrella de Dimas</td>\n      <td>1.800000</td>\n      <td>5</td>\n      <td>Mexican</td>\n    </tr>\n    <tr>\n      <th>44</th>\n      <td>135074</td>\n      <td>Restaurante la Parroquia Potosina</td>\n      <td>1.750000</td>\n      <td>4</td>\n      <td>Contemporary</td>\n    </tr>\n    <tr>\n      <th>90</th>\n      <td>134976</td>\n      <td>Log Yin</td>\n      <td>1.750000</td>\n      <td>4</td>\n      <td>Burgers</td>\n    </tr>\n    <tr>\n      <th>89</th>\n      <td>134976</td>\n      <td>Log Yin</td>\n      <td>1.750000</td>\n      <td>4</td>\n      <td>Mediterranean</td>\n    </tr>\n    <tr>\n      <th>88</th>\n      <td>134976</td>\n      <td>Log Yin</td>\n      <td>1.750000</td>\n      <td>4</td>\n      <td>Mexican</td>\n    </tr>\n    <tr>\n      <th>43</th>\n      <td>135055</td>\n      <td>la Cochinita Pibil Restaurante Yucateco</td>\n      <td>1.714286</td>\n      <td>7</td>\n      <td>Mexican</td>\n    </tr>\n  </tbody>\n</table>\n</div>"
     },
     "execution_count": 52,
     "metadata": {},
     "output_type": "execute_result"
    }
   ],
   "source": [
    "#TODO\n",
    "restaurants_combined.sort_values(\"ratings_mean\", ascending=False).head(10)\n"
   ]
  },
  {
   "cell_type": "markdown",
   "metadata": {},
   "source": [
    "#### ❓Q4. Get the top 10 restaurant recommendation with the highest ratings count."
   ]
  },
  {
   "cell_type": "code",
   "execution_count": 53,
   "metadata": {
    "scrolled": true
   },
   "outputs": [
    {
     "data": {
      "text/plain": "     placeID                                name  ratings_mean  ratings_count  \\\n103   135085              Tortas Locas Hipocampo      1.333333             36   \n1     132825                     puesto de tacos      1.281250             32   \n101   135032  Cafeteria y Restaurant El Pacifico      1.178571             28   \n100   135032  Cafeteria y Restaurant El Pacifico      1.178571             28   \n49    135052              La Cantina Restaurante      1.280000             25   \n62    132834                 Gorditas Doa Gloria      1.000000             25   \n48    135052              La Cantina Restaurante      1.280000             25   \n42    135060             Restaurante Marisco Sam      1.136364             22   \n21    135042         Restaurant Oriental Express      1.250000             20   \n16    132862                La Posada del Virrey      1.388889             18   \n\n             cuisine  \n103        Fast_Food  \n1            Mexican  \n101     Contemporary  \n100        Cafeteria  \n49   Bar_Pub_Brewery  \n62           Mexican  \n48               Bar  \n42           Seafood  \n21           Chinese  \n16     International  ",
      "text/html": "<div>\n<style scoped>\n    .dataframe tbody tr th:only-of-type {\n        vertical-align: middle;\n    }\n\n    .dataframe tbody tr th {\n        vertical-align: top;\n    }\n\n    .dataframe thead th {\n        text-align: right;\n    }\n</style>\n<table border=\"1\" class=\"dataframe\">\n  <thead>\n    <tr style=\"text-align: right;\">\n      <th></th>\n      <th>placeID</th>\n      <th>name</th>\n      <th>ratings_mean</th>\n      <th>ratings_count</th>\n      <th>cuisine</th>\n    </tr>\n  </thead>\n  <tbody>\n    <tr>\n      <th>103</th>\n      <td>135085</td>\n      <td>Tortas Locas Hipocampo</td>\n      <td>1.333333</td>\n      <td>36</td>\n      <td>Fast_Food</td>\n    </tr>\n    <tr>\n      <th>1</th>\n      <td>132825</td>\n      <td>puesto de tacos</td>\n      <td>1.281250</td>\n      <td>32</td>\n      <td>Mexican</td>\n    </tr>\n    <tr>\n      <th>101</th>\n      <td>135032</td>\n      <td>Cafeteria y Restaurant El Pacifico</td>\n      <td>1.178571</td>\n      <td>28</td>\n      <td>Contemporary</td>\n    </tr>\n    <tr>\n      <th>100</th>\n      <td>135032</td>\n      <td>Cafeteria y Restaurant El Pacifico</td>\n      <td>1.178571</td>\n      <td>28</td>\n      <td>Cafeteria</td>\n    </tr>\n    <tr>\n      <th>49</th>\n      <td>135052</td>\n      <td>La Cantina Restaurante</td>\n      <td>1.280000</td>\n      <td>25</td>\n      <td>Bar_Pub_Brewery</td>\n    </tr>\n    <tr>\n      <th>62</th>\n      <td>132834</td>\n      <td>Gorditas Doa Gloria</td>\n      <td>1.000000</td>\n      <td>25</td>\n      <td>Mexican</td>\n    </tr>\n    <tr>\n      <th>48</th>\n      <td>135052</td>\n      <td>La Cantina Restaurante</td>\n      <td>1.280000</td>\n      <td>25</td>\n      <td>Bar</td>\n    </tr>\n    <tr>\n      <th>42</th>\n      <td>135060</td>\n      <td>Restaurante Marisco Sam</td>\n      <td>1.136364</td>\n      <td>22</td>\n      <td>Seafood</td>\n    </tr>\n    <tr>\n      <th>21</th>\n      <td>135042</td>\n      <td>Restaurant Oriental Express</td>\n      <td>1.250000</td>\n      <td>20</td>\n      <td>Chinese</td>\n    </tr>\n    <tr>\n      <th>16</th>\n      <td>132862</td>\n      <td>La Posada del Virrey</td>\n      <td>1.388889</td>\n      <td>18</td>\n      <td>International</td>\n    </tr>\n  </tbody>\n</table>\n</div>"
     },
     "execution_count": 53,
     "metadata": {},
     "output_type": "execute_result"
    }
   ],
   "source": [
    "#TODO\n",
    "restaurants_combined.sort_values(\"ratings_count\", ascending=False).head(10)\n"
   ]
  },
  {
   "cell_type": "markdown",
   "metadata": {},
   "source": [
    "#### ❓Q5. Get the top 3 fast food restaurant recommendation with the highest ratings count."
   ]
  },
  {
   "cell_type": "code",
   "execution_count": 54,
   "metadata": {},
   "outputs": [
    {
     "data": {
      "text/plain": "     placeID                         name  ratings_mean  ratings_count  \\\n103   135085       Tortas Locas Hipocampo      1.333333             36   \n36    135046      Restaurante El Reyecito      1.272727             11   \n10    135086  Mcdonalds Parque Tangamanga      0.800000             10   \n\n       cuisine  \n103  Fast_Food  \n36   Fast_Food  \n10   Fast_Food  ",
      "text/html": "<div>\n<style scoped>\n    .dataframe tbody tr th:only-of-type {\n        vertical-align: middle;\n    }\n\n    .dataframe tbody tr th {\n        vertical-align: top;\n    }\n\n    .dataframe thead th {\n        text-align: right;\n    }\n</style>\n<table border=\"1\" class=\"dataframe\">\n  <thead>\n    <tr style=\"text-align: right;\">\n      <th></th>\n      <th>placeID</th>\n      <th>name</th>\n      <th>ratings_mean</th>\n      <th>ratings_count</th>\n      <th>cuisine</th>\n    </tr>\n  </thead>\n  <tbody>\n    <tr>\n      <th>103</th>\n      <td>135085</td>\n      <td>Tortas Locas Hipocampo</td>\n      <td>1.333333</td>\n      <td>36</td>\n      <td>Fast_Food</td>\n    </tr>\n    <tr>\n      <th>36</th>\n      <td>135046</td>\n      <td>Restaurante El Reyecito</td>\n      <td>1.272727</td>\n      <td>11</td>\n      <td>Fast_Food</td>\n    </tr>\n    <tr>\n      <th>10</th>\n      <td>135086</td>\n      <td>Mcdonalds Parque Tangamanga</td>\n      <td>0.800000</td>\n      <td>10</td>\n      <td>Fast_Food</td>\n    </tr>\n  </tbody>\n</table>\n</div>"
     },
     "execution_count": 54,
     "metadata": {},
     "output_type": "execute_result"
    }
   ],
   "source": [
    "#TODO\n",
    "fastfood = restaurants_combined[restaurants_combined.cuisine==\"Fast_Food\"]\n",
    "fastfood_top3 = fastfood.sort_values(\"ratings_count\", ascending=False).head(3)\n",
    "fastfood_top3\n"
   ]
  },
  {
   "cell_type": "markdown",
   "metadata": {},
   "source": [
    "## Collaborative Filtering"
   ]
  },
  {
   "cell_type": "markdown",
   "metadata": {},
   "source": [
    "#### ❓Q6. Using the `ratings` dataframe, obtain the utility matrix where the columns are the places and the rows are the users.\n",
    "*Hint: Read up on [`pivot_table()`](https://pandas.pydata.org/pandas-docs/stable/reference/api/pandas.pivot_table.html)*"
   ]
  },
  {
   "cell_type": "code",
   "execution_count": 55,
   "metadata": {
    "scrolled": false
   },
   "outputs": [
    {
     "data": {
      "text/plain": "placeID  132560  132561  132564  132572  132583  132584  132594  132608  \\\nuserID                                                                    \nU1001       NaN     NaN     NaN     NaN     NaN     NaN     NaN     NaN   \nU1002       NaN     NaN     NaN     NaN     NaN     NaN     NaN     NaN   \nU1003       NaN     NaN     NaN     NaN     NaN     NaN     NaN     NaN   \nU1004       NaN     NaN     NaN     NaN     NaN     NaN     NaN     NaN   \nU1005       NaN     NaN     NaN     NaN     NaN     NaN     NaN     NaN   \n...         ...     ...     ...     ...     ...     ...     ...     ...   \nU1134       NaN     NaN     NaN     0.0     NaN     NaN     NaN     NaN   \nU1135       NaN     NaN     NaN     NaN     NaN     NaN     NaN     NaN   \nU1136       NaN     NaN     NaN     NaN     NaN     NaN     NaN     NaN   \nU1137       NaN     NaN     NaN     NaN     NaN     NaN     NaN     NaN   \nU1138       NaN     NaN     NaN     NaN     NaN     NaN     NaN     NaN   \n\nplaceID  132609  132613  ...  135080  135081  135082  135085  135086  135088  \\\nuserID                   ...                                                   \nU1001       NaN     NaN  ...     NaN     NaN     NaN     0.0     NaN     NaN   \nU1002       NaN     NaN  ...     NaN     NaN     NaN     1.0     NaN     NaN   \nU1003       NaN     NaN  ...     2.0     NaN     NaN     NaN     NaN     NaN   \nU1004       NaN     NaN  ...     NaN     NaN     NaN     NaN     NaN     NaN   \nU1005       NaN     NaN  ...     NaN     NaN     NaN     NaN     NaN     NaN   \n...         ...     ...  ...     ...     ...     ...     ...     ...     ...   \nU1134       NaN     NaN  ...     1.0     NaN     NaN     2.0     NaN     NaN   \nU1135       NaN     NaN  ...     NaN     NaN     NaN     0.0     NaN     NaN   \nU1136       NaN     NaN  ...     NaN     NaN     NaN     NaN     NaN     NaN   \nU1137       NaN     NaN  ...     NaN     NaN     NaN     2.0     NaN     NaN   \nU1138       NaN     NaN  ...     NaN     NaN     NaN     NaN     NaN     NaN   \n\nplaceID  135104  135106  135108  135109  \nuserID                                   \nU1001       NaN     NaN     NaN     NaN  \nU1002       NaN     1.0     NaN     NaN  \nU1003       NaN     NaN     NaN     NaN  \nU1004       NaN     2.0     NaN     NaN  \nU1005       NaN     NaN     NaN     NaN  \n...         ...     ...     ...     ...  \nU1134       NaN     NaN     NaN     NaN  \nU1135       NaN     0.0     NaN     NaN  \nU1136       NaN     NaN     NaN     NaN  \nU1137       NaN     NaN     NaN     NaN  \nU1138       NaN     NaN     NaN     NaN  \n\n[138 rows x 130 columns]",
      "text/html": "<div>\n<style scoped>\n    .dataframe tbody tr th:only-of-type {\n        vertical-align: middle;\n    }\n\n    .dataframe tbody tr th {\n        vertical-align: top;\n    }\n\n    .dataframe thead th {\n        text-align: right;\n    }\n</style>\n<table border=\"1\" class=\"dataframe\">\n  <thead>\n    <tr style=\"text-align: right;\">\n      <th>placeID</th>\n      <th>132560</th>\n      <th>132561</th>\n      <th>132564</th>\n      <th>132572</th>\n      <th>132583</th>\n      <th>132584</th>\n      <th>132594</th>\n      <th>132608</th>\n      <th>132609</th>\n      <th>132613</th>\n      <th>...</th>\n      <th>135080</th>\n      <th>135081</th>\n      <th>135082</th>\n      <th>135085</th>\n      <th>135086</th>\n      <th>135088</th>\n      <th>135104</th>\n      <th>135106</th>\n      <th>135108</th>\n      <th>135109</th>\n    </tr>\n    <tr>\n      <th>userID</th>\n      <th></th>\n      <th></th>\n      <th></th>\n      <th></th>\n      <th></th>\n      <th></th>\n      <th></th>\n      <th></th>\n      <th></th>\n      <th></th>\n      <th></th>\n      <th></th>\n      <th></th>\n      <th></th>\n      <th></th>\n      <th></th>\n      <th></th>\n      <th></th>\n      <th></th>\n      <th></th>\n      <th></th>\n    </tr>\n  </thead>\n  <tbody>\n    <tr>\n      <th>U1001</th>\n      <td>NaN</td>\n      <td>NaN</td>\n      <td>NaN</td>\n      <td>NaN</td>\n      <td>NaN</td>\n      <td>NaN</td>\n      <td>NaN</td>\n      <td>NaN</td>\n      <td>NaN</td>\n      <td>NaN</td>\n      <td>...</td>\n      <td>NaN</td>\n      <td>NaN</td>\n      <td>NaN</td>\n      <td>0.0</td>\n      <td>NaN</td>\n      <td>NaN</td>\n      <td>NaN</td>\n      <td>NaN</td>\n      <td>NaN</td>\n      <td>NaN</td>\n    </tr>\n    <tr>\n      <th>U1002</th>\n      <td>NaN</td>\n      <td>NaN</td>\n      <td>NaN</td>\n      <td>NaN</td>\n      <td>NaN</td>\n      <td>NaN</td>\n      <td>NaN</td>\n      <td>NaN</td>\n      <td>NaN</td>\n      <td>NaN</td>\n      <td>...</td>\n      <td>NaN</td>\n      <td>NaN</td>\n      <td>NaN</td>\n      <td>1.0</td>\n      <td>NaN</td>\n      <td>NaN</td>\n      <td>NaN</td>\n      <td>1.0</td>\n      <td>NaN</td>\n      <td>NaN</td>\n    </tr>\n    <tr>\n      <th>U1003</th>\n      <td>NaN</td>\n      <td>NaN</td>\n      <td>NaN</td>\n      <td>NaN</td>\n      <td>NaN</td>\n      <td>NaN</td>\n      <td>NaN</td>\n      <td>NaN</td>\n      <td>NaN</td>\n      <td>NaN</td>\n      <td>...</td>\n      <td>2.0</td>\n      <td>NaN</td>\n      <td>NaN</td>\n      <td>NaN</td>\n      <td>NaN</td>\n      <td>NaN</td>\n      <td>NaN</td>\n      <td>NaN</td>\n      <td>NaN</td>\n      <td>NaN</td>\n    </tr>\n    <tr>\n      <th>U1004</th>\n      <td>NaN</td>\n      <td>NaN</td>\n      <td>NaN</td>\n      <td>NaN</td>\n      <td>NaN</td>\n      <td>NaN</td>\n      <td>NaN</td>\n      <td>NaN</td>\n      <td>NaN</td>\n      <td>NaN</td>\n      <td>...</td>\n      <td>NaN</td>\n      <td>NaN</td>\n      <td>NaN</td>\n      <td>NaN</td>\n      <td>NaN</td>\n      <td>NaN</td>\n      <td>NaN</td>\n      <td>2.0</td>\n      <td>NaN</td>\n      <td>NaN</td>\n    </tr>\n    <tr>\n      <th>U1005</th>\n      <td>NaN</td>\n      <td>NaN</td>\n      <td>NaN</td>\n      <td>NaN</td>\n      <td>NaN</td>\n      <td>NaN</td>\n      <td>NaN</td>\n      <td>NaN</td>\n      <td>NaN</td>\n      <td>NaN</td>\n      <td>...</td>\n      <td>NaN</td>\n      <td>NaN</td>\n      <td>NaN</td>\n      <td>NaN</td>\n      <td>NaN</td>\n      <td>NaN</td>\n      <td>NaN</td>\n      <td>NaN</td>\n      <td>NaN</td>\n      <td>NaN</td>\n    </tr>\n    <tr>\n      <th>...</th>\n      <td>...</td>\n      <td>...</td>\n      <td>...</td>\n      <td>...</td>\n      <td>...</td>\n      <td>...</td>\n      <td>...</td>\n      <td>...</td>\n      <td>...</td>\n      <td>...</td>\n      <td>...</td>\n      <td>...</td>\n      <td>...</td>\n      <td>...</td>\n      <td>...</td>\n      <td>...</td>\n      <td>...</td>\n      <td>...</td>\n      <td>...</td>\n      <td>...</td>\n      <td>...</td>\n    </tr>\n    <tr>\n      <th>U1134</th>\n      <td>NaN</td>\n      <td>NaN</td>\n      <td>NaN</td>\n      <td>0.0</td>\n      <td>NaN</td>\n      <td>NaN</td>\n      <td>NaN</td>\n      <td>NaN</td>\n      <td>NaN</td>\n      <td>NaN</td>\n      <td>...</td>\n      <td>1.0</td>\n      <td>NaN</td>\n      <td>NaN</td>\n      <td>2.0</td>\n      <td>NaN</td>\n      <td>NaN</td>\n      <td>NaN</td>\n      <td>NaN</td>\n      <td>NaN</td>\n      <td>NaN</td>\n    </tr>\n    <tr>\n      <th>U1135</th>\n      <td>NaN</td>\n      <td>NaN</td>\n      <td>NaN</td>\n      <td>NaN</td>\n      <td>NaN</td>\n      <td>NaN</td>\n      <td>NaN</td>\n      <td>NaN</td>\n      <td>NaN</td>\n      <td>NaN</td>\n      <td>...</td>\n      <td>NaN</td>\n      <td>NaN</td>\n      <td>NaN</td>\n      <td>0.0</td>\n      <td>NaN</td>\n      <td>NaN</td>\n      <td>NaN</td>\n      <td>0.0</td>\n      <td>NaN</td>\n      <td>NaN</td>\n    </tr>\n    <tr>\n      <th>U1136</th>\n      <td>NaN</td>\n      <td>NaN</td>\n      <td>NaN</td>\n      <td>NaN</td>\n      <td>NaN</td>\n      <td>NaN</td>\n      <td>NaN</td>\n      <td>NaN</td>\n      <td>NaN</td>\n      <td>NaN</td>\n      <td>...</td>\n      <td>NaN</td>\n      <td>NaN</td>\n      <td>NaN</td>\n      <td>NaN</td>\n      <td>NaN</td>\n      <td>NaN</td>\n      <td>NaN</td>\n      <td>NaN</td>\n      <td>NaN</td>\n      <td>NaN</td>\n    </tr>\n    <tr>\n      <th>U1137</th>\n      <td>NaN</td>\n      <td>NaN</td>\n      <td>NaN</td>\n      <td>NaN</td>\n      <td>NaN</td>\n      <td>NaN</td>\n      <td>NaN</td>\n      <td>NaN</td>\n      <td>NaN</td>\n      <td>NaN</td>\n      <td>...</td>\n      <td>NaN</td>\n      <td>NaN</td>\n      <td>NaN</td>\n      <td>2.0</td>\n      <td>NaN</td>\n      <td>NaN</td>\n      <td>NaN</td>\n      <td>NaN</td>\n      <td>NaN</td>\n      <td>NaN</td>\n    </tr>\n    <tr>\n      <th>U1138</th>\n      <td>NaN</td>\n      <td>NaN</td>\n      <td>NaN</td>\n      <td>NaN</td>\n      <td>NaN</td>\n      <td>NaN</td>\n      <td>NaN</td>\n      <td>NaN</td>\n      <td>NaN</td>\n      <td>NaN</td>\n      <td>...</td>\n      <td>NaN</td>\n      <td>NaN</td>\n      <td>NaN</td>\n      <td>NaN</td>\n      <td>NaN</td>\n      <td>NaN</td>\n      <td>NaN</td>\n      <td>NaN</td>\n      <td>NaN</td>\n      <td>NaN</td>\n    </tr>\n  </tbody>\n</table>\n<p>138 rows × 130 columns</p>\n</div>"
     },
     "execution_count": 55,
     "metadata": {},
     "output_type": "execute_result"
    }
   ],
   "source": [
    "#TODO\n",
    "utility_matrix = pd.pivot_table(data=ratings, index=\"userID\", columns=\"placeID\", values=\"rating\")\n",
    "utility_matrix\n"
   ]
  },
  {
   "cell_type": "markdown",
   "metadata": {},
   "source": [
    "#### ❓Q7. Using the utility matrix from Q6, find the list of users who have rated and their rating for placeID = 135085."
   ]
  },
  {
   "cell_type": "code",
   "execution_count": 56,
   "metadata": {
    "scrolled": true
   },
   "outputs": [
    {
     "data": {
      "text/plain": "userID\nU1001    0.0\nU1002    1.0\nU1007    1.0\nU1013    1.0\nU1016    2.0\nU1027    1.0\nU1029    1.0\nU1032    1.0\nU1033    2.0\nU1036    2.0\nU1045    2.0\nU1046    1.0\nU1049    0.0\nU1056    2.0\nU1059    2.0\nU1062    0.0\nU1077    2.0\nU1081    1.0\nU1084    2.0\nU1086    2.0\nU1089    1.0\nU1090    2.0\nU1092    0.0\nU1098    1.0\nU1104    2.0\nU1106    2.0\nU1108    1.0\nU1109    2.0\nU1113    1.0\nU1116    2.0\nU1120    0.0\nU1122    2.0\nU1132    2.0\nU1134    2.0\nU1135    0.0\nU1137    2.0\nName: 135085, dtype: float64"
     },
     "execution_count": 56,
     "metadata": {},
     "output_type": "execute_result"
    }
   ],
   "source": [
    "#TODO\n",
    "r_135085 = 135085\n",
    "reviewer_ratings_135085 = utility_matrix[r_135085].dropna()\n",
    "reviewer_ratings_135085\n"
   ]
  },
  {
   "cell_type": "markdown",
   "metadata": {},
   "source": [
    "#### ❓Q8. Using the utility matrix from Q6, find the top 10 restaurants most similar to placeID = 135085 using Pearson's Correlation Coefficient. \n",
    "In the lecture hands-on we have calculated the correlation value manually. Pandas does provide a function [`corrwith()`](https://pandas.pydata.org/docs/reference/api/pandas.DataFrame.corrwith.html) to calculate the correlation between 2 columns/rows.\n",
    "\n",
    "However, note that the calculation is slightly different - specifically, the normalization of each *r<sub>u,i</sub>* & *r<sub>v,i</sub>* only consider mean of the common rated items of *u* & *v* rather than all the available ratings for *u* and *v*).\n",
    "\n",
    "This can potentially cause some problems in some scenarios (e.g. https://stats.stackexchange.com/questions/262925/is-there-a-serious-problem-with-dropping-observations-with-missing-values-when-c) but for simplicity we will just use it for this lab."
   ]
  },
  {
   "cell_type": "code",
   "execution_count": 57,
   "metadata": {},
   "outputs": [
    {
     "name": "stderr",
     "output_type": "stream",
     "text": [
      "C:\\Users\\22507\\anaconda3\\lib\\site-packages\\numpy\\lib\\function_base.py:2683: RuntimeWarning: Degrees of freedom <= 0 for slice\n",
      "  c = cov(x, y, rowvar, dtype=dtype)\n",
      "C:\\Users\\22507\\anaconda3\\lib\\site-packages\\numpy\\lib\\function_base.py:2542: RuntimeWarning: divide by zero encountered in true_divide\n",
      "  c *= np.true_divide(1, fact)\n"
     ]
    }
   ],
   "source": [
    "#TODO\n",
    "correlation_with_135085 = utility_matrix.corrwith(utility_matrix[r_135085]).dropna()\n",
    "correlation_with_135085 = correlation_with_135085.drop(r_135085)\n"
   ]
  },
  {
   "cell_type": "code",
   "execution_count": 58,
   "metadata": {},
   "outputs": [],
   "source": [
    "top_place_id = correlation_with_135085.sort_values(ascending=False)[:10]\n"
   ]
  },
  {
   "cell_type": "code",
   "execution_count": 59,
   "metadata": {},
   "outputs": [
    {
     "data": {
      "text/plain": "array([135076, 132925, 135066, 132937, 132922, 135053, 132754, 135045,\n       135062, 135028], dtype=int64)"
     },
     "execution_count": 59,
     "metadata": {},
     "output_type": "execute_result"
    }
   ],
   "source": [
    "top_place_id = top_place_id.index.values\n",
    "top_place_id\n"
   ]
  },
  {
   "cell_type": "code",
   "execution_count": 60,
   "metadata": {},
   "outputs": [
    {
     "data": {
      "text/plain": "     placeID                                   name  ratings_mean  \\\n13    132937                            rockabilly       1.500000   \n24    135053  La Fontana Pizza Restaurante and Cafe      1.125000   \n25    135053  La Fontana Pizza Restaurante and Cafe      1.125000   \n26    135053  La Fontana Pizza Restaurante and Cafe      1.125000   \n38    132925                            el pueblito      1.000000   \n76    132922                   cafe punta del cielo      1.833333   \n98    132754                        Cabana Huasteca      1.461538   \n102   135028                            La Virreina      1.533333   \n\n     ratings_count    cuisine  \n13               4        Bar  \n24               8  Cafeteria  \n25               8  Fast_Food  \n26               8   Pizzeria  \n38               5    Mexican  \n76               6  Cafeteria  \n98              13    Mexican  \n102             15    Mexican  ",
      "text/html": "<div>\n<style scoped>\n    .dataframe tbody tr th:only-of-type {\n        vertical-align: middle;\n    }\n\n    .dataframe tbody tr th {\n        vertical-align: top;\n    }\n\n    .dataframe thead th {\n        text-align: right;\n    }\n</style>\n<table border=\"1\" class=\"dataframe\">\n  <thead>\n    <tr style=\"text-align: right;\">\n      <th></th>\n      <th>placeID</th>\n      <th>name</th>\n      <th>ratings_mean</th>\n      <th>ratings_count</th>\n      <th>cuisine</th>\n    </tr>\n  </thead>\n  <tbody>\n    <tr>\n      <th>13</th>\n      <td>132937</td>\n      <td>rockabilly</td>\n      <td>1.500000</td>\n      <td>4</td>\n      <td>Bar</td>\n    </tr>\n    <tr>\n      <th>24</th>\n      <td>135053</td>\n      <td>La Fontana Pizza Restaurante and Cafe</td>\n      <td>1.125000</td>\n      <td>8</td>\n      <td>Cafeteria</td>\n    </tr>\n    <tr>\n      <th>25</th>\n      <td>135053</td>\n      <td>La Fontana Pizza Restaurante and Cafe</td>\n      <td>1.125000</td>\n      <td>8</td>\n      <td>Fast_Food</td>\n    </tr>\n    <tr>\n      <th>26</th>\n      <td>135053</td>\n      <td>La Fontana Pizza Restaurante and Cafe</td>\n      <td>1.125000</td>\n      <td>8</td>\n      <td>Pizzeria</td>\n    </tr>\n    <tr>\n      <th>38</th>\n      <td>132925</td>\n      <td>el pueblito</td>\n      <td>1.000000</td>\n      <td>5</td>\n      <td>Mexican</td>\n    </tr>\n    <tr>\n      <th>76</th>\n      <td>132922</td>\n      <td>cafe punta del cielo</td>\n      <td>1.833333</td>\n      <td>6</td>\n      <td>Cafeteria</td>\n    </tr>\n    <tr>\n      <th>98</th>\n      <td>132754</td>\n      <td>Cabana Huasteca</td>\n      <td>1.461538</td>\n      <td>13</td>\n      <td>Mexican</td>\n    </tr>\n    <tr>\n      <th>102</th>\n      <td>135028</td>\n      <td>La Virreina</td>\n      <td>1.533333</td>\n      <td>15</td>\n      <td>Mexican</td>\n    </tr>\n  </tbody>\n</table>\n</div>"
     },
     "execution_count": 60,
     "metadata": {},
     "output_type": "execute_result"
    }
   ],
   "source": [
    "restaurants_combined[restaurants_combined.placeID.isin(top_place_id)]\n"
   ]
  },
  {
   "cell_type": "markdown",
   "metadata": {},
   "source": [
    "#### ❓Q9. We should have noticed that some of the correlation value generated in Q8 is 1.0.\n",
    "Go through all these restaurants and determine\n",
    "1) the number of users rated each of these restaurants and placeID=135085, and \n",
    "2) all the rating given by that user. \n",
    "\n",
    "This is to check whether the correlation of 1 is because of limited number of common ratings for both restaurant (and that the users usually give similar rating for the restaurants)."
   ]
  },
  {
   "cell_type": "code",
   "execution_count": 61,
   "metadata": {},
   "outputs": [
    {
     "data": {
      "text/plain": "array([132922, 132925, 132937, 135066, 135076], dtype=int64)"
     },
     "execution_count": 61,
     "metadata": {},
     "output_type": "execute_result"
    }
   ],
   "source": [
    "#correlation_with_135085.sort_values(ascending=False)\n",
    "similar_places_135085 = correlation_with_135085[correlation_with_135085==1.0]\n",
    "similar_places_135085 = similar_places_135085.index.values\n",
    "similar_places_135085\n"
   ]
  },
  {
   "cell_type": "code",
   "execution_count": 62,
   "metadata": {},
   "outputs": [
    {
     "data": {
      "text/plain": "{'U1001',\n 'U1002',\n 'U1007',\n 'U1013',\n 'U1016',\n 'U1027',\n 'U1029',\n 'U1032',\n 'U1033',\n 'U1036',\n 'U1045',\n 'U1046',\n 'U1049',\n 'U1056',\n 'U1059',\n 'U1062',\n 'U1077',\n 'U1081',\n 'U1084',\n 'U1086',\n 'U1089',\n 'U1090',\n 'U1092',\n 'U1098',\n 'U1104',\n 'U1106',\n 'U1108',\n 'U1109',\n 'U1113',\n 'U1116',\n 'U1120',\n 'U1122',\n 'U1132',\n 'U1134',\n 'U1135',\n 'U1137'}"
     },
     "execution_count": 62,
     "metadata": {},
     "output_type": "execute_result"
    }
   ],
   "source": [
    "reviewers_135085 = reviewer_ratings_135085.index.values\n",
    "reviewers_135085 = set(reviewers_135085)\n",
    "reviewers_135085\n"
   ]
  },
  {
   "cell_type": "code",
   "execution_count": 63,
   "metadata": {},
   "outputs": [
    {
     "data": {
      "text/plain": "     userID  placeID  rating  food_rating  service_rating\n0     U1077   135085       2            2               2\n1     U1077   135038       2            2               1\n2     U1077   132825       2            2               2\n3     U1077   135060       1            2               2\n4     U1068   135104       1            1               2\n...     ...      ...     ...          ...             ...\n1156  U1043   132630       1            1               1\n1157  U1011   132715       1            1               0\n1158  U1068   132733       1            1               0\n1159  U1068   132594       1            1               1\n1160  U1068   132660       0            0               0\n\n[1161 rows x 5 columns]",
      "text/html": "<div>\n<style scoped>\n    .dataframe tbody tr th:only-of-type {\n        vertical-align: middle;\n    }\n\n    .dataframe tbody tr th {\n        vertical-align: top;\n    }\n\n    .dataframe thead th {\n        text-align: right;\n    }\n</style>\n<table border=\"1\" class=\"dataframe\">\n  <thead>\n    <tr style=\"text-align: right;\">\n      <th></th>\n      <th>userID</th>\n      <th>placeID</th>\n      <th>rating</th>\n      <th>food_rating</th>\n      <th>service_rating</th>\n    </tr>\n  </thead>\n  <tbody>\n    <tr>\n      <th>0</th>\n      <td>U1077</td>\n      <td>135085</td>\n      <td>2</td>\n      <td>2</td>\n      <td>2</td>\n    </tr>\n    <tr>\n      <th>1</th>\n      <td>U1077</td>\n      <td>135038</td>\n      <td>2</td>\n      <td>2</td>\n      <td>1</td>\n    </tr>\n    <tr>\n      <th>2</th>\n      <td>U1077</td>\n      <td>132825</td>\n      <td>2</td>\n      <td>2</td>\n      <td>2</td>\n    </tr>\n    <tr>\n      <th>3</th>\n      <td>U1077</td>\n      <td>135060</td>\n      <td>1</td>\n      <td>2</td>\n      <td>2</td>\n    </tr>\n    <tr>\n      <th>4</th>\n      <td>U1068</td>\n      <td>135104</td>\n      <td>1</td>\n      <td>1</td>\n      <td>2</td>\n    </tr>\n    <tr>\n      <th>...</th>\n      <td>...</td>\n      <td>...</td>\n      <td>...</td>\n      <td>...</td>\n      <td>...</td>\n    </tr>\n    <tr>\n      <th>1156</th>\n      <td>U1043</td>\n      <td>132630</td>\n      <td>1</td>\n      <td>1</td>\n      <td>1</td>\n    </tr>\n    <tr>\n      <th>1157</th>\n      <td>U1011</td>\n      <td>132715</td>\n      <td>1</td>\n      <td>1</td>\n      <td>0</td>\n    </tr>\n    <tr>\n      <th>1158</th>\n      <td>U1068</td>\n      <td>132733</td>\n      <td>1</td>\n      <td>1</td>\n      <td>0</td>\n    </tr>\n    <tr>\n      <th>1159</th>\n      <td>U1068</td>\n      <td>132594</td>\n      <td>1</td>\n      <td>1</td>\n      <td>1</td>\n    </tr>\n    <tr>\n      <th>1160</th>\n      <td>U1068</td>\n      <td>132660</td>\n      <td>0</td>\n      <td>0</td>\n      <td>0</td>\n    </tr>\n  </tbody>\n</table>\n<p>1161 rows × 5 columns</p>\n</div>"
     },
     "execution_count": 63,
     "metadata": {},
     "output_type": "execute_result"
    }
   ],
   "source": [
    "ratings\n"
   ]
  },
  {
   "cell_type": "code",
   "execution_count": 64,
   "metadata": {},
   "outputs": [
    {
     "name": "stdout",
     "output_type": "stream",
     "text": [
      "Place ID: 132922, total: 6\n",
      "Number of Common reviewers: 3\n",
      "_____\n",
      "User ID: U1090 \n",
      "2    8\n",
      "1    2\n",
      "Name: rating, dtype: int64\n",
      "_____\n",
      "User ID: U1086 \n",
      "2    5\n",
      "1    4\n",
      "Name: rating, dtype: int64\n",
      "_____\n",
      "User ID: U1029 \n",
      "1    7\n",
      "0    2\n",
      "2    1\n",
      "Name: rating, dtype: int64\n",
      "=======================================\n",
      "++++\n",
      "+++\n",
      "++\n",
      "+\n",
      "Place ID: 132925, total: 5\n",
      "Number of Common reviewers: 3\n",
      "_____\n",
      "User ID: U1090 \n",
      "2    8\n",
      "1    2\n",
      "Name: rating, dtype: int64\n",
      "_____\n",
      "User ID: U1002 \n",
      "1    6\n",
      "2    4\n",
      "Name: rating, dtype: int64\n",
      "_____\n",
      "User ID: U1027 \n",
      "1    10\n",
      "0     1\n",
      "Name: rating, dtype: int64\n",
      "=======================================\n",
      "++++\n",
      "+++\n",
      "++\n",
      "+\n",
      "Place ID: 132937, total: 4\n",
      "Number of Common reviewers: 3\n",
      "_____\n",
      "User ID: U1086 \n",
      "2    5\n",
      "1    4\n",
      "Name: rating, dtype: int64\n",
      "_____\n",
      "User ID: U1027 \n",
      "1    10\n",
      "0     1\n",
      "Name: rating, dtype: int64\n",
      "_____\n",
      "User ID: U1029 \n",
      "1    7\n",
      "0    2\n",
      "2    1\n",
      "Name: rating, dtype: int64\n",
      "=======================================\n",
      "++++\n",
      "+++\n",
      "++\n",
      "+\n",
      "Place ID: 135066, total: 12\n",
      "Number of Common reviewers: 5\n",
      "_____\n",
      "User ID: U1016 \n",
      "2    12\n",
      "1     1\n",
      "Name: rating, dtype: int64\n",
      "_____\n",
      "User ID: U1122 \n",
      "2    11\n",
      "1     1\n",
      "Name: rating, dtype: int64\n",
      "_____\n",
      "User ID: U1056 \n",
      "2    9\n",
      "0    1\n",
      "Name: rating, dtype: int64\n",
      "_____\n",
      "User ID: U1027 \n",
      "1    10\n",
      "0     1\n",
      "Name: rating, dtype: int64\n",
      "_____\n",
      "User ID: U1106 \n",
      "2    12\n",
      "0     5\n",
      "1     1\n",
      "Name: rating, dtype: int64\n",
      "=======================================\n",
      "++++\n",
      "+++\n",
      "++\n",
      "+\n",
      "Place ID: 135076, total: 13\n",
      "Number of Common reviewers: 3\n",
      "_____\n",
      "User ID: U1081 \n",
      "1    6\n",
      "0    5\n",
      "Name: rating, dtype: int64\n",
      "_____\n",
      "User ID: U1056 \n",
      "2    9\n",
      "0    1\n",
      "Name: rating, dtype: int64\n",
      "_____\n",
      "User ID: U1013 \n",
      "1    5\n",
      "2    5\n",
      "Name: rating, dtype: int64\n",
      "=======================================\n",
      "++++\n",
      "+++\n",
      "++\n",
      "+\n"
     ]
    }
   ],
   "source": [
    "#TODO\n",
    "# for each place in similar places\n",
    "# find reviewers of each place\n",
    "# find intersection between reviewers of each place & reviewers of 135085\n",
    "# we get list of common reviewers\n",
    "\n",
    "# for each common reviewer, print their ratings\n",
    "\n",
    "\n",
    "for placeid in similar_places_135085:\n",
    "    reviewers = set(utility_matrix[placeid].dropna().index.values)\n",
    "    print(f\"Place ID: {placeid}, total: {len(reviewers)}\")\n",
    "    \n",
    "    reviewers_intersection = reviewers_135085.intersection(reviewers)\n",
    "    print(f\"Number of Common reviewers: {len(reviewers_intersection)}\")\n",
    "    \n",
    "    for userid in reviewers_intersection:\n",
    "        print(\"_____\")\n",
    "        user_ratings = ratings[ratings.userID==userid]\n",
    "        print(f\"User ID: {userid} \\n{user_ratings.rating.value_counts()}\")\n",
    "    print(\"=======================================\")\n",
    "    print(\"++++\\n+++\\n++\\n+\")\n",
    "    "
   ]
  },
  {
   "cell_type": "markdown",
   "metadata": {},
   "source": [
    "#### ❓Q10. Ideally when answering Q8, we want to ensure that we only consider similiar restaurants with more than a certain threshold of common ratings ( `REVIEWERS_OVERLAP_THRESHOLD`). Produce the top 10 recommendations again taking this into consideration."
   ]
  },
  {
   "cell_type": "code",
   "execution_count": 65,
   "metadata": {},
   "outputs": [],
   "source": [
    "REVIEWERS_OVERLAP_THRESHOLD = 5\n"
   ]
  },
  {
   "cell_type": "code",
   "execution_count": 66,
   "metadata": {},
   "outputs": [],
   "source": [
    "#TODO\n",
    "#reviewers_135085\n"
   ]
  },
  {
   "cell_type": "code",
   "execution_count": 67,
   "metadata": {},
   "outputs": [],
   "source": [
    "correlation_with_135085DF = pd.DataFrame({\"corr\": correlation_with_135085, \"numRaters\": 0})\n",
    "correlation_with_135085DF\n",
    "\n",
    "for placeid in correlation_with_135085DF.index:\n",
    "    reviewers = set(utility_matrix[placeid].dropna().index.values)\n",
    "    reviewers_intersection = reviewers_135085.intersection(reviewers)\n",
    "    correlation_with_135085DF.loc[placeid, \"numRater\"] = len(reviewers_intersection)\n",
    "\n",
    "#correlation_with_135085DF\n"
   ]
  },
  {
   "cell_type": "code",
   "execution_count": 68,
   "metadata": {},
   "outputs": [],
   "source": [
    "filtered_top_place_id = correlation_with_135085DF[correlation_with_135085DF.numRater > REVIEWERS_OVERLAP_THRESHOLD]\n"
   ]
  },
  {
   "cell_type": "code",
   "execution_count": 69,
   "metadata": {},
   "outputs": [
    {
     "data": {
      "text/plain": "array([132754, 135045, 135062, 135028, 135042, 135046, 132872, 135038,\n       132834, 135052], dtype=int64)"
     },
     "execution_count": 69,
     "metadata": {},
     "output_type": "execute_result"
    }
   ],
   "source": [
    "filtered_top_place_id = filtered_top_place_id.sort_values(by=\"corr\", ascending=False)[:10].index.values\n",
    "filtered_top_place_id\n"
   ]
  },
  {
   "cell_type": "code",
   "execution_count": 70,
   "metadata": {},
   "outputs": [
    {
     "data": {
      "text/plain": "     placeID                         name  ratings_mean  ratings_count  \\\n21    135042  Restaurant Oriental Express      1.250000             20   \n36    135046      Restaurante El Reyecito      1.272727             11   \n48    135052       La Cantina Restaurante      1.280000             25   \n49    135052       La Cantina Restaurante      1.280000             25   \n62    132834          Gorditas Doa Gloria      1.000000             25   \n72    132872              Pizzeria Julios      0.916667             12   \n98    132754              Cabana Huasteca      1.461538             13   \n102   135028                  La Virreina      1.533333             15   \n\n             cuisine  \n21           Chinese  \n36         Fast_Food  \n48               Bar  \n49   Bar_Pub_Brewery  \n62           Mexican  \n72          American  \n98           Mexican  \n102          Mexican  ",
      "text/html": "<div>\n<style scoped>\n    .dataframe tbody tr th:only-of-type {\n        vertical-align: middle;\n    }\n\n    .dataframe tbody tr th {\n        vertical-align: top;\n    }\n\n    .dataframe thead th {\n        text-align: right;\n    }\n</style>\n<table border=\"1\" class=\"dataframe\">\n  <thead>\n    <tr style=\"text-align: right;\">\n      <th></th>\n      <th>placeID</th>\n      <th>name</th>\n      <th>ratings_mean</th>\n      <th>ratings_count</th>\n      <th>cuisine</th>\n    </tr>\n  </thead>\n  <tbody>\n    <tr>\n      <th>21</th>\n      <td>135042</td>\n      <td>Restaurant Oriental Express</td>\n      <td>1.250000</td>\n      <td>20</td>\n      <td>Chinese</td>\n    </tr>\n    <tr>\n      <th>36</th>\n      <td>135046</td>\n      <td>Restaurante El Reyecito</td>\n      <td>1.272727</td>\n      <td>11</td>\n      <td>Fast_Food</td>\n    </tr>\n    <tr>\n      <th>48</th>\n      <td>135052</td>\n      <td>La Cantina Restaurante</td>\n      <td>1.280000</td>\n      <td>25</td>\n      <td>Bar</td>\n    </tr>\n    <tr>\n      <th>49</th>\n      <td>135052</td>\n      <td>La Cantina Restaurante</td>\n      <td>1.280000</td>\n      <td>25</td>\n      <td>Bar_Pub_Brewery</td>\n    </tr>\n    <tr>\n      <th>62</th>\n      <td>132834</td>\n      <td>Gorditas Doa Gloria</td>\n      <td>1.000000</td>\n      <td>25</td>\n      <td>Mexican</td>\n    </tr>\n    <tr>\n      <th>72</th>\n      <td>132872</td>\n      <td>Pizzeria Julios</td>\n      <td>0.916667</td>\n      <td>12</td>\n      <td>American</td>\n    </tr>\n    <tr>\n      <th>98</th>\n      <td>132754</td>\n      <td>Cabana Huasteca</td>\n      <td>1.461538</td>\n      <td>13</td>\n      <td>Mexican</td>\n    </tr>\n    <tr>\n      <th>102</th>\n      <td>135028</td>\n      <td>La Virreina</td>\n      <td>1.533333</td>\n      <td>15</td>\n      <td>Mexican</td>\n    </tr>\n  </tbody>\n</table>\n</div>"
     },
     "execution_count": 70,
     "metadata": {},
     "output_type": "execute_result"
    }
   ],
   "source": [
    "restaurants_combined[restaurants_combined.placeID.isin(filtered_top_place_id)]\n"
   ]
  },
  {
   "cell_type": "markdown",
   "metadata": {},
   "source": [
    "## User-based Collaborative Filtering (CF)"
   ]
  },
  {
   "cell_type": "markdown",
   "metadata": {},
   "source": [
    "In Q8  We used the [`corrwith()`](https://pandas.pydata.org/docs/reference/api/pandas.DataFrame.corrwith.html) to find the correlation between the current Dataframe against another Dataframe/Series. It is also possible to compute the pairwise correlation of all the columns using [`corr()`](https://pandas.pydata.org/pandas-docs/stable/reference/api/pandas.DataFrame.corr.html)."
   ]
  },
  {
   "cell_type": "code",
   "execution_count": 71,
   "metadata": {},
   "outputs": [
    {
     "data": {
      "text/plain": "placeID  132560  132561  132564  132572  132583  132584  132594  132608  \\\nuserID                                                                    \nU1001       NaN     NaN     NaN     NaN     NaN     NaN     NaN     NaN   \nU1002       NaN     NaN     NaN     NaN     NaN     NaN     NaN     NaN   \nU1003       NaN     NaN     NaN     NaN     NaN     NaN     NaN     NaN   \nU1004       NaN     NaN     NaN     NaN     NaN     NaN     NaN     NaN   \nU1005       NaN     NaN     NaN     NaN     NaN     NaN     NaN     NaN   \n\nplaceID  132609  132613  ...  135080  135081  135082  135085  135086  135088  \\\nuserID                   ...                                                   \nU1001       NaN     NaN  ...     NaN     NaN     NaN     0.0     NaN     NaN   \nU1002       NaN     NaN  ...     NaN     NaN     NaN     1.0     NaN     NaN   \nU1003       NaN     NaN  ...     2.0     NaN     NaN     NaN     NaN     NaN   \nU1004       NaN     NaN  ...     NaN     NaN     NaN     NaN     NaN     NaN   \nU1005       NaN     NaN  ...     NaN     NaN     NaN     NaN     NaN     NaN   \n\nplaceID  135104  135106  135108  135109  \nuserID                                   \nU1001       NaN     NaN     NaN     NaN  \nU1002       NaN     1.0     NaN     NaN  \nU1003       NaN     NaN     NaN     NaN  \nU1004       NaN     2.0     NaN     NaN  \nU1005       NaN     NaN     NaN     NaN  \n\n[5 rows x 130 columns]",
      "text/html": "<div>\n<style scoped>\n    .dataframe tbody tr th:only-of-type {\n        vertical-align: middle;\n    }\n\n    .dataframe tbody tr th {\n        vertical-align: top;\n    }\n\n    .dataframe thead th {\n        text-align: right;\n    }\n</style>\n<table border=\"1\" class=\"dataframe\">\n  <thead>\n    <tr style=\"text-align: right;\">\n      <th>placeID</th>\n      <th>132560</th>\n      <th>132561</th>\n      <th>132564</th>\n      <th>132572</th>\n      <th>132583</th>\n      <th>132584</th>\n      <th>132594</th>\n      <th>132608</th>\n      <th>132609</th>\n      <th>132613</th>\n      <th>...</th>\n      <th>135080</th>\n      <th>135081</th>\n      <th>135082</th>\n      <th>135085</th>\n      <th>135086</th>\n      <th>135088</th>\n      <th>135104</th>\n      <th>135106</th>\n      <th>135108</th>\n      <th>135109</th>\n    </tr>\n    <tr>\n      <th>userID</th>\n      <th></th>\n      <th></th>\n      <th></th>\n      <th></th>\n      <th></th>\n      <th></th>\n      <th></th>\n      <th></th>\n      <th></th>\n      <th></th>\n      <th></th>\n      <th></th>\n      <th></th>\n      <th></th>\n      <th></th>\n      <th></th>\n      <th></th>\n      <th></th>\n      <th></th>\n      <th></th>\n      <th></th>\n    </tr>\n  </thead>\n  <tbody>\n    <tr>\n      <th>U1001</th>\n      <td>NaN</td>\n      <td>NaN</td>\n      <td>NaN</td>\n      <td>NaN</td>\n      <td>NaN</td>\n      <td>NaN</td>\n      <td>NaN</td>\n      <td>NaN</td>\n      <td>NaN</td>\n      <td>NaN</td>\n      <td>...</td>\n      <td>NaN</td>\n      <td>NaN</td>\n      <td>NaN</td>\n      <td>0.0</td>\n      <td>NaN</td>\n      <td>NaN</td>\n      <td>NaN</td>\n      <td>NaN</td>\n      <td>NaN</td>\n      <td>NaN</td>\n    </tr>\n    <tr>\n      <th>U1002</th>\n      <td>NaN</td>\n      <td>NaN</td>\n      <td>NaN</td>\n      <td>NaN</td>\n      <td>NaN</td>\n      <td>NaN</td>\n      <td>NaN</td>\n      <td>NaN</td>\n      <td>NaN</td>\n      <td>NaN</td>\n      <td>...</td>\n      <td>NaN</td>\n      <td>NaN</td>\n      <td>NaN</td>\n      <td>1.0</td>\n      <td>NaN</td>\n      <td>NaN</td>\n      <td>NaN</td>\n      <td>1.0</td>\n      <td>NaN</td>\n      <td>NaN</td>\n    </tr>\n    <tr>\n      <th>U1003</th>\n      <td>NaN</td>\n      <td>NaN</td>\n      <td>NaN</td>\n      <td>NaN</td>\n      <td>NaN</td>\n      <td>NaN</td>\n      <td>NaN</td>\n      <td>NaN</td>\n      <td>NaN</td>\n      <td>NaN</td>\n      <td>...</td>\n      <td>2.0</td>\n      <td>NaN</td>\n      <td>NaN</td>\n      <td>NaN</td>\n      <td>NaN</td>\n      <td>NaN</td>\n      <td>NaN</td>\n      <td>NaN</td>\n      <td>NaN</td>\n      <td>NaN</td>\n    </tr>\n    <tr>\n      <th>U1004</th>\n      <td>NaN</td>\n      <td>NaN</td>\n      <td>NaN</td>\n      <td>NaN</td>\n      <td>NaN</td>\n      <td>NaN</td>\n      <td>NaN</td>\n      <td>NaN</td>\n      <td>NaN</td>\n      <td>NaN</td>\n      <td>...</td>\n      <td>NaN</td>\n      <td>NaN</td>\n      <td>NaN</td>\n      <td>NaN</td>\n      <td>NaN</td>\n      <td>NaN</td>\n      <td>NaN</td>\n      <td>2.0</td>\n      <td>NaN</td>\n      <td>NaN</td>\n    </tr>\n    <tr>\n      <th>U1005</th>\n      <td>NaN</td>\n      <td>NaN</td>\n      <td>NaN</td>\n      <td>NaN</td>\n      <td>NaN</td>\n      <td>NaN</td>\n      <td>NaN</td>\n      <td>NaN</td>\n      <td>NaN</td>\n      <td>NaN</td>\n      <td>...</td>\n      <td>NaN</td>\n      <td>NaN</td>\n      <td>NaN</td>\n      <td>NaN</td>\n      <td>NaN</td>\n      <td>NaN</td>\n      <td>NaN</td>\n      <td>NaN</td>\n      <td>NaN</td>\n      <td>NaN</td>\n    </tr>\n  </tbody>\n</table>\n<p>5 rows × 130 columns</p>\n</div>"
     },
     "execution_count": 71,
     "metadata": {},
     "output_type": "execute_result"
    }
   ],
   "source": [
    "utility_matrix = pd.pivot_table(data = ratings, values = 'rating', index = 'userID', columns = 'placeID')\n",
    "utility_matrix.head()\n"
   ]
  },
  {
   "cell_type": "code",
   "execution_count": 72,
   "metadata": {
    "scrolled": true
   },
   "outputs": [
    {
     "data": {
      "text/plain": "userID   U1001  U1002  U1003  U1004  U1005  U1006  U1007  U1008  U1009  U1010  \\\nplaceID                                                                         \n132560     NaN    NaN    NaN    NaN    NaN    NaN    NaN    NaN    NaN    NaN   \n132561     NaN    NaN    NaN    NaN    NaN    NaN    NaN    NaN    NaN    NaN   \n132564     NaN    NaN    NaN    NaN    NaN    NaN    NaN    NaN    NaN    NaN   \n132572     NaN    NaN    NaN    NaN    NaN    1.0    1.0    NaN    NaN    NaN   \n132583     NaN    NaN    NaN    NaN    NaN    NaN    NaN    NaN    NaN    NaN   \n\nuserID   ...  U1129  U1130  U1131  U1132  U1133  U1134  U1135  U1136  U1137  \\\nplaceID  ...                                                                  \n132560   ...    NaN    NaN    NaN    NaN    NaN    NaN    NaN    NaN    NaN   \n132561   ...    1.0    0.0    NaN    NaN    NaN    NaN    NaN    NaN    NaN   \n132564   ...    NaN    NaN    NaN    NaN    NaN    NaN    NaN    NaN    NaN   \n132572   ...    NaN    NaN    NaN    NaN    NaN    0.0    NaN    NaN    NaN   \n132583   ...    NaN    NaN    NaN    NaN    NaN    NaN    NaN    NaN    NaN   \n\nuserID   U1138  \nplaceID         \n132560     NaN  \n132561     NaN  \n132564     NaN  \n132572     NaN  \n132583     NaN  \n\n[5 rows x 138 columns]",
      "text/html": "<div>\n<style scoped>\n    .dataframe tbody tr th:only-of-type {\n        vertical-align: middle;\n    }\n\n    .dataframe tbody tr th {\n        vertical-align: top;\n    }\n\n    .dataframe thead th {\n        text-align: right;\n    }\n</style>\n<table border=\"1\" class=\"dataframe\">\n  <thead>\n    <tr style=\"text-align: right;\">\n      <th>userID</th>\n      <th>U1001</th>\n      <th>U1002</th>\n      <th>U1003</th>\n      <th>U1004</th>\n      <th>U1005</th>\n      <th>U1006</th>\n      <th>U1007</th>\n      <th>U1008</th>\n      <th>U1009</th>\n      <th>U1010</th>\n      <th>...</th>\n      <th>U1129</th>\n      <th>U1130</th>\n      <th>U1131</th>\n      <th>U1132</th>\n      <th>U1133</th>\n      <th>U1134</th>\n      <th>U1135</th>\n      <th>U1136</th>\n      <th>U1137</th>\n      <th>U1138</th>\n    </tr>\n    <tr>\n      <th>placeID</th>\n      <th></th>\n      <th></th>\n      <th></th>\n      <th></th>\n      <th></th>\n      <th></th>\n      <th></th>\n      <th></th>\n      <th></th>\n      <th></th>\n      <th></th>\n      <th></th>\n      <th></th>\n      <th></th>\n      <th></th>\n      <th></th>\n      <th></th>\n      <th></th>\n      <th></th>\n      <th></th>\n      <th></th>\n    </tr>\n  </thead>\n  <tbody>\n    <tr>\n      <th>132560</th>\n      <td>NaN</td>\n      <td>NaN</td>\n      <td>NaN</td>\n      <td>NaN</td>\n      <td>NaN</td>\n      <td>NaN</td>\n      <td>NaN</td>\n      <td>NaN</td>\n      <td>NaN</td>\n      <td>NaN</td>\n      <td>...</td>\n      <td>NaN</td>\n      <td>NaN</td>\n      <td>NaN</td>\n      <td>NaN</td>\n      <td>NaN</td>\n      <td>NaN</td>\n      <td>NaN</td>\n      <td>NaN</td>\n      <td>NaN</td>\n      <td>NaN</td>\n    </tr>\n    <tr>\n      <th>132561</th>\n      <td>NaN</td>\n      <td>NaN</td>\n      <td>NaN</td>\n      <td>NaN</td>\n      <td>NaN</td>\n      <td>NaN</td>\n      <td>NaN</td>\n      <td>NaN</td>\n      <td>NaN</td>\n      <td>NaN</td>\n      <td>...</td>\n      <td>1.0</td>\n      <td>0.0</td>\n      <td>NaN</td>\n      <td>NaN</td>\n      <td>NaN</td>\n      <td>NaN</td>\n      <td>NaN</td>\n      <td>NaN</td>\n      <td>NaN</td>\n      <td>NaN</td>\n    </tr>\n    <tr>\n      <th>132564</th>\n      <td>NaN</td>\n      <td>NaN</td>\n      <td>NaN</td>\n      <td>NaN</td>\n      <td>NaN</td>\n      <td>NaN</td>\n      <td>NaN</td>\n      <td>NaN</td>\n      <td>NaN</td>\n      <td>NaN</td>\n      <td>...</td>\n      <td>NaN</td>\n      <td>NaN</td>\n      <td>NaN</td>\n      <td>NaN</td>\n      <td>NaN</td>\n      <td>NaN</td>\n      <td>NaN</td>\n      <td>NaN</td>\n      <td>NaN</td>\n      <td>NaN</td>\n    </tr>\n    <tr>\n      <th>132572</th>\n      <td>NaN</td>\n      <td>NaN</td>\n      <td>NaN</td>\n      <td>NaN</td>\n      <td>NaN</td>\n      <td>1.0</td>\n      <td>1.0</td>\n      <td>NaN</td>\n      <td>NaN</td>\n      <td>NaN</td>\n      <td>...</td>\n      <td>NaN</td>\n      <td>NaN</td>\n      <td>NaN</td>\n      <td>NaN</td>\n      <td>NaN</td>\n      <td>0.0</td>\n      <td>NaN</td>\n      <td>NaN</td>\n      <td>NaN</td>\n      <td>NaN</td>\n    </tr>\n    <tr>\n      <th>132583</th>\n      <td>NaN</td>\n      <td>NaN</td>\n      <td>NaN</td>\n      <td>NaN</td>\n      <td>NaN</td>\n      <td>NaN</td>\n      <td>NaN</td>\n      <td>NaN</td>\n      <td>NaN</td>\n      <td>NaN</td>\n      <td>...</td>\n      <td>NaN</td>\n      <td>NaN</td>\n      <td>NaN</td>\n      <td>NaN</td>\n      <td>NaN</td>\n      <td>NaN</td>\n      <td>NaN</td>\n      <td>NaN</td>\n      <td>NaN</td>\n      <td>NaN</td>\n    </tr>\n  </tbody>\n</table>\n<p>5 rows × 138 columns</p>\n</div>"
     },
     "execution_count": 72,
     "metadata": {},
     "output_type": "execute_result"
    }
   ],
   "source": [
    "utility_matrix.T.head()\n"
   ]
  },
  {
   "cell_type": "code",
   "execution_count": 73,
   "metadata": {
    "scrolled": true
   },
   "outputs": [
    {
     "data": {
      "text/plain": "(130, 138)"
     },
     "execution_count": 73,
     "metadata": {},
     "output_type": "execute_result"
    }
   ],
   "source": [
    "utility_matrix.T.shape\n"
   ]
  },
  {
   "cell_type": "code",
   "execution_count": 74,
   "metadata": {},
   "outputs": [
    {
     "data": {
      "text/plain": "userID  U1001     U1002     U1003  U1004  U1005     U1006  U1007  U1008  \\\nuserID                                                                    \nU1001     1.0  1.000000       NaN    NaN    NaN       NaN    NaN    NaN   \nU1002     1.0  1.000000 -0.522233    NaN    NaN       NaN    NaN    NaN   \nU1003     NaN -0.522233  1.000000    NaN    NaN       NaN    NaN    NaN   \nU1004     NaN       NaN       NaN    1.0    NaN       NaN    NaN    NaN   \nU1005     NaN       NaN       NaN    NaN    1.0       NaN    NaN    NaN   \n...       ...       ...       ...    ...    ...       ...    ...    ...   \nU1134    -1.0 -1.000000 -0.353553    NaN    NaN -0.534522    NaN    NaN   \nU1135     NaN       NaN       NaN    NaN    NaN       NaN    NaN    NaN   \nU1136     NaN       NaN  1.000000    NaN    NaN       NaN    NaN    NaN   \nU1137     NaN       NaN       NaN    NaN    NaN       NaN    NaN    NaN   \nU1138     NaN  1.000000       NaN    NaN    NaN       NaN    NaN    NaN   \n\nuserID     U1009         U1010  ...  U1129  U1130  U1131     U1132  U1133  \\\nuserID                          ...                                         \nU1001        NaN           NaN  ...    NaN    NaN    NaN -0.301511    NaN   \nU1002  -0.577350           NaN  ...    NaN    NaN    NaN       NaN    NaN   \nU1003  -0.612372           NaN  ...    NaN    NaN    NaN       NaN    NaN   \nU1004        NaN           NaN  ...    NaN    NaN    NaN       NaN    NaN   \nU1005        NaN           NaN  ...    NaN    NaN    NaN       NaN    NaN   \n...          ...           ...  ...    ...    ...    ...       ...    ...   \nU1134   0.577350 -5.551115e-17  ...    NaN    NaN    NaN       NaN    NaN   \nU1135        NaN           NaN  ...    NaN    NaN    NaN       NaN    NaN   \nU1136        NaN           NaN  ...    NaN    NaN    NaN       NaN    NaN   \nU1137   0.612372  1.000000e+00  ...    NaN    NaN    NaN       NaN    NaN   \nU1138        NaN           NaN  ...    NaN    NaN    NaN       NaN    NaN   \n\nuserID     U1134  U1135  U1136  U1137  U1138  \nuserID                                        \nU1001  -1.000000    NaN    NaN    NaN    NaN  \nU1002  -1.000000    NaN    NaN    NaN    1.0  \nU1003  -0.353553    NaN    1.0    NaN    NaN  \nU1004        NaN    NaN    NaN    NaN    NaN  \nU1005        NaN    NaN    NaN    NaN    NaN  \n...          ...    ...    ...    ...    ...  \nU1134   1.000000    NaN    NaN    NaN    NaN  \nU1135        NaN    NaN    NaN    NaN    NaN  \nU1136        NaN    NaN    1.0    NaN    NaN  \nU1137        NaN    NaN    NaN    1.0    NaN  \nU1138        NaN    NaN    NaN    NaN    1.0  \n\n[138 rows x 138 columns]",
      "text/html": "<div>\n<style scoped>\n    .dataframe tbody tr th:only-of-type {\n        vertical-align: middle;\n    }\n\n    .dataframe tbody tr th {\n        vertical-align: top;\n    }\n\n    .dataframe thead th {\n        text-align: right;\n    }\n</style>\n<table border=\"1\" class=\"dataframe\">\n  <thead>\n    <tr style=\"text-align: right;\">\n      <th>userID</th>\n      <th>U1001</th>\n      <th>U1002</th>\n      <th>U1003</th>\n      <th>U1004</th>\n      <th>U1005</th>\n      <th>U1006</th>\n      <th>U1007</th>\n      <th>U1008</th>\n      <th>U1009</th>\n      <th>U1010</th>\n      <th>...</th>\n      <th>U1129</th>\n      <th>U1130</th>\n      <th>U1131</th>\n      <th>U1132</th>\n      <th>U1133</th>\n      <th>U1134</th>\n      <th>U1135</th>\n      <th>U1136</th>\n      <th>U1137</th>\n      <th>U1138</th>\n    </tr>\n    <tr>\n      <th>userID</th>\n      <th></th>\n      <th></th>\n      <th></th>\n      <th></th>\n      <th></th>\n      <th></th>\n      <th></th>\n      <th></th>\n      <th></th>\n      <th></th>\n      <th></th>\n      <th></th>\n      <th></th>\n      <th></th>\n      <th></th>\n      <th></th>\n      <th></th>\n      <th></th>\n      <th></th>\n      <th></th>\n      <th></th>\n    </tr>\n  </thead>\n  <tbody>\n    <tr>\n      <th>U1001</th>\n      <td>1.0</td>\n      <td>1.000000</td>\n      <td>NaN</td>\n      <td>NaN</td>\n      <td>NaN</td>\n      <td>NaN</td>\n      <td>NaN</td>\n      <td>NaN</td>\n      <td>NaN</td>\n      <td>NaN</td>\n      <td>...</td>\n      <td>NaN</td>\n      <td>NaN</td>\n      <td>NaN</td>\n      <td>-0.301511</td>\n      <td>NaN</td>\n      <td>-1.000000</td>\n      <td>NaN</td>\n      <td>NaN</td>\n      <td>NaN</td>\n      <td>NaN</td>\n    </tr>\n    <tr>\n      <th>U1002</th>\n      <td>1.0</td>\n      <td>1.000000</td>\n      <td>-0.522233</td>\n      <td>NaN</td>\n      <td>NaN</td>\n      <td>NaN</td>\n      <td>NaN</td>\n      <td>NaN</td>\n      <td>-0.577350</td>\n      <td>NaN</td>\n      <td>...</td>\n      <td>NaN</td>\n      <td>NaN</td>\n      <td>NaN</td>\n      <td>NaN</td>\n      <td>NaN</td>\n      <td>-1.000000</td>\n      <td>NaN</td>\n      <td>NaN</td>\n      <td>NaN</td>\n      <td>1.0</td>\n    </tr>\n    <tr>\n      <th>U1003</th>\n      <td>NaN</td>\n      <td>-0.522233</td>\n      <td>1.000000</td>\n      <td>NaN</td>\n      <td>NaN</td>\n      <td>NaN</td>\n      <td>NaN</td>\n      <td>NaN</td>\n      <td>-0.612372</td>\n      <td>NaN</td>\n      <td>...</td>\n      <td>NaN</td>\n      <td>NaN</td>\n      <td>NaN</td>\n      <td>NaN</td>\n      <td>NaN</td>\n      <td>-0.353553</td>\n      <td>NaN</td>\n      <td>1.0</td>\n      <td>NaN</td>\n      <td>NaN</td>\n    </tr>\n    <tr>\n      <th>U1004</th>\n      <td>NaN</td>\n      <td>NaN</td>\n      <td>NaN</td>\n      <td>1.0</td>\n      <td>NaN</td>\n      <td>NaN</td>\n      <td>NaN</td>\n      <td>NaN</td>\n      <td>NaN</td>\n      <td>NaN</td>\n      <td>...</td>\n      <td>NaN</td>\n      <td>NaN</td>\n      <td>NaN</td>\n      <td>NaN</td>\n      <td>NaN</td>\n      <td>NaN</td>\n      <td>NaN</td>\n      <td>NaN</td>\n      <td>NaN</td>\n      <td>NaN</td>\n    </tr>\n    <tr>\n      <th>U1005</th>\n      <td>NaN</td>\n      <td>NaN</td>\n      <td>NaN</td>\n      <td>NaN</td>\n      <td>1.0</td>\n      <td>NaN</td>\n      <td>NaN</td>\n      <td>NaN</td>\n      <td>NaN</td>\n      <td>NaN</td>\n      <td>...</td>\n      <td>NaN</td>\n      <td>NaN</td>\n      <td>NaN</td>\n      <td>NaN</td>\n      <td>NaN</td>\n      <td>NaN</td>\n      <td>NaN</td>\n      <td>NaN</td>\n      <td>NaN</td>\n      <td>NaN</td>\n    </tr>\n    <tr>\n      <th>...</th>\n      <td>...</td>\n      <td>...</td>\n      <td>...</td>\n      <td>...</td>\n      <td>...</td>\n      <td>...</td>\n      <td>...</td>\n      <td>...</td>\n      <td>...</td>\n      <td>...</td>\n      <td>...</td>\n      <td>...</td>\n      <td>...</td>\n      <td>...</td>\n      <td>...</td>\n      <td>...</td>\n      <td>...</td>\n      <td>...</td>\n      <td>...</td>\n      <td>...</td>\n      <td>...</td>\n    </tr>\n    <tr>\n      <th>U1134</th>\n      <td>-1.0</td>\n      <td>-1.000000</td>\n      <td>-0.353553</td>\n      <td>NaN</td>\n      <td>NaN</td>\n      <td>-0.534522</td>\n      <td>NaN</td>\n      <td>NaN</td>\n      <td>0.577350</td>\n      <td>-5.551115e-17</td>\n      <td>...</td>\n      <td>NaN</td>\n      <td>NaN</td>\n      <td>NaN</td>\n      <td>NaN</td>\n      <td>NaN</td>\n      <td>1.000000</td>\n      <td>NaN</td>\n      <td>NaN</td>\n      <td>NaN</td>\n      <td>NaN</td>\n    </tr>\n    <tr>\n      <th>U1135</th>\n      <td>NaN</td>\n      <td>NaN</td>\n      <td>NaN</td>\n      <td>NaN</td>\n      <td>NaN</td>\n      <td>NaN</td>\n      <td>NaN</td>\n      <td>NaN</td>\n      <td>NaN</td>\n      <td>NaN</td>\n      <td>...</td>\n      <td>NaN</td>\n      <td>NaN</td>\n      <td>NaN</td>\n      <td>NaN</td>\n      <td>NaN</td>\n      <td>NaN</td>\n      <td>NaN</td>\n      <td>NaN</td>\n      <td>NaN</td>\n      <td>NaN</td>\n    </tr>\n    <tr>\n      <th>U1136</th>\n      <td>NaN</td>\n      <td>NaN</td>\n      <td>1.000000</td>\n      <td>NaN</td>\n      <td>NaN</td>\n      <td>NaN</td>\n      <td>NaN</td>\n      <td>NaN</td>\n      <td>NaN</td>\n      <td>NaN</td>\n      <td>...</td>\n      <td>NaN</td>\n      <td>NaN</td>\n      <td>NaN</td>\n      <td>NaN</td>\n      <td>NaN</td>\n      <td>NaN</td>\n      <td>NaN</td>\n      <td>1.0</td>\n      <td>NaN</td>\n      <td>NaN</td>\n    </tr>\n    <tr>\n      <th>U1137</th>\n      <td>NaN</td>\n      <td>NaN</td>\n      <td>NaN</td>\n      <td>NaN</td>\n      <td>NaN</td>\n      <td>NaN</td>\n      <td>NaN</td>\n      <td>NaN</td>\n      <td>0.612372</td>\n      <td>1.000000e+00</td>\n      <td>...</td>\n      <td>NaN</td>\n      <td>NaN</td>\n      <td>NaN</td>\n      <td>NaN</td>\n      <td>NaN</td>\n      <td>NaN</td>\n      <td>NaN</td>\n      <td>NaN</td>\n      <td>1.0</td>\n      <td>NaN</td>\n    </tr>\n    <tr>\n      <th>U1138</th>\n      <td>NaN</td>\n      <td>1.000000</td>\n      <td>NaN</td>\n      <td>NaN</td>\n      <td>NaN</td>\n      <td>NaN</td>\n      <td>NaN</td>\n      <td>NaN</td>\n      <td>NaN</td>\n      <td>NaN</td>\n      <td>...</td>\n      <td>NaN</td>\n      <td>NaN</td>\n      <td>NaN</td>\n      <td>NaN</td>\n      <td>NaN</td>\n      <td>NaN</td>\n      <td>NaN</td>\n      <td>NaN</td>\n      <td>NaN</td>\n      <td>1.0</td>\n    </tr>\n  </tbody>\n</table>\n<p>138 rows × 138 columns</p>\n</div>"
     },
     "execution_count": 74,
     "metadata": {},
     "output_type": "execute_result"
    }
   ],
   "source": [
    "correlation_matrix = utility_matrix.T.corr()\n",
    "correlation_matrix\n"
   ]
  },
  {
   "cell_type": "code",
   "execution_count": 75,
   "metadata": {},
   "outputs": [
    {
     "data": {
      "text/plain": "    userID  placeID  rating  food_rating  service_rating\n695  U1135   135085       0            0               0\n696  U1135   135106       0            0               0\n697  U1135   135052       0            0               0\n698  U1135   135041       0            0               0\n705  U1135   132825       0            0               0\n706  U1135   132834       0            0               0\n710  U1135   135058       0            0               0\n712  U1135   135063       0            0               0\n713  U1135   132856       0            0               0\n714  U1135   135045       0            0               0\n715  U1135   135028       0            0               0\n716  U1135   135032       0            0               0\n717  U1135   135042       0            0               0\n718  U1135   135060       0            0               0",
      "text/html": "<div>\n<style scoped>\n    .dataframe tbody tr th:only-of-type {\n        vertical-align: middle;\n    }\n\n    .dataframe tbody tr th {\n        vertical-align: top;\n    }\n\n    .dataframe thead th {\n        text-align: right;\n    }\n</style>\n<table border=\"1\" class=\"dataframe\">\n  <thead>\n    <tr style=\"text-align: right;\">\n      <th></th>\n      <th>userID</th>\n      <th>placeID</th>\n      <th>rating</th>\n      <th>food_rating</th>\n      <th>service_rating</th>\n    </tr>\n  </thead>\n  <tbody>\n    <tr>\n      <th>695</th>\n      <td>U1135</td>\n      <td>135085</td>\n      <td>0</td>\n      <td>0</td>\n      <td>0</td>\n    </tr>\n    <tr>\n      <th>696</th>\n      <td>U1135</td>\n      <td>135106</td>\n      <td>0</td>\n      <td>0</td>\n      <td>0</td>\n    </tr>\n    <tr>\n      <th>697</th>\n      <td>U1135</td>\n      <td>135052</td>\n      <td>0</td>\n      <td>0</td>\n      <td>0</td>\n    </tr>\n    <tr>\n      <th>698</th>\n      <td>U1135</td>\n      <td>135041</td>\n      <td>0</td>\n      <td>0</td>\n      <td>0</td>\n    </tr>\n    <tr>\n      <th>705</th>\n      <td>U1135</td>\n      <td>132825</td>\n      <td>0</td>\n      <td>0</td>\n      <td>0</td>\n    </tr>\n    <tr>\n      <th>706</th>\n      <td>U1135</td>\n      <td>132834</td>\n      <td>0</td>\n      <td>0</td>\n      <td>0</td>\n    </tr>\n    <tr>\n      <th>710</th>\n      <td>U1135</td>\n      <td>135058</td>\n      <td>0</td>\n      <td>0</td>\n      <td>0</td>\n    </tr>\n    <tr>\n      <th>712</th>\n      <td>U1135</td>\n      <td>135063</td>\n      <td>0</td>\n      <td>0</td>\n      <td>0</td>\n    </tr>\n    <tr>\n      <th>713</th>\n      <td>U1135</td>\n      <td>132856</td>\n      <td>0</td>\n      <td>0</td>\n      <td>0</td>\n    </tr>\n    <tr>\n      <th>714</th>\n      <td>U1135</td>\n      <td>135045</td>\n      <td>0</td>\n      <td>0</td>\n      <td>0</td>\n    </tr>\n    <tr>\n      <th>715</th>\n      <td>U1135</td>\n      <td>135028</td>\n      <td>0</td>\n      <td>0</td>\n      <td>0</td>\n    </tr>\n    <tr>\n      <th>716</th>\n      <td>U1135</td>\n      <td>135032</td>\n      <td>0</td>\n      <td>0</td>\n      <td>0</td>\n    </tr>\n    <tr>\n      <th>717</th>\n      <td>U1135</td>\n      <td>135042</td>\n      <td>0</td>\n      <td>0</td>\n      <td>0</td>\n    </tr>\n    <tr>\n      <th>718</th>\n      <td>U1135</td>\n      <td>135060</td>\n      <td>0</td>\n      <td>0</td>\n      <td>0</td>\n    </tr>\n  </tbody>\n</table>\n</div>"
     },
     "execution_count": 75,
     "metadata": {},
     "output_type": "execute_result"
    }
   ],
   "source": [
    "#one small thing to be careful\n",
    "#if all the ratings are all 0 it might result in nan\n",
    "#even for the values at the diagonal!\n",
    "df1 = pd.DataFrame([[0,0], [0,0]])\n",
    "df1.corr()\n",
    "\n",
    "ratings[ratings.userID==\"U1135\"]\n"
   ]
  },
  {
   "cell_type": "markdown",
   "metadata": {},
   "source": [
    "#### ❓Q11. Perform User-based CF to assign the rating prediction for all NaN in the utility matrix from Q6. \n",
    "To determine *N*, we will only consider those similarity value that is greater than 0. \n",
    "\n",
    "If *N* cannot be determined, just use the mean rating of that user."
   ]
  },
  {
   "cell_type": "code",
   "execution_count": 76,
   "metadata": {},
   "outputs": [
    {
     "name": "stdout",
     "output_type": "stream",
     "text": [
      "138\n",
      "130\n"
     ]
    }
   ],
   "source": [
    "#TODO\n",
    "num_users, num_restaurants = utility_matrix.shape\n",
    "print(num_users)\n",
    "print(num_restaurants)\n"
   ]
  },
  {
   "cell_type": "code",
   "execution_count": 77,
   "metadata": {},
   "outputs": [],
   "source": [
    "restuarant_reviewers = []\n",
    "for j in range(num_restaurants):\n",
    "    has_reviewed = ~utility_matrix.iloc[:,j].isna()\n",
    "    restuarant_reviewers.append(utility_matrix.index[has_reviewed].values)\n",
    "#restuarant_reviewers\n"
   ]
  },
  {
   "cell_type": "code",
   "execution_count": 78,
   "metadata": {},
   "outputs": [
    {
     "data": {
      "text/plain": "placeID  132560  132561  132564  132572  132583  132584  132594  132608  \\\nuserID                                                                    \nU1001       NaN     NaN     NaN     NaN     NaN     NaN     NaN     NaN   \nU1002       NaN     NaN     NaN     NaN     NaN     NaN     NaN     NaN   \nU1003       NaN     NaN     NaN     NaN     NaN     NaN     NaN     NaN   \nU1004       NaN     NaN     NaN     NaN     NaN     NaN     NaN     NaN   \nU1005       NaN     NaN     NaN     NaN     NaN     NaN     NaN     NaN   \n...         ...     ...     ...     ...     ...     ...     ...     ...   \nU1134       NaN     NaN     NaN     0.0     NaN     NaN     NaN     NaN   \nU1135       NaN     NaN     NaN     NaN     NaN     NaN     NaN     NaN   \nU1136       NaN     NaN     NaN     NaN     NaN     NaN     NaN     NaN   \nU1137       NaN     NaN     NaN     NaN     NaN     NaN     NaN     NaN   \nU1138       NaN     NaN     NaN     NaN     NaN     NaN     NaN     NaN   \n\nplaceID  132609  132613  ...  135080  135081  135082  135085  135086  135088  \\\nuserID                   ...                                                   \nU1001       NaN     NaN  ...     NaN     NaN     NaN     0.0     NaN     NaN   \nU1002       NaN     NaN  ...     NaN     NaN     NaN     1.0     NaN     NaN   \nU1003       NaN     NaN  ...     2.0     NaN     NaN     NaN     NaN     NaN   \nU1004       NaN     NaN  ...     NaN     NaN     NaN     NaN     NaN     NaN   \nU1005       NaN     NaN  ...     NaN     NaN     NaN     NaN     NaN     NaN   \n...         ...     ...  ...     ...     ...     ...     ...     ...     ...   \nU1134       NaN     NaN  ...     1.0     NaN     NaN     2.0     NaN     NaN   \nU1135       NaN     NaN  ...     NaN     NaN     NaN     0.0     NaN     NaN   \nU1136       NaN     NaN  ...     NaN     NaN     NaN     NaN     NaN     NaN   \nU1137       NaN     NaN  ...     NaN     NaN     NaN     2.0     NaN     NaN   \nU1138       NaN     NaN  ...     NaN     NaN     NaN     NaN     NaN     NaN   \n\nplaceID  135104  135106  135108  135109  \nuserID                                   \nU1001       NaN     NaN     NaN     NaN  \nU1002       NaN     1.0     NaN     NaN  \nU1003       NaN     NaN     NaN     NaN  \nU1004       NaN     2.0     NaN     NaN  \nU1005       NaN     NaN     NaN     NaN  \n...         ...     ...     ...     ...  \nU1134       NaN     NaN     NaN     NaN  \nU1135       NaN     0.0     NaN     NaN  \nU1136       NaN     NaN     NaN     NaN  \nU1137       NaN     NaN     NaN     NaN  \nU1138       NaN     NaN     NaN     NaN  \n\n[138 rows x 130 columns]",
      "text/html": "<div>\n<style scoped>\n    .dataframe tbody tr th:only-of-type {\n        vertical-align: middle;\n    }\n\n    .dataframe tbody tr th {\n        vertical-align: top;\n    }\n\n    .dataframe thead th {\n        text-align: right;\n    }\n</style>\n<table border=\"1\" class=\"dataframe\">\n  <thead>\n    <tr style=\"text-align: right;\">\n      <th>placeID</th>\n      <th>132560</th>\n      <th>132561</th>\n      <th>132564</th>\n      <th>132572</th>\n      <th>132583</th>\n      <th>132584</th>\n      <th>132594</th>\n      <th>132608</th>\n      <th>132609</th>\n      <th>132613</th>\n      <th>...</th>\n      <th>135080</th>\n      <th>135081</th>\n      <th>135082</th>\n      <th>135085</th>\n      <th>135086</th>\n      <th>135088</th>\n      <th>135104</th>\n      <th>135106</th>\n      <th>135108</th>\n      <th>135109</th>\n    </tr>\n    <tr>\n      <th>userID</th>\n      <th></th>\n      <th></th>\n      <th></th>\n      <th></th>\n      <th></th>\n      <th></th>\n      <th></th>\n      <th></th>\n      <th></th>\n      <th></th>\n      <th></th>\n      <th></th>\n      <th></th>\n      <th></th>\n      <th></th>\n      <th></th>\n      <th></th>\n      <th></th>\n      <th></th>\n      <th></th>\n      <th></th>\n    </tr>\n  </thead>\n  <tbody>\n    <tr>\n      <th>U1001</th>\n      <td>NaN</td>\n      <td>NaN</td>\n      <td>NaN</td>\n      <td>NaN</td>\n      <td>NaN</td>\n      <td>NaN</td>\n      <td>NaN</td>\n      <td>NaN</td>\n      <td>NaN</td>\n      <td>NaN</td>\n      <td>...</td>\n      <td>NaN</td>\n      <td>NaN</td>\n      <td>NaN</td>\n      <td>0.0</td>\n      <td>NaN</td>\n      <td>NaN</td>\n      <td>NaN</td>\n      <td>NaN</td>\n      <td>NaN</td>\n      <td>NaN</td>\n    </tr>\n    <tr>\n      <th>U1002</th>\n      <td>NaN</td>\n      <td>NaN</td>\n      <td>NaN</td>\n      <td>NaN</td>\n      <td>NaN</td>\n      <td>NaN</td>\n      <td>NaN</td>\n      <td>NaN</td>\n      <td>NaN</td>\n      <td>NaN</td>\n      <td>...</td>\n      <td>NaN</td>\n      <td>NaN</td>\n      <td>NaN</td>\n      <td>1.0</td>\n      <td>NaN</td>\n      <td>NaN</td>\n      <td>NaN</td>\n      <td>1.0</td>\n      <td>NaN</td>\n      <td>NaN</td>\n    </tr>\n    <tr>\n      <th>U1003</th>\n      <td>NaN</td>\n      <td>NaN</td>\n      <td>NaN</td>\n      <td>NaN</td>\n      <td>NaN</td>\n      <td>NaN</td>\n      <td>NaN</td>\n      <td>NaN</td>\n      <td>NaN</td>\n      <td>NaN</td>\n      <td>...</td>\n      <td>2.0</td>\n      <td>NaN</td>\n      <td>NaN</td>\n      <td>NaN</td>\n      <td>NaN</td>\n      <td>NaN</td>\n      <td>NaN</td>\n      <td>NaN</td>\n      <td>NaN</td>\n      <td>NaN</td>\n    </tr>\n    <tr>\n      <th>U1004</th>\n      <td>NaN</td>\n      <td>NaN</td>\n      <td>NaN</td>\n      <td>NaN</td>\n      <td>NaN</td>\n      <td>NaN</td>\n      <td>NaN</td>\n      <td>NaN</td>\n      <td>NaN</td>\n      <td>NaN</td>\n      <td>...</td>\n      <td>NaN</td>\n      <td>NaN</td>\n      <td>NaN</td>\n      <td>NaN</td>\n      <td>NaN</td>\n      <td>NaN</td>\n      <td>NaN</td>\n      <td>2.0</td>\n      <td>NaN</td>\n      <td>NaN</td>\n    </tr>\n    <tr>\n      <th>U1005</th>\n      <td>NaN</td>\n      <td>NaN</td>\n      <td>NaN</td>\n      <td>NaN</td>\n      <td>NaN</td>\n      <td>NaN</td>\n      <td>NaN</td>\n      <td>NaN</td>\n      <td>NaN</td>\n      <td>NaN</td>\n      <td>...</td>\n      <td>NaN</td>\n      <td>NaN</td>\n      <td>NaN</td>\n      <td>NaN</td>\n      <td>NaN</td>\n      <td>NaN</td>\n      <td>NaN</td>\n      <td>NaN</td>\n      <td>NaN</td>\n      <td>NaN</td>\n    </tr>\n    <tr>\n      <th>...</th>\n      <td>...</td>\n      <td>...</td>\n      <td>...</td>\n      <td>...</td>\n      <td>...</td>\n      <td>...</td>\n      <td>...</td>\n      <td>...</td>\n      <td>...</td>\n      <td>...</td>\n      <td>...</td>\n      <td>...</td>\n      <td>...</td>\n      <td>...</td>\n      <td>...</td>\n      <td>...</td>\n      <td>...</td>\n      <td>...</td>\n      <td>...</td>\n      <td>...</td>\n      <td>...</td>\n    </tr>\n    <tr>\n      <th>U1134</th>\n      <td>NaN</td>\n      <td>NaN</td>\n      <td>NaN</td>\n      <td>0.0</td>\n      <td>NaN</td>\n      <td>NaN</td>\n      <td>NaN</td>\n      <td>NaN</td>\n      <td>NaN</td>\n      <td>NaN</td>\n      <td>...</td>\n      <td>1.0</td>\n      <td>NaN</td>\n      <td>NaN</td>\n      <td>2.0</td>\n      <td>NaN</td>\n      <td>NaN</td>\n      <td>NaN</td>\n      <td>NaN</td>\n      <td>NaN</td>\n      <td>NaN</td>\n    </tr>\n    <tr>\n      <th>U1135</th>\n      <td>NaN</td>\n      <td>NaN</td>\n      <td>NaN</td>\n      <td>NaN</td>\n      <td>NaN</td>\n      <td>NaN</td>\n      <td>NaN</td>\n      <td>NaN</td>\n      <td>NaN</td>\n      <td>NaN</td>\n      <td>...</td>\n      <td>NaN</td>\n      <td>NaN</td>\n      <td>NaN</td>\n      <td>0.0</td>\n      <td>NaN</td>\n      <td>NaN</td>\n      <td>NaN</td>\n      <td>0.0</td>\n      <td>NaN</td>\n      <td>NaN</td>\n    </tr>\n    <tr>\n      <th>U1136</th>\n      <td>NaN</td>\n      <td>NaN</td>\n      <td>NaN</td>\n      <td>NaN</td>\n      <td>NaN</td>\n      <td>NaN</td>\n      <td>NaN</td>\n      <td>NaN</td>\n      <td>NaN</td>\n      <td>NaN</td>\n      <td>...</td>\n      <td>NaN</td>\n      <td>NaN</td>\n      <td>NaN</td>\n      <td>NaN</td>\n      <td>NaN</td>\n      <td>NaN</td>\n      <td>NaN</td>\n      <td>NaN</td>\n      <td>NaN</td>\n      <td>NaN</td>\n    </tr>\n    <tr>\n      <th>U1137</th>\n      <td>NaN</td>\n      <td>NaN</td>\n      <td>NaN</td>\n      <td>NaN</td>\n      <td>NaN</td>\n      <td>NaN</td>\n      <td>NaN</td>\n      <td>NaN</td>\n      <td>NaN</td>\n      <td>NaN</td>\n      <td>...</td>\n      <td>NaN</td>\n      <td>NaN</td>\n      <td>NaN</td>\n      <td>2.0</td>\n      <td>NaN</td>\n      <td>NaN</td>\n      <td>NaN</td>\n      <td>NaN</td>\n      <td>NaN</td>\n      <td>NaN</td>\n    </tr>\n    <tr>\n      <th>U1138</th>\n      <td>NaN</td>\n      <td>NaN</td>\n      <td>NaN</td>\n      <td>NaN</td>\n      <td>NaN</td>\n      <td>NaN</td>\n      <td>NaN</td>\n      <td>NaN</td>\n      <td>NaN</td>\n      <td>NaN</td>\n      <td>...</td>\n      <td>NaN</td>\n      <td>NaN</td>\n      <td>NaN</td>\n      <td>NaN</td>\n      <td>NaN</td>\n      <td>NaN</td>\n      <td>NaN</td>\n      <td>NaN</td>\n      <td>NaN</td>\n      <td>NaN</td>\n    </tr>\n  </tbody>\n</table>\n<p>138 rows × 130 columns</p>\n</div>"
     },
     "execution_count": 78,
     "metadata": {},
     "output_type": "execute_result"
    }
   ],
   "source": [
    "utility_matrix_prediction = utility_matrix.copy()\n",
    "utility_matrix_prediction\n"
   ]
  },
  {
   "cell_type": "code",
   "execution_count": 79,
   "metadata": {},
   "outputs": [],
   "source": [
    "# for each user\n",
    "for i in range(num_users):\n",
    "    \n",
    "    # get the user id\n",
    "    this_user_id = utility_matrix.index[i]\n",
    "    \n",
    "    # find mean rating\n",
    "    mean_rating = utility_matrix.iloc[i].mean()\n",
    "    \n",
    "    # find the correlations results, drop NA\n",
    "    user_correlation_value = correlation_matrix[this_user_id].dropna()\n",
    "    \n",
    "    # filter similar users with corr > 0\n",
    "    similar_users = user_correlation_value[user_correlation_value > 0]\n",
    "    \n",
    "    # remove the user himself\n",
    "    similar_users = similar_users[similar_users.index != this_user_id]\n",
    "\n",
    "    # for each restaurant\n",
    "    for j in range(num_restaurants):\n",
    "   \n",
    "        # check if there is no current rating\n",
    "        if pd.isnull(utility_matrix.iloc[i,j]):\n",
    "\n",
    "            # find the restaurant's reviewers\n",
    "            reviewers_list = restuarant_reviewers[j]\n",
    "\n",
    "            # find the similar users who have rated the restaurant\n",
    "            utility_matrix_prediction.iloc[i,j] = similar_users[similar_users.index.isin(reviewers_list)].mean()\n",
    "\n",
    "            # if after prediction, the rating is still NaN\n",
    "            if pd.isnull(utility_matrix_prediction.iloc[i,j]):\n",
    "                \n",
    "                # assign the user's mean rating\n",
    "                utility_matrix_prediction.iloc[i,j] = mean_rating\n",
    "        "
   ]
  },
  {
   "cell_type": "code",
   "execution_count": 80,
   "metadata": {},
   "outputs": [
    {
     "data": {
      "text/plain": "placeID  132560  132561  132564  132572  132583  132584  132594  132608  \\\nuserID                                                                    \nU1001       NaN     NaN     NaN     NaN     NaN     NaN     NaN     NaN   \nU1002       NaN     NaN     NaN     NaN     NaN     NaN     NaN     NaN   \nU1003       NaN     NaN     NaN     NaN     NaN     NaN     NaN     NaN   \nU1004       NaN     NaN     NaN     NaN     NaN     NaN     NaN     NaN   \nU1005       NaN     NaN     NaN     NaN     NaN     NaN     NaN     NaN   \n...         ...     ...     ...     ...     ...     ...     ...     ...   \nU1134       NaN     NaN     NaN     0.0     NaN     NaN     NaN     NaN   \nU1135       NaN     NaN     NaN     NaN     NaN     NaN     NaN     NaN   \nU1136       NaN     NaN     NaN     NaN     NaN     NaN     NaN     NaN   \nU1137       NaN     NaN     NaN     NaN     NaN     NaN     NaN     NaN   \nU1138       NaN     NaN     NaN     NaN     NaN     NaN     NaN     NaN   \n\nplaceID  132609  132613  ...  135080  135081  135082  135085  135086  135088  \\\nuserID                   ...                                                   \nU1001       NaN     NaN  ...     NaN     NaN     NaN     0.0     NaN     NaN   \nU1002       NaN     NaN  ...     NaN     NaN     NaN     1.0     NaN     NaN   \nU1003       NaN     NaN  ...     2.0     NaN     NaN     NaN     NaN     NaN   \nU1004       NaN     NaN  ...     NaN     NaN     NaN     NaN     NaN     NaN   \nU1005       NaN     NaN  ...     NaN     NaN     NaN     NaN     NaN     NaN   \n...         ...     ...  ...     ...     ...     ...     ...     ...     ...   \nU1134       NaN     NaN  ...     1.0     NaN     NaN     2.0     NaN     NaN   \nU1135       NaN     NaN  ...     NaN     NaN     NaN     0.0     NaN     NaN   \nU1136       NaN     NaN  ...     NaN     NaN     NaN     NaN     NaN     NaN   \nU1137       NaN     NaN  ...     NaN     NaN     NaN     2.0     NaN     NaN   \nU1138       NaN     NaN  ...     NaN     NaN     NaN     NaN     NaN     NaN   \n\nplaceID  135104  135106  135108  135109  \nuserID                                   \nU1001       NaN     NaN     NaN     NaN  \nU1002       NaN     1.0     NaN     NaN  \nU1003       NaN     NaN     NaN     NaN  \nU1004       NaN     2.0     NaN     NaN  \nU1005       NaN     NaN     NaN     NaN  \n...         ...     ...     ...     ...  \nU1134       NaN     NaN     NaN     NaN  \nU1135       NaN     0.0     NaN     NaN  \nU1136       NaN     NaN     NaN     NaN  \nU1137       NaN     NaN     NaN     NaN  \nU1138       NaN     NaN     NaN     NaN  \n\n[138 rows x 130 columns]",
      "text/html": "<div>\n<style scoped>\n    .dataframe tbody tr th:only-of-type {\n        vertical-align: middle;\n    }\n\n    .dataframe tbody tr th {\n        vertical-align: top;\n    }\n\n    .dataframe thead th {\n        text-align: right;\n    }\n</style>\n<table border=\"1\" class=\"dataframe\">\n  <thead>\n    <tr style=\"text-align: right;\">\n      <th>placeID</th>\n      <th>132560</th>\n      <th>132561</th>\n      <th>132564</th>\n      <th>132572</th>\n      <th>132583</th>\n      <th>132584</th>\n      <th>132594</th>\n      <th>132608</th>\n      <th>132609</th>\n      <th>132613</th>\n      <th>...</th>\n      <th>135080</th>\n      <th>135081</th>\n      <th>135082</th>\n      <th>135085</th>\n      <th>135086</th>\n      <th>135088</th>\n      <th>135104</th>\n      <th>135106</th>\n      <th>135108</th>\n      <th>135109</th>\n    </tr>\n    <tr>\n      <th>userID</th>\n      <th></th>\n      <th></th>\n      <th></th>\n      <th></th>\n      <th></th>\n      <th></th>\n      <th></th>\n      <th></th>\n      <th></th>\n      <th></th>\n      <th></th>\n      <th></th>\n      <th></th>\n      <th></th>\n      <th></th>\n      <th></th>\n      <th></th>\n      <th></th>\n      <th></th>\n      <th></th>\n      <th></th>\n    </tr>\n  </thead>\n  <tbody>\n    <tr>\n      <th>U1001</th>\n      <td>NaN</td>\n      <td>NaN</td>\n      <td>NaN</td>\n      <td>NaN</td>\n      <td>NaN</td>\n      <td>NaN</td>\n      <td>NaN</td>\n      <td>NaN</td>\n      <td>NaN</td>\n      <td>NaN</td>\n      <td>...</td>\n      <td>NaN</td>\n      <td>NaN</td>\n      <td>NaN</td>\n      <td>0.0</td>\n      <td>NaN</td>\n      <td>NaN</td>\n      <td>NaN</td>\n      <td>NaN</td>\n      <td>NaN</td>\n      <td>NaN</td>\n    </tr>\n    <tr>\n      <th>U1002</th>\n      <td>NaN</td>\n      <td>NaN</td>\n      <td>NaN</td>\n      <td>NaN</td>\n      <td>NaN</td>\n      <td>NaN</td>\n      <td>NaN</td>\n      <td>NaN</td>\n      <td>NaN</td>\n      <td>NaN</td>\n      <td>...</td>\n      <td>NaN</td>\n      <td>NaN</td>\n      <td>NaN</td>\n      <td>1.0</td>\n      <td>NaN</td>\n      <td>NaN</td>\n      <td>NaN</td>\n      <td>1.0</td>\n      <td>NaN</td>\n      <td>NaN</td>\n    </tr>\n    <tr>\n      <th>U1003</th>\n      <td>NaN</td>\n      <td>NaN</td>\n      <td>NaN</td>\n      <td>NaN</td>\n      <td>NaN</td>\n      <td>NaN</td>\n      <td>NaN</td>\n      <td>NaN</td>\n      <td>NaN</td>\n      <td>NaN</td>\n      <td>...</td>\n      <td>2.0</td>\n      <td>NaN</td>\n      <td>NaN</td>\n      <td>NaN</td>\n      <td>NaN</td>\n      <td>NaN</td>\n      <td>NaN</td>\n      <td>NaN</td>\n      <td>NaN</td>\n      <td>NaN</td>\n    </tr>\n    <tr>\n      <th>U1004</th>\n      <td>NaN</td>\n      <td>NaN</td>\n      <td>NaN</td>\n      <td>NaN</td>\n      <td>NaN</td>\n      <td>NaN</td>\n      <td>NaN</td>\n      <td>NaN</td>\n      <td>NaN</td>\n      <td>NaN</td>\n      <td>...</td>\n      <td>NaN</td>\n      <td>NaN</td>\n      <td>NaN</td>\n      <td>NaN</td>\n      <td>NaN</td>\n      <td>NaN</td>\n      <td>NaN</td>\n      <td>2.0</td>\n      <td>NaN</td>\n      <td>NaN</td>\n    </tr>\n    <tr>\n      <th>U1005</th>\n      <td>NaN</td>\n      <td>NaN</td>\n      <td>NaN</td>\n      <td>NaN</td>\n      <td>NaN</td>\n      <td>NaN</td>\n      <td>NaN</td>\n      <td>NaN</td>\n      <td>NaN</td>\n      <td>NaN</td>\n      <td>...</td>\n      <td>NaN</td>\n      <td>NaN</td>\n      <td>NaN</td>\n      <td>NaN</td>\n      <td>NaN</td>\n      <td>NaN</td>\n      <td>NaN</td>\n      <td>NaN</td>\n      <td>NaN</td>\n      <td>NaN</td>\n    </tr>\n    <tr>\n      <th>...</th>\n      <td>...</td>\n      <td>...</td>\n      <td>...</td>\n      <td>...</td>\n      <td>...</td>\n      <td>...</td>\n      <td>...</td>\n      <td>...</td>\n      <td>...</td>\n      <td>...</td>\n      <td>...</td>\n      <td>...</td>\n      <td>...</td>\n      <td>...</td>\n      <td>...</td>\n      <td>...</td>\n      <td>...</td>\n      <td>...</td>\n      <td>...</td>\n      <td>...</td>\n      <td>...</td>\n    </tr>\n    <tr>\n      <th>U1134</th>\n      <td>NaN</td>\n      <td>NaN</td>\n      <td>NaN</td>\n      <td>0.0</td>\n      <td>NaN</td>\n      <td>NaN</td>\n      <td>NaN</td>\n      <td>NaN</td>\n      <td>NaN</td>\n      <td>NaN</td>\n      <td>...</td>\n      <td>1.0</td>\n      <td>NaN</td>\n      <td>NaN</td>\n      <td>2.0</td>\n      <td>NaN</td>\n      <td>NaN</td>\n      <td>NaN</td>\n      <td>NaN</td>\n      <td>NaN</td>\n      <td>NaN</td>\n    </tr>\n    <tr>\n      <th>U1135</th>\n      <td>NaN</td>\n      <td>NaN</td>\n      <td>NaN</td>\n      <td>NaN</td>\n      <td>NaN</td>\n      <td>NaN</td>\n      <td>NaN</td>\n      <td>NaN</td>\n      <td>NaN</td>\n      <td>NaN</td>\n      <td>...</td>\n      <td>NaN</td>\n      <td>NaN</td>\n      <td>NaN</td>\n      <td>0.0</td>\n      <td>NaN</td>\n      <td>NaN</td>\n      <td>NaN</td>\n      <td>0.0</td>\n      <td>NaN</td>\n      <td>NaN</td>\n    </tr>\n    <tr>\n      <th>U1136</th>\n      <td>NaN</td>\n      <td>NaN</td>\n      <td>NaN</td>\n      <td>NaN</td>\n      <td>NaN</td>\n      <td>NaN</td>\n      <td>NaN</td>\n      <td>NaN</td>\n      <td>NaN</td>\n      <td>NaN</td>\n      <td>...</td>\n      <td>NaN</td>\n      <td>NaN</td>\n      <td>NaN</td>\n      <td>NaN</td>\n      <td>NaN</td>\n      <td>NaN</td>\n      <td>NaN</td>\n      <td>NaN</td>\n      <td>NaN</td>\n      <td>NaN</td>\n    </tr>\n    <tr>\n      <th>U1137</th>\n      <td>NaN</td>\n      <td>NaN</td>\n      <td>NaN</td>\n      <td>NaN</td>\n      <td>NaN</td>\n      <td>NaN</td>\n      <td>NaN</td>\n      <td>NaN</td>\n      <td>NaN</td>\n      <td>NaN</td>\n      <td>...</td>\n      <td>NaN</td>\n      <td>NaN</td>\n      <td>NaN</td>\n      <td>2.0</td>\n      <td>NaN</td>\n      <td>NaN</td>\n      <td>NaN</td>\n      <td>NaN</td>\n      <td>NaN</td>\n      <td>NaN</td>\n    </tr>\n    <tr>\n      <th>U1138</th>\n      <td>NaN</td>\n      <td>NaN</td>\n      <td>NaN</td>\n      <td>NaN</td>\n      <td>NaN</td>\n      <td>NaN</td>\n      <td>NaN</td>\n      <td>NaN</td>\n      <td>NaN</td>\n      <td>NaN</td>\n      <td>...</td>\n      <td>NaN</td>\n      <td>NaN</td>\n      <td>NaN</td>\n      <td>NaN</td>\n      <td>NaN</td>\n      <td>NaN</td>\n      <td>NaN</td>\n      <td>NaN</td>\n      <td>NaN</td>\n      <td>NaN</td>\n    </tr>\n  </tbody>\n</table>\n<p>138 rows × 130 columns</p>\n</div>"
     },
     "execution_count": 80,
     "metadata": {},
     "output_type": "execute_result"
    }
   ],
   "source": [
    "utility_matrix\n"
   ]
  },
  {
   "cell_type": "code",
   "execution_count": 81,
   "metadata": {},
   "outputs": [
    {
     "data": {
      "text/plain": "placeID    132560    132561    132564    132572    132583    132584    132594  \\\nuserID                                                                          \nU1001    1.111111  1.111111  1.111111  0.666667  1.111111  1.111111  1.111111   \nU1002    1.400000  1.400000  1.400000  1.000000  1.400000  1.400000  1.400000   \nU1003    1.615385  1.615385  1.615385  0.866025  1.615385  1.615385  1.615385   \nU1004    1.875000  1.875000  1.875000  1.875000  1.875000  1.875000  1.875000   \nU1005    1.333333  1.333333  1.333333  1.333333  1.333333  1.333333  1.333333   \n...           ...       ...       ...       ...       ...       ...       ...   \nU1134    1.437500  1.437500  1.437500  0.000000  1.437500  1.437500  1.437500   \nU1135    0.000000  0.000000  0.000000  0.000000  0.000000  0.000000  0.000000   \nU1136    1.600000  1.600000  1.600000  0.583333  1.600000  1.600000  1.600000   \nU1137    1.857143  1.857143  1.857143  0.492799  1.857143  1.857143  1.857143   \nU1138    1.666667  1.666667  1.666667  1.666667  1.666667  1.666667  1.666667   \n\nplaceID    132608    132609    132613  ...    135080    135081    135082  \\\nuserID                                 ...                                 \nU1001    1.111111  1.111111  1.111111  ...  1.111111  1.111111  1.111111   \nU1002    1.400000  1.400000  1.400000  ...  1.400000  1.400000  1.400000   \nU1003    1.615385  1.615385  1.615385  ...  2.000000  1.615385  1.615385   \nU1004    1.875000  1.875000  1.875000  ...  1.875000  1.875000  1.875000   \nU1005    1.333333  1.333333  1.333333  ...  1.333333  0.519702  0.483849   \n...           ...       ...       ...  ...       ...       ...       ...   \nU1134    1.437500  1.437500  1.437500  ...  1.000000  1.437500  1.437500   \nU1135    0.000000  0.000000  0.000000  ...  0.000000  0.000000  0.000000   \nU1136    1.600000  1.600000  1.600000  ...  1.000000  1.600000  1.600000   \nU1137    1.857143  1.857143  1.857143  ...  0.408248  1.857143  1.857143   \nU1138    1.666667  1.666667  1.666667  ...  1.666667  1.666667  1.666667   \n\nplaceID    135085    135086    135088    135104    135106    135108    135109  \nuserID                                                                         \nU1001    0.000000  1.111111  1.111111  1.111111  1.000000  1.111111  1.111111  \nU1002    1.000000  1.000000  1.400000  1.400000  1.000000  1.400000  1.400000  \nU1003    0.722508  0.933013  1.615385  1.615385  0.559017  1.615385  1.615385  \nU1004    1.875000  1.875000  1.875000  1.875000  2.000000  1.875000  1.875000  \nU1005    0.668519  1.333333  1.333333  1.333333  0.558026  0.630874  1.333333  \n...           ...       ...       ...       ...       ...       ...       ...  \nU1134    2.000000  0.518923  1.437500  1.437500  0.612372  1.437500  1.437500  \nU1135    0.000000  0.000000  0.000000  0.000000  0.000000  0.000000  0.000000  \nU1136    1.600000  0.581339  1.600000  1.600000  1.600000  1.600000  1.600000  \nU1137    2.000000  0.661866  1.857143  1.857143  1.857143  1.857143  1.857143  \nU1138    1.000000  1.666667  1.666667  1.666667  1.000000  1.666667  1.666667  \n\n[138 rows x 130 columns]",
      "text/html": "<div>\n<style scoped>\n    .dataframe tbody tr th:only-of-type {\n        vertical-align: middle;\n    }\n\n    .dataframe tbody tr th {\n        vertical-align: top;\n    }\n\n    .dataframe thead th {\n        text-align: right;\n    }\n</style>\n<table border=\"1\" class=\"dataframe\">\n  <thead>\n    <tr style=\"text-align: right;\">\n      <th>placeID</th>\n      <th>132560</th>\n      <th>132561</th>\n      <th>132564</th>\n      <th>132572</th>\n      <th>132583</th>\n      <th>132584</th>\n      <th>132594</th>\n      <th>132608</th>\n      <th>132609</th>\n      <th>132613</th>\n      <th>...</th>\n      <th>135080</th>\n      <th>135081</th>\n      <th>135082</th>\n      <th>135085</th>\n      <th>135086</th>\n      <th>135088</th>\n      <th>135104</th>\n      <th>135106</th>\n      <th>135108</th>\n      <th>135109</th>\n    </tr>\n    <tr>\n      <th>userID</th>\n      <th></th>\n      <th></th>\n      <th></th>\n      <th></th>\n      <th></th>\n      <th></th>\n      <th></th>\n      <th></th>\n      <th></th>\n      <th></th>\n      <th></th>\n      <th></th>\n      <th></th>\n      <th></th>\n      <th></th>\n      <th></th>\n      <th></th>\n      <th></th>\n      <th></th>\n      <th></th>\n      <th></th>\n    </tr>\n  </thead>\n  <tbody>\n    <tr>\n      <th>U1001</th>\n      <td>1.111111</td>\n      <td>1.111111</td>\n      <td>1.111111</td>\n      <td>0.666667</td>\n      <td>1.111111</td>\n      <td>1.111111</td>\n      <td>1.111111</td>\n      <td>1.111111</td>\n      <td>1.111111</td>\n      <td>1.111111</td>\n      <td>...</td>\n      <td>1.111111</td>\n      <td>1.111111</td>\n      <td>1.111111</td>\n      <td>0.000000</td>\n      <td>1.111111</td>\n      <td>1.111111</td>\n      <td>1.111111</td>\n      <td>1.000000</td>\n      <td>1.111111</td>\n      <td>1.111111</td>\n    </tr>\n    <tr>\n      <th>U1002</th>\n      <td>1.400000</td>\n      <td>1.400000</td>\n      <td>1.400000</td>\n      <td>1.000000</td>\n      <td>1.400000</td>\n      <td>1.400000</td>\n      <td>1.400000</td>\n      <td>1.400000</td>\n      <td>1.400000</td>\n      <td>1.400000</td>\n      <td>...</td>\n      <td>1.400000</td>\n      <td>1.400000</td>\n      <td>1.400000</td>\n      <td>1.000000</td>\n      <td>1.000000</td>\n      <td>1.400000</td>\n      <td>1.400000</td>\n      <td>1.000000</td>\n      <td>1.400000</td>\n      <td>1.400000</td>\n    </tr>\n    <tr>\n      <th>U1003</th>\n      <td>1.615385</td>\n      <td>1.615385</td>\n      <td>1.615385</td>\n      <td>0.866025</td>\n      <td>1.615385</td>\n      <td>1.615385</td>\n      <td>1.615385</td>\n      <td>1.615385</td>\n      <td>1.615385</td>\n      <td>1.615385</td>\n      <td>...</td>\n      <td>2.000000</td>\n      <td>1.615385</td>\n      <td>1.615385</td>\n      <td>0.722508</td>\n      <td>0.933013</td>\n      <td>1.615385</td>\n      <td>1.615385</td>\n      <td>0.559017</td>\n      <td>1.615385</td>\n      <td>1.615385</td>\n    </tr>\n    <tr>\n      <th>U1004</th>\n      <td>1.875000</td>\n      <td>1.875000</td>\n      <td>1.875000</td>\n      <td>1.875000</td>\n      <td>1.875000</td>\n      <td>1.875000</td>\n      <td>1.875000</td>\n      <td>1.875000</td>\n      <td>1.875000</td>\n      <td>1.875000</td>\n      <td>...</td>\n      <td>1.875000</td>\n      <td>1.875000</td>\n      <td>1.875000</td>\n      <td>1.875000</td>\n      <td>1.875000</td>\n      <td>1.875000</td>\n      <td>1.875000</td>\n      <td>2.000000</td>\n      <td>1.875000</td>\n      <td>1.875000</td>\n    </tr>\n    <tr>\n      <th>U1005</th>\n      <td>1.333333</td>\n      <td>1.333333</td>\n      <td>1.333333</td>\n      <td>1.333333</td>\n      <td>1.333333</td>\n      <td>1.333333</td>\n      <td>1.333333</td>\n      <td>1.333333</td>\n      <td>1.333333</td>\n      <td>1.333333</td>\n      <td>...</td>\n      <td>1.333333</td>\n      <td>0.519702</td>\n      <td>0.483849</td>\n      <td>0.668519</td>\n      <td>1.333333</td>\n      <td>1.333333</td>\n      <td>1.333333</td>\n      <td>0.558026</td>\n      <td>0.630874</td>\n      <td>1.333333</td>\n    </tr>\n    <tr>\n      <th>...</th>\n      <td>...</td>\n      <td>...</td>\n      <td>...</td>\n      <td>...</td>\n      <td>...</td>\n      <td>...</td>\n      <td>...</td>\n      <td>...</td>\n      <td>...</td>\n      <td>...</td>\n      <td>...</td>\n      <td>...</td>\n      <td>...</td>\n      <td>...</td>\n      <td>...</td>\n      <td>...</td>\n      <td>...</td>\n      <td>...</td>\n      <td>...</td>\n      <td>...</td>\n      <td>...</td>\n    </tr>\n    <tr>\n      <th>U1134</th>\n      <td>1.437500</td>\n      <td>1.437500</td>\n      <td>1.437500</td>\n      <td>0.000000</td>\n      <td>1.437500</td>\n      <td>1.437500</td>\n      <td>1.437500</td>\n      <td>1.437500</td>\n      <td>1.437500</td>\n      <td>1.437500</td>\n      <td>...</td>\n      <td>1.000000</td>\n      <td>1.437500</td>\n      <td>1.437500</td>\n      <td>2.000000</td>\n      <td>0.518923</td>\n      <td>1.437500</td>\n      <td>1.437500</td>\n      <td>0.612372</td>\n      <td>1.437500</td>\n      <td>1.437500</td>\n    </tr>\n    <tr>\n      <th>U1135</th>\n      <td>0.000000</td>\n      <td>0.000000</td>\n      <td>0.000000</td>\n      <td>0.000000</td>\n      <td>0.000000</td>\n      <td>0.000000</td>\n      <td>0.000000</td>\n      <td>0.000000</td>\n      <td>0.000000</td>\n      <td>0.000000</td>\n      <td>...</td>\n      <td>0.000000</td>\n      <td>0.000000</td>\n      <td>0.000000</td>\n      <td>0.000000</td>\n      <td>0.000000</td>\n      <td>0.000000</td>\n      <td>0.000000</td>\n      <td>0.000000</td>\n      <td>0.000000</td>\n      <td>0.000000</td>\n    </tr>\n    <tr>\n      <th>U1136</th>\n      <td>1.600000</td>\n      <td>1.600000</td>\n      <td>1.600000</td>\n      <td>0.583333</td>\n      <td>1.600000</td>\n      <td>1.600000</td>\n      <td>1.600000</td>\n      <td>1.600000</td>\n      <td>1.600000</td>\n      <td>1.600000</td>\n      <td>...</td>\n      <td>1.000000</td>\n      <td>1.600000</td>\n      <td>1.600000</td>\n      <td>1.600000</td>\n      <td>0.581339</td>\n      <td>1.600000</td>\n      <td>1.600000</td>\n      <td>1.600000</td>\n      <td>1.600000</td>\n      <td>1.600000</td>\n    </tr>\n    <tr>\n      <th>U1137</th>\n      <td>1.857143</td>\n      <td>1.857143</td>\n      <td>1.857143</td>\n      <td>0.492799</td>\n      <td>1.857143</td>\n      <td>1.857143</td>\n      <td>1.857143</td>\n      <td>1.857143</td>\n      <td>1.857143</td>\n      <td>1.857143</td>\n      <td>...</td>\n      <td>0.408248</td>\n      <td>1.857143</td>\n      <td>1.857143</td>\n      <td>2.000000</td>\n      <td>0.661866</td>\n      <td>1.857143</td>\n      <td>1.857143</td>\n      <td>1.857143</td>\n      <td>1.857143</td>\n      <td>1.857143</td>\n    </tr>\n    <tr>\n      <th>U1138</th>\n      <td>1.666667</td>\n      <td>1.666667</td>\n      <td>1.666667</td>\n      <td>1.666667</td>\n      <td>1.666667</td>\n      <td>1.666667</td>\n      <td>1.666667</td>\n      <td>1.666667</td>\n      <td>1.666667</td>\n      <td>1.666667</td>\n      <td>...</td>\n      <td>1.666667</td>\n      <td>1.666667</td>\n      <td>1.666667</td>\n      <td>1.000000</td>\n      <td>1.666667</td>\n      <td>1.666667</td>\n      <td>1.666667</td>\n      <td>1.000000</td>\n      <td>1.666667</td>\n      <td>1.666667</td>\n    </tr>\n  </tbody>\n</table>\n<p>138 rows × 130 columns</p>\n</div>"
     },
     "execution_count": 81,
     "metadata": {},
     "output_type": "execute_result"
    }
   ],
   "source": [
    "utility_matrix_prediction\n"
   ]
  },
  {
   "cell_type": "markdown",
   "metadata": {},
   "source": [
    "#### ❓Q12. For each of the user, recommend the top 5 restaurants (which the user has not rated)."
   ]
  },
  {
   "cell_type": "code",
   "execution_count": 82,
   "metadata": {},
   "outputs": [
    {
     "name": "stdout",
     "output_type": "stream",
     "text": [
      "Recommended for U1001: [132560 132951 135043 135042 135035]\n",
      "Recommended for U1002: [132560 134987 135016 135013 135011]\n",
      "Recommended for U1003: [132560 134999 135021 135019 135018]\n",
      "Recommended for U1004: [132560 135018 135047 135046 135044]\n",
      "Recommended for U1005: [132560 134976 135011 135001 135000]\n",
      "Recommended for U1006: [132560 135011 135039 135033 135032]\n",
      "Recommended for U1007: [132825 135035 132875 135064 132884]\n",
      "Recommended for U1008: [132560 135033 135047 135046 135045]\n",
      "Recommended for U1009: [132560 132870 135001 135000 134999]\n",
      "Recommended for U1010: [135059 132862 132755 132884 135049]\n",
      "Recommended for U1011: [132560 135035 135050 135049 135048]\n",
      "Recommended for U1012: [132560 134987 135048 135047 135046]\n",
      "Recommended for U1013: [132560 135035 135027 135025 135021]\n",
      "Recommended for U1014: [132560 134992 135021 135019 135018]\n",
      "Recommended for U1015: [135051 135081 135057 135041 135069]\n",
      "Recommended for U1016: [132560 134999 135026 135025 135021]\n",
      "Recommended for U1017: [132560 135035 135050 135049 135048]\n",
      "Recommended for U1018: [135060 135052 135038 135040 135033]\n",
      "Recommended for U1019: [132560 134996 135048 135047 135046]\n",
      "Recommended for U1020: [132560 135033 135048 135047 135046]\n",
      "Recommended for U1021: [132560 135035 135050 135049 135048]\n",
      "Recommended for U1022: [132560 134976 135001 135000 134999]\n",
      "Recommended for U1023: [135104 132594 132663 132660 132732]\n",
      "Recommended for U1024: [132560 134987 135016 135013 135011]\n",
      "Recommended for U1025: [132560 134992 135018 135016 135013]\n",
      "Recommended for U1026: [132560 135038 135051 135050 135049]\n",
      "Recommended for U1027: [135050 135055 132885 135076 135043]\n",
      "Recommended for U1028: [135000 135052 135050 135049 135048]\n",
      "Recommended for U1029: [135051 132856 135028 132560 134999]\n",
      "Recommended for U1030: [134992 135001 135021 134975 132766]\n",
      "Recommended for U1031: [132560 135035 135050 135049 135048]\n",
      "Recommended for U1032: [132560 132921 135019 135018 135016]\n",
      "Recommended for U1033: [132560 132861 135013 135011 135001]\n",
      "Recommended for U1034: [135048 135074 135046 135072 132755]\n",
      "Recommended for U1035: [132560 135052 135050 135049 135048]\n",
      "Recommended for U1036: [132560 134996 135019 135018 135016]\n",
      "Recommended for U1037: [132560 135044 135040 135039 135035]\n",
      "Recommended for U1038: [135064 135066 135062 135041 135042]\n",
      "Recommended for U1039: [132560 135035 135050 135049 135048]\n",
      "Recommended for U1040: [132560 135035 135050 135049 135048]\n",
      "Recommended for U1041: [132560 135052 135050 135049 135048]\n",
      "Recommended for U1042: [132560 135053 135051 135050 135049]\n",
      "Recommended for U1043: [132560 135038 135051 135050 135049]\n",
      "Recommended for U1044: [132560 135052 135050 135049 135048]\n",
      "Recommended for U1045: [132560 132866 135001 135000 134999]\n",
      "Recommended for U1046: [132560 135000 135027 135025 135021]\n",
      "Recommended for U1047: [132560 135035 135050 135049 135048]\n",
      "Recommended for U1048: [132560 135016 135040 135039 135038]\n",
      "Recommended for U1049: [132560 134992 135049 135048 135047]\n",
      "Recommended for U1050: [132561 135053 135051 135050 135049]\n",
      "Recommended for U1051: [132560 135033 135048 135047 135046]\n",
      "Recommended for U1052: [132560 135050 135048 135047 135046]\n",
      "Recommended for U1053: [132560 134986 135013 135011 135001]\n",
      "Recommended for U1054: [132560 135021 135018 135016 135013]\n",
      "Recommended for U1055: [132560 135018 135046 135044 135043]\n",
      "Recommended for U1056: [132560 135034 135030 135028 135026]\n",
      "Recommended for U1057: [132560 135032 135048 135047 135045]\n",
      "Recommended for U1058: [132560 132954 135038 135035 135034]\n",
      "Recommended for U1059: [132560 132925 135035 135034 135033]\n",
      "Recommended for U1060: [132560 135035 135050 135049 135048]\n",
      "Recommended for U1061: [132560 132869 135019 135018 135016]\n",
      "Recommended for U1062: [132560 134992 135048 135047 135046]\n",
      "Recommended for U1063: [134999 135035 135050 135049 135048]\n",
      "Recommended for U1064: [132560 132925 135034 135027 135026]\n",
      "Recommended for U1065: [132560 135038 135051 135050 135049]\n",
      "Recommended for U1066: [132560 135040 135052 135051 135050]\n",
      "Recommended for U1067: [132561 135035 135050 135049 135048]\n",
      "Recommended for U1068: [132717 132564 132715 135045 135040]\n",
      "Recommended for U1069: [132866 135054 132870 132869 132830]\n",
      "Recommended for U1070: [132560 135035 135050 135049 135048]\n",
      "Recommended for U1071: [132560 132877 135026 135021 135019]\n",
      "Recommended for U1072: [132560 135035 135050 135049 135048]\n",
      "Recommended for U1073: [132560 135032 135046 135045 135044]\n",
      "Recommended for U1074: [132560 135035 135050 135049 135048]\n",
      "Recommended for U1075: [132560 132561 135013 135011 135001]\n",
      "Recommended for U1076: [132560 135011 135044 135040 135035]\n",
      "Recommended for U1077: [132560 134996 135021 135019 135018]\n",
      "Recommended for U1078: [132560 132951 134996 134992 132561]\n",
      "Recommended for U1079: [132560 135053 135051 135050 135049]\n",
      "Recommended for U1080: [132560 135038 135051 135050 135049]\n",
      "Recommended for U1081: [132872 132885 132854 135046 135053]\n",
      "Recommended for U1082: [132740 135104 132660 132561 135046]\n",
      "Recommended for U1083: [132560 135013 135038 135033 135032]\n",
      "Recommended for U1084: [132560 132922 135033 135032 135028]\n",
      "Recommended for U1085: [132560 134999 135026 135025 135021]\n",
      "Recommended for U1086: [132560 135035 135019 135018 135016]\n",
      "Recommended for U1087: [132561 135052 135050 135049 135048]\n",
      "Recommended for U1088: [132560 134996 135026 135021 135019]\n",
      "Recommended for U1089: [135048 132954 132922 135030 132884]\n",
      "Recommended for U1090: [132560 134999 135021 135019 135018]\n",
      "Recommended for U1091: [132560 135045 135043 135042 135041]\n",
      "Recommended for U1092: [132830 135039 135045 132875 135033]\n",
      "Recommended for U1093: [132560 135053 135051 135050 135049]\n",
      "Recommended for U1094: [132560 135046 135044 135043 135042]\n",
      "Recommended for U1095: [132560 132877 135038 135033 135027]\n",
      "Recommended for U1096: [132560 135000 135033 135027 135021]\n",
      "Recommended for U1097: [132560 135016 135038 135033 135032]\n",
      "Recommended for U1098: [132560 132869 135013 135011 135001]\n",
      "Recommended for U1099: [132560 135021 135018 135016 135013]\n",
      "Recommended for U1100: [132560 135038 135051 135050 135049]\n",
      "Recommended for U1101: [132560 134996 135026 135021 135019]\n",
      "Recommended for U1102: [132560 135038 135051 135050 135049]\n",
      "Recommended for U1103: [135001 135052 135050 135049 135048]\n",
      "Recommended for U1104: [132560 135001 134999 134996 134992]\n",
      "Recommended for U1105: [132560 135049 135047 135046 135045]\n",
      "Recommended for U1106: [132560 135016 135011 135001 135000]\n",
      "Recommended for U1107: [132560 135035 135050 135049 135048]\n",
      "Recommended for U1108: [132560 132561 135011 135001 135000]\n",
      "Recommended for U1109: [132560 135026 135021 135019 135018]\n",
      "Recommended for U1110: [132560 135038 135051 135050 135049]\n",
      "Recommended for U1111: [132560 135033 135047 135046 135045]\n",
      "Recommended for U1112: [132872 132723 135059 132755 132937]\n",
      "Recommended for U1113: [135054 132862 135043 135066 135069]\n",
      "Recommended for U1114: [135046 135044 135074 135034 132572]\n",
      "Recommended for U1115: [132560 132958 135040 135039 135038]\n",
      "Recommended for U1116: [132560 134996 135021 135019 135018]\n",
      "Recommended for U1117: [132560 135035 135050 135049 135048]\n",
      "Recommended for U1118: [132767 135019 134986 134975 132766]\n",
      "Recommended for U1119: [132560 135038 135051 135050 135049]\n",
      "Recommended for U1120: [132560 132866 135000 134999 134996]\n",
      "Recommended for U1121: [132560 135038 135051 135050 135049]\n",
      "Recommended for U1122: [132560 135001 135033 135027 135025]\n",
      "Recommended for U1123: [132560 135052 135050 135049 135048]\n",
      "Recommended for U1124: [135062 135085 135051 135052 135027]\n",
      "Recommended for U1125: [132560 134976 135011 135001 135000]\n",
      "Recommended for U1126: [132560 132561 135013 135011 135001]\n",
      "Recommended for U1127: [132560 135035 135050 135049 135048]\n",
      "Recommended for U1128: [132560 135033 135047 135046 135045]\n",
      "Recommended for U1129: [132560 135035 135050 135049 135048]\n",
      "Recommended for U1130: [132665 132560 135038 135051 135050]\n",
      "Recommended for U1131: [132560 134992 135046 135045 135044]\n",
      "Recommended for U1132: [132560 132561 135011 135001 135000]\n",
      "Recommended for U1133: [132560 135028 135043 135042 135041]\n",
      "Recommended for U1134: [132560 134992 135013 135011 135001]\n",
      "Recommended for U1135: [132560 135026 135047 135046 135044]\n",
      "Recommended for U1136: [132560 135013 135039 135038 135033]\n",
      "Recommended for U1137: [132560 134999 135021 135019 135018]\n",
      "Recommended for U1138: [132560 134992 135047 135046 135045]\n"
     ]
    }
   ],
   "source": [
    "#TODO\n",
    "# for each user\n",
    "for i in range(num_users):\n",
    "    \n",
    "    # get user id (for printing)\n",
    "    this_user_id = utility_matrix.index[i]\n",
    "    \n",
    "    # get unrated restaurants (boolean)\n",
    "    unrated_restaurants = utility_matrix.iloc[i].isna()\n",
    "\n",
    "    # filter predictions for unrated restarurants, sort descending, pick first 5\n",
    "    recommended_place_id = utility_matrix_prediction.iloc[i][unrated_restaurants].sort_values(ascending=False)[:5]\n",
    "    \n",
    "    # print\n",
    "    print(f\"Recommended for {this_user_id}: {recommended_place_id.index.values}\")\n"
   ]
  },
  {
   "cell_type": "markdown",
   "metadata": {},
   "source": [
    "The codes for Item-based Collaborative Filtering is similar to to User-based Collaborative Filtering except that we transpose the utility matrix when calculating the correlation matrix. We will leave it to you to try out on your own."
   ]
  }
 ],
 "metadata": {
  "kernelspec": {
   "display_name": "Python 3 (ipykernel)",
   "language": "python",
   "name": "python3"
  },
  "language_info": {
   "codemirror_mode": {
    "name": "ipython",
    "version": 3
   },
   "file_extension": ".py",
   "mimetype": "text/x-python",
   "name": "python",
   "nbconvert_exporter": "python",
   "pygments_lexer": "ipython3",
   "version": "3.10.9"
  }
 },
 "nbformat": 4,
 "nbformat_minor": 2
}
