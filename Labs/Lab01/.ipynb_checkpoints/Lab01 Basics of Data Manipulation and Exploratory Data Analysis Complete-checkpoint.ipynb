{
 "cells": [
  {
   "cell_type": "code",
   "execution_count": 1,
   "metadata": {},
   "outputs": [],
   "source": [
    "import numpy as np\n",
    "import pandas as pd\n",
    "from pandas import Series, DataFrame\n"
   ]
  },
  {
   "cell_type": "code",
   "execution_count": 2,
   "metadata": {},
   "outputs": [],
   "source": [
    "#set seed to ensure that we can replicate the numbers generated (for random function)\n",
    "np.random.seed(123)\n"
   ]
  },
  {
   "cell_type": "markdown",
   "metadata": {},
   "source": [
    "# Series"
   ]
  },
  {
   "cell_type": "markdown",
   "metadata": {},
   "source": [
    "Series is a 1-D numpy array with axis labels"
   ]
  },
  {
   "cell_type": "code",
   "execution_count": 3,
   "metadata": {},
   "outputs": [],
   "source": [
    "#initialize 10 random numbers\n",
    "s = Series(np.random.randn(10))\n"
   ]
  },
  {
   "cell_type": "code",
   "execution_count": 4,
   "metadata": {},
   "outputs": [
    {
     "data": {
      "text/plain": [
       "0   -1.085631\n",
       "1    0.997345\n",
       "2    0.282978\n",
       "3   -1.506295\n",
       "4   -0.578600\n",
       "5    1.651437\n",
       "6   -2.426679\n",
       "7   -0.428913\n",
       "8    1.265936\n",
       "9   -0.866740\n",
       "dtype: float64"
      ]
     },
     "execution_count": 4,
     "metadata": {},
     "output_type": "execute_result"
    }
   ],
   "source": [
    "s\n"
   ]
  },
  {
   "cell_type": "markdown",
   "metadata": {},
   "source": [
    "======================================================================"
   ]
  },
  {
   "cell_type": "markdown",
   "metadata": {},
   "source": [
    "## Indexing"
   ]
  },
  {
   "cell_type": "code",
   "execution_count": 5,
   "metadata": {},
   "outputs": [
    {
     "data": {
      "text/plain": [
       "-0.5786002519685364"
      ]
     },
     "execution_count": 5,
     "metadata": {},
     "output_type": "execute_result"
    }
   ],
   "source": [
    "# accessing the 5th element\n",
    "s[4]\n"
   ]
  },
  {
   "cell_type": "code",
   "execution_count": 6,
   "metadata": {},
   "outputs": [
    {
     "data": {
      "text/plain": [
       "0   -1.085631\n",
       "2    0.282978\n",
       "4   -0.578600\n",
       "dtype: float64"
      ]
     },
     "execution_count": 6,
     "metadata": {},
     "output_type": "execute_result"
    }
   ],
   "source": [
    "# accessing multiple elements (1st, 3rd, 5th)\n",
    "s[[0,2,4]]\n"
   ]
  },
  {
   "cell_type": "code",
   "execution_count": 7,
   "metadata": {},
   "outputs": [
    {
     "data": {
      "text/plain": [
       "1    0.997345\n",
       "2    0.282978\n",
       "3   -1.506295\n",
       "dtype: float64"
      ]
     },
     "execution_count": 7,
     "metadata": {},
     "output_type": "execute_result"
    }
   ],
   "source": [
    "# using the slice notation\n",
    "s[1:4]\n"
   ]
  },
  {
   "cell_type": "markdown",
   "metadata": {},
   "source": [
    "======================================================================"
   ]
  },
  {
   "cell_type": "markdown",
   "metadata": {},
   "source": [
    "## Axis Labels"
   ]
  },
  {
   "cell_type": "markdown",
   "metadata": {},
   "source": [
    "Recall: Series is a 1-D numpy array **with axis labels**"
   ]
  },
  {
   "cell_type": "code",
   "execution_count": 8,
   "metadata": {},
   "outputs": [
    {
     "data": {
      "text/plain": [
       "RangeIndex(start=0, stop=10, step=1)"
      ]
     },
     "execution_count": 8,
     "metadata": {},
     "output_type": "execute_result"
    }
   ],
   "source": [
    "#getting the index\n",
    "#Pandas data structure is extending numpy ndarray\n",
    "#but it comes with index(es)\n",
    "s.index\n"
   ]
  },
  {
   "cell_type": "code",
   "execution_count": 9,
   "metadata": {},
   "outputs": [
    {
     "data": {
      "text/plain": [
       "item 0   -1.085631\n",
       "item 1    0.997345\n",
       "item 2    0.282978\n",
       "item 3   -1.506295\n",
       "item 4   -0.578600\n",
       "item 5    1.651437\n",
       "item 6   -2.426679\n",
       "item 7   -0.428913\n",
       "item 8    1.265936\n",
       "item 9   -0.866740\n",
       "dtype: float64"
      ]
     },
     "execution_count": 9,
     "metadata": {},
     "output_type": "execute_result"
    }
   ],
   "source": [
    "#copy a pandas data structure\n",
    "s1 = s.copy()\n",
    "s1.index = [\"item 0\", \"item 1\", \"item 2\", \"item 3\", \"item 4\", \"item 5\", \"item 6\", \"item 7\", \"item 8\", \"item 9\"]\n",
    "s1\n"
   ]
  },
  {
   "cell_type": "code",
   "execution_count": 10,
   "metadata": {},
   "outputs": [
    {
     "data": {
      "text/plain": [
       "0   -1.085631\n",
       "1    0.997345\n",
       "2    0.282978\n",
       "3   -1.506295\n",
       "4   -0.578600\n",
       "5    1.651437\n",
       "6   -2.426679\n",
       "7   -0.428913\n",
       "8    1.265936\n",
       "9   -0.866740\n",
       "dtype: float64"
      ]
     },
     "execution_count": 10,
     "metadata": {},
     "output_type": "execute_result"
    }
   ],
   "source": [
    "#s is untouched\n",
    "#if we just use s1 = s\n",
    "#s's index will be modified\n",
    "s\n"
   ]
  },
  {
   "cell_type": "markdown",
   "metadata": {},
   "source": [
    "======================================================================"
   ]
  },
  {
   "cell_type": "markdown",
   "metadata": {},
   "source": [
    "## Selecting Elements"
   ]
  },
  {
   "cell_type": "markdown",
   "metadata": {},
   "source": [
    "#### ❓Q1. Get the first 3 elements of `s1`\n",
    "Read the documentation on https://pandas.pydata.org/docs/reference/api/pandas.Series.html"
   ]
  },
  {
   "cell_type": "code",
   "execution_count": 11,
   "metadata": {},
   "outputs": [
    {
     "data": {
      "text/plain": [
       "item 0   -1.085631\n",
       "item 1    0.997345\n",
       "item 2    0.282978\n",
       "dtype: float64"
      ]
     },
     "execution_count": 11,
     "metadata": {},
     "output_type": "execute_result"
    }
   ],
   "source": [
    "#TODO\n",
    "s1.head(3)\n"
   ]
  },
  {
   "cell_type": "markdown",
   "metadata": {},
   "source": [
    "#### ❓Q2. What are the different ways to get the last 3 elements of `s1`?"
   ]
  },
  {
   "cell_type": "code",
   "execution_count": 12,
   "metadata": {},
   "outputs": [
    {
     "data": {
      "text/plain": [
       "item 7   -0.428913\n",
       "item 8    1.265936\n",
       "item 9   -0.866740\n",
       "dtype: float64"
      ]
     },
     "execution_count": 12,
     "metadata": {},
     "output_type": "execute_result"
    }
   ],
   "source": [
    "#TODO\n",
    "s1.tail(3)\n"
   ]
  },
  {
   "cell_type": "code",
   "execution_count": 13,
   "metadata": {},
   "outputs": [
    {
     "data": {
      "text/plain": [
       "item 7   -0.428913\n",
       "item 8    1.265936\n",
       "item 9   -0.866740\n",
       "dtype: float64"
      ]
     },
     "execution_count": 13,
     "metadata": {},
     "output_type": "execute_result"
    }
   ],
   "source": [
    "s1[[7, 8, 9]]\n"
   ]
  },
  {
   "cell_type": "code",
   "execution_count": 14,
   "metadata": {},
   "outputs": [
    {
     "data": {
      "text/plain": [
       "item 7   -0.428913\n",
       "item 8    1.265936\n",
       "item 9   -0.866740\n",
       "dtype: float64"
      ]
     },
     "execution_count": 14,
     "metadata": {},
     "output_type": "execute_result"
    }
   ],
   "source": [
    "s1[[-3, -2, -1]]\n"
   ]
  },
  {
   "cell_type": "code",
   "execution_count": 15,
   "metadata": {},
   "outputs": [
    {
     "data": {
      "text/plain": [
       "item 7   -0.428913\n",
       "item 8    1.265936\n",
       "item 9   -0.866740\n",
       "dtype: float64"
      ]
     },
     "execution_count": 15,
     "metadata": {},
     "output_type": "execute_result"
    }
   ],
   "source": [
    "s1[7:]\n"
   ]
  },
  {
   "cell_type": "code",
   "execution_count": 16,
   "metadata": {},
   "outputs": [
    {
     "data": {
      "text/plain": [
       "item 7   -0.428913\n",
       "item 8    1.265936\n",
       "item 9   -0.866740\n",
       "dtype: float64"
      ]
     },
     "execution_count": 16,
     "metadata": {},
     "output_type": "execute_result"
    }
   ],
   "source": [
    "s1[-3:]\n"
   ]
  },
  {
   "cell_type": "markdown",
   "metadata": {},
   "source": [
    "#### ❓Q3. Suppose we do not know the size (i.e. number of elements) of `s1`, how can we find out the size programmatically?"
   ]
  },
  {
   "cell_type": "code",
   "execution_count": 17,
   "metadata": {},
   "outputs": [
    {
     "data": {
      "text/plain": [
       "10"
      ]
     },
     "execution_count": 17,
     "metadata": {},
     "output_type": "execute_result"
    }
   ],
   "source": [
    "#TODO\n",
    "len(s1)\n"
   ]
  },
  {
   "cell_type": "code",
   "execution_count": 18,
   "metadata": {},
   "outputs": [
    {
     "data": {
      "text/plain": [
       "(10,)"
      ]
     },
     "execution_count": 18,
     "metadata": {},
     "output_type": "execute_result"
    }
   ],
   "source": [
    "s.shape\n"
   ]
  },
  {
   "cell_type": "markdown",
   "metadata": {},
   "source": [
    "======================================================================"
   ]
  },
  {
   "cell_type": "markdown",
   "metadata": {},
   "source": [
    "## Arithmetic Operations (Series)"
   ]
  },
  {
   "cell_type": "code",
   "execution_count": 19,
   "metadata": {
    "scrolled": true
   },
   "outputs": [
    {
     "data": {
      "text/plain": [
       "item 0   -1.085631\n",
       "item 1    0.997345\n",
       "item 2    0.282978\n",
       "item 3   -1.506295\n",
       "item 4   -0.578600\n",
       "item 5    1.651437\n",
       "item 6   -2.426679\n",
       "item 7   -0.428913\n",
       "item 8    1.265936\n",
       "item 9   -0.866740\n",
       "dtype: float64"
      ]
     },
     "execution_count": 19,
     "metadata": {},
     "output_type": "execute_result"
    }
   ],
   "source": [
    "s1\n"
   ]
  },
  {
   "cell_type": "code",
   "execution_count": 20,
   "metadata": {},
   "outputs": [
    {
     "data": {
      "text/plain": [
       "item 6   -2.426679\n",
       "item 3   -1.506295\n",
       "item 0   -1.085631\n",
       "item 9   -0.866740\n",
       "item 4   -0.578600\n",
       "item 7   -0.428913\n",
       "item 2    0.282978\n",
       "item 1    0.997345\n",
       "item 8    1.265936\n",
       "item 5    1.651437\n",
       "dtype: float64"
      ]
     },
     "execution_count": 20,
     "metadata": {},
     "output_type": "execute_result"
    }
   ],
   "source": [
    "#create a copy of s1 & sort values\n",
    "s2 = Series(s.values, index=[\"item 0\", \"item 1\", \"item 2\", \"item 3\", \"item 4\", \"item 5\", \"item 6\", \"item 7\", \"item 8\", \"item 9\"])\n",
    "s2 = s2.sort_values()\n",
    "s2\n"
   ]
  },
  {
   "cell_type": "markdown",
   "metadata": {},
   "source": [
    "#### ❓Q4. What happens when we perform `s1 + s2`?"
   ]
  },
  {
   "cell_type": "code",
   "execution_count": 21,
   "metadata": {},
   "outputs": [
    {
     "data": {
      "text/plain": [
       "item 0   -2.171261\n",
       "item 1    1.994691\n",
       "item 2    0.565957\n",
       "item 3   -3.012589\n",
       "item 4   -1.157201\n",
       "item 5    3.302873\n",
       "item 6   -4.853358\n",
       "item 7   -0.857825\n",
       "item 8    2.531873\n",
       "item 9   -1.733481\n",
       "dtype: float64"
      ]
     },
     "execution_count": 21,
     "metadata": {},
     "output_type": "execute_result"
    }
   ],
   "source": [
    "#TODO\n",
    "s1 + s2\n"
   ]
  },
  {
   "cell_type": "markdown",
   "metadata": {},
   "source": [
    "#### ❓Q5. Try other arithmetic operators...\n",
    "Basically all the features we get in NumPy is available for Pandas Series/DataFrame\n",
    "\n",
    "e.g.\n",
    "https://numpy.org/doc/stable/user/basics.broadcasting.html"
   ]
  },
  {
   "cell_type": "code",
   "execution_count": 22,
   "metadata": {},
   "outputs": [
    {
     "data": {
      "text/plain": [
       "item 0    0.0\n",
       "item 1    0.0\n",
       "item 2    0.0\n",
       "item 3    0.0\n",
       "item 4    0.0\n",
       "item 5    0.0\n",
       "item 6    0.0\n",
       "item 7    0.0\n",
       "item 8    0.0\n",
       "item 9    0.0\n",
       "dtype: float64"
      ]
     },
     "execution_count": 22,
     "metadata": {},
     "output_type": "execute_result"
    }
   ],
   "source": [
    "#TODO\n",
    "s1 - s2\n"
   ]
  },
  {
   "cell_type": "code",
   "execution_count": 23,
   "metadata": {},
   "outputs": [
    {
     "data": {
      "text/plain": [
       "item 0    1.0\n",
       "item 1    1.0\n",
       "item 2    1.0\n",
       "item 3    1.0\n",
       "item 4    1.0\n",
       "item 5    1.0\n",
       "item 6    1.0\n",
       "item 7    1.0\n",
       "item 8    1.0\n",
       "item 9    1.0\n",
       "dtype: float64"
      ]
     },
     "execution_count": 23,
     "metadata": {},
     "output_type": "execute_result"
    }
   ],
   "source": [
    "s1 / s2\n"
   ]
  },
  {
   "cell_type": "code",
   "execution_count": 24,
   "metadata": {},
   "outputs": [
    {
     "data": {
      "text/plain": [
       "item 0    1.178594\n",
       "item 1    0.994698\n",
       "item 2    0.080077\n",
       "item 3    2.268924\n",
       "item 4    0.334778\n",
       "item 5    2.727243\n",
       "item 6    5.888772\n",
       "item 7    0.183966\n",
       "item 8    1.602595\n",
       "item 9    0.751239\n",
       "dtype: float64"
      ]
     },
     "execution_count": 24,
     "metadata": {},
     "output_type": "execute_result"
    }
   ],
   "source": [
    "s1 * s2\n"
   ]
  },
  {
   "cell_type": "code",
   "execution_count": 25,
   "metadata": {},
   "outputs": [
    {
     "data": {
      "text/plain": [
       "item 0    1.178594\n",
       "item 1    0.994698\n",
       "item 2    0.080077\n",
       "item 3    2.268924\n",
       "item 4    0.334778\n",
       "item 5    2.727243\n",
       "item 6    5.888772\n",
       "item 7    0.183966\n",
       "item 8    1.602595\n",
       "item 9    0.751239\n",
       "dtype: float64"
      ]
     },
     "execution_count": 25,
     "metadata": {},
     "output_type": "execute_result"
    }
   ],
   "source": [
    "s1 ** 2\n"
   ]
  },
  {
   "cell_type": "markdown",
   "metadata": {},
   "source": [
    "======================================================================"
   ]
  },
  {
   "cell_type": "markdown",
   "metadata": {},
   "source": [
    "## String Index vs. Integer Index"
   ]
  },
  {
   "cell_type": "code",
   "execution_count": 26,
   "metadata": {},
   "outputs": [
    {
     "name": "stdout",
     "output_type": "stream",
     "text": [
      "0    0\n",
      "1    1\n",
      "2    2\n",
      "dtype: int64\n",
      "0    4\n",
      "1    5\n",
      "2    6\n",
      "dtype: int64\n"
     ]
    }
   ],
   "source": [
    "#just be careful about mixing string indexes and integer indexes\n",
    "s3 = Series(np.arange(3), index = [0, 1, 2])\n",
    "print(s3)\n",
    "s4 = Series([4,5,6], index=[\"0\", \"1\", \"2\"])\n",
    "print(s4)\n"
   ]
  },
  {
   "cell_type": "code",
   "execution_count": 27,
   "metadata": {},
   "outputs": [
    {
     "name": "stdout",
     "output_type": "stream",
     "text": [
      "Int64Index([0, 1, 2], dtype='int64')\n",
      "Index(['0', '1', '2'], dtype='object')\n"
     ]
    }
   ],
   "source": [
    "print(s3.index)\n",
    "print(s4.index)\n"
   ]
  },
  {
   "cell_type": "code",
   "execution_count": 28,
   "metadata": {},
   "outputs": [
    {
     "data": {
      "text/plain": [
       "0   NaN\n",
       "1   NaN\n",
       "2   NaN\n",
       "0   NaN\n",
       "1   NaN\n",
       "2   NaN\n",
       "dtype: float64"
      ]
     },
     "execution_count": 28,
     "metadata": {},
     "output_type": "execute_result"
    }
   ],
   "source": [
    "#get all NaN because there is no matches in the indexes\n",
    "s3 + s4\n"
   ]
  },
  {
   "cell_type": "code",
   "execution_count": 29,
   "metadata": {},
   "outputs": [],
   "source": [
    "#can try to convert the indexes to int instead\n",
    "s4.index = s4.index.values.astype(int)\n"
   ]
  },
  {
   "cell_type": "code",
   "execution_count": 30,
   "metadata": {},
   "outputs": [
    {
     "data": {
      "text/plain": [
       "0    4\n",
       "1    6\n",
       "2    8\n",
       "dtype: int64"
      ]
     },
     "execution_count": 30,
     "metadata": {},
     "output_type": "execute_result"
    }
   ],
   "source": [
    "s3 + s4\n"
   ]
  },
  {
   "cell_type": "markdown",
   "metadata": {},
   "source": [
    "======================================================================"
   ]
  },
  {
   "cell_type": "markdown",
   "metadata": {},
   "source": [
    "## Concatenation (Series)"
   ]
  },
  {
   "cell_type": "code",
   "execution_count": 31,
   "metadata": {
    "scrolled": true
   },
   "outputs": [
    {
     "data": {
      "text/plain": [
       "0    d\n",
       "1    e\n",
       "0    f\n",
       "1    g\n",
       "dtype: object"
      ]
     },
     "execution_count": 31,
     "metadata": {},
     "output_type": "execute_result"
    }
   ],
   "source": [
    "#notice we are having same indexes\n",
    "s5 = pd.Series([\"d\", \"e\"])\n",
    "s5\n",
    "s6 = pd.Series([\"f\", \"g\"])\n",
    "s6\n",
    "s7 = pd.concat([s5, s6])\n",
    "s7\n"
   ]
  },
  {
   "cell_type": "code",
   "execution_count": 32,
   "metadata": {
    "scrolled": true
   },
   "outputs": [
    {
     "data": {
      "text/plain": [
       "1    e\n",
       "1    g\n",
       "dtype: object"
      ]
     },
     "execution_count": 32,
     "metadata": {},
     "output_type": "execute_result"
    }
   ],
   "source": [
    "#got 2 values instead of 1\n",
    "s7[1]\n"
   ]
  },
  {
   "cell_type": "code",
   "execution_count": 33,
   "metadata": {},
   "outputs": [
    {
     "name": "stdout",
     "output_type": "stream",
     "text": [
      "['e' 'g']\n"
     ]
    }
   ],
   "source": [
    "print(s7[1].values)\n"
   ]
  },
  {
   "cell_type": "code",
   "execution_count": 34,
   "metadata": {
    "scrolled": true
   },
   "outputs": [
    {
     "data": {
      "text/plain": [
       "0    d\n",
       "1    e\n",
       "2    f\n",
       "3    g\n",
       "dtype: object"
      ]
     },
     "execution_count": 34,
     "metadata": {},
     "output_type": "execute_result"
    }
   ],
   "source": [
    "#can do auto re-indexing by setting ignore_index to True\n",
    "s8 = pd.concat([s5, s6], ignore_index = True)\n",
    "s8\n"
   ]
  },
  {
   "cell_type": "markdown",
   "metadata": {},
   "source": [
    "======================================================================"
   ]
  },
  {
   "cell_type": "markdown",
   "metadata": {},
   "source": [
    "# DataFrames"
   ]
  },
  {
   "cell_type": "markdown",
   "metadata": {},
   "source": [
    "DataFrame is a 2-D tabular data. The operations available for Series are also available to DataFrames (or works similarly)"
   ]
  },
  {
   "cell_type": "code",
   "execution_count": 35,
   "metadata": {},
   "outputs": [
    {
     "data": {
      "text/html": [
       "<div>\n",
       "<style scoped>\n",
       "    .dataframe tbody tr th:only-of-type {\n",
       "        vertical-align: middle;\n",
       "    }\n",
       "\n",
       "    .dataframe tbody tr th {\n",
       "        vertical-align: top;\n",
       "    }\n",
       "\n",
       "    .dataframe thead th {\n",
       "        text-align: right;\n",
       "    }\n",
       "</style>\n",
       "<table border=\"1\" class=\"dataframe\">\n",
       "  <thead>\n",
       "    <tr style=\"text-align: right;\">\n",
       "      <th></th>\n",
       "      <th>a</th>\n",
       "      <th>b</th>\n",
       "      <th>c</th>\n",
       "      <th>d</th>\n",
       "      <th>e</th>\n",
       "    </tr>\n",
       "  </thead>\n",
       "  <tbody>\n",
       "    <tr>\n",
       "      <th>0</th>\n",
       "      <td>1</td>\n",
       "      <td>2</td>\n",
       "      <td>3</td>\n",
       "      <td>4</td>\n",
       "      <td>5</td>\n",
       "    </tr>\n",
       "    <tr>\n",
       "      <th>1</th>\n",
       "      <td>6</td>\n",
       "      <td>7</td>\n",
       "      <td>8</td>\n",
       "      <td>9</td>\n",
       "      <td>10</td>\n",
       "    </tr>\n",
       "  </tbody>\n",
       "</table>\n",
       "</div>"
      ],
      "text/plain": [
       "   a  b  c  d   e\n",
       "0  1  2  3  4   5\n",
       "1  6  7  8  9  10"
      ]
     },
     "execution_count": 35,
     "metadata": {},
     "output_type": "execute_result"
    }
   ],
   "source": [
    "#defining dataframe using multiple lists\n",
    "df1 = DataFrame([[1,2,3,4,5], [6,7,8,9,10]], columns=[\"a\", \"b\", \"c\", \"d\", \"e\"])\n",
    "df1\n"
   ]
  },
  {
   "cell_type": "code",
   "execution_count": 36,
   "metadata": {},
   "outputs": [
    {
     "data": {
      "text/plain": [
       "(2, 5)"
      ]
     },
     "execution_count": 36,
     "metadata": {},
     "output_type": "execute_result"
    }
   ],
   "source": [
    "#getting the shape of dataframe\n",
    "df1.shape\n"
   ]
  },
  {
   "cell_type": "code",
   "execution_count": 37,
   "metadata": {},
   "outputs": [
    {
     "data": {
      "text/html": [
       "<div>\n",
       "<style scoped>\n",
       "    .dataframe tbody tr th:only-of-type {\n",
       "        vertical-align: middle;\n",
       "    }\n",
       "\n",
       "    .dataframe tbody tr th {\n",
       "        vertical-align: top;\n",
       "    }\n",
       "\n",
       "    .dataframe thead th {\n",
       "        text-align: right;\n",
       "    }\n",
       "</style>\n",
       "<table border=\"1\" class=\"dataframe\">\n",
       "  <thead>\n",
       "    <tr style=\"text-align: right;\">\n",
       "      <th></th>\n",
       "      <th>Name</th>\n",
       "      <th>Age</th>\n",
       "    </tr>\n",
       "  </thead>\n",
       "  <tbody>\n",
       "    <tr>\n",
       "      <th>0</th>\n",
       "      <td>John Doe</td>\n",
       "      <td>25</td>\n",
       "    </tr>\n",
       "    <tr>\n",
       "      <th>1</th>\n",
       "      <td>Jane Doe</td>\n",
       "      <td>26</td>\n",
       "    </tr>\n",
       "    <tr>\n",
       "      <th>2</th>\n",
       "      <td>Jack Doe</td>\n",
       "      <td>23</td>\n",
       "    </tr>\n",
       "    <tr>\n",
       "      <th>3</th>\n",
       "      <td>Bobby Blue</td>\n",
       "      <td>40</td>\n",
       "    </tr>\n",
       "  </tbody>\n",
       "</table>\n",
       "</div>"
      ],
      "text/plain": [
       "         Name  Age\n",
       "0    John Doe   25\n",
       "1    Jane Doe   26\n",
       "2    Jack Doe   23\n",
       "3  Bobby Blue   40"
      ]
     },
     "execution_count": 37,
     "metadata": {},
     "output_type": "execute_result"
    }
   ],
   "source": [
    "#rather than specifying the rows, more common to specify the columns\n",
    "#defining DF using a dictionary\n",
    "df2 =  DataFrame({\"Name\": [\"John Doe\", \"Jane Doe\", \"Jack Doe\", \"Bobby Blue\"], \"Age\": [25, 26, 23, 40]})\n",
    "df2\n"
   ]
  },
  {
   "cell_type": "markdown",
   "metadata": {},
   "source": [
    "======================================================================"
   ]
  },
  {
   "cell_type": "markdown",
   "metadata": {},
   "source": [
    "## Reading Data"
   ]
  },
  {
   "cell_type": "code",
   "execution_count": 38,
   "metadata": {},
   "outputs": [
    {
     "data": {
      "text/html": [
       "<div>\n",
       "<style scoped>\n",
       "    .dataframe tbody tr th:only-of-type {\n",
       "        vertical-align: middle;\n",
       "    }\n",
       "\n",
       "    .dataframe tbody tr th {\n",
       "        vertical-align: top;\n",
       "    }\n",
       "\n",
       "    .dataframe thead th {\n",
       "        text-align: right;\n",
       "    }\n",
       "</style>\n",
       "<table border=\"1\" class=\"dataframe\">\n",
       "  <thead>\n",
       "    <tr style=\"text-align: right;\">\n",
       "      <th></th>\n",
       "      <th>App</th>\n",
       "      <th>Category</th>\n",
       "      <th>Rating</th>\n",
       "      <th>Reviews</th>\n",
       "      <th>Size</th>\n",
       "      <th>Installs</th>\n",
       "      <th>Type</th>\n",
       "      <th>Price</th>\n",
       "      <th>Content Rating</th>\n",
       "      <th>Genres</th>\n",
       "      <th>Last Updated</th>\n",
       "      <th>Current Ver</th>\n",
       "      <th>Android Ver</th>\n",
       "    </tr>\n",
       "  </thead>\n",
       "  <tbody>\n",
       "    <tr>\n",
       "      <th>0</th>\n",
       "      <td>Photo Editor &amp; Candy Camera &amp; Grid &amp; ScrapBook</td>\n",
       "      <td>ART_AND_DESIGN</td>\n",
       "      <td>4.1</td>\n",
       "      <td>159</td>\n",
       "      <td>19M</td>\n",
       "      <td>10,000+</td>\n",
       "      <td>Free</td>\n",
       "      <td>0</td>\n",
       "      <td>Everyone</td>\n",
       "      <td>Art &amp; Design</td>\n",
       "      <td>7-Jan-18</td>\n",
       "      <td>1.0.0</td>\n",
       "      <td>4.0.3 and up</td>\n",
       "    </tr>\n",
       "    <tr>\n",
       "      <th>1</th>\n",
       "      <td>Coloring book moana</td>\n",
       "      <td>ART_AND_DESIGN</td>\n",
       "      <td>3.9</td>\n",
       "      <td>967</td>\n",
       "      <td>14M</td>\n",
       "      <td>500,000+</td>\n",
       "      <td>Free</td>\n",
       "      <td>0</td>\n",
       "      <td>Everyone</td>\n",
       "      <td>Art &amp; Design;Pretend Play</td>\n",
       "      <td>15-Jan-18</td>\n",
       "      <td>2.0.0</td>\n",
       "      <td>4.0.3 and up</td>\n",
       "    </tr>\n",
       "    <tr>\n",
       "      <th>2</th>\n",
       "      <td>U Launcher Lite – FREE Live Cool Themes, Hide ...</td>\n",
       "      <td>ART_AND_DESIGN</td>\n",
       "      <td>4.7</td>\n",
       "      <td>87510</td>\n",
       "      <td>8.7M</td>\n",
       "      <td>5,000,000+</td>\n",
       "      <td>Free</td>\n",
       "      <td>0</td>\n",
       "      <td>Everyone</td>\n",
       "      <td>Art &amp; Design</td>\n",
       "      <td>1-Aug-18</td>\n",
       "      <td>1.2.4</td>\n",
       "      <td>4.0.3 and up</td>\n",
       "    </tr>\n",
       "    <tr>\n",
       "      <th>3</th>\n",
       "      <td>Sketch - Draw &amp; Paint</td>\n",
       "      <td>ART_AND_DESIGN</td>\n",
       "      <td>4.5</td>\n",
       "      <td>215644</td>\n",
       "      <td>25M</td>\n",
       "      <td>50,000,000+</td>\n",
       "      <td>Free</td>\n",
       "      <td>0</td>\n",
       "      <td>Teen</td>\n",
       "      <td>Art &amp; Design</td>\n",
       "      <td>8-Jun-18</td>\n",
       "      <td>Varies with device</td>\n",
       "      <td>4.2 and up</td>\n",
       "    </tr>\n",
       "    <tr>\n",
       "      <th>4</th>\n",
       "      <td>Pixel Draw - Number Art Coloring Book</td>\n",
       "      <td>ART_AND_DESIGN</td>\n",
       "      <td>4.3</td>\n",
       "      <td>967</td>\n",
       "      <td>2.8M</td>\n",
       "      <td>100,000+</td>\n",
       "      <td>Free</td>\n",
       "      <td>0</td>\n",
       "      <td>Everyone</td>\n",
       "      <td>Art &amp; Design;Creativity</td>\n",
       "      <td>20-Jun-18</td>\n",
       "      <td>1.1</td>\n",
       "      <td>4.4 and up</td>\n",
       "    </tr>\n",
       "    <tr>\n",
       "      <th>...</th>\n",
       "      <td>...</td>\n",
       "      <td>...</td>\n",
       "      <td>...</td>\n",
       "      <td>...</td>\n",
       "      <td>...</td>\n",
       "      <td>...</td>\n",
       "      <td>...</td>\n",
       "      <td>...</td>\n",
       "      <td>...</td>\n",
       "      <td>...</td>\n",
       "      <td>...</td>\n",
       "      <td>...</td>\n",
       "      <td>...</td>\n",
       "    </tr>\n",
       "    <tr>\n",
       "      <th>10836</th>\n",
       "      <td>Sya9a Maroc - FR</td>\n",
       "      <td>FAMILY</td>\n",
       "      <td>4.5</td>\n",
       "      <td>38</td>\n",
       "      <td>53M</td>\n",
       "      <td>5,000+</td>\n",
       "      <td>Free</td>\n",
       "      <td>0</td>\n",
       "      <td>Everyone</td>\n",
       "      <td>Education</td>\n",
       "      <td>25-Jul-17</td>\n",
       "      <td>1.48</td>\n",
       "      <td>4.1 and up</td>\n",
       "    </tr>\n",
       "    <tr>\n",
       "      <th>10837</th>\n",
       "      <td>Fr. Mike Schmitz Audio Teachings</td>\n",
       "      <td>FAMILY</td>\n",
       "      <td>5.0</td>\n",
       "      <td>4</td>\n",
       "      <td>3.6M</td>\n",
       "      <td>100+</td>\n",
       "      <td>Free</td>\n",
       "      <td>0</td>\n",
       "      <td>Everyone</td>\n",
       "      <td>Education</td>\n",
       "      <td>6-Jul-18</td>\n",
       "      <td>1</td>\n",
       "      <td>4.1 and up</td>\n",
       "    </tr>\n",
       "    <tr>\n",
       "      <th>10838</th>\n",
       "      <td>Parkinson Exercices FR</td>\n",
       "      <td>MEDICAL</td>\n",
       "      <td>NaN</td>\n",
       "      <td>3</td>\n",
       "      <td>9.5M</td>\n",
       "      <td>1,000+</td>\n",
       "      <td>Free</td>\n",
       "      <td>0</td>\n",
       "      <td>Everyone</td>\n",
       "      <td>Medical</td>\n",
       "      <td>20-Jan-17</td>\n",
       "      <td>1</td>\n",
       "      <td>2.2 and up</td>\n",
       "    </tr>\n",
       "    <tr>\n",
       "      <th>10839</th>\n",
       "      <td>The SCP Foundation DB fr nn5n</td>\n",
       "      <td>BOOKS_AND_REFERENCE</td>\n",
       "      <td>4.5</td>\n",
       "      <td>114</td>\n",
       "      <td>Varies with device</td>\n",
       "      <td>1,000+</td>\n",
       "      <td>Free</td>\n",
       "      <td>0</td>\n",
       "      <td>Mature 17+</td>\n",
       "      <td>Books &amp; Reference</td>\n",
       "      <td>19-Jan-15</td>\n",
       "      <td>Varies with device</td>\n",
       "      <td>Varies with device</td>\n",
       "    </tr>\n",
       "    <tr>\n",
       "      <th>10840</th>\n",
       "      <td>iHoroscope - 2018 Daily Horoscope &amp; Astrology</td>\n",
       "      <td>LIFESTYLE</td>\n",
       "      <td>4.5</td>\n",
       "      <td>398307</td>\n",
       "      <td>19M</td>\n",
       "      <td>10,000,000+</td>\n",
       "      <td>Free</td>\n",
       "      <td>0</td>\n",
       "      <td>Everyone</td>\n",
       "      <td>Lifestyle</td>\n",
       "      <td>25-Jul-18</td>\n",
       "      <td>Varies with device</td>\n",
       "      <td>Varies with device</td>\n",
       "    </tr>\n",
       "  </tbody>\n",
       "</table>\n",
       "<p>10841 rows × 13 columns</p>\n",
       "</div>"
      ],
      "text/plain": [
       "                                                     App             Category  \\\n",
       "0         Photo Editor & Candy Camera & Grid & ScrapBook       ART_AND_DESIGN   \n",
       "1                                    Coloring book moana       ART_AND_DESIGN   \n",
       "2      U Launcher Lite – FREE Live Cool Themes, Hide ...       ART_AND_DESIGN   \n",
       "3                                  Sketch - Draw & Paint       ART_AND_DESIGN   \n",
       "4                  Pixel Draw - Number Art Coloring Book       ART_AND_DESIGN   \n",
       "...                                                  ...                  ...   \n",
       "10836                                   Sya9a Maroc - FR               FAMILY   \n",
       "10837                   Fr. Mike Schmitz Audio Teachings               FAMILY   \n",
       "10838                             Parkinson Exercices FR              MEDICAL   \n",
       "10839                      The SCP Foundation DB fr nn5n  BOOKS_AND_REFERENCE   \n",
       "10840      iHoroscope - 2018 Daily Horoscope & Astrology            LIFESTYLE   \n",
       "\n",
       "       Rating  Reviews                Size     Installs  Type Price  \\\n",
       "0         4.1      159                 19M      10,000+  Free     0   \n",
       "1         3.9      967                 14M     500,000+  Free     0   \n",
       "2         4.7    87510                8.7M   5,000,000+  Free     0   \n",
       "3         4.5   215644                 25M  50,000,000+  Free     0   \n",
       "4         4.3      967                2.8M     100,000+  Free     0   \n",
       "...       ...      ...                 ...          ...   ...   ...   \n",
       "10836     4.5       38                 53M       5,000+  Free     0   \n",
       "10837     5.0        4                3.6M         100+  Free     0   \n",
       "10838     NaN        3                9.5M       1,000+  Free     0   \n",
       "10839     4.5      114  Varies with device       1,000+  Free     0   \n",
       "10840     4.5   398307                 19M  10,000,000+  Free     0   \n",
       "\n",
       "      Content Rating                     Genres Last Updated  \\\n",
       "0           Everyone               Art & Design     7-Jan-18   \n",
       "1           Everyone  Art & Design;Pretend Play    15-Jan-18   \n",
       "2           Everyone               Art & Design     1-Aug-18   \n",
       "3               Teen               Art & Design     8-Jun-18   \n",
       "4           Everyone    Art & Design;Creativity    20-Jun-18   \n",
       "...              ...                        ...          ...   \n",
       "10836       Everyone                  Education    25-Jul-17   \n",
       "10837       Everyone                  Education     6-Jul-18   \n",
       "10838       Everyone                    Medical    20-Jan-17   \n",
       "10839     Mature 17+          Books & Reference    19-Jan-15   \n",
       "10840       Everyone                  Lifestyle    25-Jul-18   \n",
       "\n",
       "              Current Ver         Android Ver  \n",
       "0                   1.0.0        4.0.3 and up  \n",
       "1                   2.0.0        4.0.3 and up  \n",
       "2                   1.2.4        4.0.3 and up  \n",
       "3      Varies with device          4.2 and up  \n",
       "4                     1.1          4.4 and up  \n",
       "...                   ...                 ...  \n",
       "10836                1.48          4.1 and up  \n",
       "10837                   1          4.1 and up  \n",
       "10838                   1          2.2 and up  \n",
       "10839  Varies with device  Varies with device  \n",
       "10840  Varies with device  Varies with device  \n",
       "\n",
       "[10841 rows x 13 columns]"
      ]
     },
     "execution_count": 38,
     "metadata": {},
     "output_type": "execute_result"
    }
   ],
   "source": [
    "gplay = pd.read_csv(\"googleplaystore.csv\")\n",
    "gplay\n"
   ]
  },
  {
   "cell_type": "code",
   "execution_count": 39,
   "metadata": {
    "scrolled": false
   },
   "outputs": [
    {
     "data": {
      "text/html": [
       "<div>\n",
       "<style scoped>\n",
       "    .dataframe tbody tr th:only-of-type {\n",
       "        vertical-align: middle;\n",
       "    }\n",
       "\n",
       "    .dataframe tbody tr th {\n",
       "        vertical-align: top;\n",
       "    }\n",
       "\n",
       "    .dataframe thead th {\n",
       "        text-align: right;\n",
       "    }\n",
       "</style>\n",
       "<table border=\"1\" class=\"dataframe\">\n",
       "  <thead>\n",
       "    <tr style=\"text-align: right;\">\n",
       "      <th></th>\n",
       "      <th>App</th>\n",
       "      <th>Category</th>\n",
       "      <th>Rating</th>\n",
       "      <th>Reviews</th>\n",
       "      <th>Size</th>\n",
       "      <th>Installs</th>\n",
       "      <th>Type</th>\n",
       "      <th>Price</th>\n",
       "      <th>Content Rating</th>\n",
       "      <th>Genres</th>\n",
       "      <th>Last Updated</th>\n",
       "      <th>Current Ver</th>\n",
       "      <th>Android Ver</th>\n",
       "    </tr>\n",
       "  </thead>\n",
       "  <tbody>\n",
       "    <tr>\n",
       "      <th>0</th>\n",
       "      <td>Photo Editor &amp; Candy Camera &amp; Grid &amp; ScrapBook</td>\n",
       "      <td>ART_AND_DESIGN</td>\n",
       "      <td>4.1</td>\n",
       "      <td>159</td>\n",
       "      <td>19M</td>\n",
       "      <td>10,000+</td>\n",
       "      <td>Free</td>\n",
       "      <td>0</td>\n",
       "      <td>Everyone</td>\n",
       "      <td>Art &amp; Design</td>\n",
       "      <td>7-Jan-18</td>\n",
       "      <td>1.0.0</td>\n",
       "      <td>4.0.3 and up</td>\n",
       "    </tr>\n",
       "    <tr>\n",
       "      <th>1</th>\n",
       "      <td>Coloring book moana</td>\n",
       "      <td>ART_AND_DESIGN</td>\n",
       "      <td>3.9</td>\n",
       "      <td>967</td>\n",
       "      <td>14M</td>\n",
       "      <td>500,000+</td>\n",
       "      <td>Free</td>\n",
       "      <td>0</td>\n",
       "      <td>Everyone</td>\n",
       "      <td>Art &amp; Design;Pretend Play</td>\n",
       "      <td>15-Jan-18</td>\n",
       "      <td>2.0.0</td>\n",
       "      <td>4.0.3 and up</td>\n",
       "    </tr>\n",
       "    <tr>\n",
       "      <th>2</th>\n",
       "      <td>U Launcher Lite – FREE Live Cool Themes, Hide ...</td>\n",
       "      <td>ART_AND_DESIGN</td>\n",
       "      <td>4.7</td>\n",
       "      <td>87510</td>\n",
       "      <td>8.7M</td>\n",
       "      <td>5,000,000+</td>\n",
       "      <td>Free</td>\n",
       "      <td>0</td>\n",
       "      <td>Everyone</td>\n",
       "      <td>Art &amp; Design</td>\n",
       "      <td>1-Aug-18</td>\n",
       "      <td>1.2.4</td>\n",
       "      <td>4.0.3 and up</td>\n",
       "    </tr>\n",
       "    <tr>\n",
       "      <th>3</th>\n",
       "      <td>Sketch - Draw &amp; Paint</td>\n",
       "      <td>ART_AND_DESIGN</td>\n",
       "      <td>4.5</td>\n",
       "      <td>215644</td>\n",
       "      <td>25M</td>\n",
       "      <td>50,000,000+</td>\n",
       "      <td>Free</td>\n",
       "      <td>0</td>\n",
       "      <td>Teen</td>\n",
       "      <td>Art &amp; Design</td>\n",
       "      <td>8-Jun-18</td>\n",
       "      <td>Varies with device</td>\n",
       "      <td>4.2 and up</td>\n",
       "    </tr>\n",
       "    <tr>\n",
       "      <th>4</th>\n",
       "      <td>Pixel Draw - Number Art Coloring Book</td>\n",
       "      <td>ART_AND_DESIGN</td>\n",
       "      <td>4.3</td>\n",
       "      <td>967</td>\n",
       "      <td>2.8M</td>\n",
       "      <td>100,000+</td>\n",
       "      <td>Free</td>\n",
       "      <td>0</td>\n",
       "      <td>Everyone</td>\n",
       "      <td>Art &amp; Design;Creativity</td>\n",
       "      <td>20-Jun-18</td>\n",
       "      <td>1.1</td>\n",
       "      <td>4.4 and up</td>\n",
       "    </tr>\n",
       "    <tr>\n",
       "      <th>...</th>\n",
       "      <td>...</td>\n",
       "      <td>...</td>\n",
       "      <td>...</td>\n",
       "      <td>...</td>\n",
       "      <td>...</td>\n",
       "      <td>...</td>\n",
       "      <td>...</td>\n",
       "      <td>...</td>\n",
       "      <td>...</td>\n",
       "      <td>...</td>\n",
       "      <td>...</td>\n",
       "      <td>...</td>\n",
       "      <td>...</td>\n",
       "    </tr>\n",
       "    <tr>\n",
       "      <th>10834</th>\n",
       "      <td>FR Calculator</td>\n",
       "      <td>FAMILY</td>\n",
       "      <td>4.0</td>\n",
       "      <td>7</td>\n",
       "      <td>2.6M</td>\n",
       "      <td>500+</td>\n",
       "      <td>Free</td>\n",
       "      <td>0</td>\n",
       "      <td>Everyone</td>\n",
       "      <td>Education</td>\n",
       "      <td>18-Jun-17</td>\n",
       "      <td>1.0.0</td>\n",
       "      <td>4.1 and up</td>\n",
       "    </tr>\n",
       "    <tr>\n",
       "      <th>10836</th>\n",
       "      <td>Sya9a Maroc - FR</td>\n",
       "      <td>FAMILY</td>\n",
       "      <td>4.5</td>\n",
       "      <td>38</td>\n",
       "      <td>53M</td>\n",
       "      <td>5,000+</td>\n",
       "      <td>Free</td>\n",
       "      <td>0</td>\n",
       "      <td>Everyone</td>\n",
       "      <td>Education</td>\n",
       "      <td>25-Jul-17</td>\n",
       "      <td>1.48</td>\n",
       "      <td>4.1 and up</td>\n",
       "    </tr>\n",
       "    <tr>\n",
       "      <th>10837</th>\n",
       "      <td>Fr. Mike Schmitz Audio Teachings</td>\n",
       "      <td>FAMILY</td>\n",
       "      <td>5.0</td>\n",
       "      <td>4</td>\n",
       "      <td>3.6M</td>\n",
       "      <td>100+</td>\n",
       "      <td>Free</td>\n",
       "      <td>0</td>\n",
       "      <td>Everyone</td>\n",
       "      <td>Education</td>\n",
       "      <td>6-Jul-18</td>\n",
       "      <td>1</td>\n",
       "      <td>4.1 and up</td>\n",
       "    </tr>\n",
       "    <tr>\n",
       "      <th>10839</th>\n",
       "      <td>The SCP Foundation DB fr nn5n</td>\n",
       "      <td>BOOKS_AND_REFERENCE</td>\n",
       "      <td>4.5</td>\n",
       "      <td>114</td>\n",
       "      <td>Varies with device</td>\n",
       "      <td>1,000+</td>\n",
       "      <td>Free</td>\n",
       "      <td>0</td>\n",
       "      <td>Mature 17+</td>\n",
       "      <td>Books &amp; Reference</td>\n",
       "      <td>19-Jan-15</td>\n",
       "      <td>Varies with device</td>\n",
       "      <td>Varies with device</td>\n",
       "    </tr>\n",
       "    <tr>\n",
       "      <th>10840</th>\n",
       "      <td>iHoroscope - 2018 Daily Horoscope &amp; Astrology</td>\n",
       "      <td>LIFESTYLE</td>\n",
       "      <td>4.5</td>\n",
       "      <td>398307</td>\n",
       "      <td>19M</td>\n",
       "      <td>10,000,000+</td>\n",
       "      <td>Free</td>\n",
       "      <td>0</td>\n",
       "      <td>Everyone</td>\n",
       "      <td>Lifestyle</td>\n",
       "      <td>25-Jul-18</td>\n",
       "      <td>Varies with device</td>\n",
       "      <td>Varies with device</td>\n",
       "    </tr>\n",
       "  </tbody>\n",
       "</table>\n",
       "<p>9361 rows × 13 columns</p>\n",
       "</div>"
      ],
      "text/plain": [
       "                                                     App             Category  \\\n",
       "0         Photo Editor & Candy Camera & Grid & ScrapBook       ART_AND_DESIGN   \n",
       "1                                    Coloring book moana       ART_AND_DESIGN   \n",
       "2      U Launcher Lite – FREE Live Cool Themes, Hide ...       ART_AND_DESIGN   \n",
       "3                                  Sketch - Draw & Paint       ART_AND_DESIGN   \n",
       "4                  Pixel Draw - Number Art Coloring Book       ART_AND_DESIGN   \n",
       "...                                                  ...                  ...   \n",
       "10834                                      FR Calculator               FAMILY   \n",
       "10836                                   Sya9a Maroc - FR               FAMILY   \n",
       "10837                   Fr. Mike Schmitz Audio Teachings               FAMILY   \n",
       "10839                      The SCP Foundation DB fr nn5n  BOOKS_AND_REFERENCE   \n",
       "10840      iHoroscope - 2018 Daily Horoscope & Astrology            LIFESTYLE   \n",
       "\n",
       "       Rating  Reviews                Size     Installs  Type Price  \\\n",
       "0         4.1      159                 19M      10,000+  Free     0   \n",
       "1         3.9      967                 14M     500,000+  Free     0   \n",
       "2         4.7    87510                8.7M   5,000,000+  Free     0   \n",
       "3         4.5   215644                 25M  50,000,000+  Free     0   \n",
       "4         4.3      967                2.8M     100,000+  Free     0   \n",
       "...       ...      ...                 ...          ...   ...   ...   \n",
       "10834     4.0        7                2.6M         500+  Free     0   \n",
       "10836     4.5       38                 53M       5,000+  Free     0   \n",
       "10837     5.0        4                3.6M         100+  Free     0   \n",
       "10839     4.5      114  Varies with device       1,000+  Free     0   \n",
       "10840     4.5   398307                 19M  10,000,000+  Free     0   \n",
       "\n",
       "      Content Rating                     Genres Last Updated  \\\n",
       "0           Everyone               Art & Design     7-Jan-18   \n",
       "1           Everyone  Art & Design;Pretend Play    15-Jan-18   \n",
       "2           Everyone               Art & Design     1-Aug-18   \n",
       "3               Teen               Art & Design     8-Jun-18   \n",
       "4           Everyone    Art & Design;Creativity    20-Jun-18   \n",
       "...              ...                        ...          ...   \n",
       "10834       Everyone                  Education    18-Jun-17   \n",
       "10836       Everyone                  Education    25-Jul-17   \n",
       "10837       Everyone                  Education     6-Jul-18   \n",
       "10839     Mature 17+          Books & Reference    19-Jan-15   \n",
       "10840       Everyone                  Lifestyle    25-Jul-18   \n",
       "\n",
       "              Current Ver         Android Ver  \n",
       "0                   1.0.0        4.0.3 and up  \n",
       "1                   2.0.0        4.0.3 and up  \n",
       "2                   1.2.4        4.0.3 and up  \n",
       "3      Varies with device          4.2 and up  \n",
       "4                     1.1          4.4 and up  \n",
       "...                   ...                 ...  \n",
       "10834               1.0.0          4.1 and up  \n",
       "10836                1.48          4.1 and up  \n",
       "10837                   1          4.1 and up  \n",
       "10839  Varies with device  Varies with device  \n",
       "10840  Varies with device  Varies with device  \n",
       "\n",
       "[9361 rows x 13 columns]"
      ]
     },
     "execution_count": 39,
     "metadata": {},
     "output_type": "execute_result"
    }
   ],
   "source": [
    "#remove rows containing at least one NaN value\n",
    "#gplay = gplay.dropna()\n",
    "#gplay\n",
    "\n",
    "gplay.dropna(inplace=True)\n",
    "gplay\n"
   ]
  },
  {
   "cell_type": "markdown",
   "metadata": {},
   "source": [
    "======================================================================"
   ]
  },
  {
   "cell_type": "markdown",
   "metadata": {},
   "source": [
    "## Selecting Columns"
   ]
  },
  {
   "cell_type": "code",
   "execution_count": 40,
   "metadata": {},
   "outputs": [
    {
     "name": "stdout",
     "output_type": "stream",
     "text": [
      "Index(['App', 'Category', 'Rating', 'Reviews', 'Size', 'Installs', 'Type',\n",
      "       'Price', 'Content Rating', 'Genres', 'Last Updated', 'Current Ver',\n",
      "       'Android Ver'],\n",
      "      dtype='object')\n",
      "13\n"
     ]
    }
   ],
   "source": [
    "#get the columns\n",
    "print(gplay.columns)\n",
    "print(len(gplay.columns))\n"
   ]
  },
  {
   "cell_type": "code",
   "execution_count": 41,
   "metadata": {},
   "outputs": [
    {
     "name": "stdout",
     "output_type": "stream",
     "text": [
      "0        4.1\n",
      "1        3.9\n",
      "2        4.7\n",
      "3        4.5\n",
      "4        4.3\n",
      "        ... \n",
      "10834    4.0\n",
      "10836    4.5\n",
      "10837    5.0\n",
      "10839    4.5\n",
      "10840    4.5\n",
      "Name: Rating, Length: 9361, dtype: float64\n",
      "<class 'pandas.core.series.Series'>\n",
      "(9361,)\n"
     ]
    }
   ],
   "source": [
    "#using the column name\n",
    "#this will return as a Series\n",
    "print(gplay[\"Rating\"])\n",
    "print(type(gplay[\"Rating\"]))\n",
    "print(gplay[\"Rating\"].shape)\n"
   ]
  },
  {
   "cell_type": "code",
   "execution_count": 42,
   "metadata": {},
   "outputs": [
    {
     "data": {
      "text/html": [
       "<div>\n",
       "<style scoped>\n",
       "    .dataframe tbody tr th:only-of-type {\n",
       "        vertical-align: middle;\n",
       "    }\n",
       "\n",
       "    .dataframe tbody tr th {\n",
       "        vertical-align: top;\n",
       "    }\n",
       "\n",
       "    .dataframe thead th {\n",
       "        text-align: right;\n",
       "    }\n",
       "</style>\n",
       "<table border=\"1\" class=\"dataframe\">\n",
       "  <thead>\n",
       "    <tr style=\"text-align: right;\">\n",
       "      <th></th>\n",
       "      <th>Rating</th>\n",
       "    </tr>\n",
       "  </thead>\n",
       "  <tbody>\n",
       "    <tr>\n",
       "      <th>0</th>\n",
       "      <td>4.1</td>\n",
       "    </tr>\n",
       "    <tr>\n",
       "      <th>1</th>\n",
       "      <td>3.9</td>\n",
       "    </tr>\n",
       "    <tr>\n",
       "      <th>2</th>\n",
       "      <td>4.7</td>\n",
       "    </tr>\n",
       "    <tr>\n",
       "      <th>3</th>\n",
       "      <td>4.5</td>\n",
       "    </tr>\n",
       "    <tr>\n",
       "      <th>4</th>\n",
       "      <td>4.3</td>\n",
       "    </tr>\n",
       "    <tr>\n",
       "      <th>...</th>\n",
       "      <td>...</td>\n",
       "    </tr>\n",
       "    <tr>\n",
       "      <th>10834</th>\n",
       "      <td>4.0</td>\n",
       "    </tr>\n",
       "    <tr>\n",
       "      <th>10836</th>\n",
       "      <td>4.5</td>\n",
       "    </tr>\n",
       "    <tr>\n",
       "      <th>10837</th>\n",
       "      <td>5.0</td>\n",
       "    </tr>\n",
       "    <tr>\n",
       "      <th>10839</th>\n",
       "      <td>4.5</td>\n",
       "    </tr>\n",
       "    <tr>\n",
       "      <th>10840</th>\n",
       "      <td>4.5</td>\n",
       "    </tr>\n",
       "  </tbody>\n",
       "</table>\n",
       "<p>9361 rows × 1 columns</p>\n",
       "</div>"
      ],
      "text/plain": [
       "       Rating\n",
       "0         4.1\n",
       "1         3.9\n",
       "2         4.7\n",
       "3         4.5\n",
       "4         4.3\n",
       "...       ...\n",
       "10834     4.0\n",
       "10836     4.5\n",
       "10837     5.0\n",
       "10839     4.5\n",
       "10840     4.5\n",
       "\n",
       "[9361 rows x 1 columns]"
      ]
     },
     "execution_count": 42,
     "metadata": {},
     "output_type": "execute_result"
    }
   ],
   "source": [
    "#Tip: this will return a DataFrame with one column (on Jupyter NB is is nicely presented)\n",
    "gplay[[\"Rating\"]]\n"
   ]
  },
  {
   "cell_type": "markdown",
   "metadata": {},
   "source": [
    "#### ❓Q6. How do we get the `Rating` and `Reviews` columns for `gplay`?"
   ]
  },
  {
   "cell_type": "code",
   "execution_count": 43,
   "metadata": {},
   "outputs": [
    {
     "data": {
      "text/html": [
       "<div>\n",
       "<style scoped>\n",
       "    .dataframe tbody tr th:only-of-type {\n",
       "        vertical-align: middle;\n",
       "    }\n",
       "\n",
       "    .dataframe tbody tr th {\n",
       "        vertical-align: top;\n",
       "    }\n",
       "\n",
       "    .dataframe thead th {\n",
       "        text-align: right;\n",
       "    }\n",
       "</style>\n",
       "<table border=\"1\" class=\"dataframe\">\n",
       "  <thead>\n",
       "    <tr style=\"text-align: right;\">\n",
       "      <th></th>\n",
       "      <th>Rating</th>\n",
       "      <th>Reviews</th>\n",
       "    </tr>\n",
       "  </thead>\n",
       "  <tbody>\n",
       "    <tr>\n",
       "      <th>0</th>\n",
       "      <td>4.1</td>\n",
       "      <td>159</td>\n",
       "    </tr>\n",
       "    <tr>\n",
       "      <th>1</th>\n",
       "      <td>3.9</td>\n",
       "      <td>967</td>\n",
       "    </tr>\n",
       "    <tr>\n",
       "      <th>2</th>\n",
       "      <td>4.7</td>\n",
       "      <td>87510</td>\n",
       "    </tr>\n",
       "    <tr>\n",
       "      <th>3</th>\n",
       "      <td>4.5</td>\n",
       "      <td>215644</td>\n",
       "    </tr>\n",
       "    <tr>\n",
       "      <th>4</th>\n",
       "      <td>4.3</td>\n",
       "      <td>967</td>\n",
       "    </tr>\n",
       "    <tr>\n",
       "      <th>...</th>\n",
       "      <td>...</td>\n",
       "      <td>...</td>\n",
       "    </tr>\n",
       "    <tr>\n",
       "      <th>10834</th>\n",
       "      <td>4.0</td>\n",
       "      <td>7</td>\n",
       "    </tr>\n",
       "    <tr>\n",
       "      <th>10836</th>\n",
       "      <td>4.5</td>\n",
       "      <td>38</td>\n",
       "    </tr>\n",
       "    <tr>\n",
       "      <th>10837</th>\n",
       "      <td>5.0</td>\n",
       "      <td>4</td>\n",
       "    </tr>\n",
       "    <tr>\n",
       "      <th>10839</th>\n",
       "      <td>4.5</td>\n",
       "      <td>114</td>\n",
       "    </tr>\n",
       "    <tr>\n",
       "      <th>10840</th>\n",
       "      <td>4.5</td>\n",
       "      <td>398307</td>\n",
       "    </tr>\n",
       "  </tbody>\n",
       "</table>\n",
       "<p>9361 rows × 2 columns</p>\n",
       "</div>"
      ],
      "text/plain": [
       "       Rating  Reviews\n",
       "0         4.1      159\n",
       "1         3.9      967\n",
       "2         4.7    87510\n",
       "3         4.5   215644\n",
       "4         4.3      967\n",
       "...       ...      ...\n",
       "10834     4.0        7\n",
       "10836     4.5       38\n",
       "10837     5.0        4\n",
       "10839     4.5      114\n",
       "10840     4.5   398307\n",
       "\n",
       "[9361 rows x 2 columns]"
      ]
     },
     "execution_count": 43,
     "metadata": {},
     "output_type": "execute_result"
    }
   ],
   "source": [
    "#TODO\n",
    "gplay[[\"Rating\", \"Reviews\"]]\n"
   ]
  },
  {
   "cell_type": "code",
   "execution_count": 44,
   "metadata": {},
   "outputs": [
    {
     "data": {
      "text/html": [
       "<div>\n",
       "<style scoped>\n",
       "    .dataframe tbody tr th:only-of-type {\n",
       "        vertical-align: middle;\n",
       "    }\n",
       "\n",
       "    .dataframe tbody tr th {\n",
       "        vertical-align: top;\n",
       "    }\n",
       "\n",
       "    .dataframe thead th {\n",
       "        text-align: right;\n",
       "    }\n",
       "</style>\n",
       "<table border=\"1\" class=\"dataframe\">\n",
       "  <thead>\n",
       "    <tr style=\"text-align: right;\">\n",
       "      <th></th>\n",
       "      <th>Rating</th>\n",
       "      <th>Reviews</th>\n",
       "    </tr>\n",
       "  </thead>\n",
       "  <tbody>\n",
       "    <tr>\n",
       "      <th>0</th>\n",
       "      <td>4.1</td>\n",
       "      <td>159</td>\n",
       "    </tr>\n",
       "    <tr>\n",
       "      <th>1</th>\n",
       "      <td>3.9</td>\n",
       "      <td>967</td>\n",
       "    </tr>\n",
       "    <tr>\n",
       "      <th>2</th>\n",
       "      <td>4.7</td>\n",
       "      <td>87510</td>\n",
       "    </tr>\n",
       "    <tr>\n",
       "      <th>3</th>\n",
       "      <td>4.5</td>\n",
       "      <td>215644</td>\n",
       "    </tr>\n",
       "    <tr>\n",
       "      <th>4</th>\n",
       "      <td>4.3</td>\n",
       "      <td>967</td>\n",
       "    </tr>\n",
       "    <tr>\n",
       "      <th>...</th>\n",
       "      <td>...</td>\n",
       "      <td>...</td>\n",
       "    </tr>\n",
       "    <tr>\n",
       "      <th>10834</th>\n",
       "      <td>4.0</td>\n",
       "      <td>7</td>\n",
       "    </tr>\n",
       "    <tr>\n",
       "      <th>10836</th>\n",
       "      <td>4.5</td>\n",
       "      <td>38</td>\n",
       "    </tr>\n",
       "    <tr>\n",
       "      <th>10837</th>\n",
       "      <td>5.0</td>\n",
       "      <td>4</td>\n",
       "    </tr>\n",
       "    <tr>\n",
       "      <th>10839</th>\n",
       "      <td>4.5</td>\n",
       "      <td>114</td>\n",
       "    </tr>\n",
       "    <tr>\n",
       "      <th>10840</th>\n",
       "      <td>4.5</td>\n",
       "      <td>398307</td>\n",
       "    </tr>\n",
       "  </tbody>\n",
       "</table>\n",
       "<p>9361 rows × 2 columns</p>\n",
       "</div>"
      ],
      "text/plain": [
       "       Rating  Reviews\n",
       "0         4.1      159\n",
       "1         3.9      967\n",
       "2         4.7    87510\n",
       "3         4.5   215644\n",
       "4         4.3      967\n",
       "...       ...      ...\n",
       "10834     4.0        7\n",
       "10836     4.5       38\n",
       "10837     5.0        4\n",
       "10839     4.5      114\n",
       "10840     4.5   398307\n",
       "\n",
       "[9361 rows x 2 columns]"
      ]
     },
     "execution_count": 44,
     "metadata": {},
     "output_type": "execute_result"
    }
   ],
   "source": [
    "gplay.iloc[:,[2,3]]\n"
   ]
  },
  {
   "cell_type": "code",
   "execution_count": 45,
   "metadata": {},
   "outputs": [
    {
     "data": {
      "text/html": [
       "<div>\n",
       "<style scoped>\n",
       "    .dataframe tbody tr th:only-of-type {\n",
       "        vertical-align: middle;\n",
       "    }\n",
       "\n",
       "    .dataframe tbody tr th {\n",
       "        vertical-align: top;\n",
       "    }\n",
       "\n",
       "    .dataframe thead th {\n",
       "        text-align: right;\n",
       "    }\n",
       "</style>\n",
       "<table border=\"1\" class=\"dataframe\">\n",
       "  <thead>\n",
       "    <tr style=\"text-align: right;\">\n",
       "      <th></th>\n",
       "      <th>Rating</th>\n",
       "      <th>Reviews</th>\n",
       "    </tr>\n",
       "  </thead>\n",
       "  <tbody>\n",
       "    <tr>\n",
       "      <th>0</th>\n",
       "      <td>4.1</td>\n",
       "      <td>159</td>\n",
       "    </tr>\n",
       "    <tr>\n",
       "      <th>1</th>\n",
       "      <td>3.9</td>\n",
       "      <td>967</td>\n",
       "    </tr>\n",
       "    <tr>\n",
       "      <th>2</th>\n",
       "      <td>4.7</td>\n",
       "      <td>87510</td>\n",
       "    </tr>\n",
       "    <tr>\n",
       "      <th>3</th>\n",
       "      <td>4.5</td>\n",
       "      <td>215644</td>\n",
       "    </tr>\n",
       "    <tr>\n",
       "      <th>4</th>\n",
       "      <td>4.3</td>\n",
       "      <td>967</td>\n",
       "    </tr>\n",
       "    <tr>\n",
       "      <th>...</th>\n",
       "      <td>...</td>\n",
       "      <td>...</td>\n",
       "    </tr>\n",
       "    <tr>\n",
       "      <th>10834</th>\n",
       "      <td>4.0</td>\n",
       "      <td>7</td>\n",
       "    </tr>\n",
       "    <tr>\n",
       "      <th>10836</th>\n",
       "      <td>4.5</td>\n",
       "      <td>38</td>\n",
       "    </tr>\n",
       "    <tr>\n",
       "      <th>10837</th>\n",
       "      <td>5.0</td>\n",
       "      <td>4</td>\n",
       "    </tr>\n",
       "    <tr>\n",
       "      <th>10839</th>\n",
       "      <td>4.5</td>\n",
       "      <td>114</td>\n",
       "    </tr>\n",
       "    <tr>\n",
       "      <th>10840</th>\n",
       "      <td>4.5</td>\n",
       "      <td>398307</td>\n",
       "    </tr>\n",
       "  </tbody>\n",
       "</table>\n",
       "<p>9361 rows × 2 columns</p>\n",
       "</div>"
      ],
      "text/plain": [
       "       Rating  Reviews\n",
       "0         4.1      159\n",
       "1         3.9      967\n",
       "2         4.7    87510\n",
       "3         4.5   215644\n",
       "4         4.3      967\n",
       "...       ...      ...\n",
       "10834     4.0        7\n",
       "10836     4.5       38\n",
       "10837     5.0        4\n",
       "10839     4.5      114\n",
       "10840     4.5   398307\n",
       "\n",
       "[9361 rows x 2 columns]"
      ]
     },
     "execution_count": 45,
     "metadata": {},
     "output_type": "execute_result"
    }
   ],
   "source": [
    "gplay.iloc[:, 2:4]\n"
   ]
  },
  {
   "cell_type": "code",
   "execution_count": 46,
   "metadata": {},
   "outputs": [
    {
     "data": {
      "text/html": [
       "<div>\n",
       "<style scoped>\n",
       "    .dataframe tbody tr th:only-of-type {\n",
       "        vertical-align: middle;\n",
       "    }\n",
       "\n",
       "    .dataframe tbody tr th {\n",
       "        vertical-align: top;\n",
       "    }\n",
       "\n",
       "    .dataframe thead th {\n",
       "        text-align: right;\n",
       "    }\n",
       "</style>\n",
       "<table border=\"1\" class=\"dataframe\">\n",
       "  <thead>\n",
       "    <tr style=\"text-align: right;\">\n",
       "      <th></th>\n",
       "      <th>Rating</th>\n",
       "      <th>Reviews</th>\n",
       "    </tr>\n",
       "  </thead>\n",
       "  <tbody>\n",
       "    <tr>\n",
       "      <th>0</th>\n",
       "      <td>4.1</td>\n",
       "      <td>159</td>\n",
       "    </tr>\n",
       "    <tr>\n",
       "      <th>1</th>\n",
       "      <td>3.9</td>\n",
       "      <td>967</td>\n",
       "    </tr>\n",
       "    <tr>\n",
       "      <th>2</th>\n",
       "      <td>4.7</td>\n",
       "      <td>87510</td>\n",
       "    </tr>\n",
       "    <tr>\n",
       "      <th>3</th>\n",
       "      <td>4.5</td>\n",
       "      <td>215644</td>\n",
       "    </tr>\n",
       "    <tr>\n",
       "      <th>4</th>\n",
       "      <td>4.3</td>\n",
       "      <td>967</td>\n",
       "    </tr>\n",
       "    <tr>\n",
       "      <th>...</th>\n",
       "      <td>...</td>\n",
       "      <td>...</td>\n",
       "    </tr>\n",
       "    <tr>\n",
       "      <th>10834</th>\n",
       "      <td>4.0</td>\n",
       "      <td>7</td>\n",
       "    </tr>\n",
       "    <tr>\n",
       "      <th>10836</th>\n",
       "      <td>4.5</td>\n",
       "      <td>38</td>\n",
       "    </tr>\n",
       "    <tr>\n",
       "      <th>10837</th>\n",
       "      <td>5.0</td>\n",
       "      <td>4</td>\n",
       "    </tr>\n",
       "    <tr>\n",
       "      <th>10839</th>\n",
       "      <td>4.5</td>\n",
       "      <td>114</td>\n",
       "    </tr>\n",
       "    <tr>\n",
       "      <th>10840</th>\n",
       "      <td>4.5</td>\n",
       "      <td>398307</td>\n",
       "    </tr>\n",
       "  </tbody>\n",
       "</table>\n",
       "<p>9361 rows × 2 columns</p>\n",
       "</div>"
      ],
      "text/plain": [
       "       Rating  Reviews\n",
       "0         4.1      159\n",
       "1         3.9      967\n",
       "2         4.7    87510\n",
       "3         4.5   215644\n",
       "4         4.3      967\n",
       "...       ...      ...\n",
       "10834     4.0        7\n",
       "10836     4.5       38\n",
       "10837     5.0        4\n",
       "10839     4.5      114\n",
       "10840     4.5   398307\n",
       "\n",
       "[9361 rows x 2 columns]"
      ]
     },
     "execution_count": 46,
     "metadata": {},
     "output_type": "execute_result"
    }
   ],
   "source": [
    "gplay[gplay.columns[[2,3]]]\n"
   ]
  },
  {
   "cell_type": "markdown",
   "metadata": {},
   "source": [
    "======================================================================"
   ]
  },
  {
   "cell_type": "markdown",
   "metadata": {},
   "source": [
    "## Selecting Rows"
   ]
  },
  {
   "cell_type": "code",
   "execution_count": 47,
   "metadata": {},
   "outputs": [
    {
     "data": {
      "text/plain": [
       "App               Photo Editor & Candy Camera & Grid & ScrapBook\n",
       "Category                                          ART_AND_DESIGN\n",
       "Rating                                                       4.1\n",
       "Reviews                                                      159\n",
       "Size                                                         19M\n",
       "Installs                                                 10,000+\n",
       "Type                                                        Free\n",
       "Price                                                          0\n",
       "Content Rating                                          Everyone\n",
       "Genres                                              Art & Design\n",
       "Last Updated                                            7-Jan-18\n",
       "Current Ver                                                1.0.0\n",
       "Android Ver                                         4.0.3 and up\n",
       "Name: 0, dtype: object"
      ]
     },
     "execution_count": 47,
     "metadata": {},
     "output_type": "execute_result"
    }
   ],
   "source": [
    "#use loc and the index position\n",
    "gplay.loc[0]\n"
   ]
  },
  {
   "cell_type": "markdown",
   "metadata": {},
   "source": [
    "#### ❓Q7. What are the different ways to select the first 3 rows of `gplay`?"
   ]
  },
  {
   "cell_type": "code",
   "execution_count": 48,
   "metadata": {
    "scrolled": true
   },
   "outputs": [
    {
     "data": {
      "text/html": [
       "<div>\n",
       "<style scoped>\n",
       "    .dataframe tbody tr th:only-of-type {\n",
       "        vertical-align: middle;\n",
       "    }\n",
       "\n",
       "    .dataframe tbody tr th {\n",
       "        vertical-align: top;\n",
       "    }\n",
       "\n",
       "    .dataframe thead th {\n",
       "        text-align: right;\n",
       "    }\n",
       "</style>\n",
       "<table border=\"1\" class=\"dataframe\">\n",
       "  <thead>\n",
       "    <tr style=\"text-align: right;\">\n",
       "      <th></th>\n",
       "      <th>App</th>\n",
       "      <th>Category</th>\n",
       "      <th>Rating</th>\n",
       "      <th>Reviews</th>\n",
       "      <th>Size</th>\n",
       "      <th>Installs</th>\n",
       "      <th>Type</th>\n",
       "      <th>Price</th>\n",
       "      <th>Content Rating</th>\n",
       "      <th>Genres</th>\n",
       "      <th>Last Updated</th>\n",
       "      <th>Current Ver</th>\n",
       "      <th>Android Ver</th>\n",
       "    </tr>\n",
       "  </thead>\n",
       "  <tbody>\n",
       "    <tr>\n",
       "      <th>0</th>\n",
       "      <td>Photo Editor &amp; Candy Camera &amp; Grid &amp; ScrapBook</td>\n",
       "      <td>ART_AND_DESIGN</td>\n",
       "      <td>4.1</td>\n",
       "      <td>159</td>\n",
       "      <td>19M</td>\n",
       "      <td>10,000+</td>\n",
       "      <td>Free</td>\n",
       "      <td>0</td>\n",
       "      <td>Everyone</td>\n",
       "      <td>Art &amp; Design</td>\n",
       "      <td>7-Jan-18</td>\n",
       "      <td>1.0.0</td>\n",
       "      <td>4.0.3 and up</td>\n",
       "    </tr>\n",
       "    <tr>\n",
       "      <th>1</th>\n",
       "      <td>Coloring book moana</td>\n",
       "      <td>ART_AND_DESIGN</td>\n",
       "      <td>3.9</td>\n",
       "      <td>967</td>\n",
       "      <td>14M</td>\n",
       "      <td>500,000+</td>\n",
       "      <td>Free</td>\n",
       "      <td>0</td>\n",
       "      <td>Everyone</td>\n",
       "      <td>Art &amp; Design;Pretend Play</td>\n",
       "      <td>15-Jan-18</td>\n",
       "      <td>2.0.0</td>\n",
       "      <td>4.0.3 and up</td>\n",
       "    </tr>\n",
       "    <tr>\n",
       "      <th>2</th>\n",
       "      <td>U Launcher Lite – FREE Live Cool Themes, Hide ...</td>\n",
       "      <td>ART_AND_DESIGN</td>\n",
       "      <td>4.7</td>\n",
       "      <td>87510</td>\n",
       "      <td>8.7M</td>\n",
       "      <td>5,000,000+</td>\n",
       "      <td>Free</td>\n",
       "      <td>0</td>\n",
       "      <td>Everyone</td>\n",
       "      <td>Art &amp; Design</td>\n",
       "      <td>1-Aug-18</td>\n",
       "      <td>1.2.4</td>\n",
       "      <td>4.0.3 and up</td>\n",
       "    </tr>\n",
       "  </tbody>\n",
       "</table>\n",
       "</div>"
      ],
      "text/plain": [
       "                                                 App        Category  Rating  \\\n",
       "0     Photo Editor & Candy Camera & Grid & ScrapBook  ART_AND_DESIGN     4.1   \n",
       "1                                Coloring book moana  ART_AND_DESIGN     3.9   \n",
       "2  U Launcher Lite – FREE Live Cool Themes, Hide ...  ART_AND_DESIGN     4.7   \n",
       "\n",
       "   Reviews  Size    Installs  Type Price Content Rating  \\\n",
       "0      159   19M     10,000+  Free     0       Everyone   \n",
       "1      967   14M    500,000+  Free     0       Everyone   \n",
       "2    87510  8.7M  5,000,000+  Free     0       Everyone   \n",
       "\n",
       "                      Genres Last Updated Current Ver   Android Ver  \n",
       "0               Art & Design     7-Jan-18       1.0.0  4.0.3 and up  \n",
       "1  Art & Design;Pretend Play    15-Jan-18       2.0.0  4.0.3 and up  \n",
       "2               Art & Design     1-Aug-18       1.2.4  4.0.3 and up  "
      ]
     },
     "execution_count": 48,
     "metadata": {},
     "output_type": "execute_result"
    }
   ],
   "source": [
    "#TODO\n",
    "gplay.loc[0:2]\n"
   ]
  },
  {
   "cell_type": "code",
   "execution_count": 49,
   "metadata": {},
   "outputs": [
    {
     "data": {
      "text/html": [
       "<div>\n",
       "<style scoped>\n",
       "    .dataframe tbody tr th:only-of-type {\n",
       "        vertical-align: middle;\n",
       "    }\n",
       "\n",
       "    .dataframe tbody tr th {\n",
       "        vertical-align: top;\n",
       "    }\n",
       "\n",
       "    .dataframe thead th {\n",
       "        text-align: right;\n",
       "    }\n",
       "</style>\n",
       "<table border=\"1\" class=\"dataframe\">\n",
       "  <thead>\n",
       "    <tr style=\"text-align: right;\">\n",
       "      <th></th>\n",
       "      <th>App</th>\n",
       "      <th>Category</th>\n",
       "      <th>Rating</th>\n",
       "      <th>Reviews</th>\n",
       "      <th>Size</th>\n",
       "      <th>Installs</th>\n",
       "      <th>Type</th>\n",
       "      <th>Price</th>\n",
       "      <th>Content Rating</th>\n",
       "      <th>Genres</th>\n",
       "      <th>Last Updated</th>\n",
       "      <th>Current Ver</th>\n",
       "      <th>Android Ver</th>\n",
       "    </tr>\n",
       "  </thead>\n",
       "  <tbody>\n",
       "    <tr>\n",
       "      <th>0</th>\n",
       "      <td>Photo Editor &amp; Candy Camera &amp; Grid &amp; ScrapBook</td>\n",
       "      <td>ART_AND_DESIGN</td>\n",
       "      <td>4.1</td>\n",
       "      <td>159</td>\n",
       "      <td>19M</td>\n",
       "      <td>10,000+</td>\n",
       "      <td>Free</td>\n",
       "      <td>0</td>\n",
       "      <td>Everyone</td>\n",
       "      <td>Art &amp; Design</td>\n",
       "      <td>7-Jan-18</td>\n",
       "      <td>1.0.0</td>\n",
       "      <td>4.0.3 and up</td>\n",
       "    </tr>\n",
       "    <tr>\n",
       "      <th>1</th>\n",
       "      <td>Coloring book moana</td>\n",
       "      <td>ART_AND_DESIGN</td>\n",
       "      <td>3.9</td>\n",
       "      <td>967</td>\n",
       "      <td>14M</td>\n",
       "      <td>500,000+</td>\n",
       "      <td>Free</td>\n",
       "      <td>0</td>\n",
       "      <td>Everyone</td>\n",
       "      <td>Art &amp; Design;Pretend Play</td>\n",
       "      <td>15-Jan-18</td>\n",
       "      <td>2.0.0</td>\n",
       "      <td>4.0.3 and up</td>\n",
       "    </tr>\n",
       "    <tr>\n",
       "      <th>2</th>\n",
       "      <td>U Launcher Lite – FREE Live Cool Themes, Hide ...</td>\n",
       "      <td>ART_AND_DESIGN</td>\n",
       "      <td>4.7</td>\n",
       "      <td>87510</td>\n",
       "      <td>8.7M</td>\n",
       "      <td>5,000,000+</td>\n",
       "      <td>Free</td>\n",
       "      <td>0</td>\n",
       "      <td>Everyone</td>\n",
       "      <td>Art &amp; Design</td>\n",
       "      <td>1-Aug-18</td>\n",
       "      <td>1.2.4</td>\n",
       "      <td>4.0.3 and up</td>\n",
       "    </tr>\n",
       "  </tbody>\n",
       "</table>\n",
       "</div>"
      ],
      "text/plain": [
       "                                                 App        Category  Rating  \\\n",
       "0     Photo Editor & Candy Camera & Grid & ScrapBook  ART_AND_DESIGN     4.1   \n",
       "1                                Coloring book moana  ART_AND_DESIGN     3.9   \n",
       "2  U Launcher Lite – FREE Live Cool Themes, Hide ...  ART_AND_DESIGN     4.7   \n",
       "\n",
       "   Reviews  Size    Installs  Type Price Content Rating  \\\n",
       "0      159   19M     10,000+  Free     0       Everyone   \n",
       "1      967   14M    500,000+  Free     0       Everyone   \n",
       "2    87510  8.7M  5,000,000+  Free     0       Everyone   \n",
       "\n",
       "                      Genres Last Updated Current Ver   Android Ver  \n",
       "0               Art & Design     7-Jan-18       1.0.0  4.0.3 and up  \n",
       "1  Art & Design;Pretend Play    15-Jan-18       2.0.0  4.0.3 and up  \n",
       "2               Art & Design     1-Aug-18       1.2.4  4.0.3 and up  "
      ]
     },
     "execution_count": 49,
     "metadata": {},
     "output_type": "execute_result"
    }
   ],
   "source": [
    "gplay[0:3]\n"
   ]
  },
  {
   "cell_type": "code",
   "execution_count": 50,
   "metadata": {},
   "outputs": [
    {
     "data": {
      "text/html": [
       "<div>\n",
       "<style scoped>\n",
       "    .dataframe tbody tr th:only-of-type {\n",
       "        vertical-align: middle;\n",
       "    }\n",
       "\n",
       "    .dataframe tbody tr th {\n",
       "        vertical-align: top;\n",
       "    }\n",
       "\n",
       "    .dataframe thead th {\n",
       "        text-align: right;\n",
       "    }\n",
       "</style>\n",
       "<table border=\"1\" class=\"dataframe\">\n",
       "  <thead>\n",
       "    <tr style=\"text-align: right;\">\n",
       "      <th></th>\n",
       "      <th>App</th>\n",
       "      <th>Category</th>\n",
       "      <th>Rating</th>\n",
       "      <th>Reviews</th>\n",
       "      <th>Size</th>\n",
       "      <th>Installs</th>\n",
       "      <th>Type</th>\n",
       "      <th>Price</th>\n",
       "      <th>Content Rating</th>\n",
       "      <th>Genres</th>\n",
       "      <th>Last Updated</th>\n",
       "      <th>Current Ver</th>\n",
       "      <th>Android Ver</th>\n",
       "    </tr>\n",
       "  </thead>\n",
       "  <tbody>\n",
       "    <tr>\n",
       "      <th>0</th>\n",
       "      <td>Photo Editor &amp; Candy Camera &amp; Grid &amp; ScrapBook</td>\n",
       "      <td>ART_AND_DESIGN</td>\n",
       "      <td>4.1</td>\n",
       "      <td>159</td>\n",
       "      <td>19M</td>\n",
       "      <td>10,000+</td>\n",
       "      <td>Free</td>\n",
       "      <td>0</td>\n",
       "      <td>Everyone</td>\n",
       "      <td>Art &amp; Design</td>\n",
       "      <td>7-Jan-18</td>\n",
       "      <td>1.0.0</td>\n",
       "      <td>4.0.3 and up</td>\n",
       "    </tr>\n",
       "    <tr>\n",
       "      <th>1</th>\n",
       "      <td>Coloring book moana</td>\n",
       "      <td>ART_AND_DESIGN</td>\n",
       "      <td>3.9</td>\n",
       "      <td>967</td>\n",
       "      <td>14M</td>\n",
       "      <td>500,000+</td>\n",
       "      <td>Free</td>\n",
       "      <td>0</td>\n",
       "      <td>Everyone</td>\n",
       "      <td>Art &amp; Design;Pretend Play</td>\n",
       "      <td>15-Jan-18</td>\n",
       "      <td>2.0.0</td>\n",
       "      <td>4.0.3 and up</td>\n",
       "    </tr>\n",
       "    <tr>\n",
       "      <th>2</th>\n",
       "      <td>U Launcher Lite – FREE Live Cool Themes, Hide ...</td>\n",
       "      <td>ART_AND_DESIGN</td>\n",
       "      <td>4.7</td>\n",
       "      <td>87510</td>\n",
       "      <td>8.7M</td>\n",
       "      <td>5,000,000+</td>\n",
       "      <td>Free</td>\n",
       "      <td>0</td>\n",
       "      <td>Everyone</td>\n",
       "      <td>Art &amp; Design</td>\n",
       "      <td>1-Aug-18</td>\n",
       "      <td>1.2.4</td>\n",
       "      <td>4.0.3 and up</td>\n",
       "    </tr>\n",
       "  </tbody>\n",
       "</table>\n",
       "</div>"
      ],
      "text/plain": [
       "                                                 App        Category  Rating  \\\n",
       "0     Photo Editor & Candy Camera & Grid & ScrapBook  ART_AND_DESIGN     4.1   \n",
       "1                                Coloring book moana  ART_AND_DESIGN     3.9   \n",
       "2  U Launcher Lite – FREE Live Cool Themes, Hide ...  ART_AND_DESIGN     4.7   \n",
       "\n",
       "   Reviews  Size    Installs  Type Price Content Rating  \\\n",
       "0      159   19M     10,000+  Free     0       Everyone   \n",
       "1      967   14M    500,000+  Free     0       Everyone   \n",
       "2    87510  8.7M  5,000,000+  Free     0       Everyone   \n",
       "\n",
       "                      Genres Last Updated Current Ver   Android Ver  \n",
       "0               Art & Design     7-Jan-18       1.0.0  4.0.3 and up  \n",
       "1  Art & Design;Pretend Play    15-Jan-18       2.0.0  4.0.3 and up  \n",
       "2               Art & Design     1-Aug-18       1.2.4  4.0.3 and up  "
      ]
     },
     "execution_count": 50,
     "metadata": {},
     "output_type": "execute_result"
    }
   ],
   "source": [
    "gplay.loc[[0,1,2]]\n"
   ]
  },
  {
   "cell_type": "code",
   "execution_count": 51,
   "metadata": {},
   "outputs": [
    {
     "data": {
      "text/html": [
       "<div>\n",
       "<style scoped>\n",
       "    .dataframe tbody tr th:only-of-type {\n",
       "        vertical-align: middle;\n",
       "    }\n",
       "\n",
       "    .dataframe tbody tr th {\n",
       "        vertical-align: top;\n",
       "    }\n",
       "\n",
       "    .dataframe thead th {\n",
       "        text-align: right;\n",
       "    }\n",
       "</style>\n",
       "<table border=\"1\" class=\"dataframe\">\n",
       "  <thead>\n",
       "    <tr style=\"text-align: right;\">\n",
       "      <th></th>\n",
       "      <th>App</th>\n",
       "      <th>Category</th>\n",
       "      <th>Rating</th>\n",
       "      <th>Reviews</th>\n",
       "      <th>Size</th>\n",
       "      <th>Installs</th>\n",
       "      <th>Type</th>\n",
       "      <th>Price</th>\n",
       "      <th>Content Rating</th>\n",
       "      <th>Genres</th>\n",
       "      <th>Last Updated</th>\n",
       "      <th>Current Ver</th>\n",
       "      <th>Android Ver</th>\n",
       "    </tr>\n",
       "  </thead>\n",
       "  <tbody>\n",
       "    <tr>\n",
       "      <th>0</th>\n",
       "      <td>Photo Editor &amp; Candy Camera &amp; Grid &amp; ScrapBook</td>\n",
       "      <td>ART_AND_DESIGN</td>\n",
       "      <td>4.1</td>\n",
       "      <td>159</td>\n",
       "      <td>19M</td>\n",
       "      <td>10,000+</td>\n",
       "      <td>Free</td>\n",
       "      <td>0</td>\n",
       "      <td>Everyone</td>\n",
       "      <td>Art &amp; Design</td>\n",
       "      <td>7-Jan-18</td>\n",
       "      <td>1.0.0</td>\n",
       "      <td>4.0.3 and up</td>\n",
       "    </tr>\n",
       "    <tr>\n",
       "      <th>1</th>\n",
       "      <td>Coloring book moana</td>\n",
       "      <td>ART_AND_DESIGN</td>\n",
       "      <td>3.9</td>\n",
       "      <td>967</td>\n",
       "      <td>14M</td>\n",
       "      <td>500,000+</td>\n",
       "      <td>Free</td>\n",
       "      <td>0</td>\n",
       "      <td>Everyone</td>\n",
       "      <td>Art &amp; Design;Pretend Play</td>\n",
       "      <td>15-Jan-18</td>\n",
       "      <td>2.0.0</td>\n",
       "      <td>4.0.3 and up</td>\n",
       "    </tr>\n",
       "    <tr>\n",
       "      <th>2</th>\n",
       "      <td>U Launcher Lite – FREE Live Cool Themes, Hide ...</td>\n",
       "      <td>ART_AND_DESIGN</td>\n",
       "      <td>4.7</td>\n",
       "      <td>87510</td>\n",
       "      <td>8.7M</td>\n",
       "      <td>5,000,000+</td>\n",
       "      <td>Free</td>\n",
       "      <td>0</td>\n",
       "      <td>Everyone</td>\n",
       "      <td>Art &amp; Design</td>\n",
       "      <td>1-Aug-18</td>\n",
       "      <td>1.2.4</td>\n",
       "      <td>4.0.3 and up</td>\n",
       "    </tr>\n",
       "  </tbody>\n",
       "</table>\n",
       "</div>"
      ],
      "text/plain": [
       "                                                 App        Category  Rating  \\\n",
       "0     Photo Editor & Candy Camera & Grid & ScrapBook  ART_AND_DESIGN     4.1   \n",
       "1                                Coloring book moana  ART_AND_DESIGN     3.9   \n",
       "2  U Launcher Lite – FREE Live Cool Themes, Hide ...  ART_AND_DESIGN     4.7   \n",
       "\n",
       "   Reviews  Size    Installs  Type Price Content Rating  \\\n",
       "0      159   19M     10,000+  Free     0       Everyone   \n",
       "1      967   14M    500,000+  Free     0       Everyone   \n",
       "2    87510  8.7M  5,000,000+  Free     0       Everyone   \n",
       "\n",
       "                      Genres Last Updated Current Ver   Android Ver  \n",
       "0               Art & Design     7-Jan-18       1.0.0  4.0.3 and up  \n",
       "1  Art & Design;Pretend Play    15-Jan-18       2.0.0  4.0.3 and up  \n",
       "2               Art & Design     1-Aug-18       1.2.4  4.0.3 and up  "
      ]
     },
     "execution_count": 51,
     "metadata": {},
     "output_type": "execute_result"
    }
   ],
   "source": [
    "gplay.loc[:2]\n"
   ]
  },
  {
   "cell_type": "markdown",
   "metadata": {},
   "source": [
    "======================================================================"
   ]
  },
  {
   "cell_type": "markdown",
   "metadata": {},
   "source": [
    "## Duplicated Rows"
   ]
  },
  {
   "cell_type": "code",
   "execution_count": 52,
   "metadata": {},
   "outputs": [
    {
     "data": {
      "text/plain": [
       "0        False\n",
       "1        False\n",
       "2        False\n",
       "3        False\n",
       "4        False\n",
       "         ...  \n",
       "10834    False\n",
       "10836    False\n",
       "10837    False\n",
       "10839    False\n",
       "10840    False\n",
       "Length: 9361, dtype: bool"
      ]
     },
     "execution_count": 52,
     "metadata": {},
     "output_type": "execute_result"
    }
   ],
   "source": [
    "gplay.duplicated()\n"
   ]
  },
  {
   "cell_type": "code",
   "execution_count": 53,
   "metadata": {
    "scrolled": true
   },
   "outputs": [
    {
     "name": "stdout",
     "output_type": "stream",
     "text": [
      "0        False\n",
      "1        False\n",
      "2        False\n",
      "3        False\n",
      "4        False\n",
      "         ...  \n",
      "10834    False\n",
      "10836    False\n",
      "10837    False\n",
      "10839    False\n",
      "10840    False\n",
      "Length: 9361, dtype: bool\n",
      "474\n"
     ]
    },
    {
     "data": {
      "text/html": [
       "<div>\n",
       "<style scoped>\n",
       "    .dataframe tbody tr th:only-of-type {\n",
       "        vertical-align: middle;\n",
       "    }\n",
       "\n",
       "    .dataframe tbody tr th {\n",
       "        vertical-align: top;\n",
       "    }\n",
       "\n",
       "    .dataframe thead th {\n",
       "        text-align: right;\n",
       "    }\n",
       "</style>\n",
       "<table border=\"1\" class=\"dataframe\">\n",
       "  <thead>\n",
       "    <tr style=\"text-align: right;\">\n",
       "      <th></th>\n",
       "      <th>App</th>\n",
       "      <th>Category</th>\n",
       "      <th>Rating</th>\n",
       "      <th>Reviews</th>\n",
       "      <th>Size</th>\n",
       "      <th>Installs</th>\n",
       "      <th>Type</th>\n",
       "      <th>Price</th>\n",
       "      <th>Content Rating</th>\n",
       "      <th>Genres</th>\n",
       "      <th>Last Updated</th>\n",
       "      <th>Current Ver</th>\n",
       "      <th>Android Ver</th>\n",
       "    </tr>\n",
       "  </thead>\n",
       "  <tbody>\n",
       "    <tr>\n",
       "      <th>229</th>\n",
       "      <td>Quick PDF Scanner + OCR FREE</td>\n",
       "      <td>BUSINESS</td>\n",
       "      <td>4.2</td>\n",
       "      <td>80805</td>\n",
       "      <td>Varies with device</td>\n",
       "      <td>5,000,000+</td>\n",
       "      <td>Free</td>\n",
       "      <td>0</td>\n",
       "      <td>Everyone</td>\n",
       "      <td>Business</td>\n",
       "      <td>26-Feb-18</td>\n",
       "      <td>Varies with device</td>\n",
       "      <td>4.0.3 and up</td>\n",
       "    </tr>\n",
       "    <tr>\n",
       "      <th>236</th>\n",
       "      <td>Box</td>\n",
       "      <td>BUSINESS</td>\n",
       "      <td>4.2</td>\n",
       "      <td>159872</td>\n",
       "      <td>Varies with device</td>\n",
       "      <td>10,000,000+</td>\n",
       "      <td>Free</td>\n",
       "      <td>0</td>\n",
       "      <td>Everyone</td>\n",
       "      <td>Business</td>\n",
       "      <td>31-Jul-18</td>\n",
       "      <td>Varies with device</td>\n",
       "      <td>Varies with device</td>\n",
       "    </tr>\n",
       "    <tr>\n",
       "      <th>239</th>\n",
       "      <td>Google My Business</td>\n",
       "      <td>BUSINESS</td>\n",
       "      <td>4.4</td>\n",
       "      <td>70991</td>\n",
       "      <td>Varies with device</td>\n",
       "      <td>5,000,000+</td>\n",
       "      <td>Free</td>\n",
       "      <td>0</td>\n",
       "      <td>Everyone</td>\n",
       "      <td>Business</td>\n",
       "      <td>24-Jul-18</td>\n",
       "      <td>2.19.0.204537701</td>\n",
       "      <td>4.4 and up</td>\n",
       "    </tr>\n",
       "    <tr>\n",
       "      <th>256</th>\n",
       "      <td>ZOOM Cloud Meetings</td>\n",
       "      <td>BUSINESS</td>\n",
       "      <td>4.4</td>\n",
       "      <td>31614</td>\n",
       "      <td>37M</td>\n",
       "      <td>10,000,000+</td>\n",
       "      <td>Free</td>\n",
       "      <td>0</td>\n",
       "      <td>Everyone</td>\n",
       "      <td>Business</td>\n",
       "      <td>20-Jul-18</td>\n",
       "      <td>4.1.28165.0716</td>\n",
       "      <td>4.0 and up</td>\n",
       "    </tr>\n",
       "    <tr>\n",
       "      <th>261</th>\n",
       "      <td>join.me - Simple Meetings</td>\n",
       "      <td>BUSINESS</td>\n",
       "      <td>4.0</td>\n",
       "      <td>6989</td>\n",
       "      <td>Varies with device</td>\n",
       "      <td>1,000,000+</td>\n",
       "      <td>Free</td>\n",
       "      <td>0</td>\n",
       "      <td>Everyone</td>\n",
       "      <td>Business</td>\n",
       "      <td>16-Jul-18</td>\n",
       "      <td>4.3.0.508</td>\n",
       "      <td>4.4 and up</td>\n",
       "    </tr>\n",
       "    <tr>\n",
       "      <th>...</th>\n",
       "      <td>...</td>\n",
       "      <td>...</td>\n",
       "      <td>...</td>\n",
       "      <td>...</td>\n",
       "      <td>...</td>\n",
       "      <td>...</td>\n",
       "      <td>...</td>\n",
       "      <td>...</td>\n",
       "      <td>...</td>\n",
       "      <td>...</td>\n",
       "      <td>...</td>\n",
       "      <td>...</td>\n",
       "      <td>...</td>\n",
       "    </tr>\n",
       "    <tr>\n",
       "      <th>8643</th>\n",
       "      <td>Wunderlist: To-Do List &amp; Tasks</td>\n",
       "      <td>PRODUCTIVITY</td>\n",
       "      <td>4.6</td>\n",
       "      <td>404610</td>\n",
       "      <td>Varies with device</td>\n",
       "      <td>10,000,000+</td>\n",
       "      <td>Free</td>\n",
       "      <td>0</td>\n",
       "      <td>Everyone</td>\n",
       "      <td>Productivity</td>\n",
       "      <td>6-Apr-18</td>\n",
       "      <td>Varies with device</td>\n",
       "      <td>Varies with device</td>\n",
       "    </tr>\n",
       "    <tr>\n",
       "      <th>8654</th>\n",
       "      <td>TickTick: To Do List with Reminder, Day Planner</td>\n",
       "      <td>PRODUCTIVITY</td>\n",
       "      <td>4.6</td>\n",
       "      <td>25370</td>\n",
       "      <td>Varies with device</td>\n",
       "      <td>1,000,000+</td>\n",
       "      <td>Free</td>\n",
       "      <td>0</td>\n",
       "      <td>Everyone</td>\n",
       "      <td>Productivity</td>\n",
       "      <td>6-Aug-18</td>\n",
       "      <td>Varies with device</td>\n",
       "      <td>Varies with device</td>\n",
       "    </tr>\n",
       "    <tr>\n",
       "      <th>8658</th>\n",
       "      <td>ColorNote Notepad Notes</td>\n",
       "      <td>PRODUCTIVITY</td>\n",
       "      <td>4.6</td>\n",
       "      <td>2401017</td>\n",
       "      <td>Varies with device</td>\n",
       "      <td>100,000,000+</td>\n",
       "      <td>Free</td>\n",
       "      <td>0</td>\n",
       "      <td>Everyone</td>\n",
       "      <td>Productivity</td>\n",
       "      <td>27-Jun-18</td>\n",
       "      <td>Varies with device</td>\n",
       "      <td>Varies with device</td>\n",
       "    </tr>\n",
       "    <tr>\n",
       "      <th>10049</th>\n",
       "      <td>Airway Ex - Intubate. Anesthetize. Train.</td>\n",
       "      <td>MEDICAL</td>\n",
       "      <td>4.3</td>\n",
       "      <td>123</td>\n",
       "      <td>86M</td>\n",
       "      <td>10,000+</td>\n",
       "      <td>Free</td>\n",
       "      <td>0</td>\n",
       "      <td>Everyone</td>\n",
       "      <td>Medical</td>\n",
       "      <td>1-Jun-18</td>\n",
       "      <td>0.6.88</td>\n",
       "      <td>5.0 and up</td>\n",
       "    </tr>\n",
       "    <tr>\n",
       "      <th>10768</th>\n",
       "      <td>AAFP</td>\n",
       "      <td>MEDICAL</td>\n",
       "      <td>3.8</td>\n",
       "      <td>63</td>\n",
       "      <td>24M</td>\n",
       "      <td>10,000+</td>\n",
       "      <td>Free</td>\n",
       "      <td>0</td>\n",
       "      <td>Everyone</td>\n",
       "      <td>Medical</td>\n",
       "      <td>22-Jun-18</td>\n",
       "      <td>2.3.1</td>\n",
       "      <td>5.0 and up</td>\n",
       "    </tr>\n",
       "  </tbody>\n",
       "</table>\n",
       "<p>474 rows × 13 columns</p>\n",
       "</div>"
      ],
      "text/plain": [
       "                                                   App      Category  Rating  \\\n",
       "229                       Quick PDF Scanner + OCR FREE      BUSINESS     4.2   \n",
       "236                                                Box      BUSINESS     4.2   \n",
       "239                                 Google My Business      BUSINESS     4.4   \n",
       "256                                ZOOM Cloud Meetings      BUSINESS     4.4   \n",
       "261                          join.me - Simple Meetings      BUSINESS     4.0   \n",
       "...                                                ...           ...     ...   \n",
       "8643                    Wunderlist: To-Do List & Tasks  PRODUCTIVITY     4.6   \n",
       "8654   TickTick: To Do List with Reminder, Day Planner  PRODUCTIVITY     4.6   \n",
       "8658                           ColorNote Notepad Notes  PRODUCTIVITY     4.6   \n",
       "10049        Airway Ex - Intubate. Anesthetize. Train.       MEDICAL     4.3   \n",
       "10768                                             AAFP       MEDICAL     3.8   \n",
       "\n",
       "       Reviews                Size      Installs  Type Price Content Rating  \\\n",
       "229      80805  Varies with device    5,000,000+  Free     0       Everyone   \n",
       "236     159872  Varies with device   10,000,000+  Free     0       Everyone   \n",
       "239      70991  Varies with device    5,000,000+  Free     0       Everyone   \n",
       "256      31614                 37M   10,000,000+  Free     0       Everyone   \n",
       "261       6989  Varies with device    1,000,000+  Free     0       Everyone   \n",
       "...        ...                 ...           ...   ...   ...            ...   \n",
       "8643    404610  Varies with device   10,000,000+  Free     0       Everyone   \n",
       "8654     25370  Varies with device    1,000,000+  Free     0       Everyone   \n",
       "8658   2401017  Varies with device  100,000,000+  Free     0       Everyone   \n",
       "10049      123                 86M       10,000+  Free     0       Everyone   \n",
       "10768       63                 24M       10,000+  Free     0       Everyone   \n",
       "\n",
       "             Genres Last Updated         Current Ver         Android Ver  \n",
       "229        Business    26-Feb-18  Varies with device        4.0.3 and up  \n",
       "236        Business    31-Jul-18  Varies with device  Varies with device  \n",
       "239        Business    24-Jul-18    2.19.0.204537701          4.4 and up  \n",
       "256        Business    20-Jul-18      4.1.28165.0716          4.0 and up  \n",
       "261        Business    16-Jul-18           4.3.0.508          4.4 and up  \n",
       "...             ...          ...                 ...                 ...  \n",
       "8643   Productivity     6-Apr-18  Varies with device  Varies with device  \n",
       "8654   Productivity     6-Aug-18  Varies with device  Varies with device  \n",
       "8658   Productivity    27-Jun-18  Varies with device  Varies with device  \n",
       "10049       Medical     1-Jun-18              0.6.88          5.0 and up  \n",
       "10768       Medical    22-Jun-18               2.3.1          5.0 and up  \n",
       "\n",
       "[474 rows x 13 columns]"
      ]
     },
     "execution_count": 53,
     "metadata": {},
     "output_type": "execute_result"
    }
   ],
   "source": [
    "#use the duplicated() method \n",
    "#(which will determine whether 2 rows are duplicated by checking all the column values)\n",
    "duplicated_apps = gplay.loc[gplay.duplicated()]\n",
    "\n",
    "print(gplay.duplicated())\n",
    "\n",
    "#print out number of rows that is duplicated \n",
    "#by default it will keep the first row as not duplicated i.e. subsequent rows with the exact same column values\n",
    "#will be treated as duplicated\n",
    "print(len(duplicated_apps))\n",
    "\n",
    "#this will return all the duplicated rows\n",
    "duplicated_apps\n"
   ]
  },
  {
   "cell_type": "code",
   "execution_count": 54,
   "metadata": {
    "scrolled": true
   },
   "outputs": [
    {
     "data": {
      "text/html": [
       "<div>\n",
       "<style scoped>\n",
       "    .dataframe tbody tr th:only-of-type {\n",
       "        vertical-align: middle;\n",
       "    }\n",
       "\n",
       "    .dataframe tbody tr th {\n",
       "        vertical-align: top;\n",
       "    }\n",
       "\n",
       "    .dataframe thead th {\n",
       "        text-align: right;\n",
       "    }\n",
       "</style>\n",
       "<table border=\"1\" class=\"dataframe\">\n",
       "  <thead>\n",
       "    <tr style=\"text-align: right;\">\n",
       "      <th></th>\n",
       "      <th>App</th>\n",
       "      <th>Category</th>\n",
       "      <th>Rating</th>\n",
       "      <th>Reviews</th>\n",
       "      <th>Size</th>\n",
       "      <th>Installs</th>\n",
       "      <th>Type</th>\n",
       "      <th>Price</th>\n",
       "      <th>Content Rating</th>\n",
       "      <th>Genres</th>\n",
       "      <th>Last Updated</th>\n",
       "      <th>Current Ver</th>\n",
       "      <th>Android Ver</th>\n",
       "    </tr>\n",
       "  </thead>\n",
       "  <tbody>\n",
       "    <tr>\n",
       "      <th>229</th>\n",
       "      <td>Quick PDF Scanner + OCR FREE</td>\n",
       "      <td>BUSINESS</td>\n",
       "      <td>4.2</td>\n",
       "      <td>80805</td>\n",
       "      <td>Varies with device</td>\n",
       "      <td>5,000,000+</td>\n",
       "      <td>Free</td>\n",
       "      <td>0</td>\n",
       "      <td>Everyone</td>\n",
       "      <td>Business</td>\n",
       "      <td>26-Feb-18</td>\n",
       "      <td>Varies with device</td>\n",
       "      <td>4.0.3 and up</td>\n",
       "    </tr>\n",
       "  </tbody>\n",
       "</table>\n",
       "</div>"
      ],
      "text/plain": [
       "                              App  Category  Rating  Reviews  \\\n",
       "229  Quick PDF Scanner + OCR FREE  BUSINESS     4.2    80805   \n",
       "\n",
       "                   Size    Installs  Type Price Content Rating    Genres  \\\n",
       "229  Varies with device  5,000,000+  Free     0       Everyone  Business   \n",
       "\n",
       "    Last Updated         Current Ver   Android Ver  \n",
       "229    26-Feb-18  Varies with device  4.0.3 and up  "
      ]
     },
     "execution_count": 54,
     "metadata": {},
     "output_type": "execute_result"
    }
   ],
   "source": [
    "#to get the first row in duplicated_apps, this will not work \n",
    "#duplicated_apps.loc[229]\n",
    "\n",
    "#instead we need to use iloc\n",
    "first_dup_app = duplicated_apps.iloc[:1]\n",
    "first_dup_app\n"
   ]
  },
  {
   "cell_type": "code",
   "execution_count": 55,
   "metadata": {},
   "outputs": [
    {
     "data": {
      "text/html": [
       "<div>\n",
       "<style scoped>\n",
       "    .dataframe tbody tr th:only-of-type {\n",
       "        vertical-align: middle;\n",
       "    }\n",
       "\n",
       "    .dataframe tbody tr th {\n",
       "        vertical-align: top;\n",
       "    }\n",
       "\n",
       "    .dataframe thead th {\n",
       "        text-align: right;\n",
       "    }\n",
       "</style>\n",
       "<table border=\"1\" class=\"dataframe\">\n",
       "  <thead>\n",
       "    <tr style=\"text-align: right;\">\n",
       "      <th></th>\n",
       "      <th>App</th>\n",
       "      <th>Category</th>\n",
       "      <th>Rating</th>\n",
       "      <th>Reviews</th>\n",
       "      <th>Size</th>\n",
       "      <th>Installs</th>\n",
       "      <th>Type</th>\n",
       "      <th>Price</th>\n",
       "      <th>Content Rating</th>\n",
       "      <th>Genres</th>\n",
       "      <th>Last Updated</th>\n",
       "      <th>Current Ver</th>\n",
       "      <th>Android Ver</th>\n",
       "    </tr>\n",
       "  </thead>\n",
       "  <tbody>\n",
       "    <tr>\n",
       "      <th>222</th>\n",
       "      <td>Quick PDF Scanner + OCR FREE</td>\n",
       "      <td>BUSINESS</td>\n",
       "      <td>4.2</td>\n",
       "      <td>80805</td>\n",
       "      <td>Varies with device</td>\n",
       "      <td>5,000,000+</td>\n",
       "      <td>Free</td>\n",
       "      <td>0</td>\n",
       "      <td>Everyone</td>\n",
       "      <td>Business</td>\n",
       "      <td>26-Feb-18</td>\n",
       "      <td>Varies with device</td>\n",
       "      <td>4.0.3 and up</td>\n",
       "    </tr>\n",
       "    <tr>\n",
       "      <th>229</th>\n",
       "      <td>Quick PDF Scanner + OCR FREE</td>\n",
       "      <td>BUSINESS</td>\n",
       "      <td>4.2</td>\n",
       "      <td>80805</td>\n",
       "      <td>Varies with device</td>\n",
       "      <td>5,000,000+</td>\n",
       "      <td>Free</td>\n",
       "      <td>0</td>\n",
       "      <td>Everyone</td>\n",
       "      <td>Business</td>\n",
       "      <td>26-Feb-18</td>\n",
       "      <td>Varies with device</td>\n",
       "      <td>4.0.3 and up</td>\n",
       "    </tr>\n",
       "    <tr>\n",
       "      <th>285</th>\n",
       "      <td>Quick PDF Scanner + OCR FREE</td>\n",
       "      <td>BUSINESS</td>\n",
       "      <td>4.2</td>\n",
       "      <td>80804</td>\n",
       "      <td>Varies with device</td>\n",
       "      <td>5,000,000+</td>\n",
       "      <td>Free</td>\n",
       "      <td>0</td>\n",
       "      <td>Everyone</td>\n",
       "      <td>Business</td>\n",
       "      <td>26-Feb-18</td>\n",
       "      <td>Varies with device</td>\n",
       "      <td>4.0.3 and up</td>\n",
       "    </tr>\n",
       "  </tbody>\n",
       "</table>\n",
       "</div>"
      ],
      "text/plain": [
       "                              App  Category  Rating  Reviews  \\\n",
       "222  Quick PDF Scanner + OCR FREE  BUSINESS     4.2    80805   \n",
       "229  Quick PDF Scanner + OCR FREE  BUSINESS     4.2    80805   \n",
       "285  Quick PDF Scanner + OCR FREE  BUSINESS     4.2    80804   \n",
       "\n",
       "                   Size    Installs  Type Price Content Rating    Genres  \\\n",
       "222  Varies with device  5,000,000+  Free     0       Everyone  Business   \n",
       "229  Varies with device  5,000,000+  Free     0       Everyone  Business   \n",
       "285  Varies with device  5,000,000+  Free     0       Everyone  Business   \n",
       "\n",
       "    Last Updated         Current Ver   Android Ver  \n",
       "222    26-Feb-18  Varies with device  4.0.3 and up  \n",
       "229    26-Feb-18  Varies with device  4.0.3 and up  \n",
       "285    26-Feb-18  Varies with device  4.0.3 and up  "
      ]
     },
     "execution_count": 55,
     "metadata": {},
     "output_type": "execute_result"
    }
   ],
   "source": [
    "#print(type(first_dup_app[\"App\"])) #take note that this is a Series so we should get the value of it for comparison\n",
    "first_dup_app_name = first_dup_app[\"App\"].values[0]\n",
    "first_dup_app_name\n",
    "#print(type(first_dup_app_name))\n",
    "gplay.loc[gplay[\"App\"] == first_dup_app_name]\n"
   ]
  },
  {
   "cell_type": "code",
   "execution_count": 56,
   "metadata": {},
   "outputs": [
    {
     "data": {
      "text/html": [
       "<div>\n",
       "<style scoped>\n",
       "    .dataframe tbody tr th:only-of-type {\n",
       "        vertical-align: middle;\n",
       "    }\n",
       "\n",
       "    .dataframe tbody tr th {\n",
       "        vertical-align: top;\n",
       "    }\n",
       "\n",
       "    .dataframe thead th {\n",
       "        text-align: right;\n",
       "    }\n",
       "</style>\n",
       "<table border=\"1\" class=\"dataframe\">\n",
       "  <thead>\n",
       "    <tr style=\"text-align: right;\">\n",
       "      <th></th>\n",
       "      <th>App</th>\n",
       "      <th>Category</th>\n",
       "      <th>Rating</th>\n",
       "      <th>Reviews</th>\n",
       "      <th>Size</th>\n",
       "      <th>Installs</th>\n",
       "      <th>Type</th>\n",
       "      <th>Price</th>\n",
       "      <th>Content Rating</th>\n",
       "      <th>Genres</th>\n",
       "      <th>Last Updated</th>\n",
       "      <th>Current Ver</th>\n",
       "      <th>Android Ver</th>\n",
       "    </tr>\n",
       "  </thead>\n",
       "  <tbody>\n",
       "    <tr>\n",
       "      <th>222</th>\n",
       "      <td>Quick PDF Scanner + OCR FREE</td>\n",
       "      <td>BUSINESS</td>\n",
       "      <td>4.2</td>\n",
       "      <td>80805</td>\n",
       "      <td>Varies with device</td>\n",
       "      <td>5,000,000+</td>\n",
       "      <td>Free</td>\n",
       "      <td>0</td>\n",
       "      <td>Everyone</td>\n",
       "      <td>Business</td>\n",
       "      <td>26-Feb-18</td>\n",
       "      <td>Varies with device</td>\n",
       "      <td>4.0.3 and up</td>\n",
       "    </tr>\n",
       "    <tr>\n",
       "      <th>229</th>\n",
       "      <td>Quick PDF Scanner + OCR FREE</td>\n",
       "      <td>BUSINESS</td>\n",
       "      <td>4.2</td>\n",
       "      <td>80805</td>\n",
       "      <td>Varies with device</td>\n",
       "      <td>5,000,000+</td>\n",
       "      <td>Free</td>\n",
       "      <td>0</td>\n",
       "      <td>Everyone</td>\n",
       "      <td>Business</td>\n",
       "      <td>26-Feb-18</td>\n",
       "      <td>Varies with device</td>\n",
       "      <td>4.0.3 and up</td>\n",
       "    </tr>\n",
       "    <tr>\n",
       "      <th>285</th>\n",
       "      <td>Quick PDF Scanner + OCR FREE</td>\n",
       "      <td>BUSINESS</td>\n",
       "      <td>4.2</td>\n",
       "      <td>80804</td>\n",
       "      <td>Varies with device</td>\n",
       "      <td>5,000,000+</td>\n",
       "      <td>Free</td>\n",
       "      <td>0</td>\n",
       "      <td>Everyone</td>\n",
       "      <td>Business</td>\n",
       "      <td>26-Feb-18</td>\n",
       "      <td>Varies with device</td>\n",
       "      <td>4.0.3 and up</td>\n",
       "    </tr>\n",
       "  </tbody>\n",
       "</table>\n",
       "</div>"
      ],
      "text/plain": [
       "                              App  Category  Rating  Reviews  \\\n",
       "222  Quick PDF Scanner + OCR FREE  BUSINESS     4.2    80805   \n",
       "229  Quick PDF Scanner + OCR FREE  BUSINESS     4.2    80805   \n",
       "285  Quick PDF Scanner + OCR FREE  BUSINESS     4.2    80804   \n",
       "\n",
       "                   Size    Installs  Type Price Content Rating    Genres  \\\n",
       "222  Varies with device  5,000,000+  Free     0       Everyone  Business   \n",
       "229  Varies with device  5,000,000+  Free     0       Everyone  Business   \n",
       "285  Varies with device  5,000,000+  Free     0       Everyone  Business   \n",
       "\n",
       "    Last Updated         Current Ver   Android Ver  \n",
       "222    26-Feb-18  Varies with device  4.0.3 and up  \n",
       "229    26-Feb-18  Varies with device  4.0.3 and up  \n",
       "285    26-Feb-18  Varies with device  4.0.3 and up  "
      ]
     },
     "execution_count": 56,
     "metadata": {},
     "output_type": "execute_result"
    }
   ],
   "source": [
    "#actually without .loc[] it will work just fine too\n",
    "#just make sure that we have equal length \n",
    "#(i.e. the number of boolean values matches the number of rows of dataframe)\n",
    "gplay[gplay[\"App\"] == first_dup_app_name]\n"
   ]
  },
  {
   "cell_type": "code",
   "execution_count": 57,
   "metadata": {},
   "outputs": [
    {
     "name": "stdout",
     "output_type": "stream",
     "text": [
      "(9361, 13)\n",
      "(8887, 13)\n"
     ]
    }
   ],
   "source": [
    "#like Series, we can use the drop_duplicates() to remove the duplicated rows\n",
    "print(gplay.shape)\n",
    "print(gplay.drop_duplicates().shape)\n",
    "\n",
    "gplay = gplay.drop_duplicates()\n"
   ]
  },
  {
   "cell_type": "markdown",
   "metadata": {},
   "source": [
    "======================================================================"
   ]
  },
  {
   "cell_type": "markdown",
   "metadata": {},
   "source": [
    "## Index of DataFrame"
   ]
  },
  {
   "cell_type": "code",
   "execution_count": 58,
   "metadata": {},
   "outputs": [
    {
     "data": {
      "text/html": [
       "<div>\n",
       "<style scoped>\n",
       "    .dataframe tbody tr th:only-of-type {\n",
       "        vertical-align: middle;\n",
       "    }\n",
       "\n",
       "    .dataframe tbody tr th {\n",
       "        vertical-align: top;\n",
       "    }\n",
       "\n",
       "    .dataframe thead th {\n",
       "        text-align: right;\n",
       "    }\n",
       "</style>\n",
       "<table border=\"1\" class=\"dataframe\">\n",
       "  <thead>\n",
       "    <tr style=\"text-align: right;\">\n",
       "      <th></th>\n",
       "      <th>App</th>\n",
       "      <th>Category</th>\n",
       "      <th>Rating</th>\n",
       "      <th>Reviews</th>\n",
       "      <th>Size</th>\n",
       "      <th>Installs</th>\n",
       "      <th>Type</th>\n",
       "      <th>Price</th>\n",
       "      <th>Content Rating</th>\n",
       "      <th>Genres</th>\n",
       "      <th>Last Updated</th>\n",
       "      <th>Current Ver</th>\n",
       "      <th>Android Ver</th>\n",
       "    </tr>\n",
       "  </thead>\n",
       "  <tbody>\n",
       "    <tr>\n",
       "      <th>0</th>\n",
       "      <td>Photo Editor &amp; Candy Camera &amp; Grid &amp; ScrapBook</td>\n",
       "      <td>ART_AND_DESIGN</td>\n",
       "      <td>4.1</td>\n",
       "      <td>159</td>\n",
       "      <td>19M</td>\n",
       "      <td>10,000+</td>\n",
       "      <td>Free</td>\n",
       "      <td>0</td>\n",
       "      <td>Everyone</td>\n",
       "      <td>Art &amp; Design</td>\n",
       "      <td>7-Jan-18</td>\n",
       "      <td>1.0.0</td>\n",
       "      <td>4.0.3 and up</td>\n",
       "    </tr>\n",
       "    <tr>\n",
       "      <th>1</th>\n",
       "      <td>Coloring book moana</td>\n",
       "      <td>ART_AND_DESIGN</td>\n",
       "      <td>3.9</td>\n",
       "      <td>967</td>\n",
       "      <td>14M</td>\n",
       "      <td>500,000+</td>\n",
       "      <td>Free</td>\n",
       "      <td>0</td>\n",
       "      <td>Everyone</td>\n",
       "      <td>Art &amp; Design;Pretend Play</td>\n",
       "      <td>15-Jan-18</td>\n",
       "      <td>2.0.0</td>\n",
       "      <td>4.0.3 and up</td>\n",
       "    </tr>\n",
       "    <tr>\n",
       "      <th>2</th>\n",
       "      <td>U Launcher Lite – FREE Live Cool Themes, Hide ...</td>\n",
       "      <td>ART_AND_DESIGN</td>\n",
       "      <td>4.7</td>\n",
       "      <td>87510</td>\n",
       "      <td>8.7M</td>\n",
       "      <td>5,000,000+</td>\n",
       "      <td>Free</td>\n",
       "      <td>0</td>\n",
       "      <td>Everyone</td>\n",
       "      <td>Art &amp; Design</td>\n",
       "      <td>1-Aug-18</td>\n",
       "      <td>1.2.4</td>\n",
       "      <td>4.0.3 and up</td>\n",
       "    </tr>\n",
       "    <tr>\n",
       "      <th>3</th>\n",
       "      <td>Sketch - Draw &amp; Paint</td>\n",
       "      <td>ART_AND_DESIGN</td>\n",
       "      <td>4.5</td>\n",
       "      <td>215644</td>\n",
       "      <td>25M</td>\n",
       "      <td>50,000,000+</td>\n",
       "      <td>Free</td>\n",
       "      <td>0</td>\n",
       "      <td>Teen</td>\n",
       "      <td>Art &amp; Design</td>\n",
       "      <td>8-Jun-18</td>\n",
       "      <td>Varies with device</td>\n",
       "      <td>4.2 and up</td>\n",
       "    </tr>\n",
       "    <tr>\n",
       "      <th>4</th>\n",
       "      <td>Pixel Draw - Number Art Coloring Book</td>\n",
       "      <td>ART_AND_DESIGN</td>\n",
       "      <td>4.3</td>\n",
       "      <td>967</td>\n",
       "      <td>2.8M</td>\n",
       "      <td>100,000+</td>\n",
       "      <td>Free</td>\n",
       "      <td>0</td>\n",
       "      <td>Everyone</td>\n",
       "      <td>Art &amp; Design;Creativity</td>\n",
       "      <td>20-Jun-18</td>\n",
       "      <td>1.1</td>\n",
       "      <td>4.4 and up</td>\n",
       "    </tr>\n",
       "    <tr>\n",
       "      <th>...</th>\n",
       "      <td>...</td>\n",
       "      <td>...</td>\n",
       "      <td>...</td>\n",
       "      <td>...</td>\n",
       "      <td>...</td>\n",
       "      <td>...</td>\n",
       "      <td>...</td>\n",
       "      <td>...</td>\n",
       "      <td>...</td>\n",
       "      <td>...</td>\n",
       "      <td>...</td>\n",
       "      <td>...</td>\n",
       "      <td>...</td>\n",
       "    </tr>\n",
       "    <tr>\n",
       "      <th>10834</th>\n",
       "      <td>FR Calculator</td>\n",
       "      <td>FAMILY</td>\n",
       "      <td>4.0</td>\n",
       "      <td>7</td>\n",
       "      <td>2.6M</td>\n",
       "      <td>500+</td>\n",
       "      <td>Free</td>\n",
       "      <td>0</td>\n",
       "      <td>Everyone</td>\n",
       "      <td>Education</td>\n",
       "      <td>18-Jun-17</td>\n",
       "      <td>1.0.0</td>\n",
       "      <td>4.1 and up</td>\n",
       "    </tr>\n",
       "    <tr>\n",
       "      <th>10836</th>\n",
       "      <td>Sya9a Maroc - FR</td>\n",
       "      <td>FAMILY</td>\n",
       "      <td>4.5</td>\n",
       "      <td>38</td>\n",
       "      <td>53M</td>\n",
       "      <td>5,000+</td>\n",
       "      <td>Free</td>\n",
       "      <td>0</td>\n",
       "      <td>Everyone</td>\n",
       "      <td>Education</td>\n",
       "      <td>25-Jul-17</td>\n",
       "      <td>1.48</td>\n",
       "      <td>4.1 and up</td>\n",
       "    </tr>\n",
       "    <tr>\n",
       "      <th>10837</th>\n",
       "      <td>Fr. Mike Schmitz Audio Teachings</td>\n",
       "      <td>FAMILY</td>\n",
       "      <td>5.0</td>\n",
       "      <td>4</td>\n",
       "      <td>3.6M</td>\n",
       "      <td>100+</td>\n",
       "      <td>Free</td>\n",
       "      <td>0</td>\n",
       "      <td>Everyone</td>\n",
       "      <td>Education</td>\n",
       "      <td>6-Jul-18</td>\n",
       "      <td>1</td>\n",
       "      <td>4.1 and up</td>\n",
       "    </tr>\n",
       "    <tr>\n",
       "      <th>10839</th>\n",
       "      <td>The SCP Foundation DB fr nn5n</td>\n",
       "      <td>BOOKS_AND_REFERENCE</td>\n",
       "      <td>4.5</td>\n",
       "      <td>114</td>\n",
       "      <td>Varies with device</td>\n",
       "      <td>1,000+</td>\n",
       "      <td>Free</td>\n",
       "      <td>0</td>\n",
       "      <td>Mature 17+</td>\n",
       "      <td>Books &amp; Reference</td>\n",
       "      <td>19-Jan-15</td>\n",
       "      <td>Varies with device</td>\n",
       "      <td>Varies with device</td>\n",
       "    </tr>\n",
       "    <tr>\n",
       "      <th>10840</th>\n",
       "      <td>iHoroscope - 2018 Daily Horoscope &amp; Astrology</td>\n",
       "      <td>LIFESTYLE</td>\n",
       "      <td>4.5</td>\n",
       "      <td>398307</td>\n",
       "      <td>19M</td>\n",
       "      <td>10,000,000+</td>\n",
       "      <td>Free</td>\n",
       "      <td>0</td>\n",
       "      <td>Everyone</td>\n",
       "      <td>Lifestyle</td>\n",
       "      <td>25-Jul-18</td>\n",
       "      <td>Varies with device</td>\n",
       "      <td>Varies with device</td>\n",
       "    </tr>\n",
       "  </tbody>\n",
       "</table>\n",
       "<p>8887 rows × 13 columns</p>\n",
       "</div>"
      ],
      "text/plain": [
       "                                                     App             Category  \\\n",
       "0         Photo Editor & Candy Camera & Grid & ScrapBook       ART_AND_DESIGN   \n",
       "1                                    Coloring book moana       ART_AND_DESIGN   \n",
       "2      U Launcher Lite – FREE Live Cool Themes, Hide ...       ART_AND_DESIGN   \n",
       "3                                  Sketch - Draw & Paint       ART_AND_DESIGN   \n",
       "4                  Pixel Draw - Number Art Coloring Book       ART_AND_DESIGN   \n",
       "...                                                  ...                  ...   \n",
       "10834                                      FR Calculator               FAMILY   \n",
       "10836                                   Sya9a Maroc - FR               FAMILY   \n",
       "10837                   Fr. Mike Schmitz Audio Teachings               FAMILY   \n",
       "10839                      The SCP Foundation DB fr nn5n  BOOKS_AND_REFERENCE   \n",
       "10840      iHoroscope - 2018 Daily Horoscope & Astrology            LIFESTYLE   \n",
       "\n",
       "       Rating  Reviews                Size     Installs  Type Price  \\\n",
       "0         4.1      159                 19M      10,000+  Free     0   \n",
       "1         3.9      967                 14M     500,000+  Free     0   \n",
       "2         4.7    87510                8.7M   5,000,000+  Free     0   \n",
       "3         4.5   215644                 25M  50,000,000+  Free     0   \n",
       "4         4.3      967                2.8M     100,000+  Free     0   \n",
       "...       ...      ...                 ...          ...   ...   ...   \n",
       "10834     4.0        7                2.6M         500+  Free     0   \n",
       "10836     4.5       38                 53M       5,000+  Free     0   \n",
       "10837     5.0        4                3.6M         100+  Free     0   \n",
       "10839     4.5      114  Varies with device       1,000+  Free     0   \n",
       "10840     4.5   398307                 19M  10,000,000+  Free     0   \n",
       "\n",
       "      Content Rating                     Genres Last Updated  \\\n",
       "0           Everyone               Art & Design     7-Jan-18   \n",
       "1           Everyone  Art & Design;Pretend Play    15-Jan-18   \n",
       "2           Everyone               Art & Design     1-Aug-18   \n",
       "3               Teen               Art & Design     8-Jun-18   \n",
       "4           Everyone    Art & Design;Creativity    20-Jun-18   \n",
       "...              ...                        ...          ...   \n",
       "10834       Everyone                  Education    18-Jun-17   \n",
       "10836       Everyone                  Education    25-Jul-17   \n",
       "10837       Everyone                  Education     6-Jul-18   \n",
       "10839     Mature 17+          Books & Reference    19-Jan-15   \n",
       "10840       Everyone                  Lifestyle    25-Jul-18   \n",
       "\n",
       "              Current Ver         Android Ver  \n",
       "0                   1.0.0        4.0.3 and up  \n",
       "1                   2.0.0        4.0.3 and up  \n",
       "2                   1.2.4        4.0.3 and up  \n",
       "3      Varies with device          4.2 and up  \n",
       "4                     1.1          4.4 and up  \n",
       "...                   ...                 ...  \n",
       "10834               1.0.0          4.1 and up  \n",
       "10836                1.48          4.1 and up  \n",
       "10837                   1          4.1 and up  \n",
       "10839  Varies with device  Varies with device  \n",
       "10840  Varies with device  Varies with device  \n",
       "\n",
       "[8887 rows x 13 columns]"
      ]
     },
     "execution_count": 58,
     "metadata": {},
     "output_type": "execute_result"
    }
   ],
   "source": [
    "gplay\n"
   ]
  },
  {
   "cell_type": "code",
   "execution_count": 59,
   "metadata": {},
   "outputs": [
    {
     "data": {
      "text/html": [
       "<div>\n",
       "<style scoped>\n",
       "    .dataframe tbody tr th:only-of-type {\n",
       "        vertical-align: middle;\n",
       "    }\n",
       "\n",
       "    .dataframe tbody tr th {\n",
       "        vertical-align: top;\n",
       "    }\n",
       "\n",
       "    .dataframe thead th {\n",
       "        text-align: right;\n",
       "    }\n",
       "</style>\n",
       "<table border=\"1\" class=\"dataframe\">\n",
       "  <thead>\n",
       "    <tr style=\"text-align: right;\">\n",
       "      <th></th>\n",
       "      <th>Category</th>\n",
       "      <th>Rating</th>\n",
       "      <th>Reviews</th>\n",
       "      <th>Size</th>\n",
       "      <th>Installs</th>\n",
       "      <th>Type</th>\n",
       "      <th>Price</th>\n",
       "      <th>Content Rating</th>\n",
       "      <th>Genres</th>\n",
       "      <th>Last Updated</th>\n",
       "      <th>Current Ver</th>\n",
       "      <th>Android Ver</th>\n",
       "    </tr>\n",
       "    <tr>\n",
       "      <th>App</th>\n",
       "      <th></th>\n",
       "      <th></th>\n",
       "      <th></th>\n",
       "      <th></th>\n",
       "      <th></th>\n",
       "      <th></th>\n",
       "      <th></th>\n",
       "      <th></th>\n",
       "      <th></th>\n",
       "      <th></th>\n",
       "      <th></th>\n",
       "      <th></th>\n",
       "    </tr>\n",
       "  </thead>\n",
       "  <tbody>\n",
       "    <tr>\n",
       "      <th>Photo Editor &amp; Candy Camera &amp; Grid &amp; ScrapBook</th>\n",
       "      <td>ART_AND_DESIGN</td>\n",
       "      <td>4.1</td>\n",
       "      <td>159</td>\n",
       "      <td>19M</td>\n",
       "      <td>10,000+</td>\n",
       "      <td>Free</td>\n",
       "      <td>0</td>\n",
       "      <td>Everyone</td>\n",
       "      <td>Art &amp; Design</td>\n",
       "      <td>7-Jan-18</td>\n",
       "      <td>1.0.0</td>\n",
       "      <td>4.0.3 and up</td>\n",
       "    </tr>\n",
       "    <tr>\n",
       "      <th>Coloring book moana</th>\n",
       "      <td>ART_AND_DESIGN</td>\n",
       "      <td>3.9</td>\n",
       "      <td>967</td>\n",
       "      <td>14M</td>\n",
       "      <td>500,000+</td>\n",
       "      <td>Free</td>\n",
       "      <td>0</td>\n",
       "      <td>Everyone</td>\n",
       "      <td>Art &amp; Design;Pretend Play</td>\n",
       "      <td>15-Jan-18</td>\n",
       "      <td>2.0.0</td>\n",
       "      <td>4.0.3 and up</td>\n",
       "    </tr>\n",
       "    <tr>\n",
       "      <th>U Launcher Lite – FREE Live Cool Themes, Hide Apps</th>\n",
       "      <td>ART_AND_DESIGN</td>\n",
       "      <td>4.7</td>\n",
       "      <td>87510</td>\n",
       "      <td>8.7M</td>\n",
       "      <td>5,000,000+</td>\n",
       "      <td>Free</td>\n",
       "      <td>0</td>\n",
       "      <td>Everyone</td>\n",
       "      <td>Art &amp; Design</td>\n",
       "      <td>1-Aug-18</td>\n",
       "      <td>1.2.4</td>\n",
       "      <td>4.0.3 and up</td>\n",
       "    </tr>\n",
       "    <tr>\n",
       "      <th>Sketch - Draw &amp; Paint</th>\n",
       "      <td>ART_AND_DESIGN</td>\n",
       "      <td>4.5</td>\n",
       "      <td>215644</td>\n",
       "      <td>25M</td>\n",
       "      <td>50,000,000+</td>\n",
       "      <td>Free</td>\n",
       "      <td>0</td>\n",
       "      <td>Teen</td>\n",
       "      <td>Art &amp; Design</td>\n",
       "      <td>8-Jun-18</td>\n",
       "      <td>Varies with device</td>\n",
       "      <td>4.2 and up</td>\n",
       "    </tr>\n",
       "    <tr>\n",
       "      <th>Pixel Draw - Number Art Coloring Book</th>\n",
       "      <td>ART_AND_DESIGN</td>\n",
       "      <td>4.3</td>\n",
       "      <td>967</td>\n",
       "      <td>2.8M</td>\n",
       "      <td>100,000+</td>\n",
       "      <td>Free</td>\n",
       "      <td>0</td>\n",
       "      <td>Everyone</td>\n",
       "      <td>Art &amp; Design;Creativity</td>\n",
       "      <td>20-Jun-18</td>\n",
       "      <td>1.1</td>\n",
       "      <td>4.4 and up</td>\n",
       "    </tr>\n",
       "    <tr>\n",
       "      <th>...</th>\n",
       "      <td>...</td>\n",
       "      <td>...</td>\n",
       "      <td>...</td>\n",
       "      <td>...</td>\n",
       "      <td>...</td>\n",
       "      <td>...</td>\n",
       "      <td>...</td>\n",
       "      <td>...</td>\n",
       "      <td>...</td>\n",
       "      <td>...</td>\n",
       "      <td>...</td>\n",
       "      <td>...</td>\n",
       "    </tr>\n",
       "    <tr>\n",
       "      <th>FR Calculator</th>\n",
       "      <td>FAMILY</td>\n",
       "      <td>4.0</td>\n",
       "      <td>7</td>\n",
       "      <td>2.6M</td>\n",
       "      <td>500+</td>\n",
       "      <td>Free</td>\n",
       "      <td>0</td>\n",
       "      <td>Everyone</td>\n",
       "      <td>Education</td>\n",
       "      <td>18-Jun-17</td>\n",
       "      <td>1.0.0</td>\n",
       "      <td>4.1 and up</td>\n",
       "    </tr>\n",
       "    <tr>\n",
       "      <th>Sya9a Maroc - FR</th>\n",
       "      <td>FAMILY</td>\n",
       "      <td>4.5</td>\n",
       "      <td>38</td>\n",
       "      <td>53M</td>\n",
       "      <td>5,000+</td>\n",
       "      <td>Free</td>\n",
       "      <td>0</td>\n",
       "      <td>Everyone</td>\n",
       "      <td>Education</td>\n",
       "      <td>25-Jul-17</td>\n",
       "      <td>1.48</td>\n",
       "      <td>4.1 and up</td>\n",
       "    </tr>\n",
       "    <tr>\n",
       "      <th>Fr. Mike Schmitz Audio Teachings</th>\n",
       "      <td>FAMILY</td>\n",
       "      <td>5.0</td>\n",
       "      <td>4</td>\n",
       "      <td>3.6M</td>\n",
       "      <td>100+</td>\n",
       "      <td>Free</td>\n",
       "      <td>0</td>\n",
       "      <td>Everyone</td>\n",
       "      <td>Education</td>\n",
       "      <td>6-Jul-18</td>\n",
       "      <td>1</td>\n",
       "      <td>4.1 and up</td>\n",
       "    </tr>\n",
       "    <tr>\n",
       "      <th>The SCP Foundation DB fr nn5n</th>\n",
       "      <td>BOOKS_AND_REFERENCE</td>\n",
       "      <td>4.5</td>\n",
       "      <td>114</td>\n",
       "      <td>Varies with device</td>\n",
       "      <td>1,000+</td>\n",
       "      <td>Free</td>\n",
       "      <td>0</td>\n",
       "      <td>Mature 17+</td>\n",
       "      <td>Books &amp; Reference</td>\n",
       "      <td>19-Jan-15</td>\n",
       "      <td>Varies with device</td>\n",
       "      <td>Varies with device</td>\n",
       "    </tr>\n",
       "    <tr>\n",
       "      <th>iHoroscope - 2018 Daily Horoscope &amp; Astrology</th>\n",
       "      <td>LIFESTYLE</td>\n",
       "      <td>4.5</td>\n",
       "      <td>398307</td>\n",
       "      <td>19M</td>\n",
       "      <td>10,000,000+</td>\n",
       "      <td>Free</td>\n",
       "      <td>0</td>\n",
       "      <td>Everyone</td>\n",
       "      <td>Lifestyle</td>\n",
       "      <td>25-Jul-18</td>\n",
       "      <td>Varies with device</td>\n",
       "      <td>Varies with device</td>\n",
       "    </tr>\n",
       "  </tbody>\n",
       "</table>\n",
       "<p>8887 rows × 12 columns</p>\n",
       "</div>"
      ],
      "text/plain": [
       "                                                               Category  \\\n",
       "App                                                                       \n",
       "Photo Editor & Candy Camera & Grid & ScrapBook           ART_AND_DESIGN   \n",
       "Coloring book moana                                      ART_AND_DESIGN   \n",
       "U Launcher Lite – FREE Live Cool Themes, Hide Apps       ART_AND_DESIGN   \n",
       "Sketch - Draw & Paint                                    ART_AND_DESIGN   \n",
       "Pixel Draw - Number Art Coloring Book                    ART_AND_DESIGN   \n",
       "...                                                                 ...   \n",
       "FR Calculator                                                    FAMILY   \n",
       "Sya9a Maroc - FR                                                 FAMILY   \n",
       "Fr. Mike Schmitz Audio Teachings                                 FAMILY   \n",
       "The SCP Foundation DB fr nn5n                       BOOKS_AND_REFERENCE   \n",
       "iHoroscope - 2018 Daily Horoscope & Astrology                 LIFESTYLE   \n",
       "\n",
       "                                                    Rating  Reviews  \\\n",
       "App                                                                   \n",
       "Photo Editor & Candy Camera & Grid & ScrapBook         4.1      159   \n",
       "Coloring book moana                                    3.9      967   \n",
       "U Launcher Lite – FREE Live Cool Themes, Hide Apps     4.7    87510   \n",
       "Sketch - Draw & Paint                                  4.5   215644   \n",
       "Pixel Draw - Number Art Coloring Book                  4.3      967   \n",
       "...                                                    ...      ...   \n",
       "FR Calculator                                          4.0        7   \n",
       "Sya9a Maroc - FR                                       4.5       38   \n",
       "Fr. Mike Schmitz Audio Teachings                       5.0        4   \n",
       "The SCP Foundation DB fr nn5n                          4.5      114   \n",
       "iHoroscope - 2018 Daily Horoscope & Astrology          4.5   398307   \n",
       "\n",
       "                                                                  Size  \\\n",
       "App                                                                      \n",
       "Photo Editor & Candy Camera & Grid & ScrapBook                     19M   \n",
       "Coloring book moana                                                14M   \n",
       "U Launcher Lite – FREE Live Cool Themes, Hide Apps                8.7M   \n",
       "Sketch - Draw & Paint                                              25M   \n",
       "Pixel Draw - Number Art Coloring Book                             2.8M   \n",
       "...                                                                ...   \n",
       "FR Calculator                                                     2.6M   \n",
       "Sya9a Maroc - FR                                                   53M   \n",
       "Fr. Mike Schmitz Audio Teachings                                  3.6M   \n",
       "The SCP Foundation DB fr nn5n                       Varies with device   \n",
       "iHoroscope - 2018 Daily Horoscope & Astrology                      19M   \n",
       "\n",
       "                                                       Installs  Type Price  \\\n",
       "App                                                                           \n",
       "Photo Editor & Candy Camera & Grid & ScrapBook          10,000+  Free     0   \n",
       "Coloring book moana                                    500,000+  Free     0   \n",
       "U Launcher Lite – FREE Live Cool Themes, Hide Apps   5,000,000+  Free     0   \n",
       "Sketch - Draw & Paint                               50,000,000+  Free     0   \n",
       "Pixel Draw - Number Art Coloring Book                  100,000+  Free     0   \n",
       "...                                                         ...   ...   ...   \n",
       "FR Calculator                                              500+  Free     0   \n",
       "Sya9a Maroc - FR                                         5,000+  Free     0   \n",
       "Fr. Mike Schmitz Audio Teachings                           100+  Free     0   \n",
       "The SCP Foundation DB fr nn5n                            1,000+  Free     0   \n",
       "iHoroscope - 2018 Daily Horoscope & Astrology       10,000,000+  Free     0   \n",
       "\n",
       "                                                   Content Rating  \\\n",
       "App                                                                 \n",
       "Photo Editor & Candy Camera & Grid & ScrapBook           Everyone   \n",
       "Coloring book moana                                      Everyone   \n",
       "U Launcher Lite – FREE Live Cool Themes, Hide Apps       Everyone   \n",
       "Sketch - Draw & Paint                                        Teen   \n",
       "Pixel Draw - Number Art Coloring Book                    Everyone   \n",
       "...                                                           ...   \n",
       "FR Calculator                                            Everyone   \n",
       "Sya9a Maroc - FR                                         Everyone   \n",
       "Fr. Mike Schmitz Audio Teachings                         Everyone   \n",
       "The SCP Foundation DB fr nn5n                          Mature 17+   \n",
       "iHoroscope - 2018 Daily Horoscope & Astrology            Everyone   \n",
       "\n",
       "                                                                       Genres  \\\n",
       "App                                                                             \n",
       "Photo Editor & Candy Camera & Grid & ScrapBook                   Art & Design   \n",
       "Coloring book moana                                 Art & Design;Pretend Play   \n",
       "U Launcher Lite – FREE Live Cool Themes, Hide Apps               Art & Design   \n",
       "Sketch - Draw & Paint                                            Art & Design   \n",
       "Pixel Draw - Number Art Coloring Book                 Art & Design;Creativity   \n",
       "...                                                                       ...   \n",
       "FR Calculator                                                       Education   \n",
       "Sya9a Maroc - FR                                                    Education   \n",
       "Fr. Mike Schmitz Audio Teachings                                    Education   \n",
       "The SCP Foundation DB fr nn5n                               Books & Reference   \n",
       "iHoroscope - 2018 Daily Horoscope & Astrology                       Lifestyle   \n",
       "\n",
       "                                                   Last Updated  \\\n",
       "App                                                               \n",
       "Photo Editor & Candy Camera & Grid & ScrapBook         7-Jan-18   \n",
       "Coloring book moana                                   15-Jan-18   \n",
       "U Launcher Lite – FREE Live Cool Themes, Hide Apps     1-Aug-18   \n",
       "Sketch - Draw & Paint                                  8-Jun-18   \n",
       "Pixel Draw - Number Art Coloring Book                 20-Jun-18   \n",
       "...                                                         ...   \n",
       "FR Calculator                                         18-Jun-17   \n",
       "Sya9a Maroc - FR                                      25-Jul-17   \n",
       "Fr. Mike Schmitz Audio Teachings                       6-Jul-18   \n",
       "The SCP Foundation DB fr nn5n                         19-Jan-15   \n",
       "iHoroscope - 2018 Daily Horoscope & Astrology         25-Jul-18   \n",
       "\n",
       "                                                           Current Ver  \\\n",
       "App                                                                      \n",
       "Photo Editor & Candy Camera & Grid & ScrapBook                   1.0.0   \n",
       "Coloring book moana                                              2.0.0   \n",
       "U Launcher Lite – FREE Live Cool Themes, Hide Apps               1.2.4   \n",
       "Sketch - Draw & Paint                               Varies with device   \n",
       "Pixel Draw - Number Art Coloring Book                              1.1   \n",
       "...                                                                ...   \n",
       "FR Calculator                                                    1.0.0   \n",
       "Sya9a Maroc - FR                                                  1.48   \n",
       "Fr. Mike Schmitz Audio Teachings                                     1   \n",
       "The SCP Foundation DB fr nn5n                       Varies with device   \n",
       "iHoroscope - 2018 Daily Horoscope & Astrology       Varies with device   \n",
       "\n",
       "                                                           Android Ver  \n",
       "App                                                                     \n",
       "Photo Editor & Candy Camera & Grid & ScrapBook            4.0.3 and up  \n",
       "Coloring book moana                                       4.0.3 and up  \n",
       "U Launcher Lite – FREE Live Cool Themes, Hide Apps        4.0.3 and up  \n",
       "Sketch - Draw & Paint                                       4.2 and up  \n",
       "Pixel Draw - Number Art Coloring Book                       4.4 and up  \n",
       "...                                                                ...  \n",
       "FR Calculator                                               4.1 and up  \n",
       "Sya9a Maroc - FR                                            4.1 and up  \n",
       "Fr. Mike Schmitz Audio Teachings                            4.1 and up  \n",
       "The SCP Foundation DB fr nn5n                       Varies with device  \n",
       "iHoroscope - 2018 Daily Horoscope & Astrology       Varies with device  \n",
       "\n",
       "[8887 rows x 12 columns]"
      ]
     },
     "execution_count": 59,
     "metadata": {},
     "output_type": "execute_result"
    }
   ],
   "source": [
    "#possible to make one of the column the index\n",
    "gplay1 = gplay.set_index(\"App\")\n",
    "\n",
    "#alternatively, when loading, it's possible to select the index column\n",
    "#gplay = pd.read_csv(\"googleplaystore.csv\", index_col=\"App\")\n",
    "gplay1\n"
   ]
  },
  {
   "cell_type": "code",
   "execution_count": 60,
   "metadata": {},
   "outputs": [
    {
     "data": {
      "text/html": [
       "<div>\n",
       "<style scoped>\n",
       "    .dataframe tbody tr th:only-of-type {\n",
       "        vertical-align: middle;\n",
       "    }\n",
       "\n",
       "    .dataframe tbody tr th {\n",
       "        vertical-align: top;\n",
       "    }\n",
       "\n",
       "    .dataframe thead th {\n",
       "        text-align: right;\n",
       "    }\n",
       "</style>\n",
       "<table border=\"1\" class=\"dataframe\">\n",
       "  <thead>\n",
       "    <tr style=\"text-align: right;\">\n",
       "      <th></th>\n",
       "      <th>Category</th>\n",
       "      <th>Rating</th>\n",
       "      <th>Reviews</th>\n",
       "      <th>Size</th>\n",
       "      <th>Installs</th>\n",
       "      <th>Type</th>\n",
       "      <th>Price</th>\n",
       "      <th>Content Rating</th>\n",
       "      <th>Genres</th>\n",
       "      <th>Last Updated</th>\n",
       "      <th>Current Ver</th>\n",
       "      <th>Android Ver</th>\n",
       "    </tr>\n",
       "    <tr>\n",
       "      <th>App</th>\n",
       "      <th></th>\n",
       "      <th></th>\n",
       "      <th></th>\n",
       "      <th></th>\n",
       "      <th></th>\n",
       "      <th></th>\n",
       "      <th></th>\n",
       "      <th></th>\n",
       "      <th></th>\n",
       "      <th></th>\n",
       "      <th></th>\n",
       "      <th></th>\n",
       "    </tr>\n",
       "  </thead>\n",
       "  <tbody>\n",
       "    <tr>\n",
       "      <th>FR Calculator</th>\n",
       "      <td>FAMILY</td>\n",
       "      <td>4.0</td>\n",
       "      <td>7</td>\n",
       "      <td>2.6M</td>\n",
       "      <td>500+</td>\n",
       "      <td>Free</td>\n",
       "      <td>0</td>\n",
       "      <td>Everyone</td>\n",
       "      <td>Education</td>\n",
       "      <td>18-Jun-17</td>\n",
       "      <td>1.0.0</td>\n",
       "      <td>4.1 and up</td>\n",
       "    </tr>\n",
       "  </tbody>\n",
       "</table>\n",
       "</div>"
      ],
      "text/plain": [
       "              Category  Rating  Reviews  Size Installs  Type Price  \\\n",
       "App                                                                  \n",
       "FR Calculator   FAMILY     4.0        7  2.6M     500+  Free     0   \n",
       "\n",
       "              Content Rating     Genres Last Updated Current Ver Android Ver  \n",
       "App                                                                           \n",
       "FR Calculator       Everyone  Education    18-Jun-17       1.0.0  4.1 and up  "
      ]
     },
     "execution_count": 60,
     "metadata": {},
     "output_type": "execute_result"
    }
   ],
   "source": [
    "#getting a row by its index name (using .loc())\n",
    "#again duplicates can happen (i.e. having index with the same name)\n",
    "gplay1.loc[[\"FR Calculator\"]]\n"
   ]
  },
  {
   "cell_type": "markdown",
   "metadata": {},
   "source": [
    "======================================================================"
   ]
  },
  {
   "cell_type": "markdown",
   "metadata": {},
   "source": [
    "# Exploratory Data Analysis"
   ]
  },
  {
   "cell_type": "markdown",
   "metadata": {},
   "source": [
    "## Descriptive Statistics"
   ]
  },
  {
   "cell_type": "code",
   "execution_count": 61,
   "metadata": {},
   "outputs": [
    {
     "name": "stdout",
     "output_type": "stream",
     "text": [
      "<class 'pandas.core.frame.DataFrame'>\n",
      "Int64Index: 8887 entries, 0 to 10840\n",
      "Data columns (total 13 columns):\n",
      " #   Column          Non-Null Count  Dtype  \n",
      "---  ------          --------------  -----  \n",
      " 0   App             8887 non-null   object \n",
      " 1   Category        8887 non-null   object \n",
      " 2   Rating          8887 non-null   float64\n",
      " 3   Reviews         8887 non-null   int64  \n",
      " 4   Size            8887 non-null   object \n",
      " 5   Installs        8887 non-null   object \n",
      " 6   Type            8887 non-null   object \n",
      " 7   Price           8887 non-null   object \n",
      " 8   Content Rating  8887 non-null   object \n",
      " 9   Genres          8887 non-null   object \n",
      " 10  Last Updated    8887 non-null   object \n",
      " 11  Current Ver     8887 non-null   object \n",
      " 12  Android Ver     8887 non-null   object \n",
      "dtypes: float64(1), int64(1), object(11)\n",
      "memory usage: 972.0+ KB\n"
     ]
    }
   ],
   "source": [
    "#can use info method to get more information on the DF\n",
    "#which includes the datatype, etc\n",
    "gplay.info()\n"
   ]
  },
  {
   "cell_type": "code",
   "execution_count": 62,
   "metadata": {},
   "outputs": [
    {
     "data": {
      "text/html": [
       "<div>\n",
       "<style scoped>\n",
       "    .dataframe tbody tr th:only-of-type {\n",
       "        vertical-align: middle;\n",
       "    }\n",
       "\n",
       "    .dataframe tbody tr th {\n",
       "        vertical-align: top;\n",
       "    }\n",
       "\n",
       "    .dataframe thead th {\n",
       "        text-align: right;\n",
       "    }\n",
       "</style>\n",
       "<table border=\"1\" class=\"dataframe\">\n",
       "  <thead>\n",
       "    <tr style=\"text-align: right;\">\n",
       "      <th></th>\n",
       "      <th>Rating</th>\n",
       "      <th>Reviews</th>\n",
       "    </tr>\n",
       "  </thead>\n",
       "  <tbody>\n",
       "    <tr>\n",
       "      <th>count</th>\n",
       "      <td>8887.000000</td>\n",
       "      <td>8.887000e+03</td>\n",
       "    </tr>\n",
       "    <tr>\n",
       "      <th>mean</th>\n",
       "      <td>4.187701</td>\n",
       "      <td>4.730396e+05</td>\n",
       "    </tr>\n",
       "    <tr>\n",
       "      <th>std</th>\n",
       "      <td>0.522962</td>\n",
       "      <td>2.905848e+06</td>\n",
       "    </tr>\n",
       "    <tr>\n",
       "      <th>min</th>\n",
       "      <td>1.000000</td>\n",
       "      <td>1.000000e+00</td>\n",
       "    </tr>\n",
       "    <tr>\n",
       "      <th>25%</th>\n",
       "      <td>4.000000</td>\n",
       "      <td>1.640000e+02</td>\n",
       "    </tr>\n",
       "    <tr>\n",
       "      <th>50%</th>\n",
       "      <td>4.300000</td>\n",
       "      <td>4.722000e+03</td>\n",
       "    </tr>\n",
       "    <tr>\n",
       "      <th>75%</th>\n",
       "      <td>4.500000</td>\n",
       "      <td>7.129850e+04</td>\n",
       "    </tr>\n",
       "    <tr>\n",
       "      <th>max</th>\n",
       "      <td>5.000000</td>\n",
       "      <td>7.815831e+07</td>\n",
       "    </tr>\n",
       "  </tbody>\n",
       "</table>\n",
       "</div>"
      ],
      "text/plain": [
       "            Rating       Reviews\n",
       "count  8887.000000  8.887000e+03\n",
       "mean      4.187701  4.730396e+05\n",
       "std       0.522962  2.905848e+06\n",
       "min       1.000000  1.000000e+00\n",
       "25%       4.000000  1.640000e+02\n",
       "50%       4.300000  4.722000e+03\n",
       "75%       4.500000  7.129850e+04\n",
       "max       5.000000  7.815831e+07"
      ]
     },
     "execution_count": 62,
     "metadata": {},
     "output_type": "execute_result"
    }
   ],
   "source": [
    "#this will generate the descriptive statistics for the numeric attributes (by default)\n",
    "gplay.describe()\n"
   ]
  },
  {
   "cell_type": "code",
   "execution_count": 63,
   "metadata": {},
   "outputs": [
    {
     "data": {
      "text/html": [
       "<div>\n",
       "<style scoped>\n",
       "    .dataframe tbody tr th:only-of-type {\n",
       "        vertical-align: middle;\n",
       "    }\n",
       "\n",
       "    .dataframe tbody tr th {\n",
       "        vertical-align: top;\n",
       "    }\n",
       "\n",
       "    .dataframe thead th {\n",
       "        text-align: right;\n",
       "    }\n",
       "</style>\n",
       "<table border=\"1\" class=\"dataframe\">\n",
       "  <thead>\n",
       "    <tr style=\"text-align: right;\">\n",
       "      <th></th>\n",
       "      <th>App</th>\n",
       "      <th>Category</th>\n",
       "      <th>Rating</th>\n",
       "      <th>Reviews</th>\n",
       "      <th>Size</th>\n",
       "      <th>Installs</th>\n",
       "      <th>Type</th>\n",
       "      <th>Price</th>\n",
       "      <th>Content Rating</th>\n",
       "      <th>Genres</th>\n",
       "      <th>Last Updated</th>\n",
       "      <th>Current Ver</th>\n",
       "      <th>Android Ver</th>\n",
       "    </tr>\n",
       "  </thead>\n",
       "  <tbody>\n",
       "    <tr>\n",
       "      <th>count</th>\n",
       "      <td>8887</td>\n",
       "      <td>8887</td>\n",
       "      <td>8887.000000</td>\n",
       "      <td>8.887000e+03</td>\n",
       "      <td>8887</td>\n",
       "      <td>8887</td>\n",
       "      <td>8887</td>\n",
       "      <td>8887</td>\n",
       "      <td>8887</td>\n",
       "      <td>8887</td>\n",
       "      <td>8887</td>\n",
       "      <td>8887</td>\n",
       "      <td>8887</td>\n",
       "    </tr>\n",
       "    <tr>\n",
       "      <th>unique</th>\n",
       "      <td>8191</td>\n",
       "      <td>33</td>\n",
       "      <td>NaN</td>\n",
       "      <td>NaN</td>\n",
       "      <td>413</td>\n",
       "      <td>19</td>\n",
       "      <td>2</td>\n",
       "      <td>73</td>\n",
       "      <td>6</td>\n",
       "      <td>115</td>\n",
       "      <td>1299</td>\n",
       "      <td>2594</td>\n",
       "      <td>31</td>\n",
       "    </tr>\n",
       "    <tr>\n",
       "      <th>top</th>\n",
       "      <td>ROBLOX</td>\n",
       "      <td>FAMILY</td>\n",
       "      <td>NaN</td>\n",
       "      <td>NaN</td>\n",
       "      <td>Varies with device</td>\n",
       "      <td>1,000,000+</td>\n",
       "      <td>Free</td>\n",
       "      <td>0</td>\n",
       "      <td>Everyone</td>\n",
       "      <td>Tools</td>\n",
       "      <td>3-Aug-18</td>\n",
       "      <td>Varies with device</td>\n",
       "      <td>4.1 and up</td>\n",
       "    </tr>\n",
       "    <tr>\n",
       "      <th>freq</th>\n",
       "      <td>9</td>\n",
       "      <td>1717</td>\n",
       "      <td>NaN</td>\n",
       "      <td>NaN</td>\n",
       "      <td>1468</td>\n",
       "      <td>1485</td>\n",
       "      <td>8276</td>\n",
       "      <td>8276</td>\n",
       "      <td>7090</td>\n",
       "      <td>732</td>\n",
       "      <td>291</td>\n",
       "      <td>1258</td>\n",
       "      <td>1987</td>\n",
       "    </tr>\n",
       "    <tr>\n",
       "      <th>mean</th>\n",
       "      <td>NaN</td>\n",
       "      <td>NaN</td>\n",
       "      <td>4.187701</td>\n",
       "      <td>4.730396e+05</td>\n",
       "      <td>NaN</td>\n",
       "      <td>NaN</td>\n",
       "      <td>NaN</td>\n",
       "      <td>NaN</td>\n",
       "      <td>NaN</td>\n",
       "      <td>NaN</td>\n",
       "      <td>NaN</td>\n",
       "      <td>NaN</td>\n",
       "      <td>NaN</td>\n",
       "    </tr>\n",
       "    <tr>\n",
       "      <th>std</th>\n",
       "      <td>NaN</td>\n",
       "      <td>NaN</td>\n",
       "      <td>0.522962</td>\n",
       "      <td>2.905848e+06</td>\n",
       "      <td>NaN</td>\n",
       "      <td>NaN</td>\n",
       "      <td>NaN</td>\n",
       "      <td>NaN</td>\n",
       "      <td>NaN</td>\n",
       "      <td>NaN</td>\n",
       "      <td>NaN</td>\n",
       "      <td>NaN</td>\n",
       "      <td>NaN</td>\n",
       "    </tr>\n",
       "    <tr>\n",
       "      <th>min</th>\n",
       "      <td>NaN</td>\n",
       "      <td>NaN</td>\n",
       "      <td>1.000000</td>\n",
       "      <td>1.000000e+00</td>\n",
       "      <td>NaN</td>\n",
       "      <td>NaN</td>\n",
       "      <td>NaN</td>\n",
       "      <td>NaN</td>\n",
       "      <td>NaN</td>\n",
       "      <td>NaN</td>\n",
       "      <td>NaN</td>\n",
       "      <td>NaN</td>\n",
       "      <td>NaN</td>\n",
       "    </tr>\n",
       "    <tr>\n",
       "      <th>25%</th>\n",
       "      <td>NaN</td>\n",
       "      <td>NaN</td>\n",
       "      <td>4.000000</td>\n",
       "      <td>1.640000e+02</td>\n",
       "      <td>NaN</td>\n",
       "      <td>NaN</td>\n",
       "      <td>NaN</td>\n",
       "      <td>NaN</td>\n",
       "      <td>NaN</td>\n",
       "      <td>NaN</td>\n",
       "      <td>NaN</td>\n",
       "      <td>NaN</td>\n",
       "      <td>NaN</td>\n",
       "    </tr>\n",
       "    <tr>\n",
       "      <th>50%</th>\n",
       "      <td>NaN</td>\n",
       "      <td>NaN</td>\n",
       "      <td>4.300000</td>\n",
       "      <td>4.722000e+03</td>\n",
       "      <td>NaN</td>\n",
       "      <td>NaN</td>\n",
       "      <td>NaN</td>\n",
       "      <td>NaN</td>\n",
       "      <td>NaN</td>\n",
       "      <td>NaN</td>\n",
       "      <td>NaN</td>\n",
       "      <td>NaN</td>\n",
       "      <td>NaN</td>\n",
       "    </tr>\n",
       "    <tr>\n",
       "      <th>75%</th>\n",
       "      <td>NaN</td>\n",
       "      <td>NaN</td>\n",
       "      <td>4.500000</td>\n",
       "      <td>7.129850e+04</td>\n",
       "      <td>NaN</td>\n",
       "      <td>NaN</td>\n",
       "      <td>NaN</td>\n",
       "      <td>NaN</td>\n",
       "      <td>NaN</td>\n",
       "      <td>NaN</td>\n",
       "      <td>NaN</td>\n",
       "      <td>NaN</td>\n",
       "      <td>NaN</td>\n",
       "    </tr>\n",
       "    <tr>\n",
       "      <th>max</th>\n",
       "      <td>NaN</td>\n",
       "      <td>NaN</td>\n",
       "      <td>5.000000</td>\n",
       "      <td>7.815831e+07</td>\n",
       "      <td>NaN</td>\n",
       "      <td>NaN</td>\n",
       "      <td>NaN</td>\n",
       "      <td>NaN</td>\n",
       "      <td>NaN</td>\n",
       "      <td>NaN</td>\n",
       "      <td>NaN</td>\n",
       "      <td>NaN</td>\n",
       "      <td>NaN</td>\n",
       "    </tr>\n",
       "  </tbody>\n",
       "</table>\n",
       "</div>"
      ],
      "text/plain": [
       "           App Category       Rating       Reviews                Size  \\\n",
       "count     8887     8887  8887.000000  8.887000e+03                8887   \n",
       "unique    8191       33          NaN           NaN                 413   \n",
       "top     ROBLOX   FAMILY          NaN           NaN  Varies with device   \n",
       "freq         9     1717          NaN           NaN                1468   \n",
       "mean       NaN      NaN     4.187701  4.730396e+05                 NaN   \n",
       "std        NaN      NaN     0.522962  2.905848e+06                 NaN   \n",
       "min        NaN      NaN     1.000000  1.000000e+00                 NaN   \n",
       "25%        NaN      NaN     4.000000  1.640000e+02                 NaN   \n",
       "50%        NaN      NaN     4.300000  4.722000e+03                 NaN   \n",
       "75%        NaN      NaN     4.500000  7.129850e+04                 NaN   \n",
       "max        NaN      NaN     5.000000  7.815831e+07                 NaN   \n",
       "\n",
       "          Installs  Type Price Content Rating Genres Last Updated  \\\n",
       "count         8887  8887  8887           8887   8887         8887   \n",
       "unique          19     2    73              6    115         1299   \n",
       "top     1,000,000+  Free     0       Everyone  Tools     3-Aug-18   \n",
       "freq          1485  8276  8276           7090    732          291   \n",
       "mean           NaN   NaN   NaN            NaN    NaN          NaN   \n",
       "std            NaN   NaN   NaN            NaN    NaN          NaN   \n",
       "min            NaN   NaN   NaN            NaN    NaN          NaN   \n",
       "25%            NaN   NaN   NaN            NaN    NaN          NaN   \n",
       "50%            NaN   NaN   NaN            NaN    NaN          NaN   \n",
       "75%            NaN   NaN   NaN            NaN    NaN          NaN   \n",
       "max            NaN   NaN   NaN            NaN    NaN          NaN   \n",
       "\n",
       "               Current Ver Android Ver  \n",
       "count                 8887        8887  \n",
       "unique                2594          31  \n",
       "top     Varies with device  4.1 and up  \n",
       "freq                  1258        1987  \n",
       "mean                   NaN         NaN  \n",
       "std                    NaN         NaN  \n",
       "min                    NaN         NaN  \n",
       "25%                    NaN         NaN  \n",
       "50%                    NaN         NaN  \n",
       "75%                    NaN         NaN  \n",
       "max                    NaN         NaN  "
      ]
     },
     "execution_count": 63,
     "metadata": {},
     "output_type": "execute_result"
    }
   ],
   "source": [
    "#can specify the include=\"all\" to include all columns\n",
    "gplay.describe(include=\"all\")\n"
   ]
  },
  {
   "cell_type": "markdown",
   "metadata": {},
   "source": [
    "======================================================================"
   ]
  },
  {
   "cell_type": "markdown",
   "metadata": {},
   "source": [
    "## Filtering & Visualization"
   ]
  },
  {
   "cell_type": "code",
   "execution_count": 64,
   "metadata": {},
   "outputs": [
    {
     "data": {
      "text/plain": [
       "FAMILY                 1717\n",
       "GAME                   1074\n",
       "TOOLS                   733\n",
       "PRODUCTIVITY            334\n",
       "FINANCE                 317\n",
       "PERSONALIZATION         308\n",
       "COMMUNICATION           307\n",
       "LIFESTYLE               306\n",
       "PHOTOGRAPHY             304\n",
       "MEDICAL                 302\n",
       "SPORTS                  286\n",
       "BUSINESS                270\n",
       "HEALTH_AND_FITNESS      262\n",
       "SOCIAL                  244\n",
       "NEWS_AND_MAGAZINES      214\n",
       "TRAVEL_AND_LOCAL        205\n",
       "SHOPPING                202\n",
       "BOOKS_AND_REFERENCE     177\n",
       "VIDEO_PLAYERS           160\n",
       "DATING                  159\n",
       "EDUCATION               129\n",
       "MAPS_AND_NAVIGATION     124\n",
       "ENTERTAINMENT           111\n",
       "FOOD_AND_DRINK          106\n",
       "WEATHER                  75\n",
       "AUTO_AND_VEHICLES        73\n",
       "HOUSE_AND_HOME           68\n",
       "LIBRARIES_AND_DEMO       64\n",
       "ART_AND_DESIGN           61\n",
       "COMICS                   58\n",
       "PARENTING                50\n",
       "EVENTS                   45\n",
       "BEAUTY                   42\n",
       "Name: Category, dtype: int64"
      ]
     },
     "execution_count": 64,
     "metadata": {},
     "output_type": "execute_result"
    }
   ],
   "source": [
    "#for category fields, probably better to use value_counts()\n",
    "#gplay[\"Category\"].value_counts()\n",
    "\n",
    "#alternatively\n",
    "gplay.Category.value_counts()\n"
   ]
  },
  {
   "cell_type": "code",
   "execution_count": 65,
   "metadata": {},
   "outputs": [
    {
     "data": {
      "text/plain": [
       "<AxesSubplot:>"
      ]
     },
     "execution_count": 65,
     "metadata": {},
     "output_type": "execute_result"
    },
    {
     "data": {
      "image/png": "[encoded data removed]",
      "text/plain": [
       "<Figure size 432x288 with 1 Axes>"
      ]
     },
     "metadata": {
      "needs_background": "light"
     },
     "output_type": "display_data"
    }
   ],
   "source": [
    "#default plot is a line chart\n",
    "gplay[\"Category\"].value_counts().plot()\n"
   ]
  },
  {
   "cell_type": "code",
   "execution_count": 66,
   "metadata": {},
   "outputs": [
    {
     "data": {
      "text/plain": [
       "<AxesSubplot:>"
      ]
     },
     "execution_count": 66,
     "metadata": {},
     "output_type": "execute_result"
    },
    {
     "data": {
      "image/png": "[encoded data removed]",
      "text/plain": [
       "<Figure size 432x288 with 1 Axes>"
      ]
     },
     "metadata": {
      "needs_background": "light"
     },
     "output_type": "display_data"
    }
   ],
   "source": [
    "#we should use a bar chart\n",
    "#gplay[\"Category\"].value_counts().plot.bar()\n",
    "gplay[\"Category\"].value_counts().plot(kind=\"bar\")\n"
   ]
  },
  {
   "cell_type": "code",
   "execution_count": 67,
   "metadata": {},
   "outputs": [
    {
     "data": {
      "text/plain": [
       "<AxesSubplot:>"
      ]
     },
     "execution_count": 67,
     "metadata": {},
     "output_type": "execute_result"
    },
    {
     "data": {
      "image/png": "[encoded data removed]",
      "text/plain": [
       "<Figure size 1440x720 with 1 Axes>"
      ]
     },
     "metadata": {
      "needs_background": "light"
     },
     "output_type": "display_data"
    }
   ],
   "source": [
    "#make the chart bigger using the figsize and fontsize argument (uses matplotlib under the hood)\n",
    "gplay[\"Category\"].value_counts().plot(kind=\"bar\", figsize=(20,10), fontsize=20)\n"
   ]
  },
  {
   "cell_type": "markdown",
   "metadata": {},
   "source": [
    "#### ❓Q8. Obtain the filtered dataset with just apps from the top `n` categories and assign it to a variable `top_n_cat_list`. How many rows are there in `top_n_cat_list`?"
   ]
  },
  {
   "cell_type": "code",
   "execution_count": 68,
   "metadata": {},
   "outputs": [
    {
     "data": {
      "text/html": [
       "<div>\n",
       "<style scoped>\n",
       "    .dataframe tbody tr th:only-of-type {\n",
       "        vertical-align: middle;\n",
       "    }\n",
       "\n",
       "    .dataframe tbody tr th {\n",
       "        vertical-align: top;\n",
       "    }\n",
       "\n",
       "    .dataframe thead th {\n",
       "        text-align: right;\n",
       "    }\n",
       "</style>\n",
       "<table border=\"1\" class=\"dataframe\">\n",
       "  <thead>\n",
       "    <tr style=\"text-align: right;\">\n",
       "      <th></th>\n",
       "      <th>App</th>\n",
       "      <th>Category</th>\n",
       "      <th>Rating</th>\n",
       "      <th>Reviews</th>\n",
       "      <th>Size</th>\n",
       "      <th>Installs</th>\n",
       "      <th>Type</th>\n",
       "      <th>Price</th>\n",
       "      <th>Content Rating</th>\n",
       "      <th>Genres</th>\n",
       "      <th>Last Updated</th>\n",
       "      <th>Current Ver</th>\n",
       "      <th>Android Ver</th>\n",
       "    </tr>\n",
       "  </thead>\n",
       "  <tbody>\n",
       "    <tr>\n",
       "      <th>1653</th>\n",
       "      <td>ROBLOX</td>\n",
       "      <td>GAME</td>\n",
       "      <td>4.5</td>\n",
       "      <td>4447388</td>\n",
       "      <td>67M</td>\n",
       "      <td>100,000,000+</td>\n",
       "      <td>Free</td>\n",
       "      <td>0</td>\n",
       "      <td>Everyone 10+</td>\n",
       "      <td>Adventure;Action &amp; Adventure</td>\n",
       "      <td>31-Jul-18</td>\n",
       "      <td>2.347.225742</td>\n",
       "      <td>4.1 and up</td>\n",
       "    </tr>\n",
       "    <tr>\n",
       "      <th>1654</th>\n",
       "      <td>Subway Surfers</td>\n",
       "      <td>GAME</td>\n",
       "      <td>4.5</td>\n",
       "      <td>27722264</td>\n",
       "      <td>76M</td>\n",
       "      <td>1,000,000,000+</td>\n",
       "      <td>Free</td>\n",
       "      <td>0</td>\n",
       "      <td>Everyone 10+</td>\n",
       "      <td>Arcade</td>\n",
       "      <td>12-Jul-18</td>\n",
       "      <td>1.90.0</td>\n",
       "      <td>4.1 and up</td>\n",
       "    </tr>\n",
       "    <tr>\n",
       "      <th>1655</th>\n",
       "      <td>Candy Crush Saga</td>\n",
       "      <td>GAME</td>\n",
       "      <td>4.4</td>\n",
       "      <td>22426677</td>\n",
       "      <td>74M</td>\n",
       "      <td>500,000,000+</td>\n",
       "      <td>Free</td>\n",
       "      <td>0</td>\n",
       "      <td>Everyone</td>\n",
       "      <td>Casual</td>\n",
       "      <td>5-Jul-18</td>\n",
       "      <td>1.129.0.2</td>\n",
       "      <td>4.1 and up</td>\n",
       "    </tr>\n",
       "    <tr>\n",
       "      <th>1656</th>\n",
       "      <td>Solitaire</td>\n",
       "      <td>GAME</td>\n",
       "      <td>4.7</td>\n",
       "      <td>254258</td>\n",
       "      <td>23M</td>\n",
       "      <td>10,000,000+</td>\n",
       "      <td>Free</td>\n",
       "      <td>0</td>\n",
       "      <td>Everyone</td>\n",
       "      <td>Card</td>\n",
       "      <td>1-Aug-18</td>\n",
       "      <td>2.137.0</td>\n",
       "      <td>4.1 and up</td>\n",
       "    </tr>\n",
       "    <tr>\n",
       "      <th>1657</th>\n",
       "      <td>Bubble Shooter</td>\n",
       "      <td>GAME</td>\n",
       "      <td>4.5</td>\n",
       "      <td>148897</td>\n",
       "      <td>46M</td>\n",
       "      <td>10,000,000+</td>\n",
       "      <td>Free</td>\n",
       "      <td>0</td>\n",
       "      <td>Everyone</td>\n",
       "      <td>Casual</td>\n",
       "      <td>17-Jul-18</td>\n",
       "      <td>1.20.1</td>\n",
       "      <td>4.0.3 and up</td>\n",
       "    </tr>\n",
       "    <tr>\n",
       "      <th>...</th>\n",
       "      <td>...</td>\n",
       "      <td>...</td>\n",
       "      <td>...</td>\n",
       "      <td>...</td>\n",
       "      <td>...</td>\n",
       "      <td>...</td>\n",
       "      <td>...</td>\n",
       "      <td>...</td>\n",
       "      <td>...</td>\n",
       "      <td>...</td>\n",
       "      <td>...</td>\n",
       "      <td>...</td>\n",
       "      <td>...</td>\n",
       "    </tr>\n",
       "    <tr>\n",
       "      <th>10820</th>\n",
       "      <td>Fr. Daoud Lamei</td>\n",
       "      <td>FAMILY</td>\n",
       "      <td>5.0</td>\n",
       "      <td>22</td>\n",
       "      <td>8.6M</td>\n",
       "      <td>1,000+</td>\n",
       "      <td>Free</td>\n",
       "      <td>0</td>\n",
       "      <td>Teen</td>\n",
       "      <td>Education</td>\n",
       "      <td>27-Jun-18</td>\n",
       "      <td>3.8.0</td>\n",
       "      <td>4.1 and up</td>\n",
       "    </tr>\n",
       "    <tr>\n",
       "      <th>10827</th>\n",
       "      <td>Fr Agnel Ambarnath</td>\n",
       "      <td>FAMILY</td>\n",
       "      <td>4.2</td>\n",
       "      <td>117</td>\n",
       "      <td>13M</td>\n",
       "      <td>5,000+</td>\n",
       "      <td>Free</td>\n",
       "      <td>0</td>\n",
       "      <td>Everyone</td>\n",
       "      <td>Education</td>\n",
       "      <td>13-Jun-18</td>\n",
       "      <td>2.0.20</td>\n",
       "      <td>4.0.3 and up</td>\n",
       "    </tr>\n",
       "    <tr>\n",
       "      <th>10834</th>\n",
       "      <td>FR Calculator</td>\n",
       "      <td>FAMILY</td>\n",
       "      <td>4.0</td>\n",
       "      <td>7</td>\n",
       "      <td>2.6M</td>\n",
       "      <td>500+</td>\n",
       "      <td>Free</td>\n",
       "      <td>0</td>\n",
       "      <td>Everyone</td>\n",
       "      <td>Education</td>\n",
       "      <td>18-Jun-17</td>\n",
       "      <td>1.0.0</td>\n",
       "      <td>4.1 and up</td>\n",
       "    </tr>\n",
       "    <tr>\n",
       "      <th>10836</th>\n",
       "      <td>Sya9a Maroc - FR</td>\n",
       "      <td>FAMILY</td>\n",
       "      <td>4.5</td>\n",
       "      <td>38</td>\n",
       "      <td>53M</td>\n",
       "      <td>5,000+</td>\n",
       "      <td>Free</td>\n",
       "      <td>0</td>\n",
       "      <td>Everyone</td>\n",
       "      <td>Education</td>\n",
       "      <td>25-Jul-17</td>\n",
       "      <td>1.48</td>\n",
       "      <td>4.1 and up</td>\n",
       "    </tr>\n",
       "    <tr>\n",
       "      <th>10837</th>\n",
       "      <td>Fr. Mike Schmitz Audio Teachings</td>\n",
       "      <td>FAMILY</td>\n",
       "      <td>5.0</td>\n",
       "      <td>4</td>\n",
       "      <td>3.6M</td>\n",
       "      <td>100+</td>\n",
       "      <td>Free</td>\n",
       "      <td>0</td>\n",
       "      <td>Everyone</td>\n",
       "      <td>Education</td>\n",
       "      <td>6-Jul-18</td>\n",
       "      <td>1</td>\n",
       "      <td>4.1 and up</td>\n",
       "    </tr>\n",
       "  </tbody>\n",
       "</table>\n",
       "<p>3524 rows × 13 columns</p>\n",
       "</div>"
      ],
      "text/plain": [
       "                                    App Category  Rating   Reviews  Size  \\\n",
       "1653                             ROBLOX     GAME     4.5   4447388   67M   \n",
       "1654                     Subway Surfers     GAME     4.5  27722264   76M   \n",
       "1655                   Candy Crush Saga     GAME     4.4  22426677   74M   \n",
       "1656                          Solitaire     GAME     4.7    254258   23M   \n",
       "1657                     Bubble Shooter     GAME     4.5    148897   46M   \n",
       "...                                 ...      ...     ...       ...   ...   \n",
       "10820                   Fr. Daoud Lamei   FAMILY     5.0        22  8.6M   \n",
       "10827                Fr Agnel Ambarnath   FAMILY     4.2       117   13M   \n",
       "10834                     FR Calculator   FAMILY     4.0         7  2.6M   \n",
       "10836                  Sya9a Maroc - FR   FAMILY     4.5        38   53M   \n",
       "10837  Fr. Mike Schmitz Audio Teachings   FAMILY     5.0         4  3.6M   \n",
       "\n",
       "             Installs  Type Price Content Rating  \\\n",
       "1653     100,000,000+  Free     0   Everyone 10+   \n",
       "1654   1,000,000,000+  Free     0   Everyone 10+   \n",
       "1655     500,000,000+  Free     0       Everyone   \n",
       "1656      10,000,000+  Free     0       Everyone   \n",
       "1657      10,000,000+  Free     0       Everyone   \n",
       "...               ...   ...   ...            ...   \n",
       "10820          1,000+  Free     0           Teen   \n",
       "10827          5,000+  Free     0       Everyone   \n",
       "10834            500+  Free     0       Everyone   \n",
       "10836          5,000+  Free     0       Everyone   \n",
       "10837            100+  Free     0       Everyone   \n",
       "\n",
       "                             Genres Last Updated   Current Ver   Android Ver  \n",
       "1653   Adventure;Action & Adventure    31-Jul-18  2.347.225742    4.1 and up  \n",
       "1654                         Arcade    12-Jul-18        1.90.0    4.1 and up  \n",
       "1655                         Casual     5-Jul-18     1.129.0.2    4.1 and up  \n",
       "1656                           Card     1-Aug-18       2.137.0    4.1 and up  \n",
       "1657                         Casual    17-Jul-18        1.20.1  4.0.3 and up  \n",
       "...                             ...          ...           ...           ...  \n",
       "10820                     Education    27-Jun-18         3.8.0    4.1 and up  \n",
       "10827                     Education    13-Jun-18        2.0.20  4.0.3 and up  \n",
       "10834                     Education    18-Jun-17         1.0.0    4.1 and up  \n",
       "10836                     Education    25-Jul-17          1.48    4.1 and up  \n",
       "10837                     Education     6-Jul-18             1    4.1 and up  \n",
       "\n",
       "[3524 rows x 13 columns]"
      ]
     },
     "execution_count": 68,
     "metadata": {},
     "output_type": "execute_result"
    }
   ],
   "source": [
    "n = 3\n",
    "#TODO\n",
    "top_n_cat = gplay.Category.value_counts()[:n]\n",
    "top_n_cat\n",
    "\n",
    "top_n_cat_list = top_n_cat.index\n",
    "top_n_cat_list\n",
    "\n",
    "top_n_cat_data = gplay[gplay.Category.isin(top_n_cat_list)]\n",
    "top_n_cat_data\n"
   ]
  },
  {
   "cell_type": "markdown",
   "metadata": {},
   "source": [
    "#### ❓Q9. What is the distribution of the ratings of the apps in  `top_n_cat_list`? Use appropriate numerical measures and visualization"
   ]
  },
  {
   "cell_type": "code",
   "execution_count": 69,
   "metadata": {
    "scrolled": true
   },
   "outputs": [
    {
     "data": {
      "text/plain": [
       "1.0      7\n",
       "1.4      2\n",
       "1.6      2\n",
       "1.7      3\n",
       "1.8      3\n",
       "1.9      5\n",
       "2.0      3\n",
       "2.1      2\n",
       "2.2      6\n",
       "2.3      5\n",
       "2.4      7\n",
       "2.5      7\n",
       "2.6      4\n",
       "2.7      7\n",
       "2.8     17\n",
       "2.9     15\n",
       "3.0     32\n",
       "3.1     24\n",
       "3.2     27\n",
       "3.3     43\n",
       "3.4     44\n",
       "3.5     59\n",
       "3.6     72\n",
       "3.7     85\n",
       "3.8    134\n",
       "3.9    167\n",
       "4.0    197\n",
       "4.1    263\n",
       "4.2    352\n",
       "4.3    426\n",
       "4.4    412\n",
       "4.5    412\n",
       "4.6    306\n",
       "4.7    182\n",
       "4.8     72\n",
       "4.9     24\n",
       "5.0     96\n",
       "Name: Rating, dtype: int64"
      ]
     },
     "execution_count": 69,
     "metadata": {},
     "output_type": "execute_result"
    }
   ],
   "source": [
    "#TODO\n",
    "top_n_cat_data[\"Rating\"].value_counts().sort_index()\n",
    "\n"
   ]
  },
  {
   "cell_type": "code",
   "execution_count": 70,
   "metadata": {},
   "outputs": [
    {
     "data": {
      "text/plain": [
       "<AxesSubplot:>"
      ]
     },
     "execution_count": 70,
     "metadata": {},
     "output_type": "execute_result"
    },
    {
     "data": {
      "image/png": "[encoded data removed]",
      "text/plain": [
       "<Figure size 1440x720 with 1 Axes>"
      ]
     },
     "metadata": {
      "needs_background": "light"
     },
     "output_type": "display_data"
    }
   ],
   "source": [
    "rating_plot = top_n_cat_data[\"Rating\"].value_counts().sort_index().plot(kind=\"line\", figsize=(20,10), fontsize=20)\n",
    "rating_plot\n"
   ]
  },
  {
   "cell_type": "markdown",
   "metadata": {},
   "source": [
    "#### ❓Q10. How does the distribution (of the rating) in Q9 compare with the distribution for the entire dataset?"
   ]
  },
  {
   "cell_type": "code",
   "execution_count": 71,
   "metadata": {},
   "outputs": [
    {
     "data": {
      "text/plain": [
       "<AxesSubplot:>"
      ]
     },
     "execution_count": 71,
     "metadata": {},
     "output_type": "execute_result"
    },
    {
     "data": {
      "image/png": "[encoded data removed]",
      "text/plain": [
       "<Figure size 1440x720 with 1 Axes>"
      ]
     },
     "metadata": {
      "needs_background": "light"
     },
     "output_type": "display_data"
    }
   ],
   "source": [
    "#TODO\n",
    "#top_n_cat_data[\"Rating\"].value_counts().sort_index()\n",
    "gplay_plot = gplay[\"Rating\"].value_counts().sort_index()\n",
    "gplay_plot = gplay_plot.plot(kind=\"area\", figsize=(20,10), fontsize=20, alpha=0.5)\n",
    "gplay_plot\n",
    "\n",
    "rating_plot = top_n_cat_data[\"Rating\"].value_counts().sort_index()\n",
    "rating_plot = rating_plot.plot(kind=\"area\", figsize=(20,10), fontsize=20, alpha=0.5)\n",
    "rating_plot\n"
   ]
  },
  {
   "cell_type": "markdown",
   "metadata": {},
   "source": [
    "======================================================================"
   ]
  }
 ],
 "metadata": {
  "kernelspec": {
   "display_name": "Python 3 (ipykernel)",
   "language": "python",
   "name": "python3"
  },
  "language_info": {
   "codemirror_mode": {
    "name": "ipython",
    "version": 3
   },
   "file_extension": ".py",
   "mimetype": "text/x-python",
   "name": "python",
   "nbconvert_exporter": "python",
   "pygments_lexer": "ipython3",
   "version": "3.10.7"
  }
 },
 "nbformat": 4,
 "nbformat_minor": 2
}
