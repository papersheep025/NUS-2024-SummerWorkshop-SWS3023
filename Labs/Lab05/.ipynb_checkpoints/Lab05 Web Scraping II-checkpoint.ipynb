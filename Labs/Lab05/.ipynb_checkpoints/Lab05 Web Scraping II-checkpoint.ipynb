{
 "cells": [
  {
   "cell_type": "markdown",
   "metadata": {},
   "source": [
    "In this lab, we will be building web scrapers for **news.cn**\n",
    "\n",
    "Note this lab is meant to be educational. We are not liable for how you use this skill and please respect the copyright of the sites you are scraping.\n",
    "![](https://www.comp.nus.edu.sg/~lekhsian/sws3023/newscn1.png)"
   ]
  },
  {
   "cell_type": "markdown",
   "metadata": {},
   "source": [
    "One of the thing we will notice that's different from IMDB (in the previous lab) is that the data displayed on the website might not be part of the HTML source. Some content are loaded dynamically using AJAX. So for this lab we will be focusing on using **Selenium** to do the web scraping tasks."
   ]
  },
  {
   "cell_type": "code",
   "execution_count": 2,
   "metadata": {},
   "outputs": [],
   "source": [
    "#load necessary libraries\n",
    "from selenium import webdriver\n",
    "import time\n",
    "import chromedriver_binary\n",
    "from selenium.webdriver.chrome.service import Service\n",
    "from selenium.webdriver.common.keys import Keys\n",
    "from selenium.webdriver.support.ui import WebDriverWait\n",
    "from selenium.webdriver.common.by import By\n",
    "from selenium.webdriver.support import expected_conditions as EC\n",
    "from selenium.webdriver.chrome.options import Options\n",
    "import pandas as pd\n"
   ]
  },
  {
   "cell_type": "code",
   "execution_count": 3,
   "metadata": {},
   "outputs": [
    {
     "name": "stderr",
     "output_type": "stream",
     "text": [
      "The chromedriver version (128.0.6582.0) detected in PATH at C:\\Users\\22507\\anaconda3\\lib\\site-packages\\chromedriver_binary\\chromedriver.exe might not be compatible with the detected chrome version (126.0.6478.127); currently, chromedriver 126.0.6478.126 is recommended for chrome 126.*, so it is advised to delete the driver in PATH and retry\n"
     ]
    }
   ],
   "source": [
    "#disable build check to if latest version of Chrome is not supported\n",
    "service = Service(service_args=['--disable-build-check'])\n",
    "\n",
    "#open the window size to simulate mobile view\n",
    "options = webdriver.ChromeOptions()\n",
    "options.add_argument(\"window-size=500,800\")\n",
    "driver = webdriver.Chrome(service=service, options=options)\n"
   ]
  },
  {
   "cell_type": "markdown",
   "metadata": {},
   "source": [
    "#### ❓Q1.\n",
    "Complete this function (`get_categories()`) which return a set of tuples with the URL of the category and the text of the category. You should also include those categories in sub-menus.\\\n",
    "An example of the category is shown below in in <span style=\"color:white;background-color:#063565\">white</span> or <span style=\"color:white;background-color:#c5d6e7\">white</span>.\n",
    "\n",
    "![](https://www.comp.nus.edu.sg/~lekhsian/sws3023/newscn2.png)\n",
    "![](https://www.comp.nus.edu.sg/~lekhsian/sws3023/newscn3.png)\n",
    "![](https://www.comp.nus.edu.sg/~lekhsian/sws3023/newscn4.png)"
   ]
  },
  {
   "cell_type": "code",
   "execution_count": 4,
   "metadata": {},
   "outputs": [],
   "source": [
    "driver.get(\"https://english.news.cn/\")\n",
    "\n",
    "categories = driver.find_elements"
   ]
  },
  {
   "cell_type": "code",
   "execution_count": null,
   "metadata": {},
   "outputs": [],
   "source": [
    "def get_categories():\n",
    "    driver.get(\"https://english.news.cn/\")\n",
    "    results = set()\n",
    "    #TODO\n",
    "    ...\n",
    "    \n",
    "    \n",
    "    return results\n"
   ]
  },
  {
   "cell_type": "code",
   "execution_count": null,
   "metadata": {},
   "outputs": [],
   "source": [
    "categories = get_categories()\n",
    "categories\n"
   ]
  },
  {
   "cell_type": "code",
   "execution_count": null,
   "metadata": {},
   "outputs": [],
   "source": [
    "#this should most likely be 29\n",
    "len(categories)\n"
   ]
  },
  {
   "cell_type": "markdown",
   "metadata": {},
   "source": [
    "#### ❓Q2.\n",
    "A few of the categories show a listing of the articles by default such as the **Culture & Lifestyle** category:\n",
    "![](https://www.comp.nus.edu.sg/~lekhsian/sws3023/newscn6.png)\n",
    "\n",
    "But many categories by default shows the news for the day such as the **World** category.\n",
    "![](https://www.comp.nus.edu.sg/~lekhsian/sws3023/newscn5.png)\n",
    "\n",
    "However, if you were to shrink the window, it does show mobile view.\n",
    "![](https://www.comp.nus.edu.sg/~lekhsian/sws3023/newscn7.png)\n",
    "\n",
    "Complete this function (`get_article_links(category_url, num_pages)`) which takes in `category_url` and `num_pages` arguments and extracts the list of url to articles in that category. `num_pages` allows us to control the number of pages expected (if there are more than one page of articles). For categories without the **More** button, this function will just return the list of url in the current page."
   ]
  },
  {
   "cell_type": "code",
   "execution_count": null,
   "metadata": {},
   "outputs": [],
   "source": [
    "def get_article_links(category_url, num_pages):\n",
    "    driver.get(category_url)\n",
    "    article_elems = []\n",
    "    urls = []\n",
    "    \n",
    "    #TODO\n",
    "    ...\n",
    "\n",
    "    return urls\n"
   ]
  },
  {
   "cell_type": "code",
   "execution_count": null,
   "metadata": {},
   "outputs": [],
   "source": [
    "article_urls = get_article_links(\"https://english.news.cn/culture/index.htm\", 2)\n",
    "print(len(article_urls))\n",
    "article_urls\n"
   ]
  },
  {
   "cell_type": "code",
   "execution_count": null,
   "metadata": {},
   "outputs": [],
   "source": [
    "article_urls = get_article_links(\"https://english.news.cn/culture/index.htm\", 1)\n",
    "print(len(article_urls))\n",
    "article_urls\n"
   ]
  },
  {
   "cell_type": "code",
   "execution_count": null,
   "metadata": {},
   "outputs": [],
   "source": [
    "article_urls = get_article_links(\"https://english.news.cn/china/index.htm\", 1)\n",
    "print(len(article_urls))\n",
    "article_urls\n"
   ]
  },
  {
   "cell_type": "code",
   "execution_count": null,
   "metadata": {},
   "outputs": [],
   "source": [
    "article_urls = get_article_links(\"https://english.news.cn/china/index.htm\", 2)\n",
    "print(len(article_urls))\n",
    "article_urls\n"
   ]
  },
  {
   "cell_type": "markdown",
   "metadata": {},
   "source": [
    "#### ❓Q3.\n",
    "\n",
    "Complete this function (`get_article_details(url)`) which takes in an article `url` and extract the following information:\n",
    "- title of the article (shown below in <span style=\"color:#00a8ff\">blue</span>)\n",
    "- source of the article (shown below in <span style=\"color:#ba00ff\">purple</span>)\n",
    "- editor of the article (shown below in <span style=\"color:#8f3900\">brown</span>)\n",
    "- date & time of the article (shown below in <span style=\"color:#ff00f6\">pink</span>)\n",
    "- text of article (shown below in <span style=\"color:#ff0000\">red</span>)\n",
    "\n",
    "![](https://www.comp.nus.edu.sg/~lekhsian/sws3023/newscn8.png)\n",
    "\n",
    "If a field is not present, you should leave it as an empty string."
   ]
  },
  {
   "cell_type": "code",
   "execution_count": null,
   "metadata": {},
   "outputs": [],
   "source": [
    "#potentially the url might be a broken link\n",
    "def get_article_details(url):\n",
    "    driver.get(url)\n",
    "\n",
    "    #title\n",
    "    title = ...\n",
    "    \n",
    "    #source   \n",
    "    source = ...\n",
    "\n",
    "    #editor   \n",
    "    editor = ...\n",
    "\n",
    "    \n",
    "    #datetime   \n",
    "    article_date = ...\n",
    "\n",
    "    \n",
    "    #text\n",
    "    article_text = ...\n",
    "    \n",
    "    return (url, title, source, editor, article_date, article_text)\n"
   ]
  },
  {
   "cell_type": "code",
   "execution_count": null,
   "metadata": {},
   "outputs": [],
   "source": [
    "article = get_article_details(\"https://english.news.cn/20220707/2ea4c1dbe99144fd8ec0f821dc6cafc1/c.html\")\n",
    "article\n"
   ]
  },
  {
   "cell_type": "code",
   "execution_count": null,
   "metadata": {},
   "outputs": [],
   "source": [
    "article = get_article_details(\"https://english.news.cn/20220706/4055513625634add999adc44f7bb68c4/c.html\")\n",
    "article\n"
   ]
  },
  {
   "cell_type": "markdown",
   "metadata": {},
   "source": [
    "#### ❓Q4.\n",
    "\n",
    "Combine the above functions to automate extraction of articles on the site by going to every category and store the results into a Pandas Dataframe. Do you notice any issue with any of the above functions? If so, go back and fix it."
   ]
  },
  {
   "cell_type": "code",
   "execution_count": null,
   "metadata": {},
   "outputs": [],
   "source": [
    "#TODO\n"
   ]
  },
  {
   "cell_type": "code",
   "execution_count": null,
   "metadata": {},
   "outputs": [],
   "source": [
    "driver.quit()"
   ]
  },
  {
   "cell_type": "code",
   "execution_count": null,
   "metadata": {},
   "outputs": [],
   "source": []
  }
 ],
 "metadata": {
  "kernelspec": {
   "display_name": "Python 3 (ipykernel)",
   "language": "python",
   "name": "python3"
  },
  "language_info": {
   "codemirror_mode": {
    "name": "ipython",
    "version": 3
   },
   "file_extension": ".py",
   "mimetype": "text/x-python",
   "name": "python",
   "nbconvert_exporter": "python",
   "pygments_lexer": "ipython3",
   "version": "3.9.12"
  }
 },
 "nbformat": 4,
 "nbformat_minor": 4
}
