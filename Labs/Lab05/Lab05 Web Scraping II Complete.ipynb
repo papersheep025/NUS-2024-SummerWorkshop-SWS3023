{
 "cells": [
  {
   "cell_type": "markdown",
   "metadata": {},
   "source": [
    "In this lab, we will be building web scrapers for **news.cn**\n",
    "\n",
    "Note this lab is meant to be educational. We are not liable for how you use this skill and please respect the copyright of the sites you are scraping.\n",
    "![](https://www.comp.nus.edu.sg/~lekhsian/sws3023/newscn1.png)"
   ]
  },
  {
   "cell_type": "markdown",
   "metadata": {},
   "source": [
    "One of the thing we will notice that's different from IMDB (in the previous lab) is that the data displayed on the website might not be part of the HTML source. Some content are loaded dynamically using AJAX. So for this lab we will be focusing on using **Selenium** to do the web scraping tasks."
   ]
  },
  {
   "cell_type": "code",
   "execution_count": 1,
   "metadata": {},
   "outputs": [],
   "source": [
    "#load necessary libraries\n",
    "from selenium import webdriver\n",
    "import time\n",
    "import chromedriver_binary\n",
    "from selenium.webdriver.chrome.service import Service\n",
    "from selenium.webdriver.common.keys import Keys\n",
    "from selenium.webdriver.support.ui import WebDriverWait\n",
    "from selenium.webdriver.common.by import By\n",
    "from selenium.webdriver.support import expected_conditions as EC\n",
    "from selenium.webdriver.chrome.options import Options\n",
    "import pandas as pd\n"
   ]
  },
  {
   "cell_type": "code",
   "execution_count": 2,
   "metadata": {},
   "outputs": [
    {
     "name": "stderr",
     "output_type": "stream",
     "text": [
      "The chromedriver version (128.0.6582.0) detected in PATH at C:\\Users\\22507\\anaconda3\\lib\\site-packages\\chromedriver_binary\\chromedriver.exe might not be compatible with the detected chrome version (126.0.6478.127); currently, chromedriver 126.0.6478.126 is recommended for chrome 126.*, so it is advised to delete the driver in PATH and retry\n"
     ]
    }
   ],
   "source": [
    "#disable build check to if latest version of Chrome is not supported\n",
    "service = Service(service_args=['--disable-build-check'])\n",
    "\n",
    "#open the window size to simulate mobile view\n",
    "options = webdriver.ChromeOptions()\n",
    "options.add_argument(\"window-size=500,800\")\n",
    "driver = webdriver.Chrome(service=service, options=options)\n"
   ]
  },
  {
   "cell_type": "markdown",
   "metadata": {},
   "source": [
    "#### ❓Q1.\n",
    "Complete this function (`get_categories()`) which return a set of tuples with the URL of the category and the text of the category. You should also include those categories in sub-menus.\\\n",
    "An example of the category is shown below in in <span style=\"color:white;background-color:#063565\">white</span> or <span style=\"color:white;background-color:#c5d6e7\">white</span>.\n",
    "\n",
    "![](https://www.comp.nus.edu.sg/~lekhsian/sws3023/newscn2.png)\n",
    "![](https://www.comp.nus.edu.sg/~lekhsian/sws3023/newscn3.png)\n",
    "![](https://www.comp.nus.edu.sg/~lekhsian/sws3023/newscn4.png)"
   ]
  },
  {
   "cell_type": "code",
   "execution_count": 3,
   "metadata": {},
   "outputs": [],
   "source": [
    "def get_categories():\n",
    "    driver.get(\"https://english.news.cn/\")\n",
    "    results = set()\n",
    "\n",
    "    #TODO\n",
    "    #select all a element\n",
    "    categories = driver.find_elements(By.CSS_SELECTOR, \"#nav a\")\n",
    "\n",
    "    for category in categories:\n",
    "        category_url = category.get_attribute(\"href\")\n",
    "        category_text = category.get_attribute(\"innerText\")\n",
    "\n",
    "        if category_url != \"https://english.news.cn/#\":\n",
    "            results.add((category_url, category_text))\n",
    "\n",
    "    return results\n"
   ]
  },
  {
   "cell_type": "code",
   "execution_count": 4,
   "metadata": {},
   "outputs": [
    {
     "data": {
      "text/plain": "{('http://www.news.cn/', '中文'),\n ('https://arabic.news.cn/index.htm', 'عربي'),\n ('https://english.news.cn/africa/index.htm', 'Africa'),\n ('https://english.news.cn/asiapacific/index.htm', 'Asia & Pacific'),\n ('https://english.news.cn/china/index.htm', 'China'),\n ('https://english.news.cn/culture/index.htm', 'Culture & Lifestyle'),\n ('https://english.news.cn/europe/index.htm', 'Europe'),\n ('https://english.news.cn/globalink.htm', 'GLOBALink'),\n ('https://english.news.cn/indepth/index.htm', 'In-depth'),\n ('https://english.news.cn/list/china-business.htm', 'Biz'),\n ('https://english.news.cn/list/latestnews.htm', 'Latest'),\n ('https://english.news.cn/northamerica/index.htm', 'North America'),\n ('https://english.news.cn/photo/index.htm', 'Photos'),\n ('https://english.news.cn/posters/index.htm', 'Posters'),\n ('https://english.news.cn/silkroad/index.html', 'B & R Initiative'),\n ('https://english.news.cn/special/index.htm', 'Special Reports'),\n ('https://english.news.cn/special/qmttt/index.htm', 'Xinhua Headlines'),\n ('https://english.news.cn/sports/index.htm', 'Sports'),\n ('https://english.news.cn/video/index.htm', 'Video & Live'),\n ('https://english.news.cn/weekly.htm', 'Biz China Weekly'),\n ('https://english.news.cn/world/index.htm', 'World'),\n ('https://english.news.cn/xinhuanews/index.htm', 'Xinhua New Media'),\n ('https://french.news.cn/index.htm', 'Français'),\n ('https://german.news.cn/index.htm', 'Deutsch'),\n ('https://jp.news.cn/index.htm', '日本語'),\n ('https://kr.news.cn/index.htm', '한국어'),\n ('https://portuguese.news.cn/index.htm', 'Português'),\n ('https://russian.news.cn/index.htm', 'Русский'),\n ('https://spanish.news.cn/index.htm', 'Español')}"
     },
     "execution_count": 4,
     "metadata": {},
     "output_type": "execute_result"
    }
   ],
   "source": [
    "categories = get_categories()\n",
    "categories\n"
   ]
  },
  {
   "cell_type": "code",
   "execution_count": 5,
   "metadata": {},
   "outputs": [
    {
     "data": {
      "text/plain": "29"
     },
     "execution_count": 5,
     "metadata": {},
     "output_type": "execute_result"
    }
   ],
   "source": [
    "#this should most likely be 29\n",
    "len(categories)\n"
   ]
  },
  {
   "cell_type": "markdown",
   "metadata": {},
   "source": [
    "#### ❓Q2.\n",
    "A few of the categories show a listing of the articles by default such as the **Culture & Lifestyle** category:\n",
    "![](https://www.comp.nus.edu.sg/~lekhsian/sws3023/newscn6.png)\n",
    "\n",
    "But many categories by default shows the news for the day such as the **World** category.\n",
    "![](https://www.comp.nus.edu.sg/~lekhsian/sws3023/newscn5.png)\n",
    "\n",
    "However, if you were to shrink the window, it does show mobile view.\n",
    "![](https://www.comp.nus.edu.sg/~lekhsian/sws3023/newscn7.png)\n",
    "\n",
    "Complete this function (`get_article_links(category_url, num_pages)`) which takes in `category_url` and `num_pages` arguments and extracts the list of url to articles in that category. `num_pages` allows us to control the number of pages expected (if there are more than one page of articles). For categories without the **More** button, this function will just return the list of url in the current page."
   ]
  },
  {
   "cell_type": "code",
   "execution_count": 6,
   "metadata": {},
   "outputs": [],
   "source": [
    "def get_article_links(category_url, num_pages):\n",
    "    \n",
    "    driver.get(category_url)\n",
    "    article_elems = []\n",
    "    urls = []\n",
    "\n",
    "    try:\n",
    "        article_elems = driver.find_elements(By.CSS_SELECTOR, 'a[href$=\"c.html\"]')\n",
    "        urls = list(set([article_elem.get_attribute(\"href\") for article_elem in article_elems]))\n",
    "        \n",
    "        found_more_button = False\n",
    "        \n",
    "        try:\n",
    "            load_more_button = driver.find_element(By.CSS_SELECTOR, \"#more\")\n",
    "            found_more_button = True\n",
    "        except:\n",
    "            pass\n",
    "\n",
    "        if(found_more_button):\n",
    "            for i in range(1, num_pages+1):\n",
    "                load_more_button.click()\n",
    "                \n",
    "                print(\"Page: {}...\".format(i))\n",
    "\n",
    "                WebDriverWait(driver, 10).until(\n",
    "                    EC.invisibility_of_element_located((By.CSS_SELECTOR, \"#more[disabled]\"))\n",
    "                )\n",
    "\n",
    "\n",
    "        article_elems = driver.find_elements(By.CSS_SELECTOR, 'a[href$=\"c.html\"]')\n",
    "        urls = list(set([article_elem.get_attribute(\"href\") for article_elem in article_elems]))\n",
    "\n",
    "    except:\n",
    "        pass\n",
    "\n",
    "\n",
    "    return urls\n"
   ]
  },
  {
   "cell_type": "code",
   "execution_count": 7,
   "metadata": {},
   "outputs": [
    {
     "name": "stdout",
     "output_type": "stream",
     "text": [
      "Page: 1...\n",
      "Page: 2...\n",
      "62\n"
     ]
    },
    {
     "data": {
      "text/plain": "['https://english.news.cn/20240615/ed9e20ed5ff04c97b0f3c4983601dff0/c.html',\n 'https://english.news.cn/20240626/7cdfa2aed41242b895ac72beb10d5bb5/c.html',\n 'https://english.news.cn/20240626/1e8ccc203b8c4c9980a700a7abc883a7/c.html',\n 'https://english.news.cn/20240617/5837b472ddae4f949373a1ce4009e86a/c.html',\n 'https://english.news.cn/20240621/cb46c0f4a0a04683a545a6ed667f39f1/c.html',\n 'https://english.news.cn/20240617/1bb53627f65b4d2f8cac57d4272d1b56/c.html',\n 'https://english.news.cn/20240705/ad7aa2d7177f4d6d9c932b785da4db43/c.html',\n 'https://english.news.cn/20230130/3f2ba4b7cd214a209dda790ddbdcb620/c.html',\n 'https://english.news.cn/20240621/7b06e95e546b4282b262075beebfac81/c.html',\n 'https://english.news.cn/20240621/f3aac624b641411581e9811d3e530313/c.html',\n 'https://english.news.cn/20240707/ceeb3e0639cd409c855becb68da8411a/c.html',\n 'https://english.news.cn/20240623/3bd828b33c7d4842bc7e839a5a6b54e2/c.html',\n 'https://english.news.cn/20240703/fb8a3046e7904e4781bf276f2e6568d1/c.html',\n 'https://english.news.cn/20240704/634dc0c894b246469684491a6f9e1a95/c.html',\n 'https://english.news.cn/20240625/f8d3a97348d444a5beedd7ff7b0e7b43/c.html',\n 'https://english.news.cn/20240613/60116daccfb74c65a764ae5f500f20a9/c.html',\n 'https://english.news.cn/20240614/4815cefa3ffa4637876bb35df4e1a715/c.html',\n 'https://english.news.cn/20240625/3b028d05c7b048b1a0f080ec2b6fa556/c.html',\n 'https://english.news.cn/20240619/efbc124e4a4240e09563f80940942a9a/c.html',\n 'https://english.news.cn/20240621/23aec92e3e4343158db6137418a73e7a/c.html',\n 'https://english.news.cn/20240622/0a74f67d5c7741af894bdaa2258155ee/c.html',\n 'https://english.news.cn/20240701/f0b19d8b40f042c6a108450a13c160f1/c.html',\n 'https://english.news.cn/20240620/9fd9985389af49888ee5d66c4ad332ae/c.html',\n 'https://english.news.cn/20240703/958d79f2fb514cc1ab3dc81c620d4932/c.html',\n 'https://english.news.cn/20240704/e90f9e8d33e84ca8b278198f823b4cd8/c.html',\n 'https://english.news.cn/20240701/83869f96c6cc48f5a7e44b0917541712/c.html',\n 'https://english.news.cn/20240620/43982805338245f9a0f45bf3455d6437/c.html',\n 'https://english.news.cn/20240628/8f08c411d09243f18bb075c5e1817558/c.html',\n 'https://english.news.cn/20240618/fe8fa8f02e1c44a3a08ffd13b41dc41a/c.html',\n 'https://english.news.cn/20240703/834ffb8232f140459b61c6df4c7f15dd/c.html',\n 'https://english.news.cn/20240614/55023ce06df24d7f96843ae6d35ffd56/c.html',\n 'https://english.news.cn/20240621/a897e095aaf740a5878635a6f24d6d73/c.html',\n 'https://english.news.cn/20240708/68c944ead26a4de0b066b09e199e49c1/c.html',\n 'https://english.news.cn/20221017/139a768d90e74c2ba3f6c45740be3531/c.html',\n 'https://english.news.cn/20240704/0a3a49825f45402998904057f145b0ab/c.html',\n 'https://english.news.cn/20240622/2299d2d125ed4f5ebb98fb05df324245/c.html',\n 'https://english.news.cn/20240616/089d83e7d12d4933bec5cfbdf0c37d4b/c.html',\n 'https://english.news.cn/20240625/a51436ecd03b43fe921a616776d34a23/c.html',\n 'https://english.news.cn/20240629/8d31ae17ebe04ded9e87a849cd08284a/c.html',\n 'https://english.news.cn/20240624/0b2b3a4932c1405d9a50c97ffe1eb162/c.html',\n 'https://english.news.cn/20240613/b64e59721967466083d81c3d49debc6d/c.html',\n 'https://english.news.cn/20240624/7cf4df8a3ada4e69875755eb21dab792/c.html',\n 'https://english.news.cn/20240702/a92057554a9f4c93873b8a162bfbf3a1/c.html',\n 'https://english.news.cn/20240625/a22e8a65c6d54bac9a65d554a05b09e4/c.html',\n 'https://english.news.cn/20240701/0d0e5ae9071d4a40be8979f8be343cc3/c.html',\n 'https://english.news.cn/20240623/bd3f6f2abdea4bb390a9c36cd54e2f0b/c.html',\n 'https://english.news.cn/20240707/b3dd1ce4aba547b69078dc7f7c7be875/c.html',\n 'https://english.news.cn/20240704/a7271cb017144ac592c250e806dbc8fb/c.html',\n 'https://english.news.cn/20240619/3ee6731915054f4a86b3368e3d5d9b5d/c.html',\n 'https://english.news.cn/20240704/2387e1b3c8be43e696182c1703178605/c.html',\n 'https://english.news.cn/20240629/1f1a2306526549368ad5cdeafe52e5fb/c.html',\n 'https://english.news.cn/20240705/bcfebde346444504b1f88a29a5bf2029/c.html',\n 'https://english.news.cn/20240628/def8ff5abea147549e1a93aeb6db4d0b/c.html',\n 'https://english.news.cn/20240621/2ae8b694b5d34c9391960bafb6613e8d/c.html',\n 'https://english.news.cn/20240617/10bfcddab10e409d84da78c4361d90ea/c.html',\n 'https://english.news.cn/20240622/4f7a2b3f307e4f5fbdc6f3e6e1471e33/c.html',\n 'https://english.news.cn/20240616/5965c479ea6a4cdda583330895c6c35b/c.html',\n 'https://english.news.cn/20240704/5e585aade034460c8915f5c0ecf9c0f8/c.html',\n 'https://english.news.cn/20240702/05a8a16620274c9da2431dd3cf85f786/c.html',\n 'https://english.news.cn/20240705/94704705eef44c3c87145f1ec2e028e4/c.html',\n 'https://english.news.cn/20240628/33b18be53dad4c4e9c704441bf905e8a/c.html',\n 'https://english.news.cn/20240624/50a4816817d944a4a2034c95c96831d2/c.html']"
     },
     "execution_count": 7,
     "metadata": {},
     "output_type": "execute_result"
    }
   ],
   "source": [
    "article_urls = get_article_links(\"https://english.news.cn/culture/index.htm\", 2)\n",
    "print(len(article_urls))\n",
    "article_urls\n"
   ]
  },
  {
   "cell_type": "code",
   "execution_count": 8,
   "metadata": {},
   "outputs": [
    {
     "name": "stdout",
     "output_type": "stream",
     "text": [
      "Page: 1...\n",
      "42\n"
     ]
    },
    {
     "data": {
      "text/plain": "['https://english.news.cn/20240626/7cdfa2aed41242b895ac72beb10d5bb5/c.html',\n 'https://english.news.cn/20240626/1e8ccc203b8c4c9980a700a7abc883a7/c.html',\n 'https://english.news.cn/20230130/3f2ba4b7cd214a209dda790ddbdcb620/c.html',\n 'https://english.news.cn/20240705/ad7aa2d7177f4d6d9c932b785da4db43/c.html',\n 'https://english.news.cn/20240707/ceeb3e0639cd409c855becb68da8411a/c.html',\n 'https://english.news.cn/20240623/3bd828b33c7d4842bc7e839a5a6b54e2/c.html',\n 'https://english.news.cn/20240703/fb8a3046e7904e4781bf276f2e6568d1/c.html',\n 'https://english.news.cn/20240704/634dc0c894b246469684491a6f9e1a95/c.html',\n 'https://english.news.cn/20240625/f8d3a97348d444a5beedd7ff7b0e7b43/c.html',\n 'https://english.news.cn/20240625/3b028d05c7b048b1a0f080ec2b6fa556/c.html',\n 'https://english.news.cn/20240621/23aec92e3e4343158db6137418a73e7a/c.html',\n 'https://english.news.cn/20240622/0a74f67d5c7741af894bdaa2258155ee/c.html',\n 'https://english.news.cn/20240701/f0b19d8b40f042c6a108450a13c160f1/c.html',\n 'https://english.news.cn/20240703/958d79f2fb514cc1ab3dc81c620d4932/c.html',\n 'https://english.news.cn/20240704/e90f9e8d33e84ca8b278198f823b4cd8/c.html',\n 'https://english.news.cn/20240701/83869f96c6cc48f5a7e44b0917541712/c.html',\n 'https://english.news.cn/20240628/8f08c411d09243f18bb075c5e1817558/c.html',\n 'https://english.news.cn/20240703/834ffb8232f140459b61c6df4c7f15dd/c.html',\n 'https://english.news.cn/20240708/68c944ead26a4de0b066b09e199e49c1/c.html',\n 'https://english.news.cn/20221017/139a768d90e74c2ba3f6c45740be3531/c.html',\n 'https://english.news.cn/20240704/0a3a49825f45402998904057f145b0ab/c.html',\n 'https://english.news.cn/20240622/2299d2d125ed4f5ebb98fb05df324245/c.html',\n 'https://english.news.cn/20240625/a51436ecd03b43fe921a616776d34a23/c.html',\n 'https://english.news.cn/20240629/8d31ae17ebe04ded9e87a849cd08284a/c.html',\n 'https://english.news.cn/20240624/0b2b3a4932c1405d9a50c97ffe1eb162/c.html',\n 'https://english.news.cn/20240624/7cf4df8a3ada4e69875755eb21dab792/c.html',\n 'https://english.news.cn/20240702/a92057554a9f4c93873b8a162bfbf3a1/c.html',\n 'https://english.news.cn/20240625/a22e8a65c6d54bac9a65d554a05b09e4/c.html',\n 'https://english.news.cn/20240701/0d0e5ae9071d4a40be8979f8be343cc3/c.html',\n 'https://english.news.cn/20240623/bd3f6f2abdea4bb390a9c36cd54e2f0b/c.html',\n 'https://english.news.cn/20240707/b3dd1ce4aba547b69078dc7f7c7be875/c.html',\n 'https://english.news.cn/20240704/a7271cb017144ac592c250e806dbc8fb/c.html',\n 'https://english.news.cn/20240704/2387e1b3c8be43e696182c1703178605/c.html',\n 'https://english.news.cn/20240629/1f1a2306526549368ad5cdeafe52e5fb/c.html',\n 'https://english.news.cn/20240705/bcfebde346444504b1f88a29a5bf2029/c.html',\n 'https://english.news.cn/20240628/def8ff5abea147549e1a93aeb6db4d0b/c.html',\n 'https://english.news.cn/20240622/4f7a2b3f307e4f5fbdc6f3e6e1471e33/c.html',\n 'https://english.news.cn/20240704/5e585aade034460c8915f5c0ecf9c0f8/c.html',\n 'https://english.news.cn/20240702/05a8a16620274c9da2431dd3cf85f786/c.html',\n 'https://english.news.cn/20240705/94704705eef44c3c87145f1ec2e028e4/c.html',\n 'https://english.news.cn/20240628/33b18be53dad4c4e9c704441bf905e8a/c.html',\n 'https://english.news.cn/20240624/50a4816817d944a4a2034c95c96831d2/c.html']"
     },
     "execution_count": 8,
     "metadata": {},
     "output_type": "execute_result"
    }
   ],
   "source": [
    "article_urls = get_article_links(\"https://english.news.cn/culture/index.htm\", 1)\n",
    "print(len(article_urls))\n",
    "article_urls\n"
   ]
  },
  {
   "cell_type": "code",
   "execution_count": 9,
   "metadata": {},
   "outputs": [
    {
     "name": "stdout",
     "output_type": "stream",
     "text": [
      "Page: 1...\n",
      "57\n"
     ]
    },
    {
     "data": {
      "text/plain": "['https://english.news.cn/20240706/d34bcf374d564717bfc9bdd2b5e82de6/c.html',\n 'https://english.news.cn/20240707/c245be87624c49e1ad176b8f2af54527/c.html',\n 'https://english.news.cn/20240705/928e0ee5e3664f129628defa9ebbf6ea/c.html',\n 'https://english.news.cn/20240708/d1c17cbe3efe4d4983d5d56410d34c1d/c.html',\n 'https://english.news.cn/20240707/bacd307b6d6a465bb0f5638e893c7d77/c.html',\n 'https://english.news.cn/20240707/fe864e43088b45e89e62fe56c02ae410/c.html',\n 'https://english.news.cn/20230130/3f2ba4b7cd214a209dda790ddbdcb620/c.html',\n 'https://english.news.cn/20240706/aa3d0b608f934b8496dc44149029d64b/c.html',\n 'https://english.news.cn/20240502/1a6899c9a061451c8af8625c2a5977b8/c.html',\n 'https://english.news.cn/20240708/efb44dfc9b904672856dd1b65690cc4d/c.html',\n 'https://english.news.cn/20240707/ceeb3e0639cd409c855becb68da8411a/c.html',\n 'https://english.news.cn/20240707/6f81a2c90e6c4775a8640d0fb25426a6/c.html',\n 'https://english.news.cn/20240706/9ff56e076a9d44739ec874ea6ba75935/c.html',\n 'https://english.news.cn/20240708/c258dd82ce034815ae44c96e1cbf8c43/c.html',\n 'https://english.news.cn/20240708/0802ecd169ac45deb294648d56827f20/c.html',\n 'https://english.news.cn/20240706/f7ffe8d631bf4d92ae5f0888320b2c84/c.html',\n 'https://english.news.cn/20240707/9cd453f60f734eaaba4274807d77e121/c.html',\n 'https://english.news.cn/20240707/f384d30a47f6423fa2b214332e273977/c.html',\n 'https://english.news.cn/20240708/c5bbaf6f8aa147d4a7f8998f6be65e37/c.html',\n 'https://english.news.cn/20240608/641fc31bac944fc38fba1985f0380a4d/c.html',\n 'https://english.news.cn/20240708/70be3b6061474e828766a63f79dd78de/c.html',\n 'https://english.news.cn/20240708/51a48b8743a04e7687c3159d9aea3766/c.html',\n 'https://english.news.cn/20240708/6e285d725a4f46e59ac3414c9af9b6d1/c.html',\n 'https://english.news.cn/20240707/06cbe24ecc304d209b0d8a5d72bd6564/c.html',\n 'https://english.news.cn/20240706/b03b4f5cc36b46a7a3a7aafbf9f5e69e/c.html',\n 'https://english.news.cn/20240707/9e7f70ffd2634f3a9fd4e1daa1a379ca/c.html',\n 'https://english.news.cn/20240707/c4c70e6417204cb98c7efd9edceb6c50/c.html',\n 'https://english.news.cn/20240708/68c944ead26a4de0b066b09e199e49c1/c.html',\n 'https://english.news.cn/20221017/139a768d90e74c2ba3f6c45740be3531/c.html',\n 'https://english.news.cn/20240706/12b05ca665f74ad6bb698d43e2cedbe0/c.html',\n 'https://english.news.cn/20240707/6fe665e11b0d4e0a94ee032f6f941205/c.html',\n 'https://english.news.cn/20240708/209a226a65e947b6b29b5f9f5ed6c889/c.html',\n 'https://english.news.cn/20240706/5db4ff8a631c4690a7f138c2091da559/c.html',\n 'https://english.news.cn/20240706/6a8cbd6d82a9483990458e31fb6406c9/c.html',\n 'https://english.news.cn/20240531/fc33d0d6dc094f71bb84651ed956149b/c.html',\n 'https://english.news.cn/20240708/ff27bb99b875453da1cdf17f887845e3/c.html',\n 'https://english.news.cn/20240708/33432cba5c274a8bbc71727f87f0c729/c.html',\n 'https://english.news.cn/20240706/0e180b19a1d740a3b53f37ba2728572a/c.html',\n 'https://english.news.cn/20240530/ae4e7b4f18ab44d380c9943784d33c6f/c.html',\n 'https://english.news.cn/20240708/a2c90517616e4ff2b2b12161b88e14e8/c.html',\n 'https://english.news.cn/20240708/71da1ceb2b5045e8898f8180a661f23e/c.html',\n 'https://english.news.cn/20240706/02d7bc52ce344176adde1c4d89a00307/c.html',\n 'https://english.news.cn/20240707/689e25c75ead4fc9bf40271971f56c2b/c.html',\n 'https://english.news.cn/20240707/7e2826f551ca4b26a39b0e199277e82a/c.html',\n 'https://english.news.cn/20240707/b3dd1ce4aba547b69078dc7f7c7be875/c.html',\n 'https://english.news.cn/20240706/5e42a4d3f9544b47bde946d830ecf4d6/c.html',\n 'https://english.news.cn/20240708/3c53eedfbd324cccb56e4e309a2934a5/c.html',\n 'https://english.news.cn/20240707/09959fdb61a74a2d892f82f91c5d81bd/c.html',\n 'https://english.news.cn/20240708/fb2cd0c7cbf144fb8d9a95d74a154862/c.html',\n 'https://english.news.cn/20240706/5c1817bf81ca4c6297da4557de244405/c.html',\n 'https://english.news.cn/20240707/5b1e19423c564fb98e097ff83df6d795/c.html',\n 'https://english.news.cn/20240708/485caa23bd5f4a3e80048ba735989e91/c.html',\n 'https://english.news.cn/20240706/c3432552dc8b4c06be78281559307777/c.html',\n 'https://english.news.cn/20240706/872aa70aa5934284be1f6dca73f217f2/c.html',\n 'https://english.news.cn/20240708/af11445a9a3d4fa68a01454f4bd24d4b/c.html',\n 'https://english.news.cn/20240707/6352c90ca9f447bc94014dbadc31cad4/c.html',\n 'https://english.news.cn/20240707/a5409f0e169745dda6825e66cfb15869/c.html']"
     },
     "execution_count": 9,
     "metadata": {},
     "output_type": "execute_result"
    }
   ],
   "source": [
    "article_urls = get_article_links(\"https://english.news.cn/china/index.htm\", 1)\n",
    "print(len(article_urls))\n",
    "article_urls\n"
   ]
  },
  {
   "cell_type": "code",
   "execution_count": 10,
   "metadata": {},
   "outputs": [
    {
     "name": "stdout",
     "output_type": "stream",
     "text": [
      "Page: 1...\n",
      "Page: 2...\n",
      "76\n"
     ]
    },
    {
     "data": {
      "text/plain": "['https://english.news.cn/20240706/d34bcf374d564717bfc9bdd2b5e82de6/c.html',\n 'https://english.news.cn/20240707/c245be87624c49e1ad176b8f2af54527/c.html',\n 'https://english.news.cn/20240705/928e0ee5e3664f129628defa9ebbf6ea/c.html',\n 'https://english.news.cn/20240708/d1c17cbe3efe4d4983d5d56410d34c1d/c.html',\n 'https://english.news.cn/20240707/bacd307b6d6a465bb0f5638e893c7d77/c.html',\n 'https://english.news.cn/20240707/fe864e43088b45e89e62fe56c02ae410/c.html',\n 'https://english.news.cn/20240705/325101865ec347d19cdd5b2482ff6dea/c.html',\n 'https://english.news.cn/20240706/aa3d0b608f934b8496dc44149029d64b/c.html',\n 'https://english.news.cn/20230130/3f2ba4b7cd214a209dda790ddbdcb620/c.html',\n 'https://english.news.cn/20240502/1a6899c9a061451c8af8625c2a5977b8/c.html',\n 'https://english.news.cn/20240708/efb44dfc9b904672856dd1b65690cc4d/c.html',\n 'https://english.news.cn/20240707/ceeb3e0639cd409c855becb68da8411a/c.html',\n 'https://english.news.cn/20240707/6f81a2c90e6c4775a8640d0fb25426a6/c.html',\n 'https://english.news.cn/20240706/9ff56e076a9d44739ec874ea6ba75935/c.html',\n 'https://english.news.cn/20240708/c258dd82ce034815ae44c96e1cbf8c43/c.html',\n 'https://english.news.cn/20240708/0802ecd169ac45deb294648d56827f20/c.html',\n 'https://english.news.cn/20240706/f7ffe8d631bf4d92ae5f0888320b2c84/c.html',\n 'https://english.news.cn/20240706/126f2b0737b34404aeb507830334cea8/c.html',\n 'https://english.news.cn/20240705/c699ff3bff234a36be56288bd89bd2f2/c.html',\n 'https://english.news.cn/20240707/9cd453f60f734eaaba4274807d77e121/c.html',\n 'https://english.news.cn/20240707/f384d30a47f6423fa2b214332e273977/c.html',\n 'https://english.news.cn/20240706/6e6d3a9263ba41a8996d187163715a86/c.html',\n 'https://english.news.cn/20240705/2396f668a785423cbb5c480152771e1f/c.html',\n 'https://english.news.cn/20240708/c5bbaf6f8aa147d4a7f8998f6be65e37/c.html',\n 'https://english.news.cn/20240608/641fc31bac944fc38fba1985f0380a4d/c.html',\n 'https://english.news.cn/20240705/b1dc25d191ec489697bf9136e7f813ea/c.html',\n 'https://english.news.cn/20240705/766cba44249b4a68a26282517ec7d2b2/c.html',\n 'https://english.news.cn/20240705/b9696a7f0d2d4fe5b2cae02f327592f0/c.html',\n 'https://english.news.cn/20240708/70be3b6061474e828766a63f79dd78de/c.html',\n 'https://english.news.cn/20240708/51a48b8743a04e7687c3159d9aea3766/c.html',\n 'https://english.news.cn/20240705/ec569963fd224a3aa33d1d395d8c9138/c.html',\n 'https://english.news.cn/20240708/6e285d725a4f46e59ac3414c9af9b6d1/c.html',\n 'https://english.news.cn/20240705/82e0d0bbc3f741858b8b61ea9591d540/c.html',\n 'https://english.news.cn/20240705/2d72894ac4644160bc8280548310dceb/c.html',\n 'https://english.news.cn/20240707/06cbe24ecc304d209b0d8a5d72bd6564/c.html',\n 'https://english.news.cn/20240706/b03b4f5cc36b46a7a3a7aafbf9f5e69e/c.html',\n 'https://english.news.cn/20240707/9e7f70ffd2634f3a9fd4e1daa1a379ca/c.html',\n 'https://english.news.cn/20240707/c4c70e6417204cb98c7efd9edceb6c50/c.html',\n 'https://english.news.cn/20240708/68c944ead26a4de0b066b09e199e49c1/c.html',\n 'https://english.news.cn/20240705/68461542882045ec885609270ca5c3e1/c.html',\n 'https://english.news.cn/20240705/b0bbaaeedd34445dbb318cee95cdf4f0/c.html',\n 'https://english.news.cn/20221017/139a768d90e74c2ba3f6c45740be3531/c.html',\n 'https://english.news.cn/20240706/12b05ca665f74ad6bb698d43e2cedbe0/c.html',\n 'https://english.news.cn/20240707/6fe665e11b0d4e0a94ee032f6f941205/c.html',\n 'https://english.news.cn/20240708/209a226a65e947b6b29b5f9f5ed6c889/c.html',\n 'https://english.news.cn/20240706/5db4ff8a631c4690a7f138c2091da559/c.html',\n 'https://english.news.cn/20240706/6a8cbd6d82a9483990458e31fb6406c9/c.html',\n 'https://english.news.cn/20240531/fc33d0d6dc094f71bb84651ed956149b/c.html',\n 'https://english.news.cn/20240708/ff27bb99b875453da1cdf17f887845e3/c.html',\n 'https://english.news.cn/20240708/33432cba5c274a8bbc71727f87f0c729/c.html',\n 'https://english.news.cn/20240706/0e180b19a1d740a3b53f37ba2728572a/c.html',\n 'https://english.news.cn/20240530/ae4e7b4f18ab44d380c9943784d33c6f/c.html',\n 'https://english.news.cn/20240708/a2c90517616e4ff2b2b12161b88e14e8/c.html',\n 'https://english.news.cn/20240708/71da1ceb2b5045e8898f8180a661f23e/c.html',\n 'https://english.news.cn/20240706/02d7bc52ce344176adde1c4d89a00307/c.html',\n 'https://english.news.cn/20240707/689e25c75ead4fc9bf40271971f56c2b/c.html',\n 'https://english.news.cn/20240707/7e2826f551ca4b26a39b0e199277e82a/c.html',\n 'https://english.news.cn/20240707/b3dd1ce4aba547b69078dc7f7c7be875/c.html',\n 'https://english.news.cn/20240706/5e42a4d3f9544b47bde946d830ecf4d6/c.html',\n 'https://english.news.cn/20240708/3c53eedfbd324cccb56e4e309a2934a5/c.html',\n 'https://english.news.cn/20240705/10c7278eab744fba9f923eff65534cae/c.html',\n 'https://english.news.cn/20240705/ee9cc92de12542d0ae30be56fd2921b8/c.html',\n 'https://english.news.cn/20240705/bcfebde346444504b1f88a29a5bf2029/c.html',\n 'https://english.news.cn/20240707/09959fdb61a74a2d892f82f91c5d81bd/c.html',\n 'https://english.news.cn/20240708/fb2cd0c7cbf144fb8d9a95d74a154862/c.html',\n 'https://english.news.cn/20240706/5c1817bf81ca4c6297da4557de244405/c.html',\n 'https://english.news.cn/20240705/c1f723c5e01e463b9257bc685c6e1622/c.html',\n 'https://english.news.cn/20240707/5b1e19423c564fb98e097ff83df6d795/c.html',\n 'https://english.news.cn/20240708/485caa23bd5f4a3e80048ba735989e91/c.html',\n 'https://english.news.cn/20240705/f01faa6f71a744a79e2906df91b1d746/c.html',\n 'https://english.news.cn/20240705/e814b850b58943908b0d12a16940f71b/c.html',\n 'https://english.news.cn/20240706/c3432552dc8b4c06be78281559307777/c.html',\n 'https://english.news.cn/20240706/872aa70aa5934284be1f6dca73f217f2/c.html',\n 'https://english.news.cn/20240708/af11445a9a3d4fa68a01454f4bd24d4b/c.html',\n 'https://english.news.cn/20240707/6352c90ca9f447bc94014dbadc31cad4/c.html',\n 'https://english.news.cn/20240707/a5409f0e169745dda6825e66cfb15869/c.html']"
     },
     "execution_count": 10,
     "metadata": {},
     "output_type": "execute_result"
    }
   ],
   "source": [
    "article_urls = get_article_links(\"https://english.news.cn/china/index.htm\", 2)\n",
    "print(len(article_urls))\n",
    "article_urls\n"
   ]
  },
  {
   "cell_type": "markdown",
   "metadata": {},
   "source": [
    "#### ❓Q3.\n",
    "\n",
    "Complete this function (`get_article_details(url)`) which takes in an article `url` and extract the following information:\n",
    "- title of the article (shown below in <span style=\"color:#00a8ff\">blue</span>)\n",
    "- source of the article (shown below in <span style=\"color:#ba00ff\">purple</span>)\n",
    "- editor of the article (shown below in <span style=\"color:#8f3900\">brown</span>)\n",
    "- date & time of the article (shown below in <span style=\"color:#ff00f6\">pink</span>)\n",
    "- text of article (shown below in <span style=\"color:#ff0000\">red</span>)\n",
    "\n",
    "![](https://www.comp.nus.edu.sg/~lekhsian/sws3023/newscn8.png)\n",
    "\n",
    "If a field is not present, you should leave it as an empty string."
   ]
  },
  {
   "cell_type": "code",
   "execution_count": 11,
   "metadata": {},
   "outputs": [],
   "source": [
    "#potentially the url might be a broken link\n",
    "def get_article_details(url):\n",
    "    \n",
    "    driver.get(url)\n",
    "\n",
    "    #title\n",
    "    title = \"\"\n",
    "\n",
    "    try:\n",
    "        title = driver.find_element(By.CSS_SELECTOR, \"h1\")\n",
    "        title = title.text\n",
    "    except:\n",
    "        pass\n",
    "\n",
    "    #source   \n",
    "    source = \"\"\n",
    "\n",
    "    try:\n",
    "        source = driver.find_element(By.CSS_SELECTOR, \".source\")\n",
    "        source = source.text\n",
    "        source = str.strip(source.split(\":\")[1])\n",
    "    except:\n",
    "        pass\n",
    "\n",
    "\n",
    "    #editor   \n",
    "    editor = \"\"\n",
    "\n",
    "    try:\n",
    "        editor = driver.find_element(By.CSS_SELECTOR, \".editor\")\n",
    "        editor = editor.text\n",
    "        editor = str.strip(editor.split(\":\")[1])\n",
    "    except:\n",
    "        pass\n",
    "\n",
    "\n",
    "    #datetime   \n",
    "    article_date = \"\"\n",
    "\n",
    "    try:\n",
    "        article_date = driver.find_element(By.CSS_SELECTOR, \".time\")\n",
    "        article_date = article_date.text    \n",
    "    except:\n",
    "        pass\n",
    "\n",
    "\n",
    "    #text\n",
    "    article_text = \"\"\n",
    "\n",
    "    try:\n",
    "        article_text = driver.find_element(By.CSS_SELECTOR, \"#detailContent\")\n",
    "        article_text = article_text.text    \n",
    "    except:\n",
    "        pass\n",
    "\n",
    "\n",
    "    return (url, title, source, editor, article_date, article_text)\n"
   ]
  },
  {
   "cell_type": "code",
   "execution_count": 12,
   "metadata": {},
   "outputs": [
    {
     "data": {
      "text/plain": "('https://english.news.cn/20220707/2ea4c1dbe99144fd8ec0f821dc6cafc1/c.html',\n 'British PM Johnson resigns',\n 'Xinhua',\n 'huaxia',\n '2022-07-07 21:06:59',\n 'File photo taken on Feb. 10, 2022 shows British Prime Minister Boris Johnson at NATO headquarters in Brussels, Belgium. Boris Johnson resigned as British prime minister and the leader of the Conservative Party in a statement to the country on Thursday.\\nHe said he will continue to serve as prime minister until a new Tory leader is chosen. (Xinhua/Zheng Huansong)\\nLONDON, July 7 (Xinhua) -- Boris Johnson resigned as British prime minister and the leader of the Conservative Party in a statement to the country on Thursday.\\nHe said he will continue to serve as prime minister until a new Tory leader is chosen.\\n\"The will of the parliamentary party is clear and the process for choosing a new leader should begin,\" he said, adding that the timetable for choosing a new leader will be announced next week.\\nHe said he has appointed a Cabinet to serve during the interim period and he will serve \"until a new leader is in place.\"\\nJohnson\\'s exit came amid an avalanche of ministerial resignations over his scandal-hit leadership since Tuesday. The number of resignations from his government exceeded 50 by Thursday morning, according to a tally by British media. On Tuesday, Sajid Javid and Rishi Sunak resigned from their posts as health secretary and chancellor of the exchequer, respectively.\\nThe prime minister has been dogged by a seemingly endless string of scandals for months, and the Tories worry the party\\'s future in the next general elections in 2024 is on the line.\\nJohnson became the first serving British prime minister in history to break the law after receiving a fine from the police for attending a party in 2020 during the country\\'s COVID-19 lockdown.\\nThough he survived a no-confidence vote recently within his Conservative Party over the so-called Partygate scandal, over 40 percent of his own party voted against him and the forces that want him to go have been gaining momentum following more untoward revelations.\\nThe latest scandal involved Johnson\\'s appointment of lawmaker Christopher Pincher to deputy chief whip despite being informed of formal complaints about his alleged sexual misconduct. ■\\nFile photo taken on Jan. 19, 2022 shows British Prime Minister Boris Johnson leaving 10 Downing Street in London, Britain. Boris Johnson resigned as British prime minister and the leader of the Conservative Party in a statement to the country on Thursday.\\nHe said he will continue to serve as prime minister until a new Tory leader is chosen. (Photo by Stephen Chung/Xinhua)\\nBritish Prime Minister Boris Johnson makes a statement in front of 10 Downing Street in London, Britain, July 7, 2022. Boris Johnson resigned as British prime minister and the leader of the Conservative Party in a statement to the country on Thursday.\\nHe said he will continue to serve as prime minister until a new Tory leader is chosen. (Xinhua/Li Ying)\\nBritish Prime Minister Boris Johnson leaves after making a statement in front of 10 Downing Street in London, Britain, July 7, 2022. Boris Johnson resigned as British prime minister and the leader of the Conservative Party in a statement to the country on Thursday.\\nHe said he will continue to serve as prime minister until a new Tory leader is chosen. (Xinhua/Li Ying)\\nBritish Prime Minister Boris Johnson returns to 10 Downing Street after his statement in London, Britain, July 7, 2022. Boris Johnson resigned as British prime minister and the leader of the Conservative Party in a statement to the country on Thursday.\\nHe said he will continue to serve as prime minister until a new Tory leader is chosen. (Xinhua/Han Yan)')"
     },
     "execution_count": 12,
     "metadata": {},
     "output_type": "execute_result"
    }
   ],
   "source": [
    "article = get_article_details(\"https://english.news.cn/20220707/2ea4c1dbe99144fd8ec0f821dc6cafc1/c.html\")\n",
    "article\n"
   ]
  },
  {
   "cell_type": "code",
   "execution_count": 13,
   "metadata": {},
   "outputs": [
    {
     "data": {
      "text/plain": "('https://english.news.cn/20220706/4055513625634add999adc44f7bb68c4/c.html',\n 'Feature: Virtual \"bird-woman\" ambassador spreads Dunhuang culture',\n 'Xinhua',\n 'huaxia',\n '2022-07-06 20:57:59',\n 'People visit the Mogao Grottoes, a UNESCO World Heritage site, in Dunhuang, northwest China\\'s Gansu Province. (Xinhua/Zhang Yujie)\\nLANZHOU, July 6 (Xinhua) -- Originated from a half-woman, half-bird creature on millennia-old murals, Jiayao has become the official virtual cartoon figure of Mogao Grottoes, a UNESCO World Heritage site in Dunhuang, northwest China\\'s Gansu Province.\\nJiayao appears as a girl wearing traditional robes with feathers sprouted from her back. The animation depicts her experience with the relics and interactions with other characters from the murals.\\nAs Dunhuang culture\\'s digital ambassador, Jiayao was developed by the Dunhuang Academy, an institution responsible for the conservation, management, and research of the Mogao Grottoes and other cultural relics.\\nWhile on the caisson ceiling of cave No. 360 of Mogao Grottoes, her prototype with a human upper body, wings, and a bird-like lower body, plays the Chinese musical instrument pipa. The creature is believed to have a charming voice.\\n\"Dunhuang culture is profound with some elements that are difficult to understand. Introducing new media and technologies can provide more gateways to traditional culture,\" said Du Juan, deputy director of the media center of Dunhuang Academy.\\nThe millennia-old Mogao Grottoes are home to a vast collection of Buddhist artworks -- more than 2,000 colored sculptures and 45,000 square meters of murals are located in 735 caves, carved along the cliffs by ancient worshippers.\\nDu said the academy has made efforts to spread and personify the culture with Jiayao. The virtual figure has dynamic facial expressions and can perform the Dunhuang dance, with her hair, clothes and accessories swaying with the wind.\\nAccording to the academy, in the future, Jiayao will acquire knowledge with the help of AI technology, host livestreaming sessions, and interactively tell online tourists stories of Silk Road and Dunhuang.\\nA digitalization project was inaugurated to create digital versions of the Mogao Grottoes in the 1990s, and the Digital Dunhuang website started displaying 3D images of caves in 2016. Last month, the internet giant Tencent said it plans to apply gaming technology with digital renderings of the ancient classics in grottoes.\\nAccording to an initiative released by curators and scholars across China this March, museums should move toward metaverse and explore its applications.\\n\"In the future, when entering the metaverse of Mogao Grottoes, audiences can appreciate sculptures and murals at any angle at any time,\" said Duan Yong, one of the initiators and a professor at Shanghai University. \"They can also play a role as a historical or legendary figure and go back to ancient time through time travel.\"\\nIn a cartoon plot, Jiayao said, \"Over the past one thousand years, I have witnessed people who intended to preserve and those who destroyed Mogao Grottoes. In the next millennium, Dunhuang culture will be inherited and we should strive for the caves\\' future.\"\\nAccording to Duan, the metaverse will make museums exist permanently in a digital form and can provide them with diversified application scenarios. ■\\nThis undated photo provided by the Dunhuang Academy shows the prototype of Jiayao, the official virtual cartoon figure of Mogao Grottoes, with a human upper body, wings, and a bird-like lower body, playing the Chinese musical instrument pipa, on the caisson ceiling of cave No. 360 of Mogao Grottoes in Dunhuang, northwest China\\'s Gansu Province. (Dunhuang Academy/Handout via Xinhua)')"
     },
     "execution_count": 13,
     "metadata": {},
     "output_type": "execute_result"
    }
   ],
   "source": [
    "article = get_article_details(\"https://english.news.cn/20220706/4055513625634add999adc44f7bb68c4/c.html\")\n",
    "article\n"
   ]
  },
  {
   "cell_type": "markdown",
   "metadata": {},
   "source": [
    "#### ❓Q4.\n",
    "\n",
    "Combine the above functions to automate extraction of articles on the site by going to every category and store the results into a Pandas Dataframe. Do you notice any issue with any of the above functions? If so, go back and fix it."
   ]
  },
  {
   "cell_type": "code",
   "execution_count": 14,
   "metadata": {},
   "outputs": [
    {
     "data": {
      "text/plain": "[('https://kr.news.cn/index.htm', '한국어'),\n ('https://spanish.news.cn/index.htm', 'Español')]"
     },
     "execution_count": 14,
     "metadata": {},
     "output_type": "execute_result"
    }
   ],
   "source": [
    "#TODO\n",
    "categories = get_categories()\n",
    "categories = list(categories)[7:9]\n",
    "categories\n"
   ]
  },
  {
   "cell_type": "code",
   "execution_count": 15,
   "metadata": {},
   "outputs": [
    {
     "name": "stdout",
     "output_type": "stream",
     "text": [
      "## getting links from 한국어...\n",
      "### obtained 28 links...!\n",
      "## getting links from Español...\n",
      "### obtained 25 links...!\n"
     ]
    }
   ],
   "source": [
    "articles = []\n",
    "\n",
    "for category in categories:\n",
    "    category_url, category_title = category\n",
    "    print(f\"## getting links from {category_title}...\")\n",
    "    links = get_article_links(category_url, 1)\n",
    "    print(f\"### obtained {len(links)} links...!\")\n",
    "    \n",
    "    for link in links[:5]:\n",
    "        article = get_article_details(link)\n",
    "        articles.append(article)\n",
    "        \n",
    "        time.sleep(0.5)\n",
    "    \n",
    "    time.sleep(0.5)\n"
   ]
  },
  {
   "cell_type": "code",
   "execution_count": 16,
   "metadata": {},
   "outputs": [
    {
     "data": {
      "text/plain": "                                                 URL  \\\n0  https://kr.news.cn/20240708/ab963fe669f74a8f9e...   \n1  https://kr.news.cn/20240708/d2daccff75bd4c3f92...   \n2  https://kr.news.cn/20240708/d764351bdb9f40aeb2...   \n3  https://kr.news.cn/20240708/0e5d4a43c5d94e9785...   \n4  https://kr.news.cn/20240708/33bdb93c34714aafa3...   \n5  https://spanish.news.cn/20240707/eca7b3b77ead4...   \n6  https://spanish.news.cn/20240626/bbc46cc1527b4...   \n7  https://spanish.news.cn/20240708/45ec17fbbe3a4...   \n8  https://spanish.news.cn/20240708/9dda587468c74...   \n9  https://spanish.news.cn/20240708/272e9a794e8d4...   \n\n                                               Title    Source Editor Date  \\\n0                  中 발개위, 후난성∙장시성 응급 복구 지원에 2억 위안 배정  신화망 한국어판     陈畅        \n1                               中 산둥, 무술 익히며 방학 보내요~  신화망 한국어판    朱雪松        \n2                 생일 축하합니다~ 루이바오·후이바오, 팬들과 함께한 첫 돌잔치  신화망 한국어판     陈畅        \n3   獨 자동차 업계 \"EU의 中 전기차 관세 추가 부과, 유럽 자동차 업계에 도움 안 돼\"  신화망 한국어판     陈畅        \n4                        中 리창 총리, 키어 스타머 英 신임 총리에 축전  신화망 한국어판    朴锦花        \n5  China conmemora 87º aniversario de guerra de r...                         \n6  Lotos que crecen a partir de semillas antiguas...                         \n7         EURO 2024: Inglaterra avanza a semifinales                         \n8  ENFOQUE DE CHINA: Los pagos vía móvil brindan ...                         \n9  Xi dice que China está dispuesta a promover as...                         \n\n                                                Text  \n0  [신화망 베이징 7월8일]중국 국가발전개혁위원회(발개위)는 7일 후난성(웨양시 화룽...  \n1  [신화망 베이징 7월8일] 여름방학 기간 어린이들이 다양한 활동에 참여하며 즐거운 ...  \n2   [신화망 서울 7월8일] 한국 에버랜드가 7일 한국에서 태어난 쌍둥이 아기 판다 ...  \n3   지난달 25일 일본 도쿄에서 촬영한 비야디(BYD) 전기차 'SEAL'. (사진/...  \n4  [신화망 베이징 7월8일] 리창(李强) 중국 국무원 총리가 7일 키어 스타머 영국 ...  \n5   (Xinhua/Li Xiang)\\nBEIJING, 7 jul (Xinhua) --...  \n6   NANNING, 25 junio, 2024 (Xinhua) -- Imagen de...  \n7  DUSSELDORF, 7 julio, 2024 (Xinhua) -- Imagen d...  \n8  BEIJING, 8 jul (Xinhua) -- Para Jamie y Lilian...  \n9  BEIJING, 8 jul (Xinhua) -- China está dispuest...  ",
      "text/html": "<div>\n<style scoped>\n    .dataframe tbody tr th:only-of-type {\n        vertical-align: middle;\n    }\n\n    .dataframe tbody tr th {\n        vertical-align: top;\n    }\n\n    .dataframe thead th {\n        text-align: right;\n    }\n</style>\n<table border=\"1\" class=\"dataframe\">\n  <thead>\n    <tr style=\"text-align: right;\">\n      <th></th>\n      <th>URL</th>\n      <th>Title</th>\n      <th>Source</th>\n      <th>Editor</th>\n      <th>Date</th>\n      <th>Text</th>\n    </tr>\n  </thead>\n  <tbody>\n    <tr>\n      <th>0</th>\n      <td>https://kr.news.cn/20240708/ab963fe669f74a8f9e...</td>\n      <td>中 발개위, 후난성∙장시성 응급 복구 지원에 2억 위안 배정</td>\n      <td>신화망 한국어판</td>\n      <td>陈畅</td>\n      <td></td>\n      <td>[신화망 베이징 7월8일]중국 국가발전개혁위원회(발개위)는 7일 후난성(웨양시 화룽...</td>\n    </tr>\n    <tr>\n      <th>1</th>\n      <td>https://kr.news.cn/20240708/d2daccff75bd4c3f92...</td>\n      <td>中 산둥, 무술 익히며 방학 보내요~</td>\n      <td>신화망 한국어판</td>\n      <td>朱雪松</td>\n      <td></td>\n      <td>[신화망 베이징 7월8일] 여름방학 기간 어린이들이 다양한 활동에 참여하며 즐거운 ...</td>\n    </tr>\n    <tr>\n      <th>2</th>\n      <td>https://kr.news.cn/20240708/d764351bdb9f40aeb2...</td>\n      <td>생일 축하합니다~ 루이바오·후이바오, 팬들과 함께한 첫 돌잔치</td>\n      <td>신화망 한국어판</td>\n      <td>陈畅</td>\n      <td></td>\n      <td>[신화망 서울 7월8일] 한국 에버랜드가 7일 한국에서 태어난 쌍둥이 아기 판다 ...</td>\n    </tr>\n    <tr>\n      <th>3</th>\n      <td>https://kr.news.cn/20240708/0e5d4a43c5d94e9785...</td>\n      <td>獨 자동차 업계 \"EU의 中 전기차 관세 추가 부과, 유럽 자동차 업계에 도움 안 돼\"</td>\n      <td>신화망 한국어판</td>\n      <td>陈畅</td>\n      <td></td>\n      <td>지난달 25일 일본 도쿄에서 촬영한 비야디(BYD) 전기차 'SEAL'. (사진/...</td>\n    </tr>\n    <tr>\n      <th>4</th>\n      <td>https://kr.news.cn/20240708/33bdb93c34714aafa3...</td>\n      <td>中 리창 총리, 키어 스타머 英 신임 총리에 축전</td>\n      <td>신화망 한국어판</td>\n      <td>朴锦花</td>\n      <td></td>\n      <td>[신화망 베이징 7월8일] 리창(李强) 중국 국무원 총리가 7일 키어 스타머 영국 ...</td>\n    </tr>\n    <tr>\n      <th>5</th>\n      <td>https://spanish.news.cn/20240707/eca7b3b77ead4...</td>\n      <td>China conmemora 87º aniversario de guerra de r...</td>\n      <td></td>\n      <td></td>\n      <td></td>\n      <td>(Xinhua/Li Xiang)\\nBEIJING, 7 jul (Xinhua) --...</td>\n    </tr>\n    <tr>\n      <th>6</th>\n      <td>https://spanish.news.cn/20240626/bbc46cc1527b4...</td>\n      <td>Lotos que crecen a partir de semillas antiguas...</td>\n      <td></td>\n      <td></td>\n      <td></td>\n      <td>NANNING, 25 junio, 2024 (Xinhua) -- Imagen de...</td>\n    </tr>\n    <tr>\n      <th>7</th>\n      <td>https://spanish.news.cn/20240708/45ec17fbbe3a4...</td>\n      <td>EURO 2024: Inglaterra avanza a semifinales</td>\n      <td></td>\n      <td></td>\n      <td></td>\n      <td>DUSSELDORF, 7 julio, 2024 (Xinhua) -- Imagen d...</td>\n    </tr>\n    <tr>\n      <th>8</th>\n      <td>https://spanish.news.cn/20240708/9dda587468c74...</td>\n      <td>ENFOQUE DE CHINA: Los pagos vía móvil brindan ...</td>\n      <td></td>\n      <td></td>\n      <td></td>\n      <td>BEIJING, 8 jul (Xinhua) -- Para Jamie y Lilian...</td>\n    </tr>\n    <tr>\n      <th>9</th>\n      <td>https://spanish.news.cn/20240708/272e9a794e8d4...</td>\n      <td>Xi dice que China está dispuesta a promover as...</td>\n      <td></td>\n      <td></td>\n      <td></td>\n      <td>BEIJING, 8 jul (Xinhua) -- China está dispuest...</td>\n    </tr>\n  </tbody>\n</table>\n</div>"
     },
     "execution_count": 16,
     "metadata": {},
     "output_type": "execute_result"
    }
   ],
   "source": [
    "articles = pd.DataFrame(articles, columns=[\"URL\", \"Title\", \"Source\", \"Editor\", \"Date\", \"Text\"])\n",
    "articles\n"
   ]
  },
  {
   "cell_type": "code",
   "execution_count": 17,
   "metadata": {},
   "outputs": [],
   "source": [
    "driver.quit()\n"
   ]
  },
  {
   "cell_type": "code",
   "execution_count": 17,
   "metadata": {},
   "outputs": [],
   "source": []
  }
 ],
 "metadata": {
  "kernelspec": {
   "display_name": "Python 3 (ipykernel)",
   "language": "python",
   "name": "python3"
  },
  "language_info": {
   "codemirror_mode": {
    "name": "ipython",
    "version": 3
   },
   "file_extension": ".py",
   "mimetype": "text/x-python",
   "name": "python",
   "nbconvert_exporter": "python",
   "pygments_lexer": "ipython3",
   "version": "3.9.7"
  }
 },
 "nbformat": 4,
 "nbformat_minor": 4
}
