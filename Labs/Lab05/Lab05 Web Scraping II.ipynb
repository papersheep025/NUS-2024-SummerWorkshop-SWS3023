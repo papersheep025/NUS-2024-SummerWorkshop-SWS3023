{
 "cells": [
  {
   "cell_type": "markdown",
   "metadata": {},
   "source": [
    "In this lab, we will be building web scrapers for **news.cn**\n",
    "\n",
    "Note this lab is meant to be educational. We are not liable for how you use this skill and please respect the copyright of the sites you are scraping.\n",
    "![](https://www.comp.nus.edu.sg/~lekhsian/sws3023/newscn1.png)"
   ]
  },
  {
   "cell_type": "markdown",
   "metadata": {},
   "source": [
    "One of the thing we will notice that's different from IMDB (in the previous lab) is that the data displayed on the website might not be part of the HTML source. Some content are loaded dynamically using AJAX. So for this lab we will be focusing on using **Selenium** to do the web scraping tasks."
   ]
  },
  {
   "cell_type": "code",
   "execution_count": 1,
   "metadata": {},
   "outputs": [],
   "source": [
    "#load necessary libraries\n",
    "from selenium import webdriver\n",
    "import time\n",
    "import chromedriver_binary\n",
    "from selenium.webdriver.chrome.service import Service\n",
    "from selenium.webdriver.common.keys import Keys\n",
    "from selenium.webdriver.support.ui import WebDriverWait\n",
    "from selenium.webdriver.common.by import By\n",
    "from selenium.webdriver.support import expected_conditions as EC\n",
    "from selenium.webdriver.chrome.options import Options\n",
    "import pandas as pd\n"
   ]
  },
  {
   "cell_type": "code",
   "execution_count": 2,
   "metadata": {},
   "outputs": [
    {
     "name": "stderr",
     "output_type": "stream",
     "text": [
      "The chromedriver version (128.0.6582.0) detected in PATH at C:\\Users\\22507\\anaconda3\\lib\\site-packages\\chromedriver_binary\\chromedriver.exe might not be compatible with the detected chrome version (126.0.6478.127); currently, chromedriver 126.0.6478.126 is recommended for chrome 126.*, so it is advised to delete the driver in PATH and retry\n"
     ]
    }
   ],
   "source": [
    "#disable build check to if latest version of Chrome is not supported\n",
    "service = Service(service_args=['--disable-build-check'])\n",
    "\n",
    "#open the window size to simulate mobile view\n",
    "options = webdriver.ChromeOptions()\n",
    "options.add_argument(\"window-size=500,800\")\n",
    "driver = webdriver.Chrome(service=service, options=options)\n"
   ]
  },
  {
   "cell_type": "markdown",
   "metadata": {},
   "source": [
    "#### ❓Q1.\n",
    "Complete this function (`get_categories()`) which return a set of tuples with the URL of the category and the text of the category. You should also include those categories in sub-menus.\\\n",
    "An example of the category is shown below in in <span style=\"color:white;background-color:#063565\">white</span> or <span style=\"color:white;background-color:#c5d6e7\">white</span>.\n",
    "\n",
    "![](https://www.comp.nus.edu.sg/~lekhsian/sws3023/newscn2.png)\n",
    "![](https://www.comp.nus.edu.sg/~lekhsian/sws3023/newscn3.png)\n",
    "![](https://www.comp.nus.edu.sg/~lekhsian/sws3023/newscn4.png)"
   ]
  },
  {
   "cell_type": "code",
   "execution_count": 3,
   "outputs": [
    {
     "data": {
      "text/plain": "[<selenium.webdriver.remote.webelement.WebElement (session=\"39caf60a17db6e5dc065dc209fd01a6a\", element=\"f.81E25999973C3CB0E31B880998593527.d.A0790F27660EAB40A61EA84C45A58A7E.e.13\")>,\n <selenium.webdriver.remote.webelement.WebElement (session=\"39caf60a17db6e5dc065dc209fd01a6a\", element=\"f.81E25999973C3CB0E31B880998593527.d.A0790F27660EAB40A61EA84C45A58A7E.e.14\")>,\n <selenium.webdriver.remote.webelement.WebElement (session=\"39caf60a17db6e5dc065dc209fd01a6a\", element=\"f.81E25999973C3CB0E31B880998593527.d.A0790F27660EAB40A61EA84C45A58A7E.e.15\")>,\n <selenium.webdriver.remote.webelement.WebElement (session=\"39caf60a17db6e5dc065dc209fd01a6a\", element=\"f.81E25999973C3CB0E31B880998593527.d.A0790F27660EAB40A61EA84C45A58A7E.e.16\")>,\n <selenium.webdriver.remote.webelement.WebElement (session=\"39caf60a17db6e5dc065dc209fd01a6a\", element=\"f.81E25999973C3CB0E31B880998593527.d.A0790F27660EAB40A61EA84C45A58A7E.e.17\")>,\n <selenium.webdriver.remote.webelement.WebElement (session=\"39caf60a17db6e5dc065dc209fd01a6a\", element=\"f.81E25999973C3CB0E31B880998593527.d.A0790F27660EAB40A61EA84C45A58A7E.e.18\")>,\n <selenium.webdriver.remote.webelement.WebElement (session=\"39caf60a17db6e5dc065dc209fd01a6a\", element=\"f.81E25999973C3CB0E31B880998593527.d.A0790F27660EAB40A61EA84C45A58A7E.e.19\")>,\n <selenium.webdriver.remote.webelement.WebElement (session=\"39caf60a17db6e5dc065dc209fd01a6a\", element=\"f.81E25999973C3CB0E31B880998593527.d.A0790F27660EAB40A61EA84C45A58A7E.e.20\")>,\n <selenium.webdriver.remote.webelement.WebElement (session=\"39caf60a17db6e5dc065dc209fd01a6a\", element=\"f.81E25999973C3CB0E31B880998593527.d.A0790F27660EAB40A61EA84C45A58A7E.e.21\")>,\n <selenium.webdriver.remote.webelement.WebElement (session=\"39caf60a17db6e5dc065dc209fd01a6a\", element=\"f.81E25999973C3CB0E31B880998593527.d.A0790F27660EAB40A61EA84C45A58A7E.e.22\")>,\n <selenium.webdriver.remote.webelement.WebElement (session=\"39caf60a17db6e5dc065dc209fd01a6a\", element=\"f.81E25999973C3CB0E31B880998593527.d.A0790F27660EAB40A61EA84C45A58A7E.e.23\")>,\n <selenium.webdriver.remote.webelement.WebElement (session=\"39caf60a17db6e5dc065dc209fd01a6a\", element=\"f.81E25999973C3CB0E31B880998593527.d.A0790F27660EAB40A61EA84C45A58A7E.e.24\")>,\n <selenium.webdriver.remote.webelement.WebElement (session=\"39caf60a17db6e5dc065dc209fd01a6a\", element=\"f.81E25999973C3CB0E31B880998593527.d.A0790F27660EAB40A61EA84C45A58A7E.e.25\")>,\n <selenium.webdriver.remote.webelement.WebElement (session=\"39caf60a17db6e5dc065dc209fd01a6a\", element=\"f.81E25999973C3CB0E31B880998593527.d.A0790F27660EAB40A61EA84C45A58A7E.e.26\")>,\n <selenium.webdriver.remote.webelement.WebElement (session=\"39caf60a17db6e5dc065dc209fd01a6a\", element=\"f.81E25999973C3CB0E31B880998593527.d.A0790F27660EAB40A61EA84C45A58A7E.e.27\")>,\n <selenium.webdriver.remote.webelement.WebElement (session=\"39caf60a17db6e5dc065dc209fd01a6a\", element=\"f.81E25999973C3CB0E31B880998593527.d.A0790F27660EAB40A61EA84C45A58A7E.e.28\")>,\n <selenium.webdriver.remote.webelement.WebElement (session=\"39caf60a17db6e5dc065dc209fd01a6a\", element=\"f.81E25999973C3CB0E31B880998593527.d.A0790F27660EAB40A61EA84C45A58A7E.e.29\")>,\n <selenium.webdriver.remote.webelement.WebElement (session=\"39caf60a17db6e5dc065dc209fd01a6a\", element=\"f.81E25999973C3CB0E31B880998593527.d.A0790F27660EAB40A61EA84C45A58A7E.e.30\")>,\n <selenium.webdriver.remote.webelement.WebElement (session=\"39caf60a17db6e5dc065dc209fd01a6a\", element=\"f.81E25999973C3CB0E31B880998593527.d.A0790F27660EAB40A61EA84C45A58A7E.e.31\")>,\n <selenium.webdriver.remote.webelement.WebElement (session=\"39caf60a17db6e5dc065dc209fd01a6a\", element=\"f.81E25999973C3CB0E31B880998593527.d.A0790F27660EAB40A61EA84C45A58A7E.e.32\")>,\n <selenium.webdriver.remote.webelement.WebElement (session=\"39caf60a17db6e5dc065dc209fd01a6a\", element=\"f.81E25999973C3CB0E31B880998593527.d.A0790F27660EAB40A61EA84C45A58A7E.e.33\")>,\n <selenium.webdriver.remote.webelement.WebElement (session=\"39caf60a17db6e5dc065dc209fd01a6a\", element=\"f.81E25999973C3CB0E31B880998593527.d.A0790F27660EAB40A61EA84C45A58A7E.e.34\")>,\n <selenium.webdriver.remote.webelement.WebElement (session=\"39caf60a17db6e5dc065dc209fd01a6a\", element=\"f.81E25999973C3CB0E31B880998593527.d.A0790F27660EAB40A61EA84C45A58A7E.e.35\")>,\n <selenium.webdriver.remote.webelement.WebElement (session=\"39caf60a17db6e5dc065dc209fd01a6a\", element=\"f.81E25999973C3CB0E31B880998593527.d.A0790F27660EAB40A61EA84C45A58A7E.e.36\")>,\n <selenium.webdriver.remote.webelement.WebElement (session=\"39caf60a17db6e5dc065dc209fd01a6a\", element=\"f.81E25999973C3CB0E31B880998593527.d.A0790F27660EAB40A61EA84C45A58A7E.e.37\")>,\n <selenium.webdriver.remote.webelement.WebElement (session=\"39caf60a17db6e5dc065dc209fd01a6a\", element=\"f.81E25999973C3CB0E31B880998593527.d.A0790F27660EAB40A61EA84C45A58A7E.e.38\")>,\n <selenium.webdriver.remote.webelement.WebElement (session=\"39caf60a17db6e5dc065dc209fd01a6a\", element=\"f.81E25999973C3CB0E31B880998593527.d.A0790F27660EAB40A61EA84C45A58A7E.e.39\")>,\n <selenium.webdriver.remote.webelement.WebElement (session=\"39caf60a17db6e5dc065dc209fd01a6a\", element=\"f.81E25999973C3CB0E31B880998593527.d.A0790F27660EAB40A61EA84C45A58A7E.e.40\")>,\n <selenium.webdriver.remote.webelement.WebElement (session=\"39caf60a17db6e5dc065dc209fd01a6a\", element=\"f.81E25999973C3CB0E31B880998593527.d.A0790F27660EAB40A61EA84C45A58A7E.e.41\")>,\n <selenium.webdriver.remote.webelement.WebElement (session=\"39caf60a17db6e5dc065dc209fd01a6a\", element=\"f.81E25999973C3CB0E31B880998593527.d.A0790F27660EAB40A61EA84C45A58A7E.e.42\")>,\n <selenium.webdriver.remote.webelement.WebElement (session=\"39caf60a17db6e5dc065dc209fd01a6a\", element=\"f.81E25999973C3CB0E31B880998593527.d.A0790F27660EAB40A61EA84C45A58A7E.e.43\")>,\n <selenium.webdriver.remote.webelement.WebElement (session=\"39caf60a17db6e5dc065dc209fd01a6a\", element=\"f.81E25999973C3CB0E31B880998593527.d.A0790F27660EAB40A61EA84C45A58A7E.e.44\")>]"
     },
     "execution_count": 3,
     "metadata": {},
     "output_type": "execute_result"
    }
   ],
   "source": [
    "driver.get(\"https://english.news.cn/\")\n",
    "\n",
    "categories = driver.find_elements(By.CSS_SELECTOR,\"#nav a\")\n",
    "categories"
   ],
   "metadata": {
    "collapsed": false
   }
  },
  {
   "cell_type": "code",
   "execution_count": 4,
   "metadata": {},
   "outputs": [
    {
     "data": {
      "text/plain": "{(None, 'Africa'),\n (None, 'Asia & Pacific'),\n (None, 'B & R Initiative'),\n (None, 'Biz'),\n (None, 'Biz China Weekly'),\n (None, 'China'),\n (None, 'Culture & Lifestyle'),\n (None, 'Deutsch'),\n (None, 'Editions'),\n (None, 'Español'),\n (None, 'Europe'),\n (None, 'Français'),\n (None, 'GLOBALink'),\n (None, 'Home'),\n (None, 'In-depth'),\n (None, 'Latest'),\n (None, 'More'),\n (None, 'North America'),\n (None, 'Photos'),\n (None, 'Português'),\n (None, 'Posters'),\n (None, 'Special Reports'),\n (None, 'Sports'),\n (None, 'Video & Live'),\n (None, 'World'),\n (None, 'Xinhua Headlines'),\n (None, 'Xinhua New Media'),\n (None, 'Русский'),\n (None, 'عربي'),\n (None, '中文'),\n (None, '日本語'),\n (None, '한국어')}"
     },
     "execution_count": 4,
     "metadata": {},
     "output_type": "execute_result"
    }
   ],
   "source": [
    "\n",
    "results = set()\n",
    "\n",
    "for category in categories:\n",
    "    category_url = category.get_attribute(\"herf\")\n",
    "    category_text = category.get_attribute(\"innerText\")\n",
    "\n",
    "    if category_url != \"https://english.news.cn/#\":\n",
    "        results.add((category_url, category_text))\n",
    "\n",
    "results"
   ]
  },
  {
   "cell_type": "code",
   "execution_count": 5,
   "metadata": {},
   "outputs": [],
   "source": [
    "def get_categories():\n",
    "    driver.get(\"https://english.news.cn/\")\n",
    "    results = set()\n",
    "    #TODO\n",
    "    categories = driver.find_elements(By.CSS_SELECTOR, \"#nav a\")\n",
    "\n",
    "    for category in categories:\n",
    "        category_url = category.get_attribute(\"href\")\n",
    "        category_text = category.get_attribute(\"innerText\")\n",
    "\n",
    "        if category_url != \"https://english.news.cn/#\":\n",
    "            results.add((category_url, category_text))\n",
    "\n",
    "    return results\n",
    "\n"
   ]
  },
  {
   "cell_type": "code",
   "execution_count": 6,
   "metadata": {},
   "outputs": [
    {
     "data": {
      "text/plain": "{('http://www.news.cn/', '中文'),\n ('https://arabic.news.cn/index.htm', 'عربي'),\n ('https://english.news.cn/africa/index.htm', 'Africa'),\n ('https://english.news.cn/asiapacific/index.htm', 'Asia & Pacific'),\n ('https://english.news.cn/china/index.htm', 'China'),\n ('https://english.news.cn/culture/index.htm', 'Culture & Lifestyle'),\n ('https://english.news.cn/europe/index.htm', 'Europe'),\n ('https://english.news.cn/globalink.htm', 'GLOBALink'),\n ('https://english.news.cn/indepth/index.htm', 'In-depth'),\n ('https://english.news.cn/list/china-business.htm', 'Biz'),\n ('https://english.news.cn/list/latestnews.htm', 'Latest'),\n ('https://english.news.cn/northamerica/index.htm', 'North America'),\n ('https://english.news.cn/photo/index.htm', 'Photos'),\n ('https://english.news.cn/posters/index.htm', 'Posters'),\n ('https://english.news.cn/silkroad/index.html', 'B & R Initiative'),\n ('https://english.news.cn/special/index.htm', 'Special Reports'),\n ('https://english.news.cn/special/qmttt/index.htm', 'Xinhua Headlines'),\n ('https://english.news.cn/sports/index.htm', 'Sports'),\n ('https://english.news.cn/video/index.htm', 'Video & Live'),\n ('https://english.news.cn/weekly.htm', 'Biz China Weekly'),\n ('https://english.news.cn/world/index.htm', 'World'),\n ('https://english.news.cn/xinhuanews/index.htm', 'Xinhua New Media'),\n ('https://french.news.cn/index.htm', 'Français'),\n ('https://german.news.cn/index.htm', 'Deutsch'),\n ('https://jp.news.cn/index.htm', '日本語'),\n ('https://kr.news.cn/index.htm', '한국어'),\n ('https://portuguese.news.cn/index.htm', 'Português'),\n ('https://russian.news.cn/index.htm', 'Русский'),\n ('https://spanish.news.cn/index.htm', 'Español')}"
     },
     "execution_count": 6,
     "metadata": {},
     "output_type": "execute_result"
    }
   ],
   "source": [
    "categories = get_categories()\n",
    "categories\n"
   ]
  },
  {
   "cell_type": "code",
   "execution_count": 7,
   "metadata": {},
   "outputs": [
    {
     "data": {
      "text/plain": "29"
     },
     "execution_count": 7,
     "metadata": {},
     "output_type": "execute_result"
    }
   ],
   "source": [
    "#this should most likely be 29\n",
    "len(categories)\n"
   ]
  },
  {
   "cell_type": "markdown",
   "metadata": {},
   "source": [
    "#### ❓Q2.\n",
    "A few of the categories show a listing of the articles by default such as the **Culture & Lifestyle** category:\n",
    "![](https://www.comp.nus.edu.sg/~lekhsian/sws3023/newscn6.png)\n",
    "\n",
    "But many categories by default shows the news for the day such as the **World** category.\n",
    "![](https://www.comp.nus.edu.sg/~lekhsian/sws3023/newscn5.png)\n",
    "\n",
    "However, if you were to shrink the window, it does show mobile view.\n",
    "![](https://www.comp.nus.edu.sg/~lekhsian/sws3023/newscn7.png)\n",
    "\n",
    "Complete this function (`get_article_links(category_url, num_pages)`) which takes in `category_url` and `num_pages` arguments and extracts the list of url to articles in that category. `num_pages` allows us to control the number of pages expected (if there are more than one page of articles). For categories without the **More** button, this function will just return the list of url in the current page."
   ]
  },
  {
   "cell_type": "code",
   "execution_count": 8,
   "metadata": {},
   "outputs": [],
   "source": [
    "def get_article_links(category_url, num_pages):\n",
    "    driver.get(category_url)\n",
    "    article_elems = []\n",
    "    urls = []\n",
    "    \n",
    "    #TODO\n",
    "    try:\n",
    "        article_elems = driver.find_elements(By.CSS_SELECTOR, 'a[href$=\"c.html\"]')\n",
    "        urls = list(set([article_elem.get_attribute(\"href\") for article_elem in article_elems]))\n",
    "\n",
    "        found_more_button = False\n",
    "\n",
    "        try:\n",
    "            load_more_button = driver.find_element(By.CSS_SELECTOR, \"#more\")\n",
    "            found_more_button = True\n",
    "        except:\n",
    "            pass\n",
    "\n",
    "        if(found_more_button):\n",
    "            for i in range(1, num_pages+1):\n",
    "                load_more_button.click()\n",
    "\n",
    "                print(\"Page: {}...\".format(i))\n",
    "\n",
    "                WebDriverWait(driver, 10).until(\n",
    "                    EC.invisibility_of_element_located((By.CSS_SELECTOR, \"#more[disabled]\"))\n",
    "                )\n",
    "\n",
    "    except:\n",
    "        pass\n",
    "\n",
    "    return urls"
   ]
  },
  {
   "cell_type": "code",
   "execution_count": 9,
   "metadata": {},
   "outputs": [
    {
     "name": "stdout",
     "output_type": "stream",
     "text": [
      "Page: 1...\n",
      "Page: 2...\n",
      "22\n"
     ]
    },
    {
     "data": {
      "text/plain": "['https://english.news.cn/20221017/139a768d90e74c2ba3f6c45740be3531/c.html',\n 'https://english.news.cn/20230130/3f2ba4b7cd214a209dda790ddbdcb620/c.html',\n 'https://english.news.cn/20240704/a7271cb017144ac592c250e806dbc8fb/c.html',\n 'https://english.news.cn/20240707/b3dd1ce4aba547b69078dc7f7c7be875/c.html',\n 'https://english.news.cn/20240709/ea8ba02d22f446b6b8788d29f00d4d8d/c.html',\n 'https://english.news.cn/20240704/2387e1b3c8be43e696182c1703178605/c.html',\n 'https://english.news.cn/20240704/5e585aade034460c8915f5c0ecf9c0f8/c.html',\n 'https://english.news.cn/20240704/634dc0c894b246469684491a6f9e1a95/c.html',\n 'https://english.news.cn/20240703/fb8a3046e7904e4781bf276f2e6568d1/c.html',\n 'https://english.news.cn/20240704/0a3a49825f45402998904057f145b0ab/c.html',\n 'https://english.news.cn/20240708/68c944ead26a4de0b066b09e199e49c1/c.html',\n 'https://english.news.cn/20240705/bcfebde346444504b1f88a29a5bf2029/c.html',\n 'https://english.news.cn/20240709/a1a747d6d2f743c1ac87aa12b70ed295/c.html',\n 'https://english.news.cn/20240709/73dba43f370c43d7aa11252e5111fe22/c.html',\n 'https://english.news.cn/20240710/fd3b032e6c1245619b40b0d5710bcdb6/c.html',\n 'https://english.news.cn/20240707/ceeb3e0639cd409c855becb68da8411a/c.html',\n 'https://english.news.cn/20240704/e90f9e8d33e84ca8b278198f823b4cd8/c.html',\n 'https://english.news.cn/20240705/ad7aa2d7177f4d6d9c932b785da4db43/c.html',\n 'https://english.news.cn/20240705/94704705eef44c3c87145f1ec2e028e4/c.html',\n 'https://english.news.cn/20240710/05cbb6fa8d164d41a48b41bfd96600e2/c.html',\n 'https://english.news.cn/20240709/985691d25c4b4fceb7e396bdaf016cde/c.html',\n 'https://english.news.cn/20240710/47549f841fb443068e116a6a5ac4def5/c.html']"
     },
     "execution_count": 9,
     "metadata": {},
     "output_type": "execute_result"
    }
   ],
   "source": [
    "article_urls = get_article_links(\"https://english.news.cn/culture/index.htm\", 2)\n",
    "print(len(article_urls))\n",
    "article_urls\n"
   ]
  },
  {
   "cell_type": "code",
   "execution_count": 10,
   "metadata": {},
   "outputs": [
    {
     "name": "stdout",
     "output_type": "stream",
     "text": [
      "Page: 1...\n",
      "22\n"
     ]
    },
    {
     "data": {
      "text/plain": "['https://english.news.cn/20221017/139a768d90e74c2ba3f6c45740be3531/c.html',\n 'https://english.news.cn/20230130/3f2ba4b7cd214a209dda790ddbdcb620/c.html',\n 'https://english.news.cn/20240704/a7271cb017144ac592c250e806dbc8fb/c.html',\n 'https://english.news.cn/20240707/b3dd1ce4aba547b69078dc7f7c7be875/c.html',\n 'https://english.news.cn/20240709/ea8ba02d22f446b6b8788d29f00d4d8d/c.html',\n 'https://english.news.cn/20240704/2387e1b3c8be43e696182c1703178605/c.html',\n 'https://english.news.cn/20240704/5e585aade034460c8915f5c0ecf9c0f8/c.html',\n 'https://english.news.cn/20240704/634dc0c894b246469684491a6f9e1a95/c.html',\n 'https://english.news.cn/20240703/fb8a3046e7904e4781bf276f2e6568d1/c.html',\n 'https://english.news.cn/20240704/0a3a49825f45402998904057f145b0ab/c.html',\n 'https://english.news.cn/20240708/68c944ead26a4de0b066b09e199e49c1/c.html',\n 'https://english.news.cn/20240705/bcfebde346444504b1f88a29a5bf2029/c.html',\n 'https://english.news.cn/20240709/a1a747d6d2f743c1ac87aa12b70ed295/c.html',\n 'https://english.news.cn/20240709/73dba43f370c43d7aa11252e5111fe22/c.html',\n 'https://english.news.cn/20240710/fd3b032e6c1245619b40b0d5710bcdb6/c.html',\n 'https://english.news.cn/20240707/ceeb3e0639cd409c855becb68da8411a/c.html',\n 'https://english.news.cn/20240704/e90f9e8d33e84ca8b278198f823b4cd8/c.html',\n 'https://english.news.cn/20240705/ad7aa2d7177f4d6d9c932b785da4db43/c.html',\n 'https://english.news.cn/20240705/94704705eef44c3c87145f1ec2e028e4/c.html',\n 'https://english.news.cn/20240710/05cbb6fa8d164d41a48b41bfd96600e2/c.html',\n 'https://english.news.cn/20240709/985691d25c4b4fceb7e396bdaf016cde/c.html',\n 'https://english.news.cn/20240710/47549f841fb443068e116a6a5ac4def5/c.html']"
     },
     "execution_count": 10,
     "metadata": {},
     "output_type": "execute_result"
    }
   ],
   "source": [
    "article_urls = get_article_links(\"https://english.news.cn/culture/index.htm\", 1)\n",
    "print(len(article_urls))\n",
    "article_urls\n"
   ]
  },
  {
   "cell_type": "code",
   "execution_count": 11,
   "metadata": {},
   "outputs": [
    {
     "name": "stdout",
     "output_type": "stream",
     "text": [
      "Page: 1...\n",
      "46\n"
     ]
    },
    {
     "data": {
      "text/plain": "['https://english.news.cn/20240710/85adf87cb32b49d8a6d4516c96d81dcf/c.html',\n 'https://english.news.cn/20240709/431eea5144a247acb1c082ee701793e4/c.html',\n 'https://english.news.cn/20240710/40f1590ad16248f7a03ce461e38fa16f/c.html',\n 'https://english.news.cn/20240710/aa94b961752b4806b0793eb369c7931a/c.html',\n 'https://english.news.cn/20240709/e00176b6d2ed43af84dcb2a285dbb938/c.html',\n 'https://english.news.cn/20240710/6f5cfc9916dc459ab302bf019a8962db/c.html',\n 'https://english.news.cn/20240710/6834419438d247268cb6da73401de4ad/c.html',\n 'https://english.news.cn/20240709/3907593a44464d0cbea858b1ad03b52b/c.html',\n 'https://english.news.cn/20240608/641fc31bac944fc38fba1985f0380a4d/c.html',\n 'https://english.news.cn/20240530/ae4e7b4f18ab44d380c9943784d33c6f/c.html',\n 'https://english.news.cn/20221017/139a768d90e74c2ba3f6c45740be3531/c.html',\n 'https://english.news.cn/20240708/33432cba5c274a8bbc71727f87f0c729/c.html',\n 'https://english.news.cn/20240710/1c799d0e13cd40f295b627fdc4e5000f/c.html',\n 'https://english.news.cn/20230130/3f2ba4b7cd214a209dda790ddbdcb620/c.html',\n 'https://english.news.cn/20240710/cbbec06c1621412c97b0e33e79e1606b/c.html',\n 'https://english.news.cn/20240709/86fda0b562ea4112a0585c1a0020d269/c.html',\n 'https://english.news.cn/20240502/1a6899c9a061451c8af8625c2a5977b8/c.html',\n 'https://english.news.cn/20240710/e402737c026345ad90ea27be55061eb9/c.html',\n 'https://english.news.cn/20240710/ca77e5514b8344818aebb6a08c99464c/c.html',\n 'https://english.news.cn/20240709/7dacbc80fe664110ac73e535e486126d/c.html',\n 'https://english.news.cn/20240710/0d6536d52c8e48479b756c0e0e03824b/c.html',\n 'https://english.news.cn/20240710/dd1dfe75fde3470a99b2f100c3395b35/c.html',\n 'https://english.news.cn/20240710/61b87b076b1e4aaaa11157e2983fa741/c.html',\n 'https://english.news.cn/20240710/8f9c54cbaae443a69b36f0d64c3ec819/c.html',\n 'https://english.news.cn/20240710/cfc93e31e0db484cb1172662ff4dba00/c.html',\n 'https://english.news.cn/20240709/9985c0846c9a43d28f30cc235b26cf4b/c.html',\n 'https://english.news.cn/20240709/a1a747d6d2f743c1ac87aa12b70ed295/c.html',\n 'https://english.news.cn/20240710/529276a1de074a96bb8b4fb1bd042d1e/c.html',\n 'https://english.news.cn/20240710/89f5464bed454a37bf40ad5d4405b64d/c.html',\n 'https://english.news.cn/20240710/5d36af0d17fe4fedbf562d9cedf8edd0/c.html',\n 'https://english.news.cn/20240710/fd3b032e6c1245619b40b0d5710bcdb6/c.html',\n 'https://english.news.cn/20240709/e80bfe2048f4432796ab78e4977c49a4/c.html',\n 'https://english.news.cn/20240709/33ccc6a267a24bfeb0d6600ee0f4c174/c.html',\n 'https://english.news.cn/20240709/c646f41fac8b4e7b9dcf58d395161e73/c.html',\n 'https://english.news.cn/20240709/70882de9effa4e3dbec57347d71a1d14/c.html',\n 'https://english.news.cn/20240710/05cbb6fa8d164d41a48b41bfd96600e2/c.html',\n 'https://english.news.cn/20240709/9b1516a38dec4c1187e104c620f159da/c.html',\n 'https://english.news.cn/20240709/95b19f5070124785863d5af336ab50bd/c.html',\n 'https://english.news.cn/20240710/76c3783646694687ac4cd9ad52517f2f/c.html',\n 'https://english.news.cn/20240709/274a929561064a2a8f984a9c6fec5a41/c.html',\n 'https://english.news.cn/20240531/fc33d0d6dc094f71bb84651ed956149b/c.html',\n 'https://english.news.cn/20240710/7b7cc0292f2b4b63ab7f8afcfe3557b4/c.html',\n 'https://english.news.cn/20240710/0552bc51dbf6464199f970f59eb6e8b7/c.html',\n 'https://english.news.cn/20240710/5787ba1b22c64221a9020252b411dd56/c.html',\n 'https://english.news.cn/20240710/ef9096a4216b4359a5438204ab2cdead/c.html',\n 'https://english.news.cn/20240710/47549f841fb443068e116a6a5ac4def5/c.html']"
     },
     "execution_count": 11,
     "metadata": {},
     "output_type": "execute_result"
    }
   ],
   "source": [
    "article_urls = get_article_links(\"https://english.news.cn/china/index.htm\", 1)\n",
    "print(len(article_urls))\n",
    "article_urls\n"
   ]
  },
  {
   "cell_type": "code",
   "execution_count": 12,
   "metadata": {},
   "outputs": [
    {
     "name": "stdout",
     "output_type": "stream",
     "text": [
      "Page: 1...\n",
      "Page: 2...\n",
      "46\n"
     ]
    },
    {
     "data": {
      "text/plain": "['https://english.news.cn/20240710/85adf87cb32b49d8a6d4516c96d81dcf/c.html',\n 'https://english.news.cn/20240709/431eea5144a247acb1c082ee701793e4/c.html',\n 'https://english.news.cn/20240710/40f1590ad16248f7a03ce461e38fa16f/c.html',\n 'https://english.news.cn/20240710/aa94b961752b4806b0793eb369c7931a/c.html',\n 'https://english.news.cn/20240709/e00176b6d2ed43af84dcb2a285dbb938/c.html',\n 'https://english.news.cn/20240710/6f5cfc9916dc459ab302bf019a8962db/c.html',\n 'https://english.news.cn/20240710/6834419438d247268cb6da73401de4ad/c.html',\n 'https://english.news.cn/20240709/3907593a44464d0cbea858b1ad03b52b/c.html',\n 'https://english.news.cn/20240608/641fc31bac944fc38fba1985f0380a4d/c.html',\n 'https://english.news.cn/20240530/ae4e7b4f18ab44d380c9943784d33c6f/c.html',\n 'https://english.news.cn/20221017/139a768d90e74c2ba3f6c45740be3531/c.html',\n 'https://english.news.cn/20240708/33432cba5c274a8bbc71727f87f0c729/c.html',\n 'https://english.news.cn/20240710/1c799d0e13cd40f295b627fdc4e5000f/c.html',\n 'https://english.news.cn/20230130/3f2ba4b7cd214a209dda790ddbdcb620/c.html',\n 'https://english.news.cn/20240710/cbbec06c1621412c97b0e33e79e1606b/c.html',\n 'https://english.news.cn/20240709/86fda0b562ea4112a0585c1a0020d269/c.html',\n 'https://english.news.cn/20240502/1a6899c9a061451c8af8625c2a5977b8/c.html',\n 'https://english.news.cn/20240710/e402737c026345ad90ea27be55061eb9/c.html',\n 'https://english.news.cn/20240710/ca77e5514b8344818aebb6a08c99464c/c.html',\n 'https://english.news.cn/20240709/7dacbc80fe664110ac73e535e486126d/c.html',\n 'https://english.news.cn/20240710/0d6536d52c8e48479b756c0e0e03824b/c.html',\n 'https://english.news.cn/20240710/dd1dfe75fde3470a99b2f100c3395b35/c.html',\n 'https://english.news.cn/20240710/61b87b076b1e4aaaa11157e2983fa741/c.html',\n 'https://english.news.cn/20240710/8f9c54cbaae443a69b36f0d64c3ec819/c.html',\n 'https://english.news.cn/20240710/cfc93e31e0db484cb1172662ff4dba00/c.html',\n 'https://english.news.cn/20240709/9985c0846c9a43d28f30cc235b26cf4b/c.html',\n 'https://english.news.cn/20240709/a1a747d6d2f743c1ac87aa12b70ed295/c.html',\n 'https://english.news.cn/20240710/529276a1de074a96bb8b4fb1bd042d1e/c.html',\n 'https://english.news.cn/20240710/89f5464bed454a37bf40ad5d4405b64d/c.html',\n 'https://english.news.cn/20240710/5d36af0d17fe4fedbf562d9cedf8edd0/c.html',\n 'https://english.news.cn/20240710/fd3b032e6c1245619b40b0d5710bcdb6/c.html',\n 'https://english.news.cn/20240709/e80bfe2048f4432796ab78e4977c49a4/c.html',\n 'https://english.news.cn/20240709/33ccc6a267a24bfeb0d6600ee0f4c174/c.html',\n 'https://english.news.cn/20240709/c646f41fac8b4e7b9dcf58d395161e73/c.html',\n 'https://english.news.cn/20240709/70882de9effa4e3dbec57347d71a1d14/c.html',\n 'https://english.news.cn/20240710/05cbb6fa8d164d41a48b41bfd96600e2/c.html',\n 'https://english.news.cn/20240709/9b1516a38dec4c1187e104c620f159da/c.html',\n 'https://english.news.cn/20240709/95b19f5070124785863d5af336ab50bd/c.html',\n 'https://english.news.cn/20240710/76c3783646694687ac4cd9ad52517f2f/c.html',\n 'https://english.news.cn/20240709/274a929561064a2a8f984a9c6fec5a41/c.html',\n 'https://english.news.cn/20240531/fc33d0d6dc094f71bb84651ed956149b/c.html',\n 'https://english.news.cn/20240710/7b7cc0292f2b4b63ab7f8afcfe3557b4/c.html',\n 'https://english.news.cn/20240710/0552bc51dbf6464199f970f59eb6e8b7/c.html',\n 'https://english.news.cn/20240710/5787ba1b22c64221a9020252b411dd56/c.html',\n 'https://english.news.cn/20240710/ef9096a4216b4359a5438204ab2cdead/c.html',\n 'https://english.news.cn/20240710/47549f841fb443068e116a6a5ac4def5/c.html']"
     },
     "execution_count": 12,
     "metadata": {},
     "output_type": "execute_result"
    }
   ],
   "source": [
    "article_urls = get_article_links(\"https://english.news.cn/china/index.htm\", 2)\n",
    "print(len(article_urls))\n",
    "article_urls\n"
   ]
  },
  {
   "cell_type": "markdown",
   "metadata": {},
   "source": [
    "#### ❓Q3.\n",
    "\n",
    "Complete this function (`get_article_details(url)`) which takes in an article `url` and extract the following information:\n",
    "- title of the article (shown below in <span style=\"color:#00a8ff\">blue</span>)\n",
    "- source of the article (shown below in <span style=\"color:#ba00ff\">purple</span>)\n",
    "- editor of the article (shown below in <span style=\"color:#8f3900\">brown</span>)\n",
    "- date & time of the article (shown below in <span style=\"color:#ff00f6\">pink</span>)\n",
    "- text of article (shown below in <span style=\"color:#ff0000\">red</span>)\n",
    "\n",
    "![](https://www.comp.nus.edu.sg/~lekhsian/sws3023/newscn8.png)\n",
    "\n",
    "If a field is not present, you should leave it as an empty string."
   ]
  },
  {
   "cell_type": "code",
   "execution_count": 13,
   "outputs": [
    {
     "data": {
      "text/plain": "\"World's largest indoor ice, snow theme park opens in China's Harbin\""
     },
     "execution_count": 13,
     "metadata": {},
     "output_type": "execute_result"
    }
   ],
   "source": [
    "url = \"https://english.news.cn/20240707/b3dd1ce4aba547b69078dc7f7c7be875/c.html\"\n",
    "driver.get(url)\n",
    "\n",
    "title = \"\"\n",
    "\n",
    "try:\n",
    "    title = driver.find_element(By.CSS_SELECTOR, \"h1\")\n",
    "    title = title.text\n",
    "except:\n",
    "    pass\n",
    "\n",
    "title"
   ],
   "metadata": {
    "collapsed": false
   }
  },
  {
   "cell_type": "code",
   "execution_count": 14,
   "outputs": [
    {
     "data": {
      "text/plain": "'Source: Xinhua'"
     },
     "execution_count": 14,
     "metadata": {},
     "output_type": "execute_result"
    }
   ],
   "source": [
    "source = \"\"\n",
    "\n",
    "try:\n",
    "    source = driver.find_element(By.CSS_SELECTOR, \".source\")\n",
    "    source = source.text\n",
    "    source = str.strip(source.split(\"1\")[1])\n",
    "except:\n",
    "    pass\n",
    "\n",
    "source"
   ],
   "metadata": {
    "collapsed": false
   }
  },
  {
   "cell_type": "code",
   "execution_count": 15,
   "outputs": [
    {
     "data": {
      "text/plain": "'Editor: huaxia'"
     },
     "execution_count": 15,
     "metadata": {},
     "output_type": "execute_result"
    }
   ],
   "source": [
    "editor = \"\"\n",
    "\n",
    "try:\n",
    "    editor = driver.find_element(By.CSS_SELECTOR, \".editor\")\n",
    "    editor = editor.text\n",
    "except:\n",
    "    pass\n",
    "\n",
    "editor"
   ],
   "metadata": {
    "collapsed": false
   }
  },
  {
   "cell_type": "code",
   "execution_count": 16,
   "outputs": [
    {
     "data": {
      "text/plain": "'2024-07-07 12:37:30'"
     },
     "execution_count": 16,
     "metadata": {},
     "output_type": "execute_result"
    }
   ],
   "source": [
    "article_date = \"\"\n",
    "\n",
    "try:\n",
    "    article_date = driver.find_element(By.CSS_SELECTOR, \".time\")\n",
    "    article_date = article_date.text\n",
    "except:\n",
    "    pass\n",
    "\n",
    "article_date"
   ],
   "metadata": {
    "collapsed": false
   }
  },
  {
   "cell_type": "code",
   "execution_count": 17,
   "outputs": [
    {
     "data": {
      "text/plain": "'Visitors have fun at an indoor ice and snow theme park in Harbin, northeast China\\'s Heilongjiang Province, July 6, 2024. (Photo by Yin Zhongwei/Xinhua)\\nHARBIN, July 7 (Xinhua) -- Tourists visiting Harbin, China\\'s \"Ice City\" in its northernmost Heilongjiang Province, now have a new attraction to explore, namely an indoor ice and snow theme park that opened on Saturday.\\nWith a construction area of 23,800 square meters, the park has clinched the Guinness World Record as the world\\'s largest indoor ice and snow theme park.\\nAccording to the park manager, the facility features nine themed areas showcasing lifelike ice sculptures illuminated by colorful lighting. The theme park maintains a constant temperature to accommodate visitors throughout the year.\\nThe park will complement Harbin Ice-Snow World, a landmark outdoor ice and snow theme park covering 810,000 square meters, thereby transforming Harbin into an all-season resort destination.\\nHarbin, with its cold winters, is celebrated for its annual ice and snow festival. The Harbin Ice-Snow World received an average of over 30,000 visitors daily last winter. ■\\nVisitors are seen at an indoor ice and snow theme park in Harbin, northeast China\\'s Heilongjiang Province, July 6, 2024. (Xinhua/Xie Jianfei)\\nA visitor takes photos at an indoor ice and snow theme park in Harbin, northeast China\\'s Heilongjiang Province, July 6, 2024. (Xinhua/Xie Jianfei)\\nVisitors are seen at an indoor ice and snow theme park in Harbin, northeast China\\'s Heilongjiang Province, July 6, 2024. (Xinhua/Zhang Tao)\\nVisitors collect cold-proof clothes before entering an indoor ice and snow theme park at Harbin Ice-Snow World in Harbin, northeast China\\'s Heilongjiang Province, July 6, 2024. (Xinhua/Xie Jianfei)\\nA child visits an indoor ice and snow theme park in Harbin, northeast China\\'s Heilongjiang Province, July 6, 2024. (Xinhua/Zhang Tao)\\nVisitors are seen at an indoor ice and snow theme park in Harbin, northeast China\\'s Heilongjiang Province, July 6, 2024. (Xinhua/Zhang Tao)\\nVisitors are seen at an indoor ice and snow theme park in Harbin, northeast China\\'s Heilongjiang Province, July 6, 2024. (Xinhua/Xie Jianfei)\\nA visitor is seen at an indoor ice and snow theme park in Harbin, northeast China\\'s Heilongjiang Province, July 6, 2024. (Xinhua/Xie Jianfei)\\nVisitors watch a performance at Harbin Ice-Snow World in Harbin, northeast China\\'s Heilongjiang Province, July 6, 2024. (Xinhua/Xie Jianfei)\\nAn ice sculpture is seen at an indoor ice and snow theme park in Harbin, northeast China\\'s Heilongjiang Province, July 6, 2024. (Xinhua/Zhang Tao)\\nA visitor is seen at an indoor ice and snow theme park in Harbin, northeast China\\'s Heilongjiang Province, July 6, 2024. (Xinhua/Zhang Tao)\\nVisitors pose for photos at an indoor ice and snow theme park in Harbin, northeast China\\'s Heilongjiang Province, July 6, 2024. (Xinhua/Zhang Tao)\\nA visitor is seen at an indoor ice and snow theme park in Harbin, northeast China\\'s Heilongjiang Province, July 6, 2024. (Xinhua/Xie Jianfei)\\nVisitors have fun at an indoor ice and snow theme park in Harbin, northeast China\\'s Heilongjiang Province, July 6, 2024. (Photo by Yin Zhongwei/Xinhua)'"
     },
     "execution_count": 17,
     "metadata": {},
     "output_type": "execute_result"
    }
   ],
   "source": [
    "article_text = \"\"\n",
    "\n",
    "try:\n",
    "    article_text = driver.find_element(By.CSS_SELECTOR, \"#detailContent\")\n",
    "    article_text = article_text.text\n",
    "except:\n",
    "    pass\n",
    "\n",
    "article_text"
   ],
   "metadata": {
    "collapsed": false
   }
  },
  {
   "cell_type": "code",
   "execution_count": 18,
   "metadata": {},
   "outputs": [],
   "source": [
    "#potentially the url might be a broken link\n",
    "def get_article_details(url):\n",
    "    driver.get(url)\n",
    "\n",
    "    #title\n",
    "    title = \"\"\n",
    "\n",
    "    try:\n",
    "        title = driver.find_element(By.CSS_SELECTOR, \"h1\")\n",
    "        title = title.text\n",
    "    except:\n",
    "        pass\n",
    "\n",
    "    #source\n",
    "    source = \"\"\n",
    "\n",
    "    try:\n",
    "        source = driver.find_element(By.CSS_SELECTOR, \".source\")\n",
    "        source = source.text\n",
    "        source = str.strip(source.split(\":\")[1])\n",
    "    except:\n",
    "        pass\n",
    "\n",
    "\n",
    "    #editor\n",
    "    editor = \"\"\n",
    "\n",
    "    try:\n",
    "        editor = driver.find_element(By.CSS_SELECTOR, \".editor\")\n",
    "        editor = editor.text\n",
    "        editor = str.strip(editor.split(\":\")[1])\n",
    "    except:\n",
    "        pass\n",
    "\n",
    "\n",
    "    #datetime\n",
    "    article_date = \"\"\n",
    "\n",
    "    try:\n",
    "        article_date = driver.find_element(By.CSS_SELECTOR, \".time\")\n",
    "        article_date = article_date.text\n",
    "    except:\n",
    "        pass\n",
    "\n",
    "\n",
    "    #text\n",
    "    article_text = \"\"\n",
    "\n",
    "    try:\n",
    "        article_text = driver.find_element(By.CSS_SELECTOR, \"#detailContent\")\n",
    "        article_text = article_text.text\n",
    "    except:\n",
    "        pass\n",
    "    \n",
    "    return (url, title, source, editor, article_date, article_text)\n"
   ]
  },
  {
   "cell_type": "code",
   "execution_count": 19,
   "metadata": {},
   "outputs": [
    {
     "data": {
      "text/plain": "('https://english.news.cn/20220707/2ea4c1dbe99144fd8ec0f821dc6cafc1/c.html',\n 'British PM Johnson resigns',\n 'Xinhua',\n 'huaxia',\n '2022-07-07 21:06:59',\n 'File photo taken on Feb. 10, 2022 shows British Prime Minister Boris Johnson at NATO headquarters in Brussels, Belgium. Boris Johnson resigned as British prime minister and the leader of the Conservative Party in a statement to the country on Thursday.\\nHe said he will continue to serve as prime minister until a new Tory leader is chosen. (Xinhua/Zheng Huansong)\\nLONDON, July 7 (Xinhua) -- Boris Johnson resigned as British prime minister and the leader of the Conservative Party in a statement to the country on Thursday.\\nHe said he will continue to serve as prime minister until a new Tory leader is chosen.\\n\"The will of the parliamentary party is clear and the process for choosing a new leader should begin,\" he said, adding that the timetable for choosing a new leader will be announced next week.\\nHe said he has appointed a Cabinet to serve during the interim period and he will serve \"until a new leader is in place.\"\\nJohnson\\'s exit came amid an avalanche of ministerial resignations over his scandal-hit leadership since Tuesday. The number of resignations from his government exceeded 50 by Thursday morning, according to a tally by British media. On Tuesday, Sajid Javid and Rishi Sunak resigned from their posts as health secretary and chancellor of the exchequer, respectively.\\nThe prime minister has been dogged by a seemingly endless string of scandals for months, and the Tories worry the party\\'s future in the next general elections in 2024 is on the line.\\nJohnson became the first serving British prime minister in history to break the law after receiving a fine from the police for attending a party in 2020 during the country\\'s COVID-19 lockdown.\\nThough he survived a no-confidence vote recently within his Conservative Party over the so-called Partygate scandal, over 40 percent of his own party voted against him and the forces that want him to go have been gaining momentum following more untoward revelations.\\nThe latest scandal involved Johnson\\'s appointment of lawmaker Christopher Pincher to deputy chief whip despite being informed of formal complaints about his alleged sexual misconduct. ■\\nFile photo taken on Jan. 19, 2022 shows British Prime Minister Boris Johnson leaving 10 Downing Street in London, Britain. Boris Johnson resigned as British prime minister and the leader of the Conservative Party in a statement to the country on Thursday.\\nHe said he will continue to serve as prime minister until a new Tory leader is chosen. (Photo by Stephen Chung/Xinhua)\\nBritish Prime Minister Boris Johnson makes a statement in front of 10 Downing Street in London, Britain, July 7, 2022. Boris Johnson resigned as British prime minister and the leader of the Conservative Party in a statement to the country on Thursday.\\nHe said he will continue to serve as prime minister until a new Tory leader is chosen. (Xinhua/Li Ying)\\nBritish Prime Minister Boris Johnson leaves after making a statement in front of 10 Downing Street in London, Britain, July 7, 2022. Boris Johnson resigned as British prime minister and the leader of the Conservative Party in a statement to the country on Thursday.\\nHe said he will continue to serve as prime minister until a new Tory leader is chosen. (Xinhua/Li Ying)\\nBritish Prime Minister Boris Johnson returns to 10 Downing Street after his statement in London, Britain, July 7, 2022. Boris Johnson resigned as British prime minister and the leader of the Conservative Party in a statement to the country on Thursday.\\nHe said he will continue to serve as prime minister until a new Tory leader is chosen. (Xinhua/Han Yan)')"
     },
     "execution_count": 19,
     "metadata": {},
     "output_type": "execute_result"
    }
   ],
   "source": [
    "article = get_article_details(\"https://english.news.cn/20220707/2ea4c1dbe99144fd8ec0f821dc6cafc1/c.html\")\n",
    "article\n"
   ]
  },
  {
   "cell_type": "code",
   "execution_count": 20,
   "metadata": {},
   "outputs": [
    {
     "data": {
      "text/plain": "('https://english.news.cn/20220706/4055513625634add999adc44f7bb68c4/c.html',\n 'Feature: Virtual \"bird-woman\" ambassador spreads Dunhuang culture',\n 'Xinhua',\n 'huaxia',\n '2022-07-06 20:57:59',\n 'People visit the Mogao Grottoes, a UNESCO World Heritage site, in Dunhuang, northwest China\\'s Gansu Province. (Xinhua/Zhang Yujie)\\nLANZHOU, July 6 (Xinhua) -- Originated from a half-woman, half-bird creature on millennia-old murals, Jiayao has become the official virtual cartoon figure of Mogao Grottoes, a UNESCO World Heritage site in Dunhuang, northwest China\\'s Gansu Province.\\nJiayao appears as a girl wearing traditional robes with feathers sprouted from her back. The animation depicts her experience with the relics and interactions with other characters from the murals.\\nAs Dunhuang culture\\'s digital ambassador, Jiayao was developed by the Dunhuang Academy, an institution responsible for the conservation, management, and research of the Mogao Grottoes and other cultural relics.\\nWhile on the caisson ceiling of cave No. 360 of Mogao Grottoes, her prototype with a human upper body, wings, and a bird-like lower body, plays the Chinese musical instrument pipa. The creature is believed to have a charming voice.\\n\"Dunhuang culture is profound with some elements that are difficult to understand. Introducing new media and technologies can provide more gateways to traditional culture,\" said Du Juan, deputy director of the media center of Dunhuang Academy.\\nThe millennia-old Mogao Grottoes are home to a vast collection of Buddhist artworks -- more than 2,000 colored sculptures and 45,000 square meters of murals are located in 735 caves, carved along the cliffs by ancient worshippers.\\nDu said the academy has made efforts to spread and personify the culture with Jiayao. The virtual figure has dynamic facial expressions and can perform the Dunhuang dance, with her hair, clothes and accessories swaying with the wind.\\nAccording to the academy, in the future, Jiayao will acquire knowledge with the help of AI technology, host livestreaming sessions, and interactively tell online tourists stories of Silk Road and Dunhuang.\\nA digitalization project was inaugurated to create digital versions of the Mogao Grottoes in the 1990s, and the Digital Dunhuang website started displaying 3D images of caves in 2016. Last month, the internet giant Tencent said it plans to apply gaming technology with digital renderings of the ancient classics in grottoes.\\nAccording to an initiative released by curators and scholars across China this March, museums should move toward metaverse and explore its applications.\\n\"In the future, when entering the metaverse of Mogao Grottoes, audiences can appreciate sculptures and murals at any angle at any time,\" said Duan Yong, one of the initiators and a professor at Shanghai University. \"They can also play a role as a historical or legendary figure and go back to ancient time through time travel.\"\\nIn a cartoon plot, Jiayao said, \"Over the past one thousand years, I have witnessed people who intended to preserve and those who destroyed Mogao Grottoes. In the next millennium, Dunhuang culture will be inherited and we should strive for the caves\\' future.\"\\nAccording to Duan, the metaverse will make museums exist permanently in a digital form and can provide them with diversified application scenarios. ■\\nThis undated photo provided by the Dunhuang Academy shows the prototype of Jiayao, the official virtual cartoon figure of Mogao Grottoes, with a human upper body, wings, and a bird-like lower body, playing the Chinese musical instrument pipa, on the caisson ceiling of cave No. 360 of Mogao Grottoes in Dunhuang, northwest China\\'s Gansu Province. (Dunhuang Academy/Handout via Xinhua)')"
     },
     "execution_count": 20,
     "metadata": {},
     "output_type": "execute_result"
    }
   ],
   "source": [
    "article = get_article_details(\"https://english.news.cn/20220706/4055513625634add999adc44f7bb68c4/c.html\")\n",
    "article\n"
   ]
  },
  {
   "cell_type": "markdown",
   "metadata": {},
   "source": [
    "#### ❓Q4.\n",
    "\n",
    "Combine the above functions to automate extraction of articles on the site by going to every category and store the results into a Pandas Dataframe. Do you notice any issue with any of the above functions? If so, go back and fix it."
   ]
  },
  {
   "cell_type": "code",
   "execution_count": 21,
   "metadata": {},
   "outputs": [
    {
     "data": {
      "text/plain": "[('https://english.news.cn/photo/index.htm', 'Photos'),\n ('https://english.news.cn/sports/index.htm', 'Sports'),\n ('https://spanish.news.cn/index.htm', 'Español'),\n ('https://jp.news.cn/index.htm', '日本語')]"
     },
     "execution_count": 21,
     "metadata": {},
     "output_type": "execute_result"
    }
   ],
   "source": [
    "#TODO\n",
    "categories = get_categories()\n",
    "categories = list(categories)[5:9]\n",
    "categories\n",
    "\n"
   ]
  },
  {
   "cell_type": "code",
   "execution_count": 22,
   "metadata": {},
   "outputs": [
    {
     "name": "stdout",
     "output_type": "stream",
     "text": [
      "## getting links fromPhotos...\n",
      "###obtained 22links!\n",
      "## getting links fromSports...\n",
      "Page: 1...\n",
      "###obtained 22links!\n",
      "## getting links fromEspañol...\n",
      "###obtained 26links!\n",
      "## getting links from日本語...\n",
      "###obtained 25links!\n"
     ]
    }
   ],
   "source": [
    "articles = []\n",
    "\n",
    "for category in categories:\n",
    "    category_url , category_title = category\n",
    "    print(f\"## getting links from{category_title}...\")\n",
    "    links = get_article_links(category_url, 1)\n",
    "    print(f\"###obtained {len(links)}links!\")\n",
    "\n",
    "    for link in links[:5]:\n",
    "        article = get_article_details(link)\n",
    "        articles.append(article)\n",
    "\n",
    "        time.sleep(0.5)\n",
    "\n",
    "    time.sleep(0.5)\n"
   ]
  },
  {
   "cell_type": "code",
   "execution_count": 23,
   "outputs": [
    {
     "data": {
      "text/plain": "[('https://english.news.cn/20240710/40f1590ad16248f7a03ce461e38fa16f/c.html',\n  \"Guinea-Bissau president lays wreath at Monument to People's Heroes in Beijing\",\n  'Xinhua',\n  'huaxia',\n  '2024-07-10 15:36:17',\n  \"President of Guinea-Bissau Umaro Sissoco Embalo lays a wreath at the Monument to the People's Heroes on the Tian'anmen Square in Beijing, capital of China, July 10, 2024. (Xinhua/Li Xiang)\"),\n ('https://english.news.cn/20240710/6834419438d247268cb6da73401de4ad/c.html',\n  'Report shows excellent environmental quality of Huangyan Dao area',\n  'Xinhua',\n  'huaxia',\n  '2024-07-10 10:35:45',\n  'This photo taken on July 10, 2024 shows the Chinese and English copies of a report titled \"The Investigation and Assessment Report on Marine Ecology and Environment Status of Huangyan Dao\" in Beijing, capital of China. China\\'s Huangyan Dao area in the South China Sea enjoys excellent environmental quality and healthy coral reef ecosystem, said a report released on Wednesday. The report was jointly released by multiple institutions under the Ministry of Ecology and Environment, the Chinese Academy of Sciences and the Guangxi University. (Xinhua/Zhang Yuwei)\\nBEIJING, July 10 (Xinhua) -- China\\'s Huangyan Dao area in the South China Sea enjoys excellent environmental quality and healthy coral reef ecosystem, said a report released on Wednesday.\\nThe Investigation and Assessment Report on Marine Ecology and Environment Status of Huangyan Dao was jointly released by multiple institutions under the Ministry of Ecology and Environment, the Chinese Academy of Sciences and the Guangxi University.\\nThe findings the report present are based on an on-site investigation conducted in May and June on various aspects of the marine ecology and environment in the Huangyan Dao area including seawater quality, coral communities and reef dwelling fish, as well as the comprehensive analysis and assessment utilizing previous scientific expeditions, research outcomes and satellite remote sensing survey results of the area. ■\\nA report titled \"The Investigation and Assessment Report on Marine Ecology and Environment Status of Huangyan Dao\" is released in Beijing, capital of China, July 10, 2024.\\nChina\\'s Huangyan Dao area in the South China Sea enjoys excellent environmental quality and healthy coral reef ecosystem, said a report released on Wednesday. The report was jointly released by multiple institutions under the Ministry of Ecology and Environment, the Chinese Academy of Sciences and the Guangxi University. (Xinhua/Zhang Yuwei)\\nThis photo taken on July 10, 2024 shows the Chinese and English copies of a report titled \"The Investigation and Assessment Report on Marine Ecology and Environment Status of Huangyan Dao\" in Beijing, capital of China.\\nChina\\'s Huangyan Dao area in the South China Sea enjoys excellent environmental quality and healthy coral reef ecosystem, said a report released on Wednesday. The report was jointly released by multiple institutions under the Ministry of Ecology and Environment, the Chinese Academy of Sciences and the Guangxi University. (Xinhua/Zhang Yuwei)'),\n ('https://english.news.cn/20240627/ce3a226c3e1d495cb7bd8c2a9a1a85cc/c.html',\n  \"In pics: Zuhair Murad's Fall/Winter 2024-2025 Haute Couture collections at Paris Fashion Week\",\n  'Xinhua',\n  'huaxia',\n  '2024-06-27 07:57:59',\n  \"A model presents a creation of Zuhair Murad's Fall/Winter 2024-2025 Haute Couture collections during Paris Fashion Week in Paris, France, on June 26, 2024. (MeetEurope/Handout via Xinhua)\\nA model presents a creation of Zuhair Murad's Fall/Winter 2024-2025 Haute Couture collections during Paris Fashion Week in Paris, France, on June 26, 2024. (MeetEurope/Handout via Xinhua)\\nA model presents a creation of Zuhair Murad's Fall/Winter 2024-2025 Haute Couture collections during Paris Fashion Week in Paris, France, on June 26, 2024. (MeetEurope/Handout via Xinhua)\\nA model presents a creation of Zuhair Murad's Fall/Winter 2024-2025 Haute Couture collections during Paris Fashion Week in Paris, France, on June 26, 2024. (MeetEurope/Handout via Xinhua)\\nA model presents a creation of Zuhair Murad's Fall/Winter 2024-2025 Haute Couture collections during Paris Fashion Week in Paris, France, on June 26, 2024. (MeetEurope/Handout via Xinhua)\\nA model presents a creation of Zuhair Murad's Fall/Winter 2024-2025 Haute Couture collections during Paris Fashion Week in Paris, France, on June 26, 2024. (MeetEurope/Handout via Xinhua)\\nA model presents a creation of Zuhair Murad's Fall/Winter 2024-2025 Haute Couture collections during Paris Fashion Week in Paris, France, on June 26, 2024. (MeetEurope/Handout via Xinhua)\\nA model presents a creation of Zuhair Murad's Fall/Winter 2024-2025 Haute Couture collections during Paris Fashion Week in Paris, France, on June 26, 2024. (MeetEurope/Handout via Xinhua)\\nA model presents a creation of Zuhair Murad's Fall/Winter 2024-2025 Haute Couture collections during Paris Fashion Week in Paris, France, on June 26, 2024. (MeetEurope/Handout via Xinhua)\"),\n ('https://english.news.cn/20240710/06ae73562a9343b58ffd1341cd83a6cc/c.html',\n  'In pics: Bohemia JazzFest 2024 in Prague',\n  'Xinhua',\n  'huaxia',\n  '2024-07-10 09:16:08',\n  'Musicians perform during the Bohemia JazzFest 2024 in Prague, the Czech Republic, on July 9, 2024. (Photo by Dana Kesnerova/Xinhua)\\nMusicians perform during the Bohemia JazzFest 2024 in Prague, the Czech Republic, on July 9, 2024. (Photo by Dana Kesnerova/Xinhua)'),\n ('https://english.news.cn/20221017/139a768d90e74c2ba3f6c45740be3531/c.html',\n  'Contact us',\n  'Xinhuanet',\n  'huaxia',\n  '2022-10-17 14:50:01',\n  'Address: XINHUANET Co., Ltd, Jinyu Mansion, 129 Xuanwumen Xidajie, Beijing, China, 100031\\nEmail: xinhuanet_english@news.cn'),\n ('https://english.news.cn/20240709/783a35123175403d8dfb48ccb9b61475/c.html',\n  'Euro 2024: Kane shows optimism ahead of semi against the Netherlands',\n  'Xinhua',\n  'huaxia',\n  '2024-07-09 19:39:45',\n  'By Oliver Trust\\nBERLIN, July 9 (Xinhua) -- Ahead of the semifinal against the Netherlands on Wednesday, Three Lions captain Harry Kane seems short on goals, with only two in the previous five games.\\nDespite this, there is no reason for greater concern from the 30-year-old\\'s perspective. \"We have reached the last four. We must be doing a fairly good job then,\" he said.\\nThe striker has never been short on optimism, even during difficult times when scoring wasn\\'t easy. \"You always get stuck in times when things don\\'t work as you want,\" he said. \"Patience is the answer to every attacker\\'s goal drought.\"\\nWith 36 league goals and ten assists in Germany\\'s top flight, expectations were high for Kane\\'s Euro campaign. However, with only two goals in five Euro games, the England star has faced criticism at home. He remains calm, though.\\nEngland coach Gareth Southgate praises Kane\\'s soft skills as one of his key strengths. \"He might not be in the best form currently, but his value to the team is immense,\" Southgate said.\\nDespite being substituted twice against Slovakia and Switzerland in the knockout stage, Kane\\'s position in England\\'s starting 11 seems secure. His transfer to Bayern and the German league last summer may have been a burden. Despite winning the Golden Boot in the German league, his team missed out on the national title, the German Cup, and the Champions League.\\nCuriously, the Euro provides a chance for Kane to win his first title this season. \"It\\'s been a while since we won something with England, and everyone knows how hard the tournament is,\" he said.\\nSweet memories encourage the forward not to give up. \"A striker remembers all his goals. That gives you confidence,\" he said.\\nInstead of spreading disappointment, Kane relies on self-confidence and optimism. \"We have the true feeling that we can create something exceptional,\" he said. A few more goals might help open doors for winning the trophy. ■'),\n ('https://english.news.cn/20221017/139a768d90e74c2ba3f6c45740be3531/c.html',\n  'Contact us',\n  'Xinhuanet',\n  'huaxia',\n  '2022-10-17 14:50:01',\n  'Address: XINHUANET Co., Ltd, Jinyu Mansion, 129 Xuanwumen Xidajie, Beijing, China, 100031\\nEmail: xinhuanet_english@news.cn'),\n ('https://english.news.cn/20230130/3f2ba4b7cd214a209dda790ddbdcb620/c.html',\n  'About us',\n  'Xinhua',\n  'huaxia',\n  '2023-01-30 16:02:35',\n  \"Xinhuanet is the web portal for news and information services of Xinhua News Agency. It is China's most influential online media and a Chinese website with global influence.\\nXinhuanet serves as an important window for the world to understand China, providing authoritative and timely global news and information service 24 hours a day. On average, it releases some 15,000 media publications per day in Chinese, English, French, Spanish, Russian, Arabic, Japanese, Korean, German, Portuguese, and Mongolian Cyrillic.\\n  Contact us\\nAddress: XINHUANET Co., Ltd, Jinyu Mansion, 129 Xuanwumen Xidajie, Beijing, China, 100031\\nEmail: xinhuanet_english@news.cn\"),\n ('https://english.news.cn/20240710/8c9d4a0ba1844bb2b501958dcf6556eb/c.html',\n  'Messi: Copa America final might be his last chance',\n  'Xinhua',\n  'huaxia',\n  '2024-07-10 16:22:45',\n  'NEW JERSEY, July 10 (Xinhua) -- Argentina captain Lionel Messi admitted that the Copa America final on Sunday might be his last chance to win another major trophy for his country.\\nThe Albiceleste advanced into the continental tournament\\'s title decider by overcoming Canada 2-0 in their semifinal on Tuesday.\\n\"I am 37 now, and it\\'s getting more difficult, so we have to enjoy the moment,\" Messi said after the match at MetLife Stadium in New Jersey, which will also be the venue for the final.\\nMessi said Argentina had withstood intense pressure to reach a third consecutive final at a major tournament following the side\\'s 2021 Copa America and 2022 World Cup triumphs.\\n\"It\\'s not easy to get to another final,\" the eight-time Ballon d\\'Or winner said. \"It\\'s difficult to achieve what we\\'ve done. That\\'s why we have to make the most of it and try to enjoy the moment.\"\\nMessi, who scored his first goal of this tournament against Les Rouges, said he had reminded his teammates before Tuesday\\'s match that veteran winger Angel Di Maria would retire after the tournament.\\n\"I think he [Di Maria] deserves to say goodbye in a final and in the best way possible,\" Messi said. \"Time marches on, and I\\'m aware that this could be the last final that we have as a group.\" ■'),\n ('https://english.news.cn/20240710/bda2d62297a74bc4bbdfbd1c443f8575/c.html',\n  \"Paris 2024 Athletics Preview: US eyes lion's share, Duplantis poised for spotlight\",\n  'Xinhua',\n  'huaxia',\n  '2024-07-10 10:11:30',\n  'BEIJING, July 10 (Xinhua) -- Boosted by a series of world-leading performances, and even a world record, in their highly competitive national Olympic trials, US track and field athletes are ready to maintain their dominance in the upcoming Paris Olympics.\\nNoah Lyles is one of the biggest stars in the American team. The 26-year-old sprinter collected men\\'s 100m, 200m and 4x100m gold medals at the World Championships in Budapest last year, making him the first man to manage the feat since Jamaican legend Usain Bolt\\'s retirement.\\nAnd Lyles has never hidden his ambition for another triple collection in Paris. During the US trials last month, he also showed that he gets the right form, as well, by breezing to a 9.83s victory to equal with his 100m personal best time and winng the 200m race in a world-leading time of 19.53s.\\nWorld champion Sha\\'Carri Richardson took the women\\'s 100m title with a world-leading of 10.71s to clinch her Olympic spot. It will be the first Olympic Games for the 24-year-old and she will be aiming for the gold medal not only in the 100m event but also in the 4x100m relay.\\nWomen\\'s 400m hurdler Sydney McLaughlin-Levrone will also arrive in Paris with high spirit. The defending Olympic champion clocked 50.65s to win at the US trials, chopping 0.03s off her own world record.\\nWith her 200m PB set two months ago and a 400m world leading time of 48.75 achieved last month, the in-form hurdler might be eyeing more than just the gold medal.\\nThree years ago, she also set a world record at the national trials ahead of the Tokyo Olympic Games, and went on to further improve it en routing to grabbing the gold on the Olympic track.\\nAs the Americans are expecting a big medal haul in Paris, the American-born Swedish Armand Duplantis may easily take the spotlight, as long as the pole vault sensation can repeat the competition routine he usually did - securing the victory early and raising the bar to a height that is one centimeter higher than his own world record.\\nAnd for now, the height should be 6.25m after he soared to his eighth world record of 6.24m at the season opener in China\\'s Xiamen on April 20.\\n\"A new record will be nice in Paris, but I think the most important thing is to win and take back home the gold. That\\'s the most important thing when it\\'s a competition like the Olympics. But if I could break the record too, then that would be amazing,\" said Duplantis in a previous interview with Xinhua.\\n\"I hope that I will be in my best possible shape when I get there, which I think is going be the case,\" he added.\\nLike Duplantis, China\\'s Olympic shot put champion Gong Lijiao is also looking to reach her best level in Paris.\\nThe 35-year-old will compete in her fifth Olympic Games next month. After collecting a silver, a bronze, and a fourth-place finish in her first three Olympic outings from 2008 to 2016, the Hebei native finally reached the top podium in Tokyo with a career-best mark of 20.58 meters.\\nFollowing the Tokyo Games, Gong experienced fluctuations in her form, finishing second and third in the 2022 and 2023 World Championships, respectively. This season, she has yet to return to her best shape, with a season-best mark of 20.00 meters set at the FBK Games in Hengelo, the Netherlands.\\n\"I think if you want to win the gold medal at the Olympic Games, you need to throw at least around 20.50 meters,\" said Gong, who has been training with her coach Dieter Kollark in Europe since early June. \"Step by step, I need to keep improving my mark, and I believe even at my age, I still have the strength to vie for the gold in Paris.\"\\nGong\\'s main rivals in Paris include reigning two-time world champion Chase Jackson of the United States, who has a personal best of 20.76 meters, Canada\\'s world silver medalist Sarah Mitton, who achieved a national record of 20.68 meters two months ago, and Jessica Schilder of the Netherlands, who recently set a national record of 20.33 meters in Hengelo.\\nThe 37-year-old Chinese race walker Liu Hong, 2016 Rio Olympics gold medalist in the women\\'s 20km event, will also compete in her fifth Games in Paris. Following the 2019 World Championships in Doha, where Liu led a Chinese podium sweep in the 20km event, China\\'s race walkers have yet to win any titles in either the Olympic Games or World Championships. Liu and her teammates are eager to end this title drought.\\nLiu, along with teammates Yang Jiayu, the world record holder and 2017 world champion, and 2022 World Race Walking Cup champion Ma Zhenxia, will face a strong field in the women\\'s 20km race walk event. Competitors include Spain\\'s world champion Maria Perez and Kimberly Garcia Leon of Peru. Ma and Yang may have a better chance than Liu to fight for the gold medal.\\nLiu and Qieyang Shijie, the third Olympic champion in the Chinese squad who recently received her reallocated 20km race walk gold medal from the 2012 London Olympics, will also compete in the newly introduced Olympic event of the marathon race walk mixed relay with male race walkers Zhang Jun and He Xianghong.\\nBoth Liu and Qieyang have demonstrated their strength in long-distance events, with Liu holding the women\\'s 50km race walk world record and Qieyang finishing third in the 35km event at the 2022 World Championships in Oregon, the United States.\\nWomen\\'s discus world champion Feng Bin is another athlete to watch in the Chinese team. The 30-year-old achieved a surprising victory at the Oregon World Championships with a personal best of 69.12 meters and has maintained consistent form this season, achieving over-67m marks in her previous six competitions, winning four of them.\\nThe Chinese 54-strong squad also includes men\\'s long jump world champion Wang Jianan and men\\'s triple jump Olympic runner-up Zhu Yaming. However, both athletes have been struggling to fine-tune their form in recent months.\\nNotably absent from the squad are Liu Shiying, who won the women\\'s javelin gold at the Tokyo Olympics, and Su Bingtian, who set an Asian record of 9.83 seconds to reach the men\\'s 100m final in Tokyo three years ago and took bronze with the men\\'s 4x100m relay team. Su has been plagued by injury and fitness problems in recent seasons. ■'),\n ('https://spanish.news.cn/20240710/20ddabebd76f467dacd4b88c9c998fdc/c.html',\n  'Hutíes de Yemen reivindican ataques contra 3 barcos de EEUU e Israel',\n  '',\n  '',\n  '',\n  'SANÁ, 9 jul (Xinhua) -- El grupo hutí de Yemen dijo hoy que atacó tres barcos propiedad de Estados Unidos y de Israel en el mar Arábigo y el golfo de Adén.\\nLos barcos atacados fueron Maersk Sentosa, Marthopolis y MSC Patnaree, indicó el vocero militar hutí Yahya Sarea en una declaración transmitida por la televisión hutí Al-Masirah.\\nEn la primera operación \"se atacó el barco estadounidense Maersk Sentosa en el mar Arábigo con varios misiles balísticos y alados\", dijo Sarea.\\nEn la segunda operación \"se atacó el barco Marthopolis en el mar Arábigo con drones\" debido a que la compañía propietaria había entrado a un puerto de Israel, indicó.\\nEn la tercera operación se atacó \"el barco israelí MSC Patnaree en el golfo de Adén con varios drones\", dijo el vocero y añadió que \"las tres operaciones lograron sus objetivos con éxito y los impactos fueron directos y precisos\".\\n\"Nuestras operaciones no cesarán hasta que la agresión israelí y el asedio contra el pueblo palestino en la Franja de Gaza se detengan\", añadió.\\nEstos son los más recientes en una serie de ataques hutíes contra barcos que transitan cerca de Yemen desde que comenzó el conflicto israelí-palestino el año pasado.\\nEl grupo hutí, que controla gran parte de Yemen, empezó en noviembre del año pasado a lanzar misiles balísticos antibuque y drones contra lo que, afirma, han sido barcos vinculados con Israel que transitan por el mar Rojo, con el fin de demostrar su solidaridad con los palestinos de la Franja de Gaza.\\nEn respuesta, la coalición naval estadounidense-británica estacionada en estas aguas empezó a realizar desde enero ataques aéreos y ataques con misiles contra objetivos hutíes, lo cual sólo condujo a la expansión de los ataques hutíes para incluir barcos comerciales y navales de Estados Unidos y Reino Unido. '),\n ('https://spanish.news.cn/20240710/59e82ed1f5a343a18f4c303dcbcdd771/c.html',\n  'ESPECIAL: Ganadores españoles del concurso \"Puente Chino\" se preparan con ilusión para viajar a la final internacional en China',\n  '',\n  '',\n  '',\n  'MADRID, 10 jul (Xinhua) -- Desde la caligrafía hasta el baile, pasando por la pintura y la fonética, los tres ganadores españoles del concurso de idioma y cultura chinos \"Puente Chino\" pasan el verano preparando ilusionados su participación en la final internacional del certamen, que se celebrará en el país asiático durante los próximos meses.\\nIrene Santana, vencedora en la categoría de educación primaria (6-12 años), Óscar Aljama, en secundaria (12-18), y Rodrigo Mirabent, en universitarios (18-30), contaron esta semana a Xinhua los motivos que los llevaron a aprender chino y los preparativos ante el que será, para los tres, su primer viaje al país asiático.\\n\"Es una cultura fascinante, ya que puedes aprender muchísimo a través de su historia, filosofía y sus ancestrales tradiciones\", resaltó Aljama, que comenzó a estudiar chino hace tan solo dos años.\\nExplicó que uno de sus puntos fuertes \"es la caligrafía\". Y que está llevando la preparación \"con estudio diario, esfuerzo y una gran ayuda por parte del Instituto Confucio, que siempre que no entiendo algo, están dispuestos a resolver mis dudas\".\\nMirabent, que comenzó a estudiar chino ya en la universidad, señaló que una de sus fortalezas \"es la pintura china, que desde pequeño empecé a aprender. A día de hoy, se ha convertido en una destreza fundamental que no pienso dejar de explorar nunca\".\\nEl estudiante del Instituto Confucio de la Universidad de Granada, donde cursa traducción e interpretación, añadió que \"aunque la lengua parezca complicada, simplemente teniendo en cuenta que se aprende de forma distinta a otros idiomas, no hay que temerla. Es una llave que abre una puerta muy valiosa y por la que merece la pena esforzarse\".\\nSantana, la \"benjamina\" del trío y estudiante del Instituto Confucio de la Universidad de las Palmas de Gran Canaria, empezó a aprender chino en primero de primaria en el colegio y cuenta que tiene especial destreza en \"la pronunciación y cantar\".\\nDurante sus años de estudio, remarcó, ha ido descubriendo otras facetas de la cultura china como \"la gastronomía, el baile, los caracteres y las celebraciones del país\".\\nA la final nacional, que se celebró a finales de mayo en Granada (sur), llegaron 25 contendientes, que enfrentaron tres pruebas: una presentación oral temática, conocimientos de la cultura china y talento en artes tradicionales chinas.\\nLos tres ganadores tienen ahora la oportunidad de viajar a China para la fase final internacional que se celebrará en los próximos meses.\\n\"Este viaje está despertando en mí muchas emociones, el viaje, mi llegada, conocer al resto de participantes, sus culturas, el concurso, conocer a las personas\", afirmó Aljama. \"Son viajes que nunca se olvidan y si lo disfrutas en familia, mejor aún\", agregó.\\nMirabent confesó que \"aunque, por un lado, la incertidumbre del concurso es un poco abrumadora\", lo está afrontando \"con mucha ilusión\" y está convencido de que \"va a ser un viaje precioso, inolvidable y que va a marcar mi vida\".\\n\"Es la primera vez que voy a China y estoy muy ilusionada porque la cultura china me encanta\", expresó, entre tanto, Santana.\\nSegún Mirabent, que dice estar cautivado por la fonética china, \"hay muchos incentivos para aprender chino a día de hoy: el país es una potencia mundial, la gastronomía es única y muy variada, el ámbito literario, cinematográfico y tecnológico (...)\".\\n\"A través del chino he tenido acceso a personas maravillosas que forman parte de mi vida y que, de no ser por estudiar chino, nunca hubiera conocido. Además, la maravillosa gastronomía con la que cuenta el país, los paisajes tan preciosos de montañas y ríos, la hospitalidad que tiene China con los extranjeros\", concluyó.'),\n ('https://spanish.news.cn/20240710/a1e35712eb5c405492fbacc5fe3861e1/c.html',\n  'Accidente deja 18 muertos en Uttar Pradesh, la India',\n  '',\n  '',\n  '',\n  'NUEVA DELHI, 10 jul (Xinhua) -- Al menos 18 personas murieron y varias otras resultaron heridas el miércoles tras una colisión entre un autobús y un contenedor de leche en el estado norteño Uttar Pradesh de la India, según la Policía.'),\n ('https://spanish.news.cn/20240710/942531588ce74e57866190f375dd4024/c.html',\n  'Xi se reúne con primera ministra de Bangladesh',\n  '',\n  '',\n  '',\n  'BEIJING, 10 jul (Xinhua) -- El presidente chino, Xi Jinping, se reunió hoy miércoles en Beijing con la primera ministra de la República Popular de Bangladesh, Sheikh Hasina, en el Gran Palacio del Pueblo.'),\n ('https://spanish.news.cn/20240709/b53bf585ee684cf2be1ec2b5e10f7a9d/c.html',\n  'Se lleva a cabo el Foro de Desarrollo Verde de los países de la OCS',\n  '',\n  '',\n  '',\n  ' QINGDAO, 8 julio, 2024 (Xinhua) -- Una participante toma fotografías en el área de exposiciones del Foro de Desarrollo Verde de los países de la Organización de Cooperación de Shanghai (OCS), en Qingdao, en la provincia de Shandong, en el este de China, el 8 de julio de 2024. El Foro de Desarrollo Verde de los países de la OCS abrió aquí el lunes. (Xinhua/Li Ziheng)\\nQINGDAO, 8 julio, 2024 (Xinhua) -- Participantes visitan el área de exposiciones del Foro de Desarrollo Verde de los países de la Organización de Cooperación de Shanghai (OCS), en Qingdao, en la provincia de Shandong, en el este de China, el 8 de julio de 2024. El Foro de Desarrollo Verde de los países de la OCS abrió aquí el lunes. (Xinhua/Li Ziheng)\\nQINGDAO, 8 julio, 2024 (Xinhua) -- La ceremonia de apertura del Foro de Desarrollo Verde de los países de la Organización de Cooperación de Shanghai (OCS) se lleva a cabo, en Qingdao, en la provincia de Shandong, en el este de China, el 8 de julio de 2024. El Foro de Desarrollo Verde de los países de la OCS abrió aquí el lunes. (Xinhua/Li Ziheng)\\nQINGDAO, 8 julio, 2024 (Xinhua) -- Voluntarias posan para una fotografía en el Foro de Desarrollo Verde de los países de la Organización de Cooperación de Shanghai (OCS), en Qingdao, en la provincia de Shandong, en el este de China, el 8 de julio de 2024. El Foro de Desarrollo Verde de los países de la OCS abrió aquí el lunes. (Xinhua/Li Ziheng)'),\n ('https://jp.news.cn/20240511/2c37afda7d134c259bbeb51645a9951e/c.html',\n  'コスタリカ人留学生、モバイル決済に感嘆\\u3000「中国は何でも便利」',\n  '',\n  '',\n  '',\n  '0:00\\n/0:00\\n   【新華社杭州５月１１日】中国はここ数年、外国人が来やすくなるような一連の政策や措置を打ち出し、中国での就労、留学、生活、旅行に関わる効率的で便利な行政サービスの提供に努めている。浙江省杭州市の浙江大学で学ぶコスタリカ出身の留学生、ホセ・ルイス・フォンセカ・コネホさんは、中国の便利なモバイル決済や効率的なネットショッピング、宅配サービスに感銘を受けているという。もっと多くの外国人に中国を訪れ、こうした便利な生活スタイルを実際に体験してほしいと語る。'),\n ('https://jp.news.cn/20240709/ac9dfbe5474d48d6b0db36e5dda3fe2e/c.html',\n  '仏動物園でパリ五輪聖火リレー\\u3000パンダも立ち会う',\n  '',\n  '',\n  '',\n  '   ８日、聖火リレーのランナーを務めるボーバル動物園のルドルフ・ドロール園長（右）とフランス人海洋冒険家のモード・フォントノワ氏。背後に写るのは双子のパンダ「歓黎黎」と「円嘟嘟」。（サンテニャン＝新華社配信／ボーバル動物園提供）\\n   【新華社サンテニャン７月１０日】フランス中部ロワール・エ・シェール県のボーバル動物園で８日、パリ五輪の聖火リレーが行われ、ジャイアントパンダの「円仔（ユエンズ）」「歓黎黎（ホワンリーリー）」「円嘟嘟（ユエンドゥードゥー）」が歴史的な瞬間に立ち会った。\\n12345>'),\n ('https://jp.news.cn/20240710/9852b72f41d34a61b7e87d59df76e26f/c.html',\n  '伝統村落で夏の夕べを満喫\\u3000安徽省黟県',\n  '',\n  '',\n  '',\n  '７日、宏村の夕景。（ドローンから、黟県＝新華社記者／杜宇）\\n   【新華社黄山７月１０日】９００年以上の歴史を持つ中国の伝統的な古村落、安徽省黄山市黟（い）県の宏村では夕方、湖に夕焼けが映り、美しい風景が広がる。人々は橋の上で足を止め、夏のひとときを満喫している。\\n12345>'),\n ('https://jp.news.cn/20240710/5135e7b773854d9593b35dc84d260884/c.html',\n  '韓正副主席、タイ外相と会見',\n  '',\n  '',\n  '',\n  '   中国の韓正（かん・せい）国家副主席は９日、タイのマリス外相と北京で会見した。（北京＝新華社記者／殷博古）'),\n ('https://jp.news.cn/20240710/5e828960cd5c411daaac44208c61479d/c.html',\n  '中央軍事委員会、栄誉称号授与式を開催\\u3000習近平氏が表彰旗授与',\n  '',\n  '',\n  '',\n  '   中央軍事委員会は９日、北京で栄誉称号の授与式を行った。習近平（しゅう・きんぺい）中国共産党中央委員会総書記・国家主席・中央軍事委員会主席が「模範ロケット砲兵中隊」の栄誉称号を受けた陸軍某旅団第１大隊第２中隊に表彰旗を授与した。（北京＝新華社記者／李剛）')]"
     },
     "execution_count": 23,
     "metadata": {},
     "output_type": "execute_result"
    }
   ],
   "source": [
    "articles"
   ],
   "metadata": {
    "collapsed": false
   }
  },
  {
   "cell_type": "code",
   "execution_count": 24,
   "metadata": {},
   "outputs": [
    {
     "data": {
      "text/plain": "                                                  URL  \\\n0   https://english.news.cn/20240710/40f1590ad1624...   \n1   https://english.news.cn/20240710/6834419438d24...   \n2   https://english.news.cn/20240627/ce3a226c3e1d4...   \n3   https://english.news.cn/20240710/06ae73562a934...   \n4   https://english.news.cn/20221017/139a768d90e74...   \n5   https://english.news.cn/20240709/783a351231754...   \n6   https://english.news.cn/20221017/139a768d90e74...   \n7   https://english.news.cn/20230130/3f2ba4b7cd214...   \n8   https://english.news.cn/20240710/8c9d4a0ba1844...   \n9   https://english.news.cn/20240710/bda2d62297a74...   \n10  https://spanish.news.cn/20240710/20ddabebd76f4...   \n11  https://spanish.news.cn/20240710/59e82ed1f5a34...   \n12  https://spanish.news.cn/20240710/a1e35712eb5c4...   \n13  https://spanish.news.cn/20240710/942531588ce74...   \n14  https://spanish.news.cn/20240709/b53bf585ee684...   \n15  https://jp.news.cn/20240511/2c37afda7d134c259b...   \n16  https://jp.news.cn/20240709/ac9dfbe5474d48d6b0...   \n17  https://jp.news.cn/20240710/9852b72f41d34a61b7...   \n18  https://jp.news.cn/20240710/5135e7b773854d9593...   \n19  https://jp.news.cn/20240710/5e828960cd5c411daa...   \n\n                                                Title     Source  Editor  \\\n0   Guinea-Bissau president lays wreath at Monumen...     Xinhua  huaxia   \n1   Report shows excellent environmental quality o...     Xinhua  huaxia   \n2   In pics: Zuhair Murad's Fall/Winter 2024-2025 ...     Xinhua  huaxia   \n3            In pics: Bohemia JazzFest 2024 in Prague     Xinhua  huaxia   \n4                                          Contact us  Xinhuanet  huaxia   \n5   Euro 2024: Kane shows optimism ahead of semi a...     Xinhua  huaxia   \n6                                          Contact us  Xinhuanet  huaxia   \n7                                            About us     Xinhua  huaxia   \n8   Messi: Copa America final might be his last ch...     Xinhua  huaxia   \n9   Paris 2024 Athletics Preview: US eyes lion's s...     Xinhua  huaxia   \n10  Hutíes de Yemen reivindican ataques contra 3 b...                      \n11  ESPECIAL: Ganadores españoles del concurso \"Pu...                      \n12  Accidente deja 18 muertos en Uttar Pradesh, la...                      \n13     Xi se reúne con primera ministra de Bangladesh                      \n14  Se lleva a cabo el Foro de Desarrollo Verde de...                      \n15                     コスタリカ人留学生、モバイル決済に感嘆　「中国は何でも便利」                      \n16                            仏動物園でパリ五輪聖火リレー　パンダも立ち会う                      \n17                                 伝統村落で夏の夕べを満喫　安徽省黟県                      \n18                                      韓正副主席、タイ外相と会見                      \n19                      中央軍事委員会、栄誉称号授与式を開催　習近平氏が表彰旗授与                      \n\n                   Date                                               Text  \n0   2024-07-10 15:36:17  President of Guinea-Bissau Umaro Sissoco Embal...  \n1   2024-07-10 10:35:45  This photo taken on July 10, 2024 shows the Ch...  \n2   2024-06-27 07:57:59  A model presents a creation of Zuhair Murad's ...  \n3   2024-07-10 09:16:08  Musicians perform during the Bohemia JazzFest ...  \n4   2022-10-17 14:50:01  Address: XINHUANET Co., Ltd, Jinyu Mansion, 12...  \n5   2024-07-09 19:39:45  By Oliver Trust\\nBERLIN, July 9 (Xinhua) -- Ah...  \n6   2022-10-17 14:50:01  Address: XINHUANET Co., Ltd, Jinyu Mansion, 12...  \n7   2023-01-30 16:02:35  Xinhuanet is the web portal for news and infor...  \n8   2024-07-10 16:22:45  NEW JERSEY, July 10 (Xinhua) -- Argentina capt...  \n9   2024-07-10 10:11:30  BEIJING, July 10 (Xinhua) -- Boosted by a seri...  \n10                       SANÁ, 9 jul (Xinhua) -- El grupo hutí de Yemen...  \n11                       MADRID, 10 jul (Xinhua) -- Desde la caligrafía...  \n12                       NUEVA DELHI, 10 jul (Xinhua) -- Al menos 18 pe...  \n13                       BEIJING, 10 jul (Xinhua) -- El presidente chin...  \n14                        QINGDAO, 8 julio, 2024 (Xinhua) -- Una partic...  \n15                       0:00\\n/0:00\\n   【新華社杭州５月１１日】中国はここ数年、外国人が来やすくなる...  \n16                          ８日、聖火リレーのランナーを務めるボーバル動物園のルドルフ・ドロール園長（右）とフラン...  \n17                       ７日、宏村の夕景。（ドローンから、黟県＝新華社記者／杜宇）\\n   【新華社黄山７月１０日】...  \n18                          中国の韓正（かん・せい）国家副主席は９日、タイのマリス外相と北京で会見した。（北京＝新...  \n19                          中央軍事委員会は９日、北京で栄誉称号の授与式を行った。習近平（しゅう・きんぺい）中国共...  ",
      "text/html": "<div>\n<style scoped>\n    .dataframe tbody tr th:only-of-type {\n        vertical-align: middle;\n    }\n\n    .dataframe tbody tr th {\n        vertical-align: top;\n    }\n\n    .dataframe thead th {\n        text-align: right;\n    }\n</style>\n<table border=\"1\" class=\"dataframe\">\n  <thead>\n    <tr style=\"text-align: right;\">\n      <th></th>\n      <th>URL</th>\n      <th>Title</th>\n      <th>Source</th>\n      <th>Editor</th>\n      <th>Date</th>\n      <th>Text</th>\n    </tr>\n  </thead>\n  <tbody>\n    <tr>\n      <th>0</th>\n      <td>https://english.news.cn/20240710/40f1590ad1624...</td>\n      <td>Guinea-Bissau president lays wreath at Monumen...</td>\n      <td>Xinhua</td>\n      <td>huaxia</td>\n      <td>2024-07-10 15:36:17</td>\n      <td>President of Guinea-Bissau Umaro Sissoco Embal...</td>\n    </tr>\n    <tr>\n      <th>1</th>\n      <td>https://english.news.cn/20240710/6834419438d24...</td>\n      <td>Report shows excellent environmental quality o...</td>\n      <td>Xinhua</td>\n      <td>huaxia</td>\n      <td>2024-07-10 10:35:45</td>\n      <td>This photo taken on July 10, 2024 shows the Ch...</td>\n    </tr>\n    <tr>\n      <th>2</th>\n      <td>https://english.news.cn/20240627/ce3a226c3e1d4...</td>\n      <td>In pics: Zuhair Murad's Fall/Winter 2024-2025 ...</td>\n      <td>Xinhua</td>\n      <td>huaxia</td>\n      <td>2024-06-27 07:57:59</td>\n      <td>A model presents a creation of Zuhair Murad's ...</td>\n    </tr>\n    <tr>\n      <th>3</th>\n      <td>https://english.news.cn/20240710/06ae73562a934...</td>\n      <td>In pics: Bohemia JazzFest 2024 in Prague</td>\n      <td>Xinhua</td>\n      <td>huaxia</td>\n      <td>2024-07-10 09:16:08</td>\n      <td>Musicians perform during the Bohemia JazzFest ...</td>\n    </tr>\n    <tr>\n      <th>4</th>\n      <td>https://english.news.cn/20221017/139a768d90e74...</td>\n      <td>Contact us</td>\n      <td>Xinhuanet</td>\n      <td>huaxia</td>\n      <td>2022-10-17 14:50:01</td>\n      <td>Address: XINHUANET Co., Ltd, Jinyu Mansion, 12...</td>\n    </tr>\n    <tr>\n      <th>5</th>\n      <td>https://english.news.cn/20240709/783a351231754...</td>\n      <td>Euro 2024: Kane shows optimism ahead of semi a...</td>\n      <td>Xinhua</td>\n      <td>huaxia</td>\n      <td>2024-07-09 19:39:45</td>\n      <td>By Oliver Trust\\nBERLIN, July 9 (Xinhua) -- Ah...</td>\n    </tr>\n    <tr>\n      <th>6</th>\n      <td>https://english.news.cn/20221017/139a768d90e74...</td>\n      <td>Contact us</td>\n      <td>Xinhuanet</td>\n      <td>huaxia</td>\n      <td>2022-10-17 14:50:01</td>\n      <td>Address: XINHUANET Co., Ltd, Jinyu Mansion, 12...</td>\n    </tr>\n    <tr>\n      <th>7</th>\n      <td>https://english.news.cn/20230130/3f2ba4b7cd214...</td>\n      <td>About us</td>\n      <td>Xinhua</td>\n      <td>huaxia</td>\n      <td>2023-01-30 16:02:35</td>\n      <td>Xinhuanet is the web portal for news and infor...</td>\n    </tr>\n    <tr>\n      <th>8</th>\n      <td>https://english.news.cn/20240710/8c9d4a0ba1844...</td>\n      <td>Messi: Copa America final might be his last ch...</td>\n      <td>Xinhua</td>\n      <td>huaxia</td>\n      <td>2024-07-10 16:22:45</td>\n      <td>NEW JERSEY, July 10 (Xinhua) -- Argentina capt...</td>\n    </tr>\n    <tr>\n      <th>9</th>\n      <td>https://english.news.cn/20240710/bda2d62297a74...</td>\n      <td>Paris 2024 Athletics Preview: US eyes lion's s...</td>\n      <td>Xinhua</td>\n      <td>huaxia</td>\n      <td>2024-07-10 10:11:30</td>\n      <td>BEIJING, July 10 (Xinhua) -- Boosted by a seri...</td>\n    </tr>\n    <tr>\n      <th>10</th>\n      <td>https://spanish.news.cn/20240710/20ddabebd76f4...</td>\n      <td>Hutíes de Yemen reivindican ataques contra 3 b...</td>\n      <td></td>\n      <td></td>\n      <td></td>\n      <td>SANÁ, 9 jul (Xinhua) -- El grupo hutí de Yemen...</td>\n    </tr>\n    <tr>\n      <th>11</th>\n      <td>https://spanish.news.cn/20240710/59e82ed1f5a34...</td>\n      <td>ESPECIAL: Ganadores españoles del concurso \"Pu...</td>\n      <td></td>\n      <td></td>\n      <td></td>\n      <td>MADRID, 10 jul (Xinhua) -- Desde la caligrafía...</td>\n    </tr>\n    <tr>\n      <th>12</th>\n      <td>https://spanish.news.cn/20240710/a1e35712eb5c4...</td>\n      <td>Accidente deja 18 muertos en Uttar Pradesh, la...</td>\n      <td></td>\n      <td></td>\n      <td></td>\n      <td>NUEVA DELHI, 10 jul (Xinhua) -- Al menos 18 pe...</td>\n    </tr>\n    <tr>\n      <th>13</th>\n      <td>https://spanish.news.cn/20240710/942531588ce74...</td>\n      <td>Xi se reúne con primera ministra de Bangladesh</td>\n      <td></td>\n      <td></td>\n      <td></td>\n      <td>BEIJING, 10 jul (Xinhua) -- El presidente chin...</td>\n    </tr>\n    <tr>\n      <th>14</th>\n      <td>https://spanish.news.cn/20240709/b53bf585ee684...</td>\n      <td>Se lleva a cabo el Foro de Desarrollo Verde de...</td>\n      <td></td>\n      <td></td>\n      <td></td>\n      <td>QINGDAO, 8 julio, 2024 (Xinhua) -- Una partic...</td>\n    </tr>\n    <tr>\n      <th>15</th>\n      <td>https://jp.news.cn/20240511/2c37afda7d134c259b...</td>\n      <td>コスタリカ人留学生、モバイル決済に感嘆　「中国は何でも便利」</td>\n      <td></td>\n      <td></td>\n      <td></td>\n      <td>0:00\\n/0:00\\n   【新華社杭州５月１１日】中国はここ数年、外国人が来やすくなる...</td>\n    </tr>\n    <tr>\n      <th>16</th>\n      <td>https://jp.news.cn/20240709/ac9dfbe5474d48d6b0...</td>\n      <td>仏動物園でパリ五輪聖火リレー　パンダも立ち会う</td>\n      <td></td>\n      <td></td>\n      <td></td>\n      <td>８日、聖火リレーのランナーを務めるボーバル動物園のルドルフ・ドロール園長（右）とフラン...</td>\n    </tr>\n    <tr>\n      <th>17</th>\n      <td>https://jp.news.cn/20240710/9852b72f41d34a61b7...</td>\n      <td>伝統村落で夏の夕べを満喫　安徽省黟県</td>\n      <td></td>\n      <td></td>\n      <td></td>\n      <td>７日、宏村の夕景。（ドローンから、黟県＝新華社記者／杜宇）\\n   【新華社黄山７月１０日】...</td>\n    </tr>\n    <tr>\n      <th>18</th>\n      <td>https://jp.news.cn/20240710/5135e7b773854d9593...</td>\n      <td>韓正副主席、タイ外相と会見</td>\n      <td></td>\n      <td></td>\n      <td></td>\n      <td>中国の韓正（かん・せい）国家副主席は９日、タイのマリス外相と北京で会見した。（北京＝新...</td>\n    </tr>\n    <tr>\n      <th>19</th>\n      <td>https://jp.news.cn/20240710/5e828960cd5c411daa...</td>\n      <td>中央軍事委員会、栄誉称号授与式を開催　習近平氏が表彰旗授与</td>\n      <td></td>\n      <td></td>\n      <td></td>\n      <td>中央軍事委員会は９日、北京で栄誉称号の授与式を行った。習近平（しゅう・きんぺい）中国共...</td>\n    </tr>\n  </tbody>\n</table>\n</div>"
     },
     "execution_count": 24,
     "metadata": {},
     "output_type": "execute_result"
    }
   ],
   "source": [
    "articles = pd.DataFrame(articles, columns=[\"URL\", \"Title\", \"Source\", \"Editor\", \"Date\", \"Text\"])\n",
    "articles"
   ]
  },
  {
   "cell_type": "code",
   "execution_count": 25,
   "outputs": [],
   "source": [
    "driver.quit()"
   ],
   "metadata": {
    "collapsed": false
   }
  },
  {
   "cell_type": "code",
   "execution_count": 25,
   "outputs": [],
   "source": [],
   "metadata": {
    "collapsed": false
   }
  }
 ],
 "metadata": {
  "kernelspec": {
   "display_name": "Python 3 (ipykernel)",
   "language": "python",
   "name": "python3"
  },
  "language_info": {
   "codemirror_mode": {
    "name": "ipython",
    "version": 3
   },
   "file_extension": ".py",
   "mimetype": "text/x-python",
   "name": "python",
   "nbconvert_exporter": "python",
   "pygments_lexer": "ipython3",
   "version": "3.9.12"
  }
 },
 "nbformat": 4,
 "nbformat_minor": 4
}
