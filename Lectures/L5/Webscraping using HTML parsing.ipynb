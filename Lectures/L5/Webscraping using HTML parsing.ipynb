{
 "cells": [
  {
   "cell_type": "markdown",
   "metadata": {},
   "source": [
    "# XPath approach"
   ]
  },
  {
   "cell_type": "code",
   "execution_count": 31,
   "metadata": {},
   "outputs": [
    {
     "data": {
      "text/plain": "b'<!DOCTYPE html>\\n<html>\\n  <head>\\n    <meta charset=\"UTF-8\" />\\n    <meta\\n      name=\"description\"\\n      content=\"This is a dummy page for learning selectors\"\\n    />\\n    <meta http-equiv=\"X-UA-Compatible\" content=\"ie=edge\" />\\n    <title>Welcome to SWS3023</title>\\n  </head>\\n  <body>\\n    <div class=\"article\" id=\"a0042\">\\n      <h1>Cupcake Article</h1>\\n      <div class=\"header\">\\n        Gummies pie drag\\xc3\\xa9e pastry lemon drops. Sweet roll bonbon tootsie roll\\n        cake. Lollipop sweet roll icing sesame snaps chocolate bar apple pie\\n        cake sweet roll biscuit.\\n        <div>this is a third level div</div>\\n      </div>\\n      <p>\\n        Topping sesame snaps marzipan. Tootsie roll chocolate bar sesame snaps\\n        muffin tart souffl\\xc3\\xa9 jujubes. Gummies carrot cake cake ice cream sesame\\n        snaps bear claw danish. Jelly beans sweet roll jujubes caramels cupcake\\n        biscuit.\\n      </p>\\n      <p>\\n        Halvah chocolate oat cake tiramisu topping apple pie lollipop jelly-o\\n        cake. Topping cotton candy sweet marzipan apple pie. Tart ice cream bear\\n        claw marshmallow.\\n      </p>\\n    </div>\\n    <div class=\"article\" id=\"a0043\">\\n      <h1>Cheese Article</h1>\\n      <div class=\"header\">\\n        The big cheese red leicester rubber cheese. Stilton taleggio halloumi\\n        croque monsieur bocconcini cheese triangles cheesecake boursin. Ricotta\\n        paneer caerphilly cheese slices emmental airedale manchego babybel.\\n        Emmental mascarpone cheeseburger who moved my cheese feta.\\n      </div>\\n      <p>\\n        Dolcelatte halloumi swiss. Pepper jack brie who moved my cheese danish\\n        fontina monterey jack rubber cheese manchego cheese slices. Melted\\n        cheese cauliflower cheese rubber cheese jarlsberg cheese on toast\\n        fromage frais macaroni cheese halloumi.\\n      </p>\\n      <p>\\n        Goat who moved my cheese cheese strings. Monterey jack ricotta\\n        mozzarella swiss smelly cheese goat cheese strings edam. Halloumi paneer\\n        babybel cow manchego blue castello smelly cheese macaroni cheese.\\n      </p>\\n    </div>\\n    <div class=\"article special\" id=\"b0051\">\\n      <h1>Office Article</h1>\\n      <div class=\"snippet\">\\n        Screw the pooch it\\'s a simple lift...\\n      </div>\\n      <p>\\n        Can we parallel path back of the net, and hit the ground running\\n        knowledge is power. Drink the Kool-aid we need to socialize the comms\\n        with the wider stakeholder community but wiggle room.\\n      </p>\\n      <p>\\n        Work flows i also believe it\\'s important for every member to be involved\\n        and invested in our company and this is one way to do so or this is not\\n        the hill i want to die on we don\\'t want to boil the ocean but\\n        first-order optimal strategies.\\n      </p>\\n    </div>\\n  <script type=\"text/javascript\" src=\"/_Incapsula_Resource?SWJIYLWA=719d34d31c8e3a6e6fffd425f7e032f3&ns=1&cb=431392581\" async></script></body>\\n</html>\\n'"
     },
     "execution_count": 31,
     "metadata": {},
     "output_type": "execute_result"
    }
   ],
   "source": [
    "from lxml import html\n",
    "import requests\n",
    "\n",
    "page = requests.get(\"https://www.comp.nus.edu.sg/~lekhsian/sws3023/page.html\")\n",
    "page.content"
   ]
  },
  {
   "cell_type": "code",
   "execution_count": 32,
   "metadata": {},
   "outputs": [],
   "source": [
    "#parse the page\n",
    "#need to use the lxml package\n",
    "tree = html.fromstring(page.content)"
   ]
  },
  {
   "cell_type": "code",
   "execution_count": 33,
   "metadata": {},
   "outputs": [
    {
     "data": {
      "text/plain": "['Cupcake Article', 'Cheese Article', 'Office Article']"
     },
     "execution_count": 33,
     "metadata": {},
     "output_type": "execute_result"
    }
   ],
   "source": [
    "headings = tree.xpath(\"//h1/text()\")\n",
    "headings"
   ]
  },
  {
   "cell_type": "code",
   "execution_count": 34,
   "metadata": {},
   "outputs": [
    {
     "data": {
      "text/plain": "[<Element div at 0x21bedfb0e50>, <Element div at 0x21bedfb0e00>]"
     },
     "execution_count": 34,
     "metadata": {},
     "output_type": "execute_result"
    }
   ],
   "source": [
    "#notice that only the first 2 article is selected\n",
    "articles = tree.xpath(\"//div[@class='article']\")\n",
    "articles"
   ]
  },
  {
   "cell_type": "code",
   "execution_count": 35,
   "metadata": {},
   "outputs": [
    {
     "data": {
      "text/plain": "[<Element div at 0x21bedfb0e50>,\n <Element div at 0x21bedfb0e00>,\n <Element div at 0x21bedfb8f90>]"
     },
     "execution_count": 35,
     "metadata": {},
     "output_type": "execute_result"
    }
   ],
   "source": [
    "#if we want all articles, we should check that the class attribute contains article instead of equals article\n",
    "all_articles = tree.xpath(\"//div[contains(@class,'article')]\")\n",
    "all_articles"
   ]
  },
  {
   "cell_type": "code",
   "execution_count": 36,
   "metadata": {},
   "outputs": [
    {
     "name": "stdout",
     "output_type": "stream",
     "text": [
      "\n",
      "      Cupcake Article\n",
      "      \n",
      "        Gummies pie dragée pastry lemon drops. Sweet roll bonbon tootsie roll\n",
      "        cake. Lollipop sweet roll icing sesame snaps chocolate bar apple pie\n",
      "        cake sweet roll biscuit.\n",
      "        this is a third level div\n",
      "      \n",
      "      \n",
      "        Topping sesame snaps marzipan. Tootsie roll chocolate bar sesame snaps\n",
      "        muffin tart soufflé jujubes. Gummies carrot cake cake ice cream sesame\n",
      "        snaps bear claw danish. Jelly beans sweet roll jujubes caramels cupcake\n",
      "        biscuit.\n",
      "      \n",
      "      \n",
      "        Halvah chocolate oat cake tiramisu topping apple pie lollipop jelly-o\n",
      "        cake. Topping cotton candy sweet marzipan apple pie. Tart ice cream bear\n",
      "        claw marshmallow.\n",
      "      \n",
      "    \n",
      "\n",
      "      Cheese Article\n",
      "      \n",
      "        The big cheese red leicester rubber cheese. Stilton taleggio halloumi\n",
      "        croque monsieur bocconcini cheese triangles cheesecake boursin. Ricotta\n",
      "        paneer caerphilly cheese slices emmental airedale manchego babybel.\n",
      "        Emmental mascarpone cheeseburger who moved my cheese feta.\n",
      "      \n",
      "      \n",
      "        Dolcelatte halloumi swiss. Pepper jack brie who moved my cheese danish\n",
      "        fontina monterey jack rubber cheese manchego cheese slices. Melted\n",
      "        cheese cauliflower cheese rubber cheese jarlsberg cheese on toast\n",
      "        fromage frais macaroni cheese halloumi.\n",
      "      \n",
      "      \n",
      "        Goat who moved my cheese cheese strings. Monterey jack ricotta\n",
      "        mozzarella swiss smelly cheese goat cheese strings edam. Halloumi paneer\n",
      "        babybel cow manchego blue castello smelly cheese macaroni cheese.\n",
      "      \n",
      "    \n"
     ]
    }
   ],
   "source": [
    "#get the text content of each element\n",
    "for article in articles:\n",
    "    print(article.text_content())"
   ]
  },
  {
   "cell_type": "code",
   "execution_count": 37,
   "metadata": {},
   "outputs": [
    {
     "data": {
      "text/plain": "lxml.html.HtmlElement"
     },
     "execution_count": 37,
     "metadata": {},
     "output_type": "execute_result"
    }
   ],
   "source": [
    "type(articles[0])"
   ]
  },
  {
   "cell_type": "code",
   "execution_count": 38,
   "metadata": {},
   "outputs": [
    {
     "name": "stdout",
     "output_type": "stream",
     "text": [
      "b'<div class=\"article\" id=\"a0042\">\\n      <h1>Cupcake Article</h1>\\n      <div class=\"header\">\\n        Gummies pie drag&#233;e pastry lemon drops. Sweet roll bonbon tootsie roll\\n        cake. Lollipop sweet roll icing sesame snaps chocolate bar apple pie\\n        cake sweet roll biscuit.\\n        <div>this is a third level div</div>\\n      </div>\\n      <p>\\n        Topping sesame snaps marzipan. Tootsie roll chocolate bar sesame snaps\\n        muffin tart souffl&#233; jujubes. Gummies carrot cake cake ice cream sesame\\n        snaps bear claw danish. Jelly beans sweet roll jujubes caramels cupcake\\n        biscuit.\\n      </p>\\n      <p>\\n        Halvah chocolate oat cake tiramisu topping apple pie lollipop jelly-o\\n        cake. Topping cotton candy sweet marzipan apple pie. Tart ice cream bear\\n        claw marshmallow.\\n      </p>\\n    </div>\\n    <div class=\"article\" id=\"a0043\">\\n      <h1>Cheese Article</h1>\\n      <div class=\"header\">\\n        The big cheese red leicester rubber cheese. Stilton taleggio halloumi\\n        croque monsieur bocconcini cheese triangles cheesecake boursin. Ricotta\\n        paneer caerphilly cheese slices emmental airedale manchego babybel.\\n        Emmental mascarpone cheeseburger who moved my cheese feta.\\n      </div>\\n      <p>\\n        Dolcelatte halloumi swiss. Pepper jack brie who moved my cheese danish\\n        fontina monterey jack rubber cheese manchego cheese slices. Melted\\n        cheese cauliflower cheese rubber cheese jarlsberg cheese on toast\\n        fromage frais macaroni cheese halloumi.\\n      </p>\\n      <p>\\n        Goat who moved my cheese cheese strings. Monterey jack ricotta\\n        mozzarella swiss smelly cheese goat cheese strings edam. Halloumi paneer\\n        babybel cow manchego blue castello smelly cheese macaroni cheese.\\n      </p>\\n    </div>\\n    <div class=\"article special\" id=\"b0051\">\\n      <h1>Office Article</h1>\\n      <div class=\"snippet\">\\n        Screw the pooch it\\'s a simple lift...\\n      </div>\\n      <p>\\n        Can we parallel path back of the net, and hit the ground running\\n        knowledge is power. Drink the Kool-aid we need to socialize the comms\\n        with the wider stakeholder community but wiggle room.\\n      </p>\\n      <p>\\n        Work flows i also believe it\\'s important for every member to be involved\\n        and invested in our company and this is one way to do so or this is not\\n        the hill i want to die on we don\\'t want to boil the ocean but\\n        first-order optimal strategies.\\n      </p>\\n    </div>\\n  <script type=\"text/javascript\" src=\"/_Incapsula_Resource?SWJIYLWA=719d34d31c8e3a6e6fffd425f7e032f3&amp;ns=1&amp;cb=431392581\" async></script></body>\\n</html>\\n\\n    '\n",
      "b'<div class=\"article\" id=\"a0043\">\\n      <h1>Cheese Article</h1>\\n      <div class=\"header\">\\n        The big cheese red leicester rubber cheese. Stilton taleggio halloumi\\n        croque monsieur bocconcini cheese triangles cheesecake boursin. Ricotta\\n        paneer caerphilly cheese slices emmental airedale manchego babybel.\\n        Emmental mascarpone cheeseburger who moved my cheese feta.\\n      </div>\\n      <p>\\n        Dolcelatte halloumi swiss. Pepper jack brie who moved my cheese danish\\n        fontina monterey jack rubber cheese manchego cheese slices. Melted\\n        cheese cauliflower cheese rubber cheese jarlsberg cheese on toast\\n        fromage frais macaroni cheese halloumi.\\n      </p>\\n      <p>\\n        Goat who moved my cheese cheese strings. Monterey jack ricotta\\n        mozzarella swiss smelly cheese goat cheese strings edam. Halloumi paneer\\n        babybel cow manchego blue castello smelly cheese macaroni cheese.\\n      </p>\\n    </div>\\n    <div class=\"article special\" id=\"b0051\">\\n      <h1>Office Article</h1>\\n      <div class=\"snippet\">\\n        Screw the pooch it\\'s a simple lift...\\n      </div>\\n      <p>\\n        Can we parallel path back of the net, and hit the ground running\\n        knowledge is power. Drink the Kool-aid we need to socialize the comms\\n        with the wider stakeholder community but wiggle room.\\n      </p>\\n      <p>\\n        Work flows i also believe it\\'s important for every member to be involved\\n        and invested in our company and this is one way to do so or this is not\\n        the hill i want to die on we don\\'t want to boil the ocean but\\n        first-order optimal strategies.\\n      </p>\\n    </div>\\n  <script type=\"text/javascript\" src=\"/_Incapsula_Resource?SWJIYLWA=719d34d31c8e3a6e6fffd425f7e032f3&amp;ns=1&amp;cb=431392581\" async></script></body>\\n</html>\\n\\n    '\n"
     ]
    }
   ],
   "source": [
    "#if we want the html of each element\n",
    "for article in articles:\n",
    "    print(html.tostring(article))"
   ]
  },
  {
   "cell_type": "code",
   "execution_count": 39,
   "metadata": {},
   "outputs": [
    {
     "data": {
      "text/plain": "<Element div at 0x21bedfb0e50>"
     },
     "execution_count": 39,
     "metadata": {},
     "output_type": "execute_result"
    }
   ],
   "source": [
    "firstArticle = articles[0]\n",
    "firstArticle"
   ]
  },
  {
   "cell_type": "code",
   "execution_count": 40,
   "metadata": {},
   "outputs": [
    {
     "data": {
      "text/plain": "['\\n        Topping sesame snaps marzipan. Tootsie roll chocolate bar sesame snaps\\n        muffin tart soufflé jujubes. Gummies carrot cake cake ice cream sesame\\n        snaps bear claw danish. Jelly beans sweet roll jujubes caramels cupcake\\n        biscuit.\\n      ',\n '\\n        Halvah chocolate oat cake tiramisu topping apple pie lollipop jelly-o\\n        cake. Topping cotton candy sweet marzipan apple pie. Tart ice cream bear\\n        claw marshmallow.\\n      ']"
     },
     "execution_count": 40,
     "metadata": {},
     "output_type": "execute_result"
    }
   ],
   "source": [
    "#possible to find elements within element (notice the . in front)\n",
    "paragraphs_in_first_article = firstArticle.xpath(\".//p/text()\")\n",
    "paragraphs_in_first_article"
   ]
  },
  {
   "cell_type": "code",
   "execution_count": 41,
   "metadata": {},
   "outputs": [
    {
     "data": {
      "text/plain": "['\\n        Topping sesame snaps marzipan. Tootsie roll chocolate bar sesame snaps\\n        muffin tart soufflé jujubes. Gummies carrot cake cake ice cream sesame\\n        snaps bear claw danish. Jelly beans sweet roll jujubes caramels cupcake\\n        biscuit.\\n      ',\n '\\n        Halvah chocolate oat cake tiramisu topping apple pie lollipop jelly-o\\n        cake. Topping cotton candy sweet marzipan apple pie. Tart ice cream bear\\n        claw marshmallow.\\n      ',\n '\\n        Dolcelatte halloumi swiss. Pepper jack brie who moved my cheese danish\\n        fontina monterey jack rubber cheese manchego cheese slices. Melted\\n        cheese cauliflower cheese rubber cheese jarlsberg cheese on toast\\n        fromage frais macaroni cheese halloumi.\\n      ',\n '\\n        Goat who moved my cheese cheese strings. Monterey jack ricotta\\n        mozzarella swiss smelly cheese goat cheese strings edam. Halloumi paneer\\n        babybel cow manchego blue castello smelly cheese macaroni cheese.\\n      ',\n '\\n        Can we parallel path back of the net, and hit the ground running\\n        knowledge is power. Drink the Kool-aid we need to socialize the comms\\n        with the wider stakeholder community but wiggle room.\\n      ',\n \"\\n        Work flows i also believe it's important for every member to be involved\\n        and invested in our company and this is one way to do so or this is not\\n        the hill i want to die on we don't want to boil the ocean but\\n        first-order optimal strategies.\\n      \"]"
     },
     "execution_count": 41,
     "metadata": {},
     "output_type": "execute_result"
    }
   ],
   "source": [
    "#alternatively if you want the syntax weird, you could parse the html of the node before performing\n",
    "#the xpath expression\n",
    "firstArticleParsed = html.fromstring(html.tostring(firstArticle))\n",
    "firstArticleParsed.xpath(\"//p/text()\")"
   ]
  },
  {
   "cell_type": "markdown",
   "metadata": {},
   "source": [
    "# CSS Selectors approach"
   ]
  },
  {
   "cell_type": "code",
   "execution_count": 42,
   "metadata": {},
   "outputs": [],
   "source": [
    "from bs4 import BeautifulSoup\n",
    "import re"
   ]
  },
  {
   "cell_type": "code",
   "execution_count": 43,
   "metadata": {},
   "outputs": [],
   "source": [
    "soup = BeautifulSoup(page.content, 'html.parser')"
   ]
  },
  {
   "cell_type": "code",
   "execution_count": 44,
   "metadata": {},
   "outputs": [
    {
     "data": {
      "text/plain": "[<div class=\"header\">\n         Gummies pie dragée pastry lemon drops. Sweet roll bonbon tootsie roll\n         cake. Lollipop sweet roll icing sesame snaps chocolate bar apple pie\n         cake sweet roll biscuit.\n         <div>this is a third level div</div>\n </div>,\n <div class=\"header\">\n         The big cheese red leicester rubber cheese. Stilton taleggio halloumi\n         croque monsieur bocconcini cheese triangles cheesecake boursin. Ricotta\n         paneer caerphilly cheese slices emmental airedale manchego babybel.\n         Emmental mascarpone cheeseburger who moved my cheese feta.\n       </div>]"
     },
     "execution_count": 44,
     "metadata": {},
     "output_type": "execute_result"
    }
   ],
   "source": [
    "div_headers = soup.select(\"div.header\")\n",
    "div_headers"
   ]
  },
  {
   "cell_type": "code",
   "execution_count": 45,
   "metadata": {},
   "outputs": [
    {
     "name": "stdout",
     "output_type": "stream",
     "text": [
      "Gummies pie dragée pastry lemon drops. Sweet roll bonbon tootsie roll cake. Lollipop sweet roll icing sesame snaps chocolate bar apple pie cake sweet roll biscuit.this is a third level div\n",
      "\n",
      "\n",
      "The big cheese red leicester rubber cheese. Stilton taleggio halloumi croque monsieur bocconcini cheese triangles cheesecake boursin. Ricotta paneer caerphilly cheese slices emmental airedale manchego babybel. Emmental mascarpone cheeseburger who moved my cheese feta.\n",
      "\n",
      "\n"
     ]
    }
   ],
   "source": [
    "for div_header in div_headers:\n",
    "    text = div_header.get_text(strip=True)\n",
    "    #replace multiple spaces with single space\n",
    "    text = re.sub(\"\\s+\", \" \", text)\n",
    "    print(text)\n",
    "    print(\"\\n\")"
   ]
  },
  {
   "cell_type": "code",
   "execution_count": null,
   "outputs": [],
   "source": [],
   "metadata": {
    "collapsed": false
   }
  }
 ],
 "metadata": {
  "kernelspec": {
   "display_name": "Python 3 (ipykernel)",
   "language": "python",
   "name": "python3"
  },
  "language_info": {
   "codemirror_mode": {
    "name": "ipython",
    "version": 3
   },
   "file_extension": ".py",
   "mimetype": "text/x-python",
   "name": "python",
   "nbconvert_exporter": "python",
   "pygments_lexer": "ipython3",
   "version": "3.11.7"
  }
 },
 "nbformat": 4,
 "nbformat_minor": 4
}
